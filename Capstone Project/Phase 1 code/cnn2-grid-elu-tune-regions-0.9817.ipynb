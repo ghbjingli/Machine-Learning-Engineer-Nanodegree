{
 "cells": [
  {
   "cell_type": "code",
   "execution_count": 1,
   "metadata": {},
   "outputs": [
    {
     "name": "stderr",
     "output_type": "stream",
     "text": [
      "Using TensorFlow backend.\n"
     ]
    }
   ],
   "source": [
    "import numpy as np\n",
    "import pandas as pd\n",
    "np.random.seed(8)\n",
    "from sklearn.model_selection import train_test_split\n",
    "from sklearn.metrics import roc_auc_score\n",
    "\n",
    "from keras.models import Model\n",
    "from keras.layers import Input, Embedding, Dense, Conv2D, MaxPool2D, Conv1D, MaxPooling1D, GlobalMaxPooling1D \n",
    "from keras.layers import Reshape, Flatten, Concatenate, Dropout, SpatialDropout1D\n",
    "from keras.preprocessing import text, sequence\n",
    "from keras.callbacks import Callback\n",
    "\n",
    "import warnings\n",
    "warnings.filterwarnings('ignore')\n",
    "\n",
    "train = pd.read_csv('train.csv')\n",
    "test_cm = pd.read_csv('test.csv')\n",
    "test_lb = pd.read_csv('test_labels.csv')\n",
    "test_all = pd.merge(test_cm, test_lb, on='id')\n",
    "test = test_all[test_all['toxic'] != -1]"
   ]
  },
  {
   "cell_type": "code",
   "execution_count": 2,
   "metadata": {},
   "outputs": [],
   "source": [
    "X_train = train[\"comment_text\"].values\n",
    "y_train = train[[\"toxic\", \"severe_toxic\", \"obscene\", \"threat\", \"insult\", \"identity_hate\"]].values\n",
    "X_test = test[\"comment_text\"].values\n",
    "y_test = test[[\"toxic\", \"severe_toxic\", \"obscene\", \"threat\", \"insult\", \"identity_hate\"]].values"
   ]
  },
  {
   "cell_type": "code",
   "execution_count": 3,
   "metadata": {},
   "outputs": [],
   "source": [
    "vocab = 100000\n",
    "maxlen = 200\n",
    "embed_size = 300"
   ]
  },
  {
   "cell_type": "code",
   "execution_count": 4,
   "metadata": {},
   "outputs": [],
   "source": [
    "t = text.Tokenizer(num_words=vocab)\n",
    "t.fit_on_texts(list(X_train))"
   ]
  },
  {
   "cell_type": "code",
   "execution_count": 5,
   "metadata": {},
   "outputs": [],
   "source": [
    "X_train = t.texts_to_sequences(X_train)\n",
    "X_test = t.texts_to_sequences(X_test)\n",
    "x_train = sequence.pad_sequences(X_train, maxlen=maxlen)\n",
    "x_test = sequence.pad_sequences(X_test, maxlen=maxlen)"
   ]
  },
  {
   "cell_type": "code",
   "execution_count": 6,
   "metadata": {},
   "outputs": [
    {
     "name": "stdout",
     "output_type": "stream",
     "text": [
      "Loaded 2000000 pre-trained words\n"
     ]
    }
   ],
   "source": [
    "EMBEDDING_FILE = 'crawl-300d-2M.vec'\n",
    "embeddings_index = dict()\n",
    "f = open(EMBEDDING_FILE)\n",
    "for line in f:\n",
    "    values = line.split()\n",
    "    word = values[0]\n",
    "    coefs = np.asarray(values[1:], dtype='float32')\n",
    "    embeddings_index[word] = coefs\n",
    "f.close()\n",
    "print('Loaded %s pre-trained words' % len(embeddings_index))\n"
   ]
  },
  {
   "cell_type": "code",
   "execution_count": 7,
   "metadata": {},
   "outputs": [],
   "source": [
    "# create a weight matrix for words in training docs\n",
    "embedding_matrix = np.zeros((vocab, embed_size))\n",
    "for word, i in t.word_index.items():\n",
    "    if i >= vocab: \n",
    "        continue\n",
    "    embedding_vector = embeddings_index.get(word)\n",
    "    if embedding_vector is not None:\n",
    "        embedding_matrix[i] = embedding_vector"
   ]
  },
  {
   "cell_type": "code",
   "execution_count": 8,
   "metadata": {
    "scrolled": true
   },
   "outputs": [],
   "source": [
    "def make_model(activation, filters, Sdroprate, droprate, layers):\n",
    "\n",
    "    inp = Input(shape=(maxlen, ))\n",
    "    x = Embedding(vocab, embed_size, weights=[embedding_matrix], input_length=maxlen, trainable=False)(inp)\n",
    "    x = SpatialDropout1D(Sdroprate)(x)\n",
    "    x = Reshape((maxlen, embed_size, 1))(x)\n",
    "\n",
    "    conv_0 = Conv2D(filters, kernel_size=(2, embed_size), activation=activation)(x)\n",
    "    maxpool_0 = MaxPool2D(pool_size=(maxlen - 1, 1))(conv_0)\n",
    "    if layers == 2:   \n",
    "        conv_1 = Conv2D(filters, kernel_size=(3, embed_size), activation=activation)(x)\n",
    "        maxpool_1 = MaxPool2D(pool_size=(maxlen - 2, 1))(conv_1)\n",
    "        y = Concatenate(axis=1)([maxpool_0, maxpool_1])\n",
    "    elif layers == 3:\n",
    "        conv_1 = Conv2D(filters, kernel_size=(3, embed_size), activation=activation)(x)\n",
    "        maxpool_1 = MaxPool2D(pool_size=(maxlen - 2, 1))(conv_1)\n",
    "        conv_2 = Conv2D(filters, kernel_size=(4, embed_size), activation=activation)(x)\n",
    "        maxpool_2 = MaxPool2D(pool_size=(maxlen - 3, 1))(conv_2) \n",
    "        y = Concatenate(axis=1)([maxpool_0, maxpool_1, maxpool_2])\n",
    "    elif layers == 4:\n",
    "        conv_1 = Conv2D(filters, kernel_size=(3, embed_size), activation=activation)(x)\n",
    "        maxpool_1 = MaxPool2D(pool_size=(maxlen - 2, 1))(conv_1)\n",
    "        conv_2 = Conv2D(filters, kernel_size=(4, embed_size), activation=activation)(x)\n",
    "        maxpool_2 = MaxPool2D(pool_size=(maxlen - 3, 1))(conv_2)\n",
    "        conv_3 = Conv2D(filters, kernel_size=(5, embed_size), activation=activation)(x)\n",
    "        maxpool_3 = MaxPool2D(pool_size=(maxlen - 4, 1))(conv_3)\n",
    "        y = Concatenate(axis=1)([maxpool_0, maxpool_1, maxpool_2, maxpool_3])\n",
    "    elif layers == 5:\n",
    "        conv_1 = Conv2D(filters, kernel_size=(3, embed_size), activation=activation)(x)\n",
    "        maxpool_1 = MaxPool2D(pool_size=(maxlen - 2, 1))(conv_1)\n",
    "        conv_2 = Conv2D(filters, kernel_size=(4, embed_size), activation=activation)(x)\n",
    "        maxpool_2 = MaxPool2D(pool_size=(maxlen - 3, 1))(conv_2)\n",
    "        conv_3 = Conv2D(filters, kernel_size=(5, embed_size), activation=activation)(x)\n",
    "        maxpool_3 = MaxPool2D(pool_size=(maxlen - 4, 1))(conv_3)\n",
    "        conv_4 = Conv2D(filters, kernel_size=(6, embed_size), activation=activation)(x)\n",
    "        maxpool_4 = MaxPool2D(pool_size=(maxlen - 5, 1))(conv_4)\n",
    "        y = Concatenate(axis=1)([maxpool_0, maxpool_1, maxpool_2, maxpool_3, maxpool_4])\n",
    "    else:\n",
    "        conv_1 = Conv2D(filters, kernel_size=(3, embed_size), activation=activation)(x)\n",
    "        maxpool_1 = MaxPool2D(pool_size=(maxlen - 2, 1))(conv_1)\n",
    "        conv_2 = Conv2D(filters, kernel_size=(4, embed_size), activation=activation)(x)\n",
    "        maxpool_2 = MaxPool2D(pool_size=(maxlen - 3, 1))(conv_2)\n",
    "        conv_3 = Conv2D(filters, kernel_size=(5, embed_size), activation=activation)(x)\n",
    "        maxpool_3 = MaxPool2D(pool_size=(maxlen - 4, 1))(conv_3)\n",
    "        conv_4 = Conv2D(filters, kernel_size=(6, embed_size), activation=activation)(x)\n",
    "        maxpool_4 = MaxPool2D(pool_size=(maxlen - 5, 1))(conv_4)\n",
    "        conv_5 = Conv2D(filters, kernel_size=(7, embed_size), activation=activation)(x)\n",
    "        maxpool_5 = MaxPool2D(pool_size=(maxlen - 6, 1))(conv_5)\n",
    "        y = Concatenate(axis=1)([maxpool_0, maxpool_1, maxpool_2, maxpool_3, maxpool_4, maxpool_5])\n",
    "    \n",
    "    y = Flatten()(y)\n",
    "    y = Dropout(droprate)(y)\n",
    "\n",
    "    outp = Dense(6, activation=\"sigmoid\")(y)\n",
    "\n",
    "    model = Model(inputs=inp, outputs=outp)\n",
    "    model.compile(loss='binary_crossentropy', optimizer='adam', metrics=['accuracy'])\n",
    "    \n",
    "    return model\n",
    "#model = make_model()\n",
    "#model.summary()"
   ]
  },
  {
   "cell_type": "code",
   "execution_count": 9,
   "metadata": {},
   "outputs": [],
   "source": [
    "x_trainS, x_val, y_trainS, y_val = train_test_split(x_train, y_train, train_size=0.90, random_state=8)"
   ]
  },
  {
   "cell_type": "code",
   "execution_count": 10,
   "metadata": {},
   "outputs": [],
   "source": [
    "class RocAuc(Callback):\n",
    "\n",
    "    def on_epoch_end(self, epoch, logs={}):\n",
    "        y_pred = self.model.predict(self.validation_data[0], verbose=0)\n",
    "        score = roc_auc_score(self.validation_data[1], y_pred)\n",
    "        print(\"\\n roc_auc - epoch: %d - score: %.6f \\n\" % (epoch+1, score))"
   ]
  },
  {
   "cell_type": "code",
   "execution_count": 11,
   "metadata": {},
   "outputs": [],
   "source": [
    "from keras.callbacks import ModelCheckpoint\n",
    "batch_size=256\n",
    "checkpointer = ModelCheckpoint(filepath='saved_models/weights.best.pre_trained.conv2.testscore.hdf5', verbose=1, save_best_only=True)\n",
    "RocAuc = RocAuc()"
   ]
  },
  {
   "cell_type": "code",
   "execution_count": 12,
   "metadata": {},
   "outputs": [],
   "source": [
    "from sklearn.model_selection import ShuffleSplit\n",
    "cv = ShuffleSplit(n_splits = 1, test_size = 0.1)"
   ]
  },
  {
   "cell_type": "code",
   "execution_count": 13,
   "metadata": {},
   "outputs": [],
   "source": [
    "from sklearn.model_selection import GridSearchCV\n",
    "from keras.wrappers.scikit_learn import KerasClassifier\n",
    "my_classifier = KerasClassifier(make_model, batch_size=256)\n",
    "# define the grid search parameters\n",
    "#activation = ['relu', 'elu', 'tanh']\n",
    "#param_grid = dict(activation=activation)\n",
    "#param_grid = {'activation' : activation}\n",
    "validator = GridSearchCV(my_classifier, param_grid={'activation': ['elu'],\n",
    "                                                   'epochs': [5],\n",
    "                                                   'filters': [32],\n",
    "                                                   'Sdroprate': [0.4],\n",
    "                                                   'droprate': [0.1],\n",
    "                                                   'layers': [2, 3, 4, 5, 6]},\n",
    "                                                   cv = cv, \n",
    "                                                   scoring = 'roc_auc', \n",
    "                                                   n_jobs=1)"
   ]
  },
  {
   "cell_type": "code",
   "execution_count": 14,
   "metadata": {},
   "outputs": [
    {
     "name": "stdout",
     "output_type": "stream",
     "text": [
      "Epoch 1/5\n",
      "143613/143613 [==============================] - 311s 2ms/step - loss: 0.0896 - acc: 0.9736\n",
      "Epoch 2/5\n",
      "143613/143613 [==============================] - 309s 2ms/step - loss: 0.0554 - acc: 0.9804\n",
      "Epoch 3/5\n",
      "143613/143613 [==============================] - 309s 2ms/step - loss: 0.0515 - acc: 0.9811\n",
      "Epoch 4/5\n",
      "143613/143613 [==============================] - 308s 2ms/step - loss: 0.0493 - acc: 0.9817\n",
      "Epoch 5/5\n",
      "143613/143613 [==============================] - 307s 2ms/step - loss: 0.0477 - acc: 0.9822\n",
      "Epoch 1/5\n",
      "143613/143613 [==============================] - 411s 3ms/step - loss: 0.0848 - acc: 0.9744\n",
      "Epoch 2/5\n",
      "143613/143613 [==============================] - 410s 3ms/step - loss: 0.0532 - acc: 0.9807\n",
      "Epoch 3/5\n",
      "143613/143613 [==============================] - 409s 3ms/step - loss: 0.0493 - acc: 0.9817\n",
      "Epoch 4/5\n",
      "143613/143613 [==============================] - 409s 3ms/step - loss: 0.0471 - acc: 0.9822\n",
      "Epoch 5/5\n",
      "143613/143613 [==============================] - 409s 3ms/step - loss: 0.0455 - acc: 0.9828\n",
      "Epoch 1/5\n",
      "143613/143613 [==============================] - 515s 4ms/step - loss: 0.0784 - acc: 0.9753\n",
      "Epoch 2/5\n",
      "143613/143613 [==============================] - 517s 4ms/step - loss: 0.0519 - acc: 0.9810\n",
      "Epoch 3/5\n",
      "143613/143613 [==============================] - 522s 4ms/step - loss: 0.0479 - acc: 0.9821\n",
      "Epoch 4/5\n",
      "143613/143613 [==============================] - 536s 4ms/step - loss: 0.0459 - acc: 0.9827\n",
      "Epoch 5/5\n",
      "143613/143613 [==============================] - 553s 4ms/step - loss: 0.0443 - acc: 0.9832\n",
      "Epoch 1/5\n",
      "143613/143613 [==============================] - 669s 5ms/step - loss: 0.0736 - acc: 0.9772\n",
      "Epoch 2/5\n",
      "143613/143613 [==============================] - 675s 5ms/step - loss: 0.0500 - acc: 0.9816\n",
      "Epoch 3/5\n",
      "143613/143613 [==============================] - 673s 5ms/step - loss: 0.0466 - acc: 0.9825\n",
      "Epoch 4/5\n",
      "143613/143613 [==============================] - 684s 5ms/step - loss: 0.0444 - acc: 0.9831\n",
      "Epoch 5/5\n",
      "143613/143613 [==============================] - 648s 5ms/step - loss: 0.0425 - acc: 0.9838\n",
      "Epoch 1/5\n",
      "143613/143613 [==============================] - 788s 5ms/step - loss: 0.0726 - acc: 0.9773\n",
      "Epoch 2/5\n",
      "143613/143613 [==============================] - 783s 5ms/step - loss: 0.0496 - acc: 0.9817\n",
      "Epoch 3/5\n",
      "143613/143613 [==============================] - 782s 5ms/step - loss: 0.0455 - acc: 0.9829\n",
      "Epoch 4/5\n",
      "143613/143613 [==============================] - 781s 5ms/step - loss: 0.0432 - acc: 0.9836\n",
      "Epoch 5/5\n",
      "143613/143613 [==============================] - 779s 5ms/step - loss: 0.0414 - acc: 0.9842\n",
      "Epoch 1/5\n",
      "159571/159571 [==============================] - 569s 4ms/step - loss: 0.0739 - acc: 0.9769\n",
      "Epoch 2/5\n",
      "159571/159571 [==============================] - 563s 4ms/step - loss: 0.0507 - acc: 0.9815\n",
      "Epoch 3/5\n",
      "159571/159571 [==============================] - 563s 4ms/step - loss: 0.0468 - acc: 0.9824\n",
      "Epoch 4/5\n",
      "159571/159571 [==============================] - 562s 4ms/step - loss: 0.0452 - acc: 0.9829\n",
      "Epoch 5/5\n",
      "159571/159571 [==============================] - 562s 4ms/step - loss: 0.0440 - acc: 0.9834\n"
     ]
    }
   ],
   "source": [
    "grid_result = validator.fit(x_train, y_train)"
   ]
  },
  {
   "cell_type": "code",
   "execution_count": 15,
   "metadata": {},
   "outputs": [
    {
     "name": "stdout",
     "output_type": "stream",
     "text": [
      "The parameters of the best model are: \n",
      "{'Sdroprate': 0.4, 'activation': 'elu', 'droprate': 0.1, 'epochs': 5, 'filters': 32, 'layers': 4}\n",
      "0.986281 (0.000000) with: {'Sdroprate': 0.4, 'activation': 'elu', 'droprate': 0.1, 'epochs': 5, 'filters': 32, 'layers': 2}\n",
      "0.987916 (0.000000) with: {'Sdroprate': 0.4, 'activation': 'elu', 'droprate': 0.1, 'epochs': 5, 'filters': 32, 'layers': 3}\n",
      "0.988547 (0.000000) with: {'Sdroprate': 0.4, 'activation': 'elu', 'droprate': 0.1, 'epochs': 5, 'filters': 32, 'layers': 4}\n",
      "0.988392 (0.000000) with: {'Sdroprate': 0.4, 'activation': 'elu', 'droprate': 0.1, 'epochs': 5, 'filters': 32, 'layers': 5}\n",
      "0.988314 (0.000000) with: {'Sdroprate': 0.4, 'activation': 'elu', 'droprate': 0.1, 'epochs': 5, 'filters': 32, 'layers': 6}\n",
      "63978/63978 [==============================] - 64s 1ms/step\n",
      "loss :  0.0690176298667675\n",
      "acc :  0.971669946969284\n"
     ]
    }
   ],
   "source": [
    "print('The parameters of the best model are: ')\n",
    "print(grid_result.best_params_)\n",
    "means = grid_result.cv_results_['mean_test_score']\n",
    "stds = grid_result.cv_results_['std_test_score']\n",
    "params = grid_result.cv_results_['params']\n",
    "for mean, stdev, param in zip(means, stds, params):\n",
    "    print(\"%f (%f) with: %r\" % (mean, stdev, param))\n",
    "# validator.best_estimator_ returns sklearn-wrapped version of best model.\n",
    "# validator.best_estimator_.model returns the (unwrapped) keras model\n",
    "best_model = validator.best_estimator_.model\n",
    "metric_names = best_model.metrics_names\n",
    "metric_values = best_model.evaluate(x_test, y_test)\n",
    "for metric, value in zip(metric_names, metric_values):\n",
    "    print(metric, ': ', value)"
   ]
  },
  {
   "cell_type": "code",
   "execution_count": 16,
   "metadata": {},
   "outputs": [],
   "source": [
    "y_pred = best_model.predict(x_test, batch_size=256)"
   ]
  },
  {
   "cell_type": "code",
   "execution_count": 17,
   "metadata": {},
   "outputs": [
    {
     "name": "stdout",
     "output_type": "stream",
     "text": [
      "\n",
      " roc_auc score: 0.981736 \n",
      "\n"
     ]
    }
   ],
   "source": [
    "score = roc_auc_score(y_test, y_pred)\n",
    "print(\"\\n roc_auc score: %.6f \\n\" % (score))"
   ]
  },
  {
   "cell_type": "code",
   "execution_count": null,
   "metadata": {},
   "outputs": [],
   "source": []
  }
 ],
 "metadata": {
  "kernelspec": {
   "display_name": "Python [conda env:toxic2]",
   "language": "python",
   "name": "conda-env-toxic2-py"
  },
  "language_info": {
   "codemirror_mode": {
    "name": "ipython",
    "version": 3
   },
   "file_extension": ".py",
   "mimetype": "text/x-python",
   "name": "python",
   "nbconvert_exporter": "python",
   "pygments_lexer": "ipython3",
   "version": "3.6.7"
  }
 },
 "nbformat": 4,
 "nbformat_minor": 2
}
