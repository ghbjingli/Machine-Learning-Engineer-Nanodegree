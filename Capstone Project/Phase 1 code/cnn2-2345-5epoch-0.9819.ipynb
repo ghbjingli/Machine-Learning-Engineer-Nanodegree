{
 "cells": [
  {
   "cell_type": "code",
   "execution_count": 25,
   "metadata": {},
   "outputs": [],
   "source": [
    "import numpy as np\n",
    "import pandas as pd\n",
    "np.random.seed(8)\n",
    "from sklearn.model_selection import train_test_split\n",
    "from sklearn.metrics import roc_auc_score\n",
    "\n",
    "from keras.models import Model\n",
    "from keras.layers import Input, Embedding, Dense, Conv2D, MaxPool2D, Conv1D, MaxPooling1D, GlobalMaxPooling1D \n",
    "from keras.layers import Reshape, Flatten, Concatenate, Dropout, SpatialDropout1D\n",
    "from keras.preprocessing import text, sequence\n",
    "from keras.callbacks import Callback\n",
    "\n",
    "import warnings\n",
    "warnings.filterwarnings('ignore')\n",
    "\n",
    "train = pd.read_csv('train.csv')\n",
    "test_cm = pd.read_csv('test.csv')\n",
    "test_lb = pd.read_csv('test_labels.csv')\n",
    "test_all = pd.merge(test_cm, test_lb, on='id')\n",
    "test = test_all[test_all['toxic'] != -1]"
   ]
  },
  {
   "cell_type": "code",
   "execution_count": 26,
   "metadata": {},
   "outputs": [],
   "source": [
    "X_train = train[\"comment_text\"].values\n",
    "y_train = train[[\"toxic\", \"severe_toxic\", \"obscene\", \"threat\", \"insult\", \"identity_hate\"]].values\n",
    "X_test = test[\"comment_text\"].values\n",
    "y_test = test[[\"toxic\", \"severe_toxic\", \"obscene\", \"threat\", \"insult\", \"identity_hate\"]].values"
   ]
  },
  {
   "cell_type": "code",
   "execution_count": 27,
   "metadata": {},
   "outputs": [],
   "source": [
    "vocab = 100000\n",
    "maxlen = 200\n",
    "embed_size = 300"
   ]
  },
  {
   "cell_type": "code",
   "execution_count": 28,
   "metadata": {},
   "outputs": [],
   "source": [
    "t = text.Tokenizer(num_words=vocab)\n",
    "t.fit_on_texts(list(X_train) + list(X_test))"
   ]
  },
  {
   "cell_type": "code",
   "execution_count": 29,
   "metadata": {},
   "outputs": [],
   "source": [
    "X_train = t.texts_to_sequences(X_train)\n",
    "X_test = t.texts_to_sequences(X_test)\n",
    "x_train = sequence.pad_sequences(X_train, maxlen=maxlen)\n",
    "x_test = sequence.pad_sequences(X_test, maxlen=maxlen)"
   ]
  },
  {
   "cell_type": "code",
   "execution_count": 30,
   "metadata": {},
   "outputs": [
    {
     "name": "stdout",
     "output_type": "stream",
     "text": [
      "Loaded 2000000 pre-trained words\n"
     ]
    }
   ],
   "source": [
    "EMBEDDING_FILE = 'crawl-300d-2M.vec'\n",
    "embeddings_index = dict()\n",
    "f = open(EMBEDDING_FILE)\n",
    "for line in f:\n",
    "    values = line.split()\n",
    "    word = values[0]\n",
    "    coefs = np.asarray(values[1:], dtype='float32')\n",
    "    embeddings_index[word] = coefs\n",
    "f.close()\n",
    "print('Loaded %s pre-trained words' % len(embeddings_index))\n"
   ]
  },
  {
   "cell_type": "code",
   "execution_count": 31,
   "metadata": {},
   "outputs": [],
   "source": [
    "# create a weight matrix for words in training docs\n",
    "embedding_matrix = np.zeros((vocab, embed_size))\n",
    "for word, i in t.word_index.items():\n",
    "    if i >= vocab: \n",
    "        continue\n",
    "    embedding_vector = embeddings_index.get(word)\n",
    "    if embedding_vector is not None:\n",
    "        embedding_matrix[i] = embedding_vector"
   ]
  },
  {
   "cell_type": "code",
   "execution_count": 32,
   "metadata": {
    "scrolled": true
   },
   "outputs": [
    {
     "name": "stdout",
     "output_type": "stream",
     "text": [
      "__________________________________________________________________________________________________\n",
      "Layer (type)                    Output Shape         Param #     Connected to                     \n",
      "==================================================================================================\n",
      "input_2 (InputLayer)            (None, 200)          0                                            \n",
      "__________________________________________________________________________________________________\n",
      "embedding_2 (Embedding)         (None, 200, 300)     30000000    input_2[0][0]                    \n",
      "__________________________________________________________________________________________________\n",
      "spatial_dropout1d_2 (SpatialDro (None, 200, 300)     0           embedding_2[0][0]                \n",
      "__________________________________________________________________________________________________\n",
      "reshape_2 (Reshape)             (None, 200, 300, 1)  0           spatial_dropout1d_2[0][0]        \n",
      "__________________________________________________________________________________________________\n",
      "conv2d_5 (Conv2D)               (None, 199, 1, 32)   19232       reshape_2[0][0]                  \n",
      "__________________________________________________________________________________________________\n",
      "conv2d_6 (Conv2D)               (None, 198, 1, 32)   28832       reshape_2[0][0]                  \n",
      "__________________________________________________________________________________________________\n",
      "conv2d_7 (Conv2D)               (None, 197, 1, 32)   38432       reshape_2[0][0]                  \n",
      "__________________________________________________________________________________________________\n",
      "conv2d_8 (Conv2D)               (None, 196, 1, 32)   48032       reshape_2[0][0]                  \n",
      "__________________________________________________________________________________________________\n",
      "max_pooling2d_5 (MaxPooling2D)  (None, 1, 1, 32)     0           conv2d_5[0][0]                   \n",
      "__________________________________________________________________________________________________\n",
      "max_pooling2d_6 (MaxPooling2D)  (None, 1, 1, 32)     0           conv2d_6[0][0]                   \n",
      "__________________________________________________________________________________________________\n",
      "max_pooling2d_7 (MaxPooling2D)  (None, 1, 1, 32)     0           conv2d_7[0][0]                   \n",
      "__________________________________________________________________________________________________\n",
      "max_pooling2d_8 (MaxPooling2D)  (None, 1, 1, 32)     0           conv2d_8[0][0]                   \n",
      "__________________________________________________________________________________________________\n",
      "concatenate_2 (Concatenate)     (None, 4, 1, 32)     0           max_pooling2d_5[0][0]            \n",
      "                                                                 max_pooling2d_6[0][0]            \n",
      "                                                                 max_pooling2d_7[0][0]            \n",
      "                                                                 max_pooling2d_8[0][0]            \n",
      "__________________________________________________________________________________________________\n",
      "flatten_2 (Flatten)             (None, 128)          0           concatenate_2[0][0]              \n",
      "__________________________________________________________________________________________________\n",
      "dropout_2 (Dropout)             (None, 128)          0           flatten_2[0][0]                  \n",
      "__________________________________________________________________________________________________\n",
      "dense_2 (Dense)                 (None, 6)            774         dropout_2[0][0]                  \n",
      "==================================================================================================\n",
      "Total params: 30,135,302\n",
      "Trainable params: 135,302\n",
      "Non-trainable params: 30,000,000\n",
      "__________________________________________________________________________________________________\n"
     ]
    }
   ],
   "source": [
    "num_filters = 32\n",
    "activation = 'tanh'\n",
    "inp = Input(shape=(maxlen, ))\n",
    "x = Embedding(vocab, embed_size, weights=[embedding_matrix], input_length=maxlen, trainable=False)(inp)\n",
    "x = SpatialDropout1D(0.4)(x)\n",
    "x = Reshape((maxlen, embed_size, 1))(x)\n",
    "\n",
    "conv_0 = Conv2D(num_filters, kernel_size=(2, embed_size), activation=activation)(x)\n",
    "maxpool_0 = MaxPool2D(pool_size=(maxlen - 1, 1))(conv_0)\n",
    "conv_1 = Conv2D(num_filters, kernel_size=(3, embed_size), activation=activation)(x)\n",
    "maxpool_1 = MaxPool2D(pool_size=(maxlen - 2, 1))(conv_1)\n",
    "conv_2 = Conv2D(num_filters, kernel_size=(4, embed_size), activation=activation)(x)\n",
    "maxpool_2 = MaxPool2D(pool_size=(maxlen - 3, 1))(conv_2)\n",
    "conv_3 = Conv2D(num_filters, kernel_size=(5, embed_size), activation=activation)(x)\n",
    "maxpool_3 = MaxPool2D(pool_size=(maxlen - 4, 1))(conv_3)\n",
    "#conv_4 = Conv2D(num_filters, kernel_size=(6, embed_size), activation=activation)(x)\n",
    "#maxpool_4 = MaxPool2D(pool_size=(maxlen - 5, 1))(conv_4)\n",
    "\n",
    "y = Concatenate(axis=1)([maxpool_0, maxpool_1, maxpool_2, maxpool_3])\n",
    "y = Flatten()(y)\n",
    "y = Dropout(0.1)(y)\n",
    "\n",
    "outp = Dense(6, activation=\"sigmoid\")(y)\n",
    "\n",
    "model = Model(inputs=inp, outputs=outp)\n",
    "model.compile(loss='binary_crossentropy', optimizer='adam', metrics=['accuracy'])\n",
    "\n",
    "model.summary()"
   ]
  },
  {
   "cell_type": "code",
   "execution_count": 33,
   "metadata": {},
   "outputs": [],
   "source": [
    "x_trainS, x_val, y_trainS, y_val = train_test_split(x_train, y_train, train_size=0.90, random_state=8)"
   ]
  },
  {
   "cell_type": "code",
   "execution_count": 36,
   "metadata": {},
   "outputs": [],
   "source": [
    "class RocAuc(Callback):\n",
    "\n",
    "    def on_epoch_end(self, epoch, logs={}):\n",
    "        y_pred = self.model.predict(self.validation_data[0], verbose=0)\n",
    "        score = roc_auc_score(self.validation_data[1], y_pred)\n",
    "        print(\"\\n roc_auc - epoch: %d - score: %.6f \\n\" % (epoch+1, score))"
   ]
  },
  {
   "cell_type": "code",
   "execution_count": 37,
   "metadata": {},
   "outputs": [],
   "source": [
    "RocAuc = RocAucEvaluation(validation_data=(x_val, y_val), interval=1)"
   ]
  },
  {
   "cell_type": "code",
   "execution_count": 38,
   "metadata": {},
   "outputs": [],
   "source": [
    "from keras.callbacks import ModelCheckpoint\n",
    "batch_size=256\n",
    "epochs = 5\n",
    "checkpointer = ModelCheckpoint(filepath='saved_models/weights.best.pre_trained.conv2.testscore.hdf5', verbose=1, save_best_only=True)\n",
    "#RocAuc = RocAuc()"
   ]
  },
  {
   "cell_type": "code",
   "execution_count": 39,
   "metadata": {},
   "outputs": [
    {
     "name": "stdout",
     "output_type": "stream",
     "text": [
      "Train on 143613 samples, validate on 15958 samples\n",
      "Epoch 1/5\n",
      " - 500s - loss: 0.0817 - acc: 0.9749 - val_loss: 0.0474 - val_acc: 0.9825\n",
      "\n",
      "Epoch 00001: val_loss improved from inf to 0.04743, saving model to saved_models/weights.best.pre_trained.conv2.testscore.hdf5\n",
      "\n",
      " ROC-AUC - epoch: 1 - score: 0.979381 \n",
      "\n",
      "Epoch 2/5\n",
      " - 508s - loss: 0.0505 - acc: 0.9812 - val_loss: 0.0433 - val_acc: 0.9832\n",
      "\n",
      "Epoch 00002: val_loss improved from 0.04743 to 0.04333, saving model to saved_models/weights.best.pre_trained.conv2.testscore.hdf5\n",
      "\n",
      " ROC-AUC - epoch: 2 - score: 0.986268 \n",
      "\n",
      "Epoch 3/5\n",
      " - 506s - loss: 0.0467 - acc: 0.9822 - val_loss: 0.0418 - val_acc: 0.9837\n",
      "\n",
      "Epoch 00003: val_loss improved from 0.04333 to 0.04182, saving model to saved_models/weights.best.pre_trained.conv2.testscore.hdf5\n",
      "\n",
      " ROC-AUC - epoch: 3 - score: 0.987694 \n",
      "\n",
      "Epoch 4/5\n",
      " - 506s - loss: 0.0449 - acc: 0.9827 - val_loss: 0.0413 - val_acc: 0.9841\n",
      "\n",
      "Epoch 00004: val_loss improved from 0.04182 to 0.04126, saving model to saved_models/weights.best.pre_trained.conv2.testscore.hdf5\n",
      "\n",
      " ROC-AUC - epoch: 4 - score: 0.988022 \n",
      "\n",
      "Epoch 5/5\n",
      " - 507s - loss: 0.0437 - acc: 0.9831 - val_loss: 0.0417 - val_acc: 0.9838\n",
      "\n",
      "Epoch 00005: val_loss did not improve from 0.04126\n",
      "\n",
      " ROC-AUC - epoch: 5 - score: 0.988284 \n",
      "\n"
     ]
    }
   ],
   "source": [
    "h = model.fit(x_trainS, y_trainS, batch_size=batch_size, epochs=epochs, validation_data=(x_val, y_val),\n",
    "                 callbacks=[checkpointer, RocAuc], verbose=2)"
   ]
  },
  {
   "cell_type": "code",
   "execution_count": 40,
   "metadata": {},
   "outputs": [],
   "source": [
    "y_pred = model.predict(x_test, batch_size=256)"
   ]
  },
  {
   "cell_type": "code",
   "execution_count": 41,
   "metadata": {},
   "outputs": [
    {
     "name": "stdout",
     "output_type": "stream",
     "text": [
      "\n",
      " roc_auc score: 0.981911 \n",
      "\n"
     ]
    }
   ],
   "source": [
    "score = roc_auc_score(y_test, y_pred)\n",
    "print(\"\\n roc_auc score: %.6f \\n\" % (score))"
   ]
  }
 ],
 "metadata": {
  "kernelspec": {
   "display_name": "Python [conda env:toxic2]",
   "language": "python",
   "name": "conda-env-toxic2-py"
  },
  "language_info": {
   "codemirror_mode": {
    "name": "ipython",
    "version": 3
   },
   "file_extension": ".py",
   "mimetype": "text/x-python",
   "name": "python",
   "nbconvert_exporter": "python",
   "pygments_lexer": "ipython3",
   "version": "3.6.7"
  }
 },
 "nbformat": 4,
 "nbformat_minor": 2
}
