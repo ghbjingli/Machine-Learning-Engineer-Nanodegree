{
 "cells": [
  {
   "cell_type": "code",
   "execution_count": 1,
   "metadata": {},
   "outputs": [
    {
     "name": "stderr",
     "output_type": "stream",
     "text": [
      "Using TensorFlow backend.\n"
     ]
    }
   ],
   "source": [
    "# Import required libraries\n",
    "import numpy as np\n",
    "import pandas as pd\n",
    "np.random.seed(8)\n",
    "from sklearn.model_selection import train_test_split\n",
    "from sklearn.metrics import roc_auc_score\n",
    "\n",
    "from keras.models import Model\n",
    "from keras.layers import Input, Embedding, Dense, Conv2D, MaxPool2D, Conv1D, MaxPooling1D, GlobalMaxPooling1D \n",
    "from keras.layers import Reshape, Flatten, Concatenate, Dropout, SpatialDropout1D\n",
    "from keras.preprocessing import text, sequence\n",
    "from keras.callbacks import Callback\n",
    "\n",
    "import re\n",
    "import warnings\n",
    "warnings.filterwarnings('ignore')\n",
    "\n",
    "# Read in train and test datasets from csv files\n",
    "train = pd.read_csv('train.csv')\n",
    "test_cm = pd.read_csv('test.csv')\n",
    "test_lb = pd.read_csv('test_labels.csv')\n",
    "# Merge test comments with test labels\n",
    "test_all = pd.merge(test_cm, test_lb, on='id')\n",
    "# Remove all test entries with labels equal to -1\n",
    "test = test_all[test_all['toxic'] != -1]"
   ]
  },
  {
   "cell_type": "code",
   "execution_count": 2,
   "metadata": {},
   "outputs": [],
   "source": [
    "X_train = train[\"comment_text\"]\n",
    "y_train = train[[\"toxic\", \"severe_toxic\", \"obscene\", \"threat\", \"insult\", \"identity_hate\"]].values\n",
    "X_test = test[\"comment_text\"]\n",
    "y_test = test[[\"toxic\", \"severe_toxic\", \"obscene\", \"threat\", \"insult\", \"identity_hate\"]].values"
   ]
  },
  {
   "cell_type": "code",
   "execution_count": 3,
   "metadata": {},
   "outputs": [],
   "source": [
    "# Define vocabulary size\n",
    "vocab = 100000\n",
    "# Define maximum length of a comment\n",
    "maxlen = 200\n",
    "# Define embedding size which should equal the embedding size of the pre-trained word vectors\n",
    "embed_size = 300"
   ]
  },
  {
   "cell_type": "code",
   "execution_count": 4,
   "metadata": {},
   "outputs": [],
   "source": [
    "# Removing ip address\n",
    "X_train = X_train.apply(lambda x: re.sub(\"(?:[0-9]{1,3}\\.){3}[0-9]{1,3}\",\"\",x))\n",
    "X_test = X_test.apply(lambda x: re.sub(\"(?:[0-9]{1,3}\\.){3}[0-9]{1,3}\",\"\",x))\n",
    "# Removing url link\n",
    "X_train = X_train.apply(lambda x: re.sub(\"http://.*com\",\"\",x))\n",
    "X_test = X_test.apply(lambda x: re.sub(\"http://.*com\",\"\",x))\n",
    "# Removing username\n",
    "X_train = X_train.apply(lambda x: re.sub(\"\\[\\[.*\\]\",\"\",x))\n",
    "X_test = X_test.apply(lambda x: re.sub(\"\\[\\[.*\\]\",\"\",x))"
   ]
  },
  {
   "cell_type": "code",
   "execution_count": 5,
   "metadata": {},
   "outputs": [],
   "source": [
    "# Filter out stop words\n",
    "from nltk.corpus import stopwords\n",
    "\n",
    "def filter_stop_words(sentences, stop_words):\n",
    "    filtered = []\n",
    "    for sentence in sentences:\n",
    "        words = sentence.split()\n",
    "        words_filtered = [word for word in words if word not in stop_words]\n",
    "        filtered.append(\" \".join(words_filtered))\n",
    "    return filtered\n",
    " \n",
    "stop_words = set(stopwords.words(\"english\"))\n",
    " \n",
    "# Comments in train\n",
    "X_train_ = filter_stop_words(X_train, stop_words)\n",
    " \n",
    "# Comments in test (excluding labels with -1 values)\n",
    "X_test_ = filter_stop_words(X_test, stop_words)"
   ]
  },
  {
   "cell_type": "code",
   "execution_count": 6,
   "metadata": {},
   "outputs": [],
   "source": [
    "# Tokenize the train dataset\n",
    "t = text.Tokenizer(num_words=vocab)\n",
    "t.fit_on_texts(list(X_train_))"
   ]
  },
  {
   "cell_type": "code",
   "execution_count": 7,
   "metadata": {},
   "outputs": [],
   "source": [
    "# Convert both train and test datasets into sequences\n",
    "X_train = t.texts_to_sequences(X_train_)\n",
    "X_test = t.texts_to_sequences(X_test_)\n",
    "x_train = sequence.pad_sequences(X_train, maxlen=maxlen)\n",
    "x_test = sequence.pad_sequences(X_test, maxlen=maxlen)"
   ]
  },
  {
   "cell_type": "code",
   "execution_count": 8,
   "metadata": {},
   "outputs": [
    {
     "name": "stdout",
     "output_type": "stream",
     "text": [
      "Loaded 2000000 pre-trained words\n"
     ]
    }
   ],
   "source": [
    "# Load pre-trained word vectors\n",
    "EMBEDDING_FILE = 'crawl-300d-2M.vec'\n",
    "embeddings_index = dict()\n",
    "f = open(EMBEDDING_FILE)\n",
    "for line in f:\n",
    "    values = line.split()\n",
    "    word = values[0]\n",
    "    coefs = np.asarray(values[1:], dtype='float32')\n",
    "    embeddings_index[word] = coefs\n",
    "f.close()\n",
    "print('Loaded %s pre-trained words' % len(embeddings_index))"
   ]
  },
  {
   "cell_type": "code",
   "execution_count": 9,
   "metadata": {},
   "outputs": [],
   "source": [
    "# Create a weight matrix for words in training docs\n",
    "embedding_matrix = np.zeros((vocab, embed_size))\n",
    "for word, i in t.word_index.items():\n",
    "    if i >= vocab: \n",
    "        continue\n",
    "    embedding_vector = embeddings_index.get(word)\n",
    "    if embedding_vector is not None:\n",
    "        embedding_matrix[i] = embedding_vector"
   ]
  },
  {
   "cell_type": "code",
   "execution_count": 10,
   "metadata": {
    "scrolled": true
   },
   "outputs": [
    {
     "name": "stdout",
     "output_type": "stream",
     "text": [
      "_________________________________________________________________\n",
      "Layer (type)                 Output Shape              Param #   \n",
      "=================================================================\n",
      "input_1 (InputLayer)         (None, 200)               0         \n",
      "_________________________________________________________________\n",
      "embedding_1 (Embedding)      (None, 200, 300)          30000000  \n",
      "_________________________________________________________________\n",
      "spatial_dropout1d_1 (Spatial (None, 200, 300)          0         \n",
      "_________________________________________________________________\n",
      "reshape_1 (Reshape)          (None, 200, 300, 1)       0         \n",
      "_________________________________________________________________\n",
      "conv2d_1 (Conv2D)            (None, 194, 1, 100)       210100    \n",
      "_________________________________________________________________\n",
      "max_pooling2d_1 (MaxPooling2 (None, 1, 1, 100)         0         \n",
      "_________________________________________________________________\n",
      "flatten_1 (Flatten)          (None, 100)               0         \n",
      "_________________________________________________________________\n",
      "dropout_1 (Dropout)          (None, 100)               0         \n",
      "_________________________________________________________________\n",
      "dense_1 (Dense)              (None, 6)                 606       \n",
      "=================================================================\n",
      "Total params: 30,210,706\n",
      "Trainable params: 210,706\n",
      "Non-trainable params: 30,000,000\n",
      "_________________________________________________________________\n"
     ]
    }
   ],
   "source": [
    "# Define make_model function to create a CNN model\n",
    "def make_model(k=[7], activation='relu', filters=100, Sdroprate=0.5, droprate=0.0):\n",
    "\n",
    "    inp = Input(shape=(maxlen, ))\n",
    "    x = Embedding(vocab, embed_size, weights=[embedding_matrix], input_length=maxlen, trainable=False)(inp)\n",
    "    x = SpatialDropout1D(Sdroprate)(x)\n",
    "    x = Reshape((maxlen, embed_size, 1))(x)\n",
    "    \n",
    "    conv = dict()\n",
    "    maxpool = dict()\n",
    "    for h in k:\n",
    "        conv[h] = Conv2D(filters, kernel_size=(h, embed_size), activation=activation)(x)\n",
    "        maxpool[h] = MaxPool2D(pool_size=(maxlen - h + 1, 1))(conv[h])\n",
    "        \n",
    "    if len(k) == 1:\n",
    "        y = maxpool[h]\n",
    "    else:\n",
    "        y = Concatenate(axis=1)([pool for key,pool in maxpool.items()])\n",
    "    \n",
    "    y = Flatten()(y)\n",
    "    y = Dropout(droprate)(y)\n",
    "\n",
    "    outp = Dense(6, activation=\"sigmoid\")(y)\n",
    "\n",
    "    model = Model(inputs=inp, outputs=outp)\n",
    "    model.compile(loss='binary_crossentropy', optimizer='adam', metrics=['accuracy'])\n",
    "    \n",
    "    return model\n",
    "# Generate the model based on the default parameters\n",
    "model = make_model()\n",
    "# Print out the model summary\n",
    "model.summary()"
   ]
  },
  {
   "cell_type": "code",
   "execution_count": 11,
   "metadata": {},
   "outputs": [],
   "source": [
    "# Define the cross validation split\n",
    "from sklearn.model_selection import ShuffleSplit\n",
    "cv = ShuffleSplit(n_splits = 1, test_size = 0.1)"
   ]
  },
  {
   "cell_type": "code",
   "execution_count": 15,
   "metadata": {},
   "outputs": [],
   "source": [
    "scoring = {'AUC': 'roc_auc'}\n",
    "\n",
    "#gs = GridSearchCV(LogisticRegression(), return_train_score=True,\n",
    "#                  param_grid=param_grid, scoring=scoring, cv=10, refit='Accuracy')"
   ]
  },
  {
   "cell_type": "code",
   "execution_count": 16,
   "metadata": {},
   "outputs": [],
   "source": [
    "# Wrap Keras model with KerasClassifier so that it can be used in Sklearn GridSearchCV\n",
    "# Generate a GridSearchCV instance with the parameters to be tuned\n",
    "# This is a starting model and we try to check which activation function performs better\n",
    "\n",
    "from sklearn.model_selection import GridSearchCV\n",
    "from keras.wrappers.scikit_learn import KerasClassifier\n",
    "my_classifier = KerasClassifier(make_model, verbose=1)\n",
    "\n",
    "validator = GridSearchCV(my_classifier, return_train_score=True, param_grid={'k': [[7]],\n",
    "                                                    'activation': ['relu'],\n",
    "                                                   'filters': [100],\n",
    "                                                   'Sdroprate':[0.0,0.1,0.2,0.3,0.4,0.5,0.6],\n",
    "                                                   'droprate': [0.00],\n",
    "                                                   'epochs': [3],\n",
    "                                                   'batch_size': [128]},\n",
    "                                                    cv = cv, \n",
    "                                                    scoring = scoring,\n",
    "                                                    refit='AUC',\n",
    "                                                    verbose=10)"
   ]
  },
  {
   "cell_type": "code",
   "execution_count": 17,
   "metadata": {},
   "outputs": [
    {
     "name": "stdout",
     "output_type": "stream",
     "text": [
      "Fitting 1 folds for each of 7 candidates, totalling 7 fits\n",
      "[CV] Sdroprate=0.0, activation=relu, batch_size=128, droprate=0.0, epochs=3, filters=100, k=[7] \n"
     ]
    },
    {
     "name": "stderr",
     "output_type": "stream",
     "text": [
      "[Parallel(n_jobs=1)]: Using backend SequentialBackend with 1 concurrent workers.\n"
     ]
    },
    {
     "name": "stdout",
     "output_type": "stream",
     "text": [
      "Epoch 1/3\n",
      "143613/143613 [==============================] - 611s 4ms/step - loss: 0.0612 - acc: 0.9797\n",
      "Epoch 2/3\n",
      "143613/143613 [==============================] - 610s 4ms/step - loss: 0.0415 - acc: 0.9841\n",
      "Epoch 3/3\n",
      "143613/143613 [==============================] - 609s 4ms/step - loss: 0.0352 - acc: 0.9865\n",
      "15958/15958 [==============================] - 33s 2ms/step\n",
      "143613/143613 [==============================] - 300s 2ms/step\n",
      "[CV]  Sdroprate=0.0, activation=relu, batch_size=128, droprate=0.0, epochs=3, filters=100, k=[7], AUC=0.9850604169985359, total=31.1min\n",
      "[CV] Sdroprate=0.1, activation=relu, batch_size=128, droprate=0.0, epochs=3, filters=100, k=[7] \n"
     ]
    },
    {
     "name": "stderr",
     "output_type": "stream",
     "text": [
      "[Parallel(n_jobs=1)]: Done   1 out of   1 | elapsed: 36.1min remaining:    0.0s\n"
     ]
    },
    {
     "name": "stdout",
     "output_type": "stream",
     "text": [
      "Epoch 1/3\n",
      "143613/143613 [==============================] - 661s 5ms/step - loss: 0.0623 - acc: 0.9795\n",
      "Epoch 2/3\n",
      "143613/143613 [==============================] - 662s 5ms/step - loss: 0.0432 - acc: 0.9836\n",
      "Epoch 3/3\n",
      "143613/143613 [==============================] - 661s 5ms/step - loss: 0.0377 - acc: 0.9854\n",
      "15958/15958 [==============================] - 34s 2ms/step\n",
      "143613/143613 [==============================] - 303s 2ms/step\n",
      "[CV]  Sdroprate=0.1, activation=relu, batch_size=128, droprate=0.0, epochs=3, filters=100, k=[7], AUC=0.9858418354769408, total=33.7min\n",
      "[CV] Sdroprate=0.2, activation=relu, batch_size=128, droprate=0.0, epochs=3, filters=100, k=[7] \n"
     ]
    },
    {
     "name": "stderr",
     "output_type": "stream",
     "text": [
      "[Parallel(n_jobs=1)]: Done   2 out of   2 | elapsed: 74.8min remaining:    0.0s\n"
     ]
    },
    {
     "name": "stdout",
     "output_type": "stream",
     "text": [
      "Epoch 1/3\n",
      "143613/143613 [==============================] - 661s 5ms/step - loss: 0.0632 - acc: 0.9792\n",
      "Epoch 2/3\n",
      "143613/143613 [==============================] - 658s 5ms/step - loss: 0.0450 - acc: 0.9831\n",
      "Epoch 3/3\n",
      "143613/143613 [==============================] - 657s 5ms/step - loss: 0.0399 - acc: 0.9847\n",
      "15958/15958 [==============================] - 34s 2ms/step\n",
      "143613/143613 [==============================] - 302s 2ms/step\n",
      "[CV]  Sdroprate=0.2, activation=relu, batch_size=128, droprate=0.0, epochs=3, filters=100, k=[7], AUC=0.9841489687288684, total=33.5min\n",
      "[CV] Sdroprate=0.3, activation=relu, batch_size=128, droprate=0.0, epochs=3, filters=100, k=[7] \n"
     ]
    },
    {
     "name": "stderr",
     "output_type": "stream",
     "text": [
      "[Parallel(n_jobs=1)]: Done   3 out of   3 | elapsed: 113.3min remaining:    0.0s\n"
     ]
    },
    {
     "name": "stdout",
     "output_type": "stream",
     "text": [
      "Epoch 1/3\n",
      "143613/143613 [==============================] - 663s 5ms/step - loss: 0.0660 - acc: 0.9785\n",
      "Epoch 2/3\n",
      "143613/143613 [==============================] - 655s 5ms/step - loss: 0.0471 - acc: 0.9826\n",
      "Epoch 3/3\n",
      "143613/143613 [==============================] - 652s 5ms/step - loss: 0.0424 - acc: 0.9840\n",
      "15958/15958 [==============================] - 34s 2ms/step\n",
      "143613/143613 [==============================] - 300s 2ms/step\n",
      "[CV]  Sdroprate=0.3, activation=relu, batch_size=128, droprate=0.0, epochs=3, filters=100, k=[7], AUC=0.9851965478793555, total=33.4min\n",
      "[CV] Sdroprate=0.4, activation=relu, batch_size=128, droprate=0.0, epochs=3, filters=100, k=[7] \n"
     ]
    },
    {
     "name": "stderr",
     "output_type": "stream",
     "text": [
      "[Parallel(n_jobs=1)]: Done   4 out of   4 | elapsed: 151.8min remaining:    0.0s\n"
     ]
    },
    {
     "name": "stdout",
     "output_type": "stream",
     "text": [
      "Epoch 1/3\n",
      "143613/143613 [==============================] - 656s 5ms/step - loss: 0.0660 - acc: 0.9785\n",
      "Epoch 2/3\n",
      "143613/143613 [==============================] - 655s 5ms/step - loss: 0.0482 - acc: 0.9821\n",
      "Epoch 3/3\n",
      "143613/143613 [==============================] - 655s 5ms/step - loss: 0.0440 - acc: 0.9833\n",
      "15958/15958 [==============================] - 34s 2ms/step\n",
      "143613/143613 [==============================] - 306s 2ms/step\n",
      "[CV]  Sdroprate=0.4, activation=relu, batch_size=128, droprate=0.0, epochs=3, filters=100, k=[7], AUC=0.985502736442364, total=33.4min\n",
      "[CV] Sdroprate=0.5, activation=relu, batch_size=128, droprate=0.0, epochs=3, filters=100, k=[7] \n"
     ]
    },
    {
     "name": "stderr",
     "output_type": "stream",
     "text": [
      "[Parallel(n_jobs=1)]: Done   5 out of   5 | elapsed: 190.2min remaining:    0.0s\n"
     ]
    },
    {
     "name": "stdout",
     "output_type": "stream",
     "text": [
      "Epoch 1/3\n",
      "143613/143613 [==============================] - 664s 5ms/step - loss: 0.0700 - acc: 0.9779\n",
      "Epoch 2/3\n",
      "143613/143613 [==============================] - 662s 5ms/step - loss: 0.0509 - acc: 0.9813\n",
      "Epoch 3/3\n",
      "143613/143613 [==============================] - 667s 5ms/step - loss: 0.0472 - acc: 0.9823\n",
      "15958/15958 [==============================] - 34s 2ms/step\n",
      "143613/143613 [==============================] - 305s 2ms/step\n",
      "[CV]  Sdroprate=0.5, activation=relu, batch_size=128, droprate=0.0, epochs=3, filters=100, k=[7], AUC=0.9838137268869916, total=33.8min\n",
      "[CV] Sdroprate=0.6, activation=relu, batch_size=128, droprate=0.0, epochs=3, filters=100, k=[7] \n"
     ]
    },
    {
     "name": "stderr",
     "output_type": "stream",
     "text": [
      "[Parallel(n_jobs=1)]: Done   6 out of   6 | elapsed: 229.1min remaining:    0.0s\n"
     ]
    },
    {
     "name": "stdout",
     "output_type": "stream",
     "text": [
      "Epoch 1/3\n",
      "143613/143613 [==============================] - 660s 5ms/step - loss: 0.0732 - acc: 0.9771\n",
      "Epoch 2/3\n",
      "143613/143613 [==============================] - 656s 5ms/step - loss: 0.0541 - acc: 0.9805\n",
      "Epoch 3/3\n",
      "143613/143613 [==============================] - 656s 5ms/step - loss: 0.0504 - acc: 0.9815\n",
      "15958/15958 [==============================] - 34s 2ms/step\n",
      "143613/143613 [==============================] - 302s 2ms/step\n",
      "[CV]  Sdroprate=0.6, activation=relu, batch_size=128, droprate=0.0, epochs=3, filters=100, k=[7], AUC=0.984241910155563, total=33.4min\n"
     ]
    },
    {
     "name": "stderr",
     "output_type": "stream",
     "text": [
      "[Parallel(n_jobs=1)]: Done   7 out of   7 | elapsed: 267.6min remaining:    0.0s\n",
      "[Parallel(n_jobs=1)]: Done   7 out of   7 | elapsed: 267.6min finished\n"
     ]
    },
    {
     "name": "stdout",
     "output_type": "stream",
     "text": [
      "Epoch 1/3\n",
      "159571/159571 [==============================] - 730s 5ms/step - loss: 0.0595 - acc: 0.9802\n",
      "Epoch 2/3\n",
      "159571/159571 [==============================] - 732s 5ms/step - loss: 0.0431 - acc: 0.9835\n",
      "Epoch 3/3\n",
      "159571/159571 [==============================] - 736s 5ms/step - loss: 0.0372 - acc: 0.9856\n"
     ]
    }
   ],
   "source": [
    "# Run the Grid Search\n",
    "grid_result = validator.fit(x_train, y_train)"
   ]
  },
  {
   "cell_type": "code",
   "execution_count": 28,
   "metadata": {},
   "outputs": [
    {
     "name": "stdout",
     "output_type": "stream",
     "text": [
      "Best score: 0.985842 with {'Sdroprate': 0.1, 'activation': 'relu', 'batch_size': 128, 'droprate': 0.0, 'epochs': 3, 'filters': 100, 'k': [7]}\n",
      "0.985060 (0.000000) with: {'Sdroprate': 0.0, 'activation': 'relu', 'batch_size': 128, 'droprate': 0.0, 'epochs': 3, 'filters': 100, 'k': [7]}\n",
      "0.985842 (0.000000) with: {'Sdroprate': 0.1, 'activation': 'relu', 'batch_size': 128, 'droprate': 0.0, 'epochs': 3, 'filters': 100, 'k': [7]}\n",
      "0.984149 (0.000000) with: {'Sdroprate': 0.2, 'activation': 'relu', 'batch_size': 128, 'droprate': 0.0, 'epochs': 3, 'filters': 100, 'k': [7]}\n",
      "0.985197 (0.000000) with: {'Sdroprate': 0.3, 'activation': 'relu', 'batch_size': 128, 'droprate': 0.0, 'epochs': 3, 'filters': 100, 'k': [7]}\n",
      "0.985503 (0.000000) with: {'Sdroprate': 0.4, 'activation': 'relu', 'batch_size': 128, 'droprate': 0.0, 'epochs': 3, 'filters': 100, 'k': [7]}\n",
      "0.983814 (0.000000) with: {'Sdroprate': 0.5, 'activation': 'relu', 'batch_size': 128, 'droprate': 0.0, 'epochs': 3, 'filters': 100, 'k': [7]}\n",
      "0.984242 (0.000000) with: {'Sdroprate': 0.6, 'activation': 'relu', 'batch_size': 128, 'droprate': 0.0, 'epochs': 3, 'filters': 100, 'k': [7]}\n"
     ]
    }
   ],
   "source": [
    "print(\"Best score: %f with %s\" % (grid_result.best_score_, grid_result.best_params_))\n",
    "means = grid_result.cv_results_['mean_test_AUC']\n",
    "stds = grid_result.cv_results_['std_test_AUC']\n",
    "params = grid_result.cv_results_['params']\n",
    "for mean, stdev, param in zip(means, stds, params):\n",
    "    print(\"%f (%f) with: %r\" % (mean, stdev, param))\n",
    "# Get the best model\n",
    "best_model = validator.best_estimator_.model"
   ]
  },
  {
   "cell_type": "code",
   "execution_count": 27,
   "metadata": {},
   "outputs": [
    {
     "data": {
      "text/plain": [
       "{'mean_fit_time': array([1830.68350196, 1985.22723007, 1978.01516294, 1971.70006585,\n",
       "        1968.67799401, 1994.03285599, 1972.77696991]),\n",
       " 'std_fit_time': array([0., 0., 0., 0., 0., 0., 0.]),\n",
       " 'mean_score_time': array([33.46673393, 33.79035687, 33.80706811, 33.62743402, 33.72192717,\n",
       "        34.20413089, 33.87889004]),\n",
       " 'std_score_time': array([0., 0., 0., 0., 0., 0., 0.]),\n",
       " 'param_Sdroprate': masked_array(data=[0.0, 0.1, 0.2, 0.3, 0.4, 0.5, 0.6],\n",
       "              mask=[False, False, False, False, False, False, False],\n",
       "        fill_value='?',\n",
       "             dtype=object),\n",
       " 'param_activation': masked_array(data=['relu', 'relu', 'relu', 'relu', 'relu', 'relu', 'relu'],\n",
       "              mask=[False, False, False, False, False, False, False],\n",
       "        fill_value='?',\n",
       "             dtype=object),\n",
       " 'param_batch_size': masked_array(data=[128, 128, 128, 128, 128, 128, 128],\n",
       "              mask=[False, False, False, False, False, False, False],\n",
       "        fill_value='?',\n",
       "             dtype=object),\n",
       " 'param_droprate': masked_array(data=[0.0, 0.0, 0.0, 0.0, 0.0, 0.0, 0.0],\n",
       "              mask=[False, False, False, False, False, False, False],\n",
       "        fill_value='?',\n",
       "             dtype=object),\n",
       " 'param_epochs': masked_array(data=[3, 3, 3, 3, 3, 3, 3],\n",
       "              mask=[False, False, False, False, False, False, False],\n",
       "        fill_value='?',\n",
       "             dtype=object),\n",
       " 'param_filters': masked_array(data=[100, 100, 100, 100, 100, 100, 100],\n",
       "              mask=[False, False, False, False, False, False, False],\n",
       "        fill_value='?',\n",
       "             dtype=object),\n",
       " 'param_k': masked_array(data=[list([7]), list([7]), list([7]), list([7]), list([7]),\n",
       "                    list([7]), list([7])],\n",
       "              mask=[False, False, False, False, False, False, False],\n",
       "        fill_value='?',\n",
       "             dtype=object),\n",
       " 'params': [{'Sdroprate': 0.0,\n",
       "   'activation': 'relu',\n",
       "   'batch_size': 128,\n",
       "   'droprate': 0.0,\n",
       "   'epochs': 3,\n",
       "   'filters': 100,\n",
       "   'k': [7]},\n",
       "  {'Sdroprate': 0.1,\n",
       "   'activation': 'relu',\n",
       "   'batch_size': 128,\n",
       "   'droprate': 0.0,\n",
       "   'epochs': 3,\n",
       "   'filters': 100,\n",
       "   'k': [7]},\n",
       "  {'Sdroprate': 0.2,\n",
       "   'activation': 'relu',\n",
       "   'batch_size': 128,\n",
       "   'droprate': 0.0,\n",
       "   'epochs': 3,\n",
       "   'filters': 100,\n",
       "   'k': [7]},\n",
       "  {'Sdroprate': 0.3,\n",
       "   'activation': 'relu',\n",
       "   'batch_size': 128,\n",
       "   'droprate': 0.0,\n",
       "   'epochs': 3,\n",
       "   'filters': 100,\n",
       "   'k': [7]},\n",
       "  {'Sdroprate': 0.4,\n",
       "   'activation': 'relu',\n",
       "   'batch_size': 128,\n",
       "   'droprate': 0.0,\n",
       "   'epochs': 3,\n",
       "   'filters': 100,\n",
       "   'k': [7]},\n",
       "  {'Sdroprate': 0.5,\n",
       "   'activation': 'relu',\n",
       "   'batch_size': 128,\n",
       "   'droprate': 0.0,\n",
       "   'epochs': 3,\n",
       "   'filters': 100,\n",
       "   'k': [7]},\n",
       "  {'Sdroprate': 0.6,\n",
       "   'activation': 'relu',\n",
       "   'batch_size': 128,\n",
       "   'droprate': 0.0,\n",
       "   'epochs': 3,\n",
       "   'filters': 100,\n",
       "   'k': [7]}],\n",
       " 'split0_test_AUC': array([0.98506042, 0.98584184, 0.98414897, 0.98519655, 0.98550274,\n",
       "        0.98381373, 0.98424191]),\n",
       " 'mean_test_AUC': array([0.98506042, 0.98584184, 0.98414897, 0.98519655, 0.98550274,\n",
       "        0.98381373, 0.98424191]),\n",
       " 'std_test_AUC': array([0., 0., 0., 0., 0., 0., 0.]),\n",
       " 'rank_test_AUC': array([4, 1, 6, 3, 2, 7, 5], dtype=int32),\n",
       " 'split0_train_AUC': array([0.99505697, 0.99484081, 0.99454063, 0.99330888, 0.99259262,\n",
       "        0.99092076, 0.98966601]),\n",
       " 'mean_train_AUC': array([0.99505697, 0.99484081, 0.99454063, 0.99330888, 0.99259262,\n",
       "        0.99092076, 0.98966601]),\n",
       " 'std_train_AUC': array([0., 0., 0., 0., 0., 0., 0.])}"
      ]
     },
     "execution_count": 27,
     "metadata": {},
     "output_type": "execute_result"
    }
   ],
   "source": [
    "grid_result.cv_results_"
   ]
  },
  {
   "cell_type": "code",
   "execution_count": 30,
   "metadata": {},
   "outputs": [],
   "source": [
    "param_grid={'k': [[7]],\n",
    "                                                    'activation': ['relu'],\n",
    "                                                   'filters': [100],\n",
    "                                                   'Sdroprate':[0.0,0.1,0.2,0.3,0.4,0.5,0.6],\n",
    "                                                   'droprate': [0.00],\n",
    "                                                   'epochs': [3],\n",
    "                                                   'batch_size': [128]}"
   ]
  },
  {
   "cell_type": "code",
   "execution_count": 29,
   "metadata": {},
   "outputs": [],
   "source": [
    "# Perform prediction with unseen test dataset with the best model\n",
    "y_pred = best_model.predict(x_test, batch_size=256)"
   ]
  },
  {
   "cell_type": "code",
   "execution_count": 31,
   "metadata": {
    "scrolled": true
   },
   "outputs": [
    {
     "name": "stdout",
     "output_type": "stream",
     "text": [
      "\n",
      " roc_auc score for keras model: 0.976943 \n",
      "\n"
     ]
    }
   ],
   "source": [
    "# Calculate the roc_auc score\n",
    "from sklearn.metrics import roc_auc_score\n",
    "score = roc_auc_score(y_test, y_pred)\n",
    "print(\"\\n roc_auc score for keras model: %.6f \\n\" % (score))"
   ]
  },
  {
   "cell_type": "code",
   "execution_count": null,
   "metadata": {},
   "outputs": [],
   "source": [
    "# Generate a summary report for the best model architecture\n",
    "best_model.summary()"
   ]
  },
  {
   "cell_type": "code",
   "execution_count": 34,
   "metadata": {},
   "outputs": [
    {
     "data": {
      "text/plain": [
       "0.6"
      ]
     },
     "execution_count": 34,
     "metadata": {},
     "output_type": "execute_result"
    }
   ],
   "source": [
    "max(param_grid['Sdroprate'])"
   ]
  },
  {
   "cell_type": "code",
   "execution_count": 59,
   "metadata": {},
   "outputs": [
    {
     "name": "stdout",
     "output_type": "stream",
     "text": [
      "====================\n",
      "best params: <keras.wrappers.scikit_learn.KerasClassifier object at 0x1a5c67cb70>\n",
      "best params: {'Sdroprate': 0.1, 'activation': 'relu', 'batch_size': 128, 'droprate': 0.0, 'epochs': 3, 'filters': 100, 'k': [7]}\n",
      "best score: 0.9858418354769408\n",
      "====================\n",
      "[0.  0.1 0.2 0.3 0.4 0.5 0.6]\n",
      "AUC g\n",
      "train --\n",
      "[0.99505697 0.99484081 0.99454063 0.99330888 0.99259262 0.99092076\n",
      " 0.98966601]\n",
      "[0. 0. 0. 0. 0. 0. 0.]\n",
      "test -\n",
      "[0.98506042 0.98584184 0.98414897 0.98519655 0.98550274 0.98381373\n",
      " 0.98424191]\n",
      "[0. 0. 0. 0. 0. 0. 0.]\n",
      "1\n",
      "0.9858418354769408\n"
     ]
    },
    {
     "data": {
      "image/png": "[encoded data removed]",
      "text/plain": [
       "<Figure size 720x720 with 1 Axes>"
      ]
     },
     "metadata": {
      "needs_background": "light"
     },
     "output_type": "display_data"
    }
   ],
   "source": [
    "import matplotlib\n",
    "%matplotlib inline\n",
    "import matplotlib.pyplot as plt\n",
    "results = grid_result.cv_results_\n",
    "\n",
    "print('='*20)\n",
    "print(\"best params: \" + str(grid_result.best_estimator_))\n",
    "print(\"best params: \" + str(grid_result.best_params_))\n",
    "print('best score:', grid_result.best_score_)\n",
    "print('='*20)\n",
    "\n",
    "plt.figure(figsize=(10, 10))\n",
    "plt.title(\"GridSearchCV evaluating using multiple scorers simultaneously\",fontsize=16)\n",
    "\n",
    "plt.xlabel(\"Inverse of regularization strength: C\")\n",
    "plt.ylabel(\"Score\")\n",
    "plt.grid()\n",
    "\n",
    "ax = plt.axes()\n",
    "ax.set_xlim(0, max(param_grid['Sdroprate']))\n",
    "ax.set_ylim(0.98, 1.00)\n",
    "\n",
    "# Get the regular numpy array from the MaskedArray\n",
    "X_axis = np.array(results['param_Sdroprate'].data, dtype=float)\n",
    "print(X_axis)\n",
    "\n",
    "for scorer, color in zip(list(scoring.keys()), ['g', 'k', 'b']): \n",
    "    print(scorer, color)\n",
    "    for sample, style in (('train', '--'), ('test', '-')):\n",
    "        print(sample, style)\n",
    "        sample_score_mean = -results['mean_%s_%s' % (sample, scorer)] if scoring[scorer]=='neg_log_loss' else results['mean_%s_%s' % (sample, scorer)]\n",
    "        print(sample_score_mean)\n",
    "        sample_score_std = results['std_%s_%s' % (sample, scorer)]\n",
    "        print(sample_score_std)\n",
    "        ax.fill_between(X_axis, sample_score_mean - sample_score_std,\n",
    "                        sample_score_mean + sample_score_std,\n",
    "                        alpha=0.1 if sample == 'test' else 0, color=color)\n",
    "        ax.plot(X_axis, sample_score_mean, style, color=color,\n",
    "                alpha=1 if sample == 'test' else 0.7,\n",
    "                label=\"%s (%s)\" % (scorer, sample))\n",
    "\n",
    "    best_index = np.nonzero(results['rank_test_%s' % scorer] == 1)[0][0]\n",
    "    print(best_index)\n",
    "    best_score = -results['mean_test_%s' % scorer][best_index] if scoring[scorer]=='neg_log_loss' else results['mean_test_%s' % scorer][best_index]\n",
    "    print(best_score)   \n",
    "    # Plot a dotted vertical line at the best score for that scorer marked by x\n",
    "    ax.plot([X_axis[best_index], ] * 2, [0, best_score],\n",
    "            linestyle='-.', color=color, marker='x', markeredgewidth=3, ms=8)\n",
    "\n",
    "    # Annotate the best score for that scorer\n",
    "    ax.annotate(\"%0.2f\" % best_score,\n",
    "                (X_axis[best_index], best_score + 0.005))\n",
    "\n",
    "plt.legend(loc=\"best\")\n",
    "plt.grid('off')\n",
    "plt.show()"
   ]
  },
  {
   "cell_type": "code",
   "execution_count": null,
   "metadata": {},
   "outputs": [],
   "source": []
  }
 ],
 "metadata": {
  "kernelspec": {
   "display_name": "Python [conda env:toxic3]",
   "language": "python",
   "name": "conda-env-toxic3-py"
  },
  "language_info": {
   "codemirror_mode": {
    "name": "ipython",
    "version": 3
   },
   "file_extension": ".py",
   "mimetype": "text/x-python",
   "name": "python",
   "nbconvert_exporter": "python",
   "pygments_lexer": "ipython3",
   "version": "3.6.7"
  }
 },
 "nbformat": 4,
 "nbformat_minor": 2
}
