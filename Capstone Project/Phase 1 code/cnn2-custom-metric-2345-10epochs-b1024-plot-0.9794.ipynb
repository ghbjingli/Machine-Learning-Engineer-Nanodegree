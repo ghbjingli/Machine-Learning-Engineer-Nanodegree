{
 "cells": [
  {
   "cell_type": "code",
   "execution_count": 1,
   "metadata": {},
   "outputs": [
    {
     "name": "stderr",
     "output_type": "stream",
     "text": [
      "Using TensorFlow backend.\n"
     ]
    }
   ],
   "source": [
    "import numpy as np\n",
    "import pandas as pd\n",
    "np.random.seed(8)\n",
    "from sklearn.model_selection import train_test_split\n",
    "from sklearn.metrics import roc_auc_score\n",
    "\n",
    "from keras.models import Model\n",
    "from keras.layers import Input, Embedding, Dense, Conv2D, MaxPool2D, Conv1D, MaxPooling1D, GlobalMaxPooling1D \n",
    "from keras.layers import Reshape, Flatten, Concatenate, Dropout, SpatialDropout1D\n",
    "from keras.preprocessing import text, sequence\n",
    "from keras.callbacks import Callback\n",
    "\n",
    "import re\n",
    "import warnings\n",
    "warnings.filterwarnings('ignore')\n",
    "\n",
    "train = pd.read_csv('train.csv')\n",
    "test_cm = pd.read_csv('test.csv')\n",
    "test_lb = pd.read_csv('test_labels.csv')\n",
    "test_all = pd.merge(test_cm, test_lb, on='id')\n",
    "test = test_all[test_all['toxic'] != -1]"
   ]
  },
  {
   "cell_type": "code",
   "execution_count": 2,
   "metadata": {},
   "outputs": [],
   "source": [
    "label_names = [\"toxic\", \"severe_toxic\", \"obscene\", \"threat\", \"insult\", \"identity_hate\"]\n",
    "X_train = train[\"comment_text\"]\n",
    "y_train = train[label_names].values\n",
    "X_test = test[\"comment_text\"]\n",
    "y_test = test[label_names].values"
   ]
  },
  {
   "cell_type": "code",
   "execution_count": 3,
   "metadata": {},
   "outputs": [],
   "source": [
    "# Define vocabulary size\n",
    "vocab = 100000\n",
    "# Define maximum length of a comment\n",
    "maxlen = 200\n",
    "# Define embedding size which should equal the embedding size of the pre-trained word vectors\n",
    "embed_size = 300"
   ]
  },
  {
   "cell_type": "code",
   "execution_count": 4,
   "metadata": {},
   "outputs": [],
   "source": [
    "# Removing ip address\n",
    "X_train = X_train.apply(lambda x: re.sub(\"(?:[0-9]{1,3}\\.){3}[0-9]{1,3}\",\"\",x))\n",
    "X_test = X_test.apply(lambda x: re.sub(\"(?:[0-9]{1,3}\\.){3}[0-9]{1,3}\",\"\",x))\n",
    "# Removing url link\n",
    "X_train = X_train.apply(lambda x: re.sub(\"http://.*com\",\"\",x))\n",
    "X_test = X_test.apply(lambda x: re.sub(\"http://.*com\",\"\",x))\n",
    "# Removing username\n",
    "X_train = X_train.apply(lambda x: re.sub(\"\\[\\[.*\\]\",\"\",x))\n",
    "X_test = X_test.apply(lambda x: re.sub(\"\\[\\[.*\\]\",\"\",x))"
   ]
  },
  {
   "cell_type": "code",
   "execution_count": 5,
   "metadata": {},
   "outputs": [],
   "source": [
    "# Filter out stop words\n",
    "from nltk.corpus import stopwords\n",
    "\n",
    "def filter_stop_words(sentences, stop_words):\n",
    "    filtered = []\n",
    "    for sentence in sentences:\n",
    "        words = sentence.split()\n",
    "        words_filtered = [word for word in words if word not in stop_words]\n",
    "        filtered.append(\" \".join(words_filtered))\n",
    "    return filtered\n",
    " \n",
    "stop_words = set(stopwords.words(\"english\"))\n",
    " \n",
    "# Comments in train\n",
    "X_train_ = filter_stop_words(X_train, stop_words)\n",
    " \n",
    "# Comments in test (excluding labels with -1 values)\n",
    "X_test_ = filter_stop_words(X_test, stop_words)"
   ]
  },
  {
   "cell_type": "code",
   "execution_count": 6,
   "metadata": {},
   "outputs": [],
   "source": [
    "# Tokenize the train dataset\n",
    "t = text.Tokenizer(num_words=vocab)\n",
    "t.fit_on_texts(list(X_train_))"
   ]
  },
  {
   "cell_type": "code",
   "execution_count": 7,
   "metadata": {},
   "outputs": [],
   "source": [
    "# Convert both train and test datasets into sequences\n",
    "X_train = t.texts_to_sequences(X_train_)\n",
    "X_test = t.texts_to_sequences(X_test_)\n",
    "x_train = sequence.pad_sequences(X_train, maxlen=maxlen)\n",
    "x_test = sequence.pad_sequences(X_test, maxlen=maxlen)"
   ]
  },
  {
   "cell_type": "code",
   "execution_count": 8,
   "metadata": {},
   "outputs": [
    {
     "name": "stdout",
     "output_type": "stream",
     "text": [
      "Loaded 2000000 pre-trained words\n"
     ]
    }
   ],
   "source": [
    "# Load pre-trained word vectors\n",
    "EMBEDDING_FILE = 'crawl-300d-2M.vec'\n",
    "embeddings_index = dict()\n",
    "f = open(EMBEDDING_FILE)\n",
    "for line in f:\n",
    "    values = line.split()\n",
    "    word = values[0]\n",
    "    coefs = np.asarray(values[1:], dtype='float32')\n",
    "    embeddings_index[word] = coefs\n",
    "f.close()\n",
    "print('Loaded %s pre-trained words' % len(embeddings_index))\n"
   ]
  },
  {
   "cell_type": "code",
   "execution_count": 9,
   "metadata": {},
   "outputs": [],
   "source": [
    "# create a weight matrix for words in training docs\n",
    "embedding_matrix = np.zeros((vocab, embed_size))\n",
    "for word, i in t.word_index.items():\n",
    "    if i >= vocab: \n",
    "        continue\n",
    "    embedding_vector = embeddings_index.get(word)\n",
    "    if embedding_vector is not None:\n",
    "        embedding_matrix[i] = embedding_vector"
   ]
  },
  {
   "cell_type": "code",
   "execution_count": 10,
   "metadata": {},
   "outputs": [],
   "source": [
    "import tensorflow as tf\n",
    "import keras.backend as K\n",
    "\n",
    "# FROM https://www.kaggle.com/c/porto-seguro-safe-driver-prediction/discussion/41108\n",
    "def jacek_auc(y_true, y_pred):\n",
    "   score, up_opt = tf.metrics.auc(y_true, y_pred)\n",
    "   #score, up_opt = tf.contrib.metrics.streaming_auc(y_pred, y_true)    \n",
    "   K.get_session().run(tf.local_variables_initializer())\n",
    "   with tf.control_dependencies([up_opt]):\n",
    "       score = tf.identity(score)\n",
    "   return score\n",
    "\n",
    "# FROM https://www.kaggle.com/c/porto-seguro-safe-driver-prediction/discussion/41015\n",
    "# AUC for a binary classifier\n",
    "def tf_binary_auc(y_true, y_pred):\n",
    "    ptas = tf.stack([binary_PTA(y_true,y_pred,k) for k in np.linspace(0, 1, 1000)],axis=0)\n",
    "    pfas = tf.stack([binary_PFA(y_true,y_pred,k) for k in np.linspace(0, 1, 1000)],axis=0)\n",
    "    pfas = tf.concat([tf.ones((1,)) ,pfas],axis=0)\n",
    "    binSizes = -(pfas[1:]-pfas[:-1])\n",
    "    s = ptas*binSizes\n",
    "    return K.sum(s, axis=0)\n",
    "\n",
    "#---------------------\n",
    "# PFA, prob false alert for binary classifier\n",
    "def binary_PFA(y_true, y_pred, threshold=K.variable(value=0.8)):\n",
    "    y_pred = K.cast(y_pred >= threshold, 'float32')\n",
    "    # N = total number of negative labels\n",
    "    N = K.sum(1 - y_true)\n",
    "    # FP = total number of false alerts, alerts from the negative class labels\n",
    "    FP = K.sum(y_pred - y_pred * y_true)\n",
    "    return FP/N\n",
    "\n",
    "#----------------\n",
    "# P_TA prob true alerts for binary classifier\n",
    "def binary_PTA(y_true, y_pred, threshold=K.variable(value=0.8)):\n",
    "    y_pred = K.cast(y_pred >= threshold, 'float32')\n",
    "    # P = total number of positive labels\n",
    "    P = K.sum(y_true)\n",
    "    # TP = total number of correct alerts, alerts from the positive class labels\n",
    "    TP = K.sum(y_pred * y_true)\n",
    "    return TP/P"
   ]
  },
  {
   "cell_type": "code",
   "execution_count": 11,
   "metadata": {},
   "outputs": [],
   "source": [
    "from sklearn.metrics import roc_auc_score\n",
    "import keras\n",
    "class RocAucMetricCallback(Callback):\n",
    "    def __init__(self, train_data, predict_batch_size=1024, include_on_batch=False):\n",
    "        super(RocAucMetricCallback, self).__init__()\n",
    "        self.train_data=train_data\n",
    "        self.predict_batch_size=predict_batch_size\n",
    "        self.include_on_batch=include_on_batch\n",
    "\n",
    "    def on_batch_begin(self, batch, logs={}):\n",
    "        pass\n",
    "\n",
    "    def on_batch_end(self, batch, logs={}):\n",
    "        if(self.include_on_batch):\n",
    "            logs['sklearn_auc']=float('-inf')\n",
    "            logs['val_sklearn_auc']=float('-inf')\n",
    "            if(self.train_data):\n",
    "                logs['sklearn_auc']=roc_auc_score(self.train_data[1], \n",
    "                                                  self.model.predict(self.train_data[0],\n",
    "                                                                     batch_size=self.predict_batch_size))\n",
    "            if(self.validation_data):\n",
    "                logs['val_sklearn_auc']=roc_auc_score(self.validation_data[1], \n",
    "                                                  self.model.predict(self.validation_data[0],\n",
    "                                                                     batch_size=self.predict_batch_size))\n",
    "\n",
    "    def on_train_begin(self, logs={}):\n",
    "        if not ('sklearn_auc' in self.params['metrics']):\n",
    "            self.params['metrics'].append('sklearn_auc')\n",
    "        if not ('val_sklearn_auc' in self.params['metrics']):\n",
    "            self.params['metrics'].append('val_sklearn_auc')\n",
    "\n",
    "    def on_train_end(self, logs={}):\n",
    "        pass\n",
    "\n",
    "    def on_epoch_begin(self, epoch, logs={}):\n",
    "        pass\n",
    "\n",
    "    def on_epoch_end(self, epoch, logs={}):\n",
    "        logs['sklearn_auc']=float('-inf')\n",
    "        logs['val_sklearn_auc']=float('-inf')\n",
    "        if(self.train_data):\n",
    "            logs['sklearn_auc']=roc_auc_score(self.train_data[1], \n",
    "                                              self.model.predict(self.train_data[0],\n",
    "                                                                 batch_size=self.predict_batch_size))\n",
    "            print(\"\\n sklearn_auc - epoch: %d - score: %.6f \\n\" % (epoch+1, logs['sklearn_auc']))    \n",
    "        if(self.validation_data):\n",
    "            logs['val_sklearn_auc']=roc_auc_score(self.validation_data[1], \n",
    "                                              self.model.predict(self.validation_data[0],\n",
    "                                                                 batch_size=self.predict_batch_size))\n",
    "            print(\"\\n val_sklearn_auc - epoch: %d - score: %.6f \\n\" % (epoch+1, logs['val_sklearn_auc']))    "
   ]
  },
  {
   "cell_type": "code",
   "execution_count": 12,
   "metadata": {},
   "outputs": [
    {
     "name": "stdout",
     "output_type": "stream",
     "text": [
      "__________________________________________________________________________________________________\n",
      "Layer (type)                    Output Shape         Param #     Connected to                     \n",
      "==================================================================================================\n",
      "input_1 (InputLayer)            (None, 200)          0                                            \n",
      "__________________________________________________________________________________________________\n",
      "embedding_1 (Embedding)         (None, 200, 300)     30000000    input_1[0][0]                    \n",
      "__________________________________________________________________________________________________\n",
      "spatial_dropout1d_1 (SpatialDro (None, 200, 300)     0           embedding_1[0][0]                \n",
      "__________________________________________________________________________________________________\n",
      "reshape_1 (Reshape)             (None, 200, 300, 1)  0           spatial_dropout1d_1[0][0]        \n",
      "__________________________________________________________________________________________________\n",
      "conv2d_1 (Conv2D)               (None, 199, 1, 32)   19232       reshape_1[0][0]                  \n",
      "__________________________________________________________________________________________________\n",
      "conv2d_2 (Conv2D)               (None, 198, 1, 32)   28832       reshape_1[0][0]                  \n",
      "__________________________________________________________________________________________________\n",
      "conv2d_3 (Conv2D)               (None, 197, 1, 32)   38432       reshape_1[0][0]                  \n",
      "__________________________________________________________________________________________________\n",
      "conv2d_4 (Conv2D)               (None, 196, 1, 32)   48032       reshape_1[0][0]                  \n",
      "__________________________________________________________________________________________________\n",
      "max_pooling2d_1 (MaxPooling2D)  (None, 1, 1, 32)     0           conv2d_1[0][0]                   \n",
      "__________________________________________________________________________________________________\n",
      "max_pooling2d_2 (MaxPooling2D)  (None, 1, 1, 32)     0           conv2d_2[0][0]                   \n",
      "__________________________________________________________________________________________________\n",
      "max_pooling2d_3 (MaxPooling2D)  (None, 1, 1, 32)     0           conv2d_3[0][0]                   \n",
      "__________________________________________________________________________________________________\n",
      "max_pooling2d_4 (MaxPooling2D)  (None, 1, 1, 32)     0           conv2d_4[0][0]                   \n",
      "__________________________________________________________________________________________________\n",
      "concatenate_1 (Concatenate)     (None, 4, 1, 32)     0           max_pooling2d_1[0][0]            \n",
      "                                                                 max_pooling2d_2[0][0]            \n",
      "                                                                 max_pooling2d_3[0][0]            \n",
      "                                                                 max_pooling2d_4[0][0]            \n",
      "__________________________________________________________________________________________________\n",
      "flatten_1 (Flatten)             (None, 128)          0           concatenate_1[0][0]              \n",
      "__________________________________________________________________________________________________\n",
      "dropout_1 (Dropout)             (None, 128)          0           flatten_1[0][0]                  \n",
      "__________________________________________________________________________________________________\n",
      "dense_1 (Dense)                 (None, 6)            774         dropout_1[0][0]                  \n",
      "==================================================================================================\n",
      "Total params: 30,135,302\n",
      "Trainable params: 135,302\n",
      "Non-trainable params: 30,000,000\n",
      "__________________________________________________________________________________________________\n"
     ]
    }
   ],
   "source": [
    "# Define make_model function to create a CNN model\n",
    "def make_model(k=[2,3,4,5], activation='tanh', filters=32, Sdroprate=0.3, droprate=0.0):\n",
    "\n",
    "    inp = Input(shape=(maxlen, ))\n",
    "    x = Embedding(vocab, embed_size, weights=[embedding_matrix], input_length=maxlen, trainable=False)(inp)\n",
    "    x = SpatialDropout1D(Sdroprate)(x)\n",
    "    x = Reshape((maxlen, embed_size, 1))(x)\n",
    "    \n",
    "    conv = dict()\n",
    "    maxpool = dict()\n",
    "    for h in k:\n",
    "        conv[h] = Conv2D(filters, kernel_size=(h, embed_size), activation=activation)(x)\n",
    "        maxpool[h] = MaxPool2D(pool_size=(maxlen - h + 1, 1))(conv[h])\n",
    "    if len(k) == 1:\n",
    "        y = maxpool[h]\n",
    "    else:\n",
    "        y = Concatenate(axis=1)([pool for key,pool in maxpool.items()])\n",
    "    y = Flatten()(y)\n",
    "    y = Dropout(droprate)(y)\n",
    "\n",
    "    outp = Dense(6, activation=\"sigmoid\")(y)\n",
    "\n",
    "    model = Model(inputs=inp, outputs=outp)\n",
    "    model.compile(loss='binary_crossentropy', optimizer='adam', metrics=[tf_binary_auc])\n",
    "    \n",
    "    return model\n",
    "model = make_model()\n",
    "model.summary()"
   ]
  },
  {
   "cell_type": "code",
   "execution_count": 13,
   "metadata": {},
   "outputs": [],
   "source": [
    "# Split the train dataset into train and validation datasets\n",
    "x_trainS, x_val, y_trainS, y_val = train_test_split(x_train, y_train, train_size=0.80, random_state=8)"
   ]
  },
  {
   "cell_type": "code",
   "execution_count": 14,
   "metadata": {},
   "outputs": [],
   "source": [
    "# Define a custom function for callbacks to display roc_auc score\n",
    "class RocAuc(Callback):\n",
    "\n",
    "    def on_epoch_end(self, epoch, logs={}):\n",
    "        y_pred = self.model.predict(self.validation_data[0], verbose=0)\n",
    "        score = roc_auc_score(self.validation_data[1], y_pred)\n",
    "        print(\"\\n roc_auc - epoch: %d - score: %.6f \\n\" % (epoch+1, score))"
   ]
  },
  {
   "cell_type": "code",
   "execution_count": 17,
   "metadata": {},
   "outputs": [],
   "source": [
    "# Set batch_size, epochs parameters\n",
    "# Define file_path to store best model\n",
    "# Create instance of check_point, early_stop and roc_auc\n",
    "from keras.callbacks import ModelCheckpoint, EarlyStopping\n",
    "batch_size=1024\n",
    "epochs = 10\n",
    "file_path = 'saved_models/weights.best.hdf5'\n",
    "check_point = ModelCheckpoint(filepath=file_path, monitor = 'val_tf_binary_auc', mode=\"max\", verbose=1, save_best_only=True)\n",
    "early_stop = EarlyStopping(monitor = 'val_tf_binary_auc', mode = \"max\", patience = 2, verbose=2)\n",
    "roc_auc = RocAucMetricCallback(train_data=(x_trainS, y_trainS))\n",
    "#roc_auc = RocAuc()\n",
    "#cb = [early_stop, check_point, roc_auc]\n",
    "cb = [roc_auc, early_stop, check_point]"
   ]
  },
  {
   "cell_type": "code",
   "execution_count": 18,
   "metadata": {},
   "outputs": [
    {
     "name": "stdout",
     "output_type": "stream",
     "text": [
      "Train on 127656 samples, validate on 31915 samples\n",
      "Epoch 1/10\n",
      "127656/127656 [==============================] - 536s 4ms/step - loss: 0.1487 - tf_binary_auc: 0.8315 - val_loss: 0.0891 - val_tf_binary_auc: 0.9324\n",
      "\n",
      " sklearn_auc - epoch: 1 - score: 0.815491 \n",
      "\n",
      "\n",
      " val_sklearn_auc - epoch: 1 - score: 0.815924 \n",
      "\n",
      "\n",
      "Epoch 00001: val_tf_binary_auc improved from -inf to 0.93242, saving model to saved_models/weights.best.hdf5\n",
      "Epoch 2/10\n",
      "127656/127656 [==============================] - 491s 4ms/step - loss: 0.0709 - tf_binary_auc: 0.9596 - val_loss: 0.0572 - val_tf_binary_auc: 0.9781\n",
      "\n",
      " sklearn_auc - epoch: 2 - score: 0.957234 \n",
      "\n",
      "\n",
      " val_sklearn_auc - epoch: 2 - score: 0.955242 \n",
      "\n",
      "\n",
      "Epoch 00002: val_tf_binary_auc improved from 0.93242 to 0.97811, saving model to saved_models/weights.best.hdf5\n",
      "Epoch 3/10\n",
      "127656/127656 [==============================] - 493s 4ms/step - loss: 0.0555 - tf_binary_auc: 0.9800 - val_loss: 0.0508 - val_tf_binary_auc: 0.9845\n",
      "\n",
      " sklearn_auc - epoch: 3 - score: 0.974263 \n",
      "\n",
      "\n",
      " val_sklearn_auc - epoch: 3 - score: 0.972878 \n",
      "\n",
      "\n",
      "Epoch 00003: val_tf_binary_auc improved from 0.97811 to 0.98453, saving model to saved_models/weights.best.hdf5\n",
      "Epoch 4/10\n",
      "127656/127656 [==============================] - 479s 4ms/step - loss: 0.0506 - tf_binary_auc: 0.9847 - val_loss: 0.0479 - val_tf_binary_auc: 0.9866\n",
      "\n",
      " sklearn_auc - epoch: 4 - score: 0.980318 \n",
      "\n",
      "\n",
      " val_sklearn_auc - epoch: 4 - score: 0.978851 \n",
      "\n",
      "\n",
      "Epoch 00004: val_tf_binary_auc improved from 0.98453 to 0.98659, saving model to saved_models/weights.best.hdf5\n",
      "Epoch 5/10\n",
      "127656/127656 [==============================] - 487s 4ms/step - loss: 0.0478 - tf_binary_auc: 0.9867 - val_loss: 0.0460 - val_tf_binary_auc: 0.9875\n",
      "\n",
      " sklearn_auc - epoch: 5 - score: 0.983417 \n",
      "\n",
      "\n",
      " val_sklearn_auc - epoch: 5 - score: 0.981668 \n",
      "\n",
      "\n",
      "Epoch 00005: val_tf_binary_auc improved from 0.98659 to 0.98754, saving model to saved_models/weights.best.hdf5\n",
      "Epoch 6/10\n",
      "127656/127656 [==============================] - 481s 4ms/step - loss: 0.0460 - tf_binary_auc: 0.9877 - val_loss: 0.0450 - val_tf_binary_auc: 0.9881\n",
      "\n",
      " sklearn_auc - epoch: 6 - score: 0.985678 \n",
      "\n",
      "\n",
      " val_sklearn_auc - epoch: 6 - score: 0.983469 \n",
      "\n",
      "\n",
      "Epoch 00006: val_tf_binary_auc improved from 0.98754 to 0.98808, saving model to saved_models/weights.best.hdf5\n",
      "Epoch 7/10\n",
      "127656/127656 [==============================] - 482s 4ms/step - loss: 0.0439 - tf_binary_auc: 0.9888 - val_loss: 0.0441 - val_tf_binary_auc: 0.9883\n",
      "\n",
      " sklearn_auc - epoch: 7 - score: 0.987463 \n",
      "\n",
      "\n",
      " val_sklearn_auc - epoch: 7 - score: 0.984670 \n",
      "\n",
      "\n",
      "Epoch 00007: val_tf_binary_auc improved from 0.98808 to 0.98834, saving model to saved_models/weights.best.hdf5\n",
      "Epoch 8/10\n",
      "127656/127656 [==============================] - 483s 4ms/step - loss: 0.0427 - tf_binary_auc: 0.9895 - val_loss: 0.0439 - val_tf_binary_auc: 0.9885\n",
      "\n",
      " sklearn_auc - epoch: 8 - score: 0.988707 \n",
      "\n",
      "\n",
      " val_sklearn_auc - epoch: 8 - score: 0.985404 \n",
      "\n",
      "\n",
      "Epoch 00008: val_tf_binary_auc improved from 0.98834 to 0.98849, saving model to saved_models/weights.best.hdf5\n",
      "Epoch 9/10\n",
      "127656/127656 [==============================] - 490s 4ms/step - loss: 0.0415 - tf_binary_auc: 0.9903 - val_loss: 0.0434 - val_tf_binary_auc: 0.9886\n",
      "\n",
      " sklearn_auc - epoch: 9 - score: 0.989736 \n",
      "\n",
      "\n",
      " val_sklearn_auc - epoch: 9 - score: 0.985792 \n",
      "\n",
      "\n",
      "Epoch 00009: val_tf_binary_auc improved from 0.98849 to 0.98858, saving model to saved_models/weights.best.hdf5\n",
      "Epoch 10/10\n",
      "127656/127656 [==============================] - 482s 4ms/step - loss: 0.0403 - tf_binary_auc: 0.9909 - val_loss: 0.0429 - val_tf_binary_auc: 0.9889\n",
      "\n",
      " sklearn_auc - epoch: 10 - score: 0.990613 \n",
      "\n",
      "\n",
      " val_sklearn_auc - epoch: 10 - score: 0.986307 \n",
      "\n",
      "\n",
      "Epoch 00010: val_tf_binary_auc improved from 0.98858 to 0.98887, saving model to saved_models/weights.best.hdf5\n"
     ]
    }
   ],
   "source": [
    "# Fit the model with the train and validation datasets\n",
    "#h = model.fit(x_trainS, y_trainS, batch_size=batch_size, epochs=epochs, validation_data=(x_val, y_val), verbose=2)\n",
    "from keras.wrappers.scikit_learn import KerasClassifier\n",
    "estimator = KerasClassifier(make_model,epochs=epochs,batch_size=batch_size,verbose=1)\n",
    "h = estimator.fit(x_trainS, y_trainS, validation_data=(x_val, y_val), callbacks=cb)\n",
    "\n",
    "#h = model.fit(x_trainS, y_trainS, batch_size=batch_size, epochs=epochs, validation_data=(x_val, y_val),\n",
    "#                 callbacks=[GiniWithEarlyStopping(patience=2, verbose=1),check_point])"
   ]
  },
  {
   "cell_type": "code",
   "execution_count": 28,
   "metadata": {},
   "outputs": [
    {
     "name": "stdout",
     "output_type": "stream",
     "text": [
      "0.018252274130307524\n",
      "0.0009316048556961308\n",
      "0.31182182\n"
     ]
    },
    {
     "data": {
      "text/plain": [
       "<Figure size 720x576 with 0 Axes>"
      ]
     },
     "metadata": {},
     "output_type": "display_data"
    },
    {
     "data": {
      "image/png": "[encoded data removed]",
      "text/plain": [
       "<Figure size 720x576 with 1 Axes>"
      ]
     },
     "metadata": {
      "needs_background": "light"
     },
     "output_type": "display_data"
    }
   ],
   "source": [
    "# Compute ROC curves and AUCs for test\n",
    "from sklearn.metrics import roc_curve, auc\n",
    "from scipy import interp\n",
    "\n",
    "# Compute false positive rate (fpr), true positive rate (tpr) and area under the curves (rocauc)\n",
    "fpr = dict()\n",
    "tpr = dict()\n",
    "thr = dict()\n",
    "rocauc = dict()\n",
    "for i in range(y_test.shape[1]):\n",
    "    fpr[i], tpr[i], thr[i] = roc_curve(y_test[:, i], y_pred[:, i])\n",
    "    rocauc[i] = auc(fpr[i], tpr[i])\n",
    "\n",
    "# Compute micro-average ROC curve and ROC area\n",
    "fpr[\"micro\"], tpr[\"micro\"], thr[\"micro\"] = roc_curve(y_test.ravel(), y_pred.ravel())\n",
    "rocauc[\"micro\"] = auc(fpr[\"micro\"], tpr[\"micro\"])\n",
    "\n",
    "# Compute Macro-average ROC curve and ROC area\n",
    "# First aggregate all false positive rates\n",
    "all_fpr = np.unique(np.concatenate([fpr[i] for i in range(y_test.shape[1])]))\n",
    "\n",
    "# Then interpolate all ROC curves at this points\n",
    "mean_tpr = np.zeros_like(all_fpr)\n",
    "for i in range(y_test.shape[1]):\n",
    "    mean_tpr += interp(all_fpr, fpr[i], tpr[i])\n",
    "\n",
    "# Finally average it and compute AUC\n",
    "mean_tpr /= y_test.shape[1]\n",
    "\n",
    "# Then interpolate all ROC curves at this points\n",
    "mean_thr = np.zeros_like(all_fpr)\n",
    "for i in range(y_test.shape[1]):\n",
    "    mean_thr += interp(all_fpr, fpr[i], thr[i])\n",
    "\n",
    "# Finally average it and compute AUC\n",
    "mean_thr /= y_test.shape[1]\n",
    "\n",
    "fpr[\"macro\"] = all_fpr\n",
    "tpr[\"macro\"] = mean_tpr\n",
    "thr[\"macro\"] = mean_thr\n",
    "rocauc[\"macro\"] = auc(fpr[\"macro\"], tpr[\"macro\"])\n",
    "\n",
    "# to increase tpr, you also increase fpr. It is a trade off between the two.\n",
    "# Business requirement determine which one is more important\n",
    "# We can calculate the cutoff to garantee a minimum tpr or a maximum fpr\n",
    "# We see here that to increase tpr, we need to lower threshold\n",
    "# to decrease fpr, we need to increase threshold\n",
    "\n",
    "# index of the first threshold for which the sensitivity > 0.98\n",
    "idx1 = np.min(np.where(tpr[\"macro\"] > 0.99)) \n",
    "# index of the first threshold for which the fall out < 0.20\n",
    "idx2 = np.max(np.where(fpr[\"macro\"] < 0.50)) \n",
    "# index of the first threshold for which the fall out < 0.20\n",
    "idx3 = np.max(np.where(fpr[0] < 0.10)) \n",
    "\n",
    "print(thr[\"macro\"][idx1])\n",
    "print(thr[\"macro\"][idx2])\n",
    "print(thr[0][idx3])\n",
    "\n",
    "# Plot all ROC curves\n",
    "import matplotlib.pyplot as plt\n",
    "%matplotlib inline\n",
    "from itertools import cycle\n",
    "\n",
    "plt.figure(figsize=(10,8))\n",
    "lw = 2\n",
    "\n",
    "plt.figure(figsize=(10,8))\n",
    "plt.plot(fpr[\"micro\"], tpr[\"micro\"],\n",
    "         label='micro-average ROC curve (area = {0:0.4f})'\n",
    "               ''.format(rocauc[\"micro\"]),\n",
    "         color='deeppink', linestyle=':', linewidth=4)\n",
    "\n",
    "plt.plot(fpr[\"macro\"], tpr[\"macro\"],\n",
    "         label='macro-average ROC curve (area = {0:0.4f})'\n",
    "               ''.format(rocauc[\"macro\"]),\n",
    "         color='navy', linestyle=':', linewidth=4)\n",
    "\n",
    "plt.plot([0,fpr[\"macro\"][idx1]], [tpr[\"macro\"][idx1],tpr[\"macro\"][idx1]], 'k--', color='blue')\n",
    "plt.plot([fpr[\"macro\"][idx1],fpr[\"macro\"][idx1]], [0,tpr[\"macro\"][idx1]], 'k--', color='blue')\n",
    "\n",
    "plt.plot([0,fpr[\"macro\"][idx2]], [tpr[\"macro\"][idx2],tpr[\"macro\"][idx2]], 'k--', color='red')\n",
    "plt.plot([fpr[\"macro\"][idx2],fpr[\"macro\"][idx2]], [0,tpr[\"macro\"][idx2]], 'k--', color='red')\n",
    "\n",
    "plt.plot([0,fpr[0][idx3]], [tpr[0][idx3],tpr[0][idx3]], 'k--', color='green')\n",
    "plt.plot([fpr[0][idx3],fpr[0][idx3]], [0,tpr[0][idx3]], 'k--', color='green')\n",
    "\n",
    "colors = cycle(['aqua', 'darkorange', 'cornflowerblue'])\n",
    "for i, color in zip(range(y_test.shape[1]), colors):\n",
    "    plt.plot(fpr[i], tpr[i], color=color, lw=lw,\n",
    "             label='ROC curve of {0} (area = {1:0.4f})'\n",
    "             ''.format(label_names[i], rocauc[i]))\n",
    "\n",
    "plt.plot([0, 1], [0, 1], 'k--', lw=lw)\n",
    "plt.xlim([0.0, 1.0])\n",
    "plt.ylim([0.0, 1.05])\n",
    "plt.xlabel('False Positive Rate')\n",
    "plt.ylabel('True Positive Rate')\n",
    "plt.title('ROC Curves and Areas under the Curves')\n",
    "plt.legend(loc=\"lower right\")\n",
    "plt.show()"
   ]
  },
  {
   "cell_type": "code",
   "execution_count": 16,
   "metadata": {},
   "outputs": [
    {
     "name": "stdout",
     "output_type": "stream",
     "text": [
      "\n",
      " roc_auc score: 0.978676 \n",
      "\n"
     ]
    }
   ],
   "source": [
    "'''# Calculate roc_auc score\n",
    "score = roc_auc_score(y_test, y_pred)\n",
    "print(\"\\n roc_auc score: %.6f \\n\" % (score))'''"
   ]
  },
  {
   "cell_type": "code",
   "execution_count": 24,
   "metadata": {
    "scrolled": true
   },
   "outputs": [],
   "source": [
    "from keras.models import load_model\n",
    "model_saved = load_model(file_path, custom_objects={'tf_binary_auc': tf_binary_auc})"
   ]
  },
  {
   "cell_type": "code",
   "execution_count": 25,
   "metadata": {},
   "outputs": [
    {
     "name": "stdout",
     "output_type": "stream",
     "text": [
      "__________________________________________________________________________________________________\n",
      "Layer (type)                    Output Shape         Param #     Connected to                     \n",
      "==================================================================================================\n",
      "input_2 (InputLayer)            (None, 200)          0                                            \n",
      "__________________________________________________________________________________________________\n",
      "embedding_2 (Embedding)         (None, 200, 300)     30000000    input_2[0][0]                    \n",
      "__________________________________________________________________________________________________\n",
      "spatial_dropout1d_2 (SpatialDro (None, 200, 300)     0           embedding_2[0][0]                \n",
      "__________________________________________________________________________________________________\n",
      "reshape_2 (Reshape)             (None, 200, 300, 1)  0           spatial_dropout1d_2[0][0]        \n",
      "__________________________________________________________________________________________________\n",
      "conv2d_5 (Conv2D)               (None, 199, 1, 32)   19232       reshape_2[0][0]                  \n",
      "__________________________________________________________________________________________________\n",
      "conv2d_6 (Conv2D)               (None, 198, 1, 32)   28832       reshape_2[0][0]                  \n",
      "__________________________________________________________________________________________________\n",
      "conv2d_7 (Conv2D)               (None, 197, 1, 32)   38432       reshape_2[0][0]                  \n",
      "__________________________________________________________________________________________________\n",
      "conv2d_8 (Conv2D)               (None, 196, 1, 32)   48032       reshape_2[0][0]                  \n",
      "__________________________________________________________________________________________________\n",
      "max_pooling2d_5 (MaxPooling2D)  (None, 1, 1, 32)     0           conv2d_5[0][0]                   \n",
      "__________________________________________________________________________________________________\n",
      "max_pooling2d_6 (MaxPooling2D)  (None, 1, 1, 32)     0           conv2d_6[0][0]                   \n",
      "__________________________________________________________________________________________________\n",
      "max_pooling2d_7 (MaxPooling2D)  (None, 1, 1, 32)     0           conv2d_7[0][0]                   \n",
      "__________________________________________________________________________________________________\n",
      "max_pooling2d_8 (MaxPooling2D)  (None, 1, 1, 32)     0           conv2d_8[0][0]                   \n",
      "__________________________________________________________________________________________________\n",
      "concatenate_2 (Concatenate)     (None, 4, 1, 32)     0           max_pooling2d_5[0][0]            \n",
      "                                                                 max_pooling2d_6[0][0]            \n",
      "                                                                 max_pooling2d_7[0][0]            \n",
      "                                                                 max_pooling2d_8[0][0]            \n",
      "__________________________________________________________________________________________________\n",
      "flatten_2 (Flatten)             (None, 128)          0           concatenate_2[0][0]              \n",
      "__________________________________________________________________________________________________\n",
      "dropout_2 (Dropout)             (None, 128)          0           flatten_2[0][0]                  \n",
      "__________________________________________________________________________________________________\n",
      "dense_2 (Dense)                 (None, 6)            774         dropout_2[0][0]                  \n",
      "==================================================================================================\n",
      "Total params: 30,135,302\n",
      "Trainable params: 135,302\n",
      "Non-trainable params: 30,000,000\n",
      "__________________________________________________________________________________________________\n"
     ]
    }
   ],
   "source": [
    "model_saved.summary()"
   ]
  },
  {
   "cell_type": "code",
   "execution_count": 26,
   "metadata": {},
   "outputs": [],
   "source": [
    "y_pred = model_saved.predict(x_test, batch_size=batch_size)"
   ]
  },
  {
   "cell_type": "code",
   "execution_count": 27,
   "metadata": {},
   "outputs": [
    {
     "name": "stdout",
     "output_type": "stream",
     "text": [
      "\n",
      " roc_auc score: 0.979378 \n",
      "\n"
     ]
    }
   ],
   "source": [
    "score = roc_auc_score(y_test, y_pred)\n",
    "print(\"\\n roc_auc score: %.6f \\n\" % (score))"
   ]
  },
  {
   "cell_type": "code",
   "execution_count": 29,
   "metadata": {},
   "outputs": [
    {
     "name": "stdout",
     "output_type": "stream",
     "text": [
      "dict_keys(['val_loss', 'val_tf_binary_auc', 'loss', 'tf_binary_auc', 'sklearn_auc', 'val_sklearn_auc'])\n"
     ]
    }
   ],
   "source": [
    "# Visualize training history\n",
    "import matplotlib.pyplot as plt\n",
    "import numpy\n",
    "\n",
    "# list all data in history\n",
    "print(h.history.keys())"
   ]
  },
  {
   "cell_type": "code",
   "execution_count": 30,
   "metadata": {},
   "outputs": [
    {
     "data": {
      "image/png": "[encoded data removed]",
      "text/plain": [
       "<Figure size 720x576 with 1 Axes>"
      ]
     },
     "metadata": {
      "needs_background": "light"
     },
     "output_type": "display_data"
    },
    {
     "data": {
      "image/png": "[encoded data removed]",
      "text/plain": [
       "<Figure size 432x288 with 1 Axes>"
      ]
     },
     "metadata": {
      "needs_background": "light"
     },
     "output_type": "display_data"
    }
   ],
   "source": [
    "# summarize history for accuracy\n",
    "plt.figure(figsize=(10,8))\n",
    "plt.plot(h.history['tf_binary_auc'])\n",
    "plt.plot(h.history['val_tf_binary_auc'])\n",
    "plt.plot(h.history['sklearn_auc'])\n",
    "plt.plot(h.history['val_sklearn_auc'])\n",
    "plt.title('model area under the curve')\n",
    "plt.ylabel('auc')\n",
    "plt.xlabel('epoch')\n",
    "plt.legend(['tf binary auc train', 'tf binary auc test', 'sklearn auc train', 'sklearn auc test'], loc='upper left')\n",
    "plt.show()\n",
    "# summarize history for loss\n",
    "plt.plot(h.history['loss'])\n",
    "plt.plot(h.history['val_loss'])\n",
    "plt.title('model loss')\n",
    "plt.ylabel('loss')\n",
    "plt.xlabel('epoch')\n",
    "plt.legend(['train', 'test'], loc='upper left')\n",
    "plt.show()"
   ]
  },
  {
   "cell_type": "code",
   "execution_count": null,
   "metadata": {},
   "outputs": [],
   "source": []
  }
 ],
 "metadata": {
  "kernelspec": {
   "display_name": "Python [conda env:toxic3]",
   "language": "python",
   "name": "conda-env-toxic3-py"
  },
  "language_info": {
   "codemirror_mode": {
    "name": "ipython",
    "version": 3
   },
   "file_extension": ".py",
   "mimetype": "text/x-python",
   "name": "python",
   "nbconvert_exporter": "python",
   "pygments_lexer": "ipython3",
   "version": "3.6.7"
  }
 },
 "nbformat": 4,
 "nbformat_minor": 2
}
