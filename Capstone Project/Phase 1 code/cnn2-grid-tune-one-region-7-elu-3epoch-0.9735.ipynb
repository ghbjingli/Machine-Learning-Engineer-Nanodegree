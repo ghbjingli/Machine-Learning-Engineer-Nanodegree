{
 "cells": [
  {
   "cell_type": "code",
   "execution_count": 1,
   "metadata": {},
   "outputs": [
    {
     "name": "stderr",
     "output_type": "stream",
     "text": [
      "Using TensorFlow backend.\n"
     ]
    }
   ],
   "source": [
    "import numpy as np\n",
    "import pandas as pd\n",
    "np.random.seed(8)\n",
    "from sklearn.model_selection import train_test_split\n",
    "from sklearn.metrics import roc_auc_score\n",
    "\n",
    "from keras.models import Model\n",
    "from keras.layers import Input, Embedding, Dense, Conv2D, MaxPool2D, Conv1D, MaxPooling1D, GlobalMaxPooling1D \n",
    "from keras.layers import Reshape, Flatten, Concatenate, Dropout, SpatialDropout1D\n",
    "from keras.preprocessing import text, sequence\n",
    "from keras.callbacks import Callback\n",
    "\n",
    "import warnings\n",
    "warnings.filterwarnings('ignore')\n",
    "\n",
    "import os\n",
    "os.environ['OMP_NUM_THREADS'] = '4'\n",
    "\n",
    "train = pd.read_csv('train.csv')\n",
    "test_cm = pd.read_csv('test.csv')\n",
    "test_lb = pd.read_csv('test_labels.csv')\n",
    "test_all = pd.merge(test_cm, test_lb, on='id')\n",
    "test = test_all[test_all['toxic'] != -1]"
   ]
  },
  {
   "cell_type": "code",
   "execution_count": 3,
   "metadata": {},
   "outputs": [],
   "source": [
    "X_train = train[\"comment_text\"].values\n",
    "y_train = train[[\"toxic\", \"severe_toxic\", \"obscene\", \"threat\", \"insult\", \"identity_hate\"]].values\n",
    "X_test = test[\"comment_text\"].values\n",
    "y_test = test[[\"toxic\", \"severe_toxic\", \"obscene\", \"threat\", \"insult\", \"identity_hate\"]].values"
   ]
  },
  {
   "cell_type": "code",
   "execution_count": 4,
   "metadata": {},
   "outputs": [],
   "source": [
    "vocab = 100000\n",
    "maxlen = 200\n",
    "embed_size = 300"
   ]
  },
  {
   "cell_type": "code",
   "execution_count": 5,
   "metadata": {},
   "outputs": [],
   "source": [
    "t = text.Tokenizer(num_words=vocab)\n",
    "t.fit_on_texts(list(X_train) + list(X_test))"
   ]
  },
  {
   "cell_type": "code",
   "execution_count": 6,
   "metadata": {},
   "outputs": [],
   "source": [
    "X_train = t.texts_to_sequences(X_train)\n",
    "X_test = t.texts_to_sequences(X_test)\n",
    "x_train = sequence.pad_sequences(X_train, maxlen=maxlen)\n",
    "x_test = sequence.pad_sequences(X_test, maxlen=maxlen)"
   ]
  },
  {
   "cell_type": "code",
   "execution_count": 7,
   "metadata": {},
   "outputs": [
    {
     "name": "stdout",
     "output_type": "stream",
     "text": [
      "Loaded 2000000 pre-trained words\n"
     ]
    }
   ],
   "source": [
    "EMBEDDING_FILE = 'crawl-300d-2M.vec'\n",
    "embeddings_index = dict()\n",
    "f = open(EMBEDDING_FILE)\n",
    "for line in f:\n",
    "    values = line.split()\n",
    "    word = values[0]\n",
    "    coefs = np.asarray(values[1:], dtype='float32')\n",
    "    embeddings_index[word] = coefs\n",
    "f.close()\n",
    "print('Loaded %s pre-trained words' % len(embeddings_index))\n"
   ]
  },
  {
   "cell_type": "code",
   "execution_count": 8,
   "metadata": {},
   "outputs": [],
   "source": [
    "# create a weight matrix for words in training docs\n",
    "embedding_matrix = np.zeros((vocab, embed_size))\n",
    "for word, i in t.word_index.items():\n",
    "    if i >= vocab: \n",
    "        continue\n",
    "    embedding_vector = embeddings_index.get(word)\n",
    "    if embedding_vector is not None:\n",
    "        embedding_matrix[i] = embedding_vector"
   ]
  },
  {
   "cell_type": "code",
   "execution_count": 9,
   "metadata": {
    "scrolled": true
   },
   "outputs": [],
   "source": [
    "def make_model(kernel, activation, filters, Sdroprate):\n",
    "\n",
    "    inp = Input(shape=(maxlen, ))\n",
    "    x = Embedding(vocab, embed_size, weights=[embedding_matrix], input_length=maxlen, trainable=False)(inp)\n",
    "    x = SpatialDropout1D(Sdroprate)(x)\n",
    "    x = Reshape((maxlen, embed_size, 1))(x)\n",
    "\n",
    "    conv_0 = Conv2D(filters, kernel_size=(kernel, embed_size), activation=activation)(x)\n",
    "    maxpool_0 = MaxPool2D(pool_size=(maxlen - kernel + 1, 1))(conv_0)\n",
    "    #conv_1 = Conv2D(num_filters, kernel_size=(3, embed_size), activation=activation)(x)\n",
    "    #maxpool_1 = MaxPool2D(pool_size=(maxlen - 2, 1))(conv_1)\n",
    "    #conv_2 = Conv2D(num_filters, kernel_size=(4, embed_size), activation=activation)(x)\n",
    "    #maxpool_2 = MaxPool2D(pool_size=(maxlen - 3, 1))(conv_2)\n",
    "    #conv_3 = Conv2D(num_filters, kernel_size=(5, embed_size), activation=activation)(x)\n",
    "    #maxpool_3 = MaxPool2D(pool_size=(maxlen - 4, 1))(conv_3)\n",
    "    #conv_4 = Conv2D(num_filters, kernel_size=(6, embed_size), activation=activation)(x)\n",
    "    #maxpool_4 = MaxPool2D(pool_size=(maxlen - 5, 1))(conv_4)\n",
    "\n",
    "    #y = Concatenate(axis=1)([maxpool_0, maxpool_1, maxpool_2, maxpool_3, maxpool_4])\n",
    "    #y = Flatten()(y)\n",
    "    y = Flatten()(maxpool_0)\n",
    "    y = Dropout(0.1)(y)\n",
    "\n",
    "    outp = Dense(6, activation=\"sigmoid\")(y)\n",
    "\n",
    "    model = Model(inputs=inp, outputs=outp)\n",
    "    model.compile(loss='binary_crossentropy', optimizer='adam', metrics=['accuracy'])\n",
    "    \n",
    "    return model\n",
    "#model = make_model()\n",
    "#model.summary()"
   ]
  },
  {
   "cell_type": "code",
   "execution_count": 15,
   "metadata": {},
   "outputs": [],
   "source": [
    "x_trainS, x_val, y_trainS, y_val = train_test_split(x_train, y_train, train_size=0.90, random_state=8)"
   ]
  },
  {
   "cell_type": "code",
   "execution_count": null,
   "metadata": {},
   "outputs": [],
   "source": [
    "class RocAuc(Callback):\n",
    "\n",
    "    def on_epoch_end(self, epoch, logs={}):\n",
    "        y_pred = self.model.predict(self.validation_data[0], verbose=0)\n",
    "        score = roc_auc_score(self.validation_data[1], y_pred)\n",
    "        print(\"\\n roc_auc - epoch: %d - score: %.6f \\n\" % (epoch+1, score))"
   ]
  },
  {
   "cell_type": "code",
   "execution_count": 15,
   "metadata": {},
   "outputs": [],
   "source": [
    "from keras.callbacks import ModelCheckpoint\n",
    "batch_size=256\n",
    "epochs = 1\n",
    "checkpointer = ModelCheckpoint(filepath='saved_models/weights.best.pre_trained.conv2.testscore.hdf5', verbose=1, save_best_only=True)\n",
    "RocAuc = RocAuc()"
   ]
  },
  {
   "cell_type": "code",
   "execution_count": 10,
   "metadata": {},
   "outputs": [],
   "source": [
    "from sklearn.model_selection import ShuffleSplit\n",
    "cv = ShuffleSplit(n_splits = 1, test_size = 0.1)"
   ]
  },
  {
   "cell_type": "code",
   "execution_count": 11,
   "metadata": {},
   "outputs": [],
   "source": [
    "from sklearn.model_selection import GridSearchCV\n",
    "from keras.wrappers.scikit_learn import KerasClassifier\n",
    "my_classifier = KerasClassifier(make_model, batch_size=256)\n",
    "# define the grid search parameters\n",
    "#activation = ['relu', 'elu', 'tanh']\n",
    "#param_grid = dict(activation=activation)\n",
    "#param_grid = {'activation' : activation}\n",
    "validator = GridSearchCV(my_classifier, param_grid={'kernel': [1,2,3,4,5,6,7,8,9,10],\n",
    "                                                    'activation': ['elu'],\n",
    "                                                   'epochs': [3],\n",
    "                                                   'filters': [32],\n",
    "                                                   'Sdroprate': [0.4]},\n",
    "                                                   cv = cv, \n",
    "                                                   scoring = 'roc_auc', \n",
    "                                                   n_jobs=1)"
   ]
  },
  {
   "cell_type": "code",
   "execution_count": 12,
   "metadata": {},
   "outputs": [
    {
     "name": "stdout",
     "output_type": "stream",
     "text": [
      "Epoch 1/3\n",
      "143613/143613 [==============================] - 160s 1ms/step - loss: 0.1267 - acc: 0.9668\n",
      "Epoch 2/3\n",
      "143613/143613 [==============================] - 158s 1ms/step - loss: 0.0643 - acc: 0.9782\n",
      "Epoch 3/3\n",
      "143613/143613 [==============================] - 158s 1ms/step - loss: 0.0585 - acc: 0.9792\n",
      "Epoch 1/3\n",
      "143613/143613 [==============================] - 203s 1ms/step - loss: 0.1112 - acc: 0.9696\n",
      "Epoch 2/3\n",
      "143613/143613 [==============================] - 203s 1ms/step - loss: 0.0607 - acc: 0.9792\n",
      "Epoch 3/3\n",
      "143613/143613 [==============================] - 203s 1ms/step - loss: 0.0555 - acc: 0.9801\n",
      "Epoch 1/3\n",
      "143613/143613 [==============================] - 252s 2ms/step - loss: 0.1100 - acc: 0.9687\n",
      "Epoch 2/3\n",
      "143613/143613 [==============================] - 250s 2ms/step - loss: 0.0603 - acc: 0.9793\n",
      "Epoch 3/3\n",
      "143613/143613 [==============================] - 250s 2ms/step - loss: 0.0546 - acc: 0.9806\n",
      "Epoch 1/3\n",
      "143613/143613 [==============================] - 303s 2ms/step - loss: 0.1112 - acc: 0.9695\n",
      "Epoch 2/3\n",
      "143613/143613 [==============================] - 301s 2ms/step - loss: 0.0610 - acc: 0.9792\n",
      "Epoch 3/3\n",
      "143613/143613 [==============================] - 301s 2ms/step - loss: 0.0553 - acc: 0.9803\n",
      "Epoch 1/3\n",
      "143613/143613 [==============================] - 367s 3ms/step - loss: 0.0921 - acc: 0.9737\n",
      "Epoch 2/3\n",
      "143613/143613 [==============================] - 366s 3ms/step - loss: 0.0583 - acc: 0.9797\n",
      "Epoch 3/3\n",
      "143613/143613 [==============================] - 365s 3ms/step - loss: 0.0537 - acc: 0.9808\n",
      "Epoch 1/3\n",
      "143613/143613 [==============================] - 407s 3ms/step - loss: 0.0918 - acc: 0.9743\n",
      "Epoch 2/3\n",
      "143613/143613 [==============================] - 406s 3ms/step - loss: 0.0577 - acc: 0.9800\n",
      "Epoch 3/3\n",
      "143613/143613 [==============================] - 406s 3ms/step - loss: 0.0527 - acc: 0.9810\n",
      "Epoch 1/3\n",
      "143613/143613 [==============================] - 478s 3ms/step - loss: 0.1042 - acc: 0.9701\n",
      "Epoch 2/3\n",
      "143613/143613 [==============================] - 475s 3ms/step - loss: 0.0612 - acc: 0.9792\n",
      "Epoch 3/3\n",
      "143613/143613 [==============================] - 475s 3ms/step - loss: 0.0553 - acc: 0.9804\n",
      "Epoch 1/3\n",
      "143613/143613 [==============================] - 571s 4ms/step - loss: 0.1028 - acc: 0.9695\n",
      "Epoch 2/3\n",
      "143613/143613 [==============================] - 567s 4ms/step - loss: 0.0595 - acc: 0.9797\n",
      "Epoch 3/3\n",
      "143613/143613 [==============================] - 579s 4ms/step - loss: 0.0539 - acc: 0.9808\n",
      "Epoch 1/3\n",
      "143613/143613 [==============================] - 597s 4ms/step - loss: 0.0923 - acc: 0.9725\n",
      "Epoch 2/3\n",
      "143613/143613 [==============================] - 595s 4ms/step - loss: 0.0585 - acc: 0.9800\n",
      "Epoch 3/3\n",
      "143613/143613 [==============================] - 595s 4ms/step - loss: 0.0532 - acc: 0.9809\n",
      "Epoch 1/3\n",
      "143613/143613 [==============================] - 670s 5ms/step - loss: 0.0970 - acc: 0.9728\n",
      "Epoch 2/3\n",
      "143613/143613 [==============================] - 668s 5ms/step - loss: 0.0591 - acc: 0.9799\n",
      "Epoch 3/3\n",
      "143613/143613 [==============================] - 658s 5ms/step - loss: 0.0534 - acc: 0.9812\n",
      "Epoch 1/3\n",
      "159571/159571 [==============================] - 532s 3ms/step - loss: 0.0930 - acc: 0.9742\n",
      "Epoch 2/3\n",
      "159571/159571 [==============================] - 530s 3ms/step - loss: 0.0585 - acc: 0.9800\n",
      "Epoch 3/3\n",
      "159571/159571 [==============================] - 529s 3ms/step - loss: 0.0530 - acc: 0.9810\n"
     ]
    }
   ],
   "source": [
    "grid_result = validator.fit(x_train, y_train)"
   ]
  },
  {
   "cell_type": "code",
   "execution_count": 13,
   "metadata": {},
   "outputs": [
    {
     "name": "stdout",
     "output_type": "stream",
     "text": [
      "The parameters of the best model are: \n",
      "{'Sdroprate': 0.4, 'activation': 'elu', 'epochs': 3, 'filters': 32, 'kernel': 7}\n",
      "0.981575 (0.000000) with: {'Sdroprate': 0.4, 'activation': 'elu', 'epochs': 3, 'filters': 32, 'kernel': 1}\n",
      "0.982148 (0.000000) with: {'Sdroprate': 0.4, 'activation': 'elu', 'epochs': 3, 'filters': 32, 'kernel': 2}\n",
      "0.983750 (0.000000) with: {'Sdroprate': 0.4, 'activation': 'elu', 'epochs': 3, 'filters': 32, 'kernel': 3}\n",
      "0.983134 (0.000000) with: {'Sdroprate': 0.4, 'activation': 'elu', 'epochs': 3, 'filters': 32, 'kernel': 4}\n",
      "0.982115 (0.000000) with: {'Sdroprate': 0.4, 'activation': 'elu', 'epochs': 3, 'filters': 32, 'kernel': 5}\n",
      "0.984456 (0.000000) with: {'Sdroprate': 0.4, 'activation': 'elu', 'epochs': 3, 'filters': 32, 'kernel': 6}\n",
      "0.984867 (0.000000) with: {'Sdroprate': 0.4, 'activation': 'elu', 'epochs': 3, 'filters': 32, 'kernel': 7}\n",
      "0.983697 (0.000000) with: {'Sdroprate': 0.4, 'activation': 'elu', 'epochs': 3, 'filters': 32, 'kernel': 8}\n",
      "0.983629 (0.000000) with: {'Sdroprate': 0.4, 'activation': 'elu', 'epochs': 3, 'filters': 32, 'kernel': 9}\n",
      "0.982809 (0.000000) with: {'Sdroprate': 0.4, 'activation': 'elu', 'epochs': 3, 'filters': 32, 'kernel': 10}\n"
     ]
    }
   ],
   "source": [
    "print('The parameters of the best model are: ')\n",
    "print(grid_result.best_params_)\n",
    "means = grid_result.cv_results_['mean_test_score']\n",
    "stds = grid_result.cv_results_['std_test_score']\n",
    "params = grid_result.cv_results_['params']\n",
    "for mean, stdev, param in zip(means, stds, params):\n",
    "    print(\"%f (%f) with: %r\" % (mean, stdev, param))"
   ]
  },
  {
   "cell_type": "code",
   "execution_count": 15,
   "metadata": {},
   "outputs": [
    {
     "name": "stdout",
     "output_type": "stream",
     "text": [
      "Best: 0.984867 using {'Sdroprate': 0.4, 'activation': 'elu', 'epochs': 3, 'filters': 32, 'kernel': 7}\n",
      "0.981575 (0.000000) with: {'Sdroprate': 0.4, 'activation': 'elu', 'epochs': 3, 'filters': 32, 'kernel': 1}\n",
      "0.982148 (0.000000) with: {'Sdroprate': 0.4, 'activation': 'elu', 'epochs': 3, 'filters': 32, 'kernel': 2}\n",
      "0.983750 (0.000000) with: {'Sdroprate': 0.4, 'activation': 'elu', 'epochs': 3, 'filters': 32, 'kernel': 3}\n",
      "0.983134 (0.000000) with: {'Sdroprate': 0.4, 'activation': 'elu', 'epochs': 3, 'filters': 32, 'kernel': 4}\n",
      "0.982115 (0.000000) with: {'Sdroprate': 0.4, 'activation': 'elu', 'epochs': 3, 'filters': 32, 'kernel': 5}\n",
      "0.984456 (0.000000) with: {'Sdroprate': 0.4, 'activation': 'elu', 'epochs': 3, 'filters': 32, 'kernel': 6}\n",
      "0.984867 (0.000000) with: {'Sdroprate': 0.4, 'activation': 'elu', 'epochs': 3, 'filters': 32, 'kernel': 7}\n",
      "0.983697 (0.000000) with: {'Sdroprate': 0.4, 'activation': 'elu', 'epochs': 3, 'filters': 32, 'kernel': 8}\n",
      "0.983629 (0.000000) with: {'Sdroprate': 0.4, 'activation': 'elu', 'epochs': 3, 'filters': 32, 'kernel': 9}\n",
      "0.982809 (0.000000) with: {'Sdroprate': 0.4, 'activation': 'elu', 'epochs': 3, 'filters': 32, 'kernel': 10}\n"
     ]
    }
   ],
   "source": [
    "# summarize results\n",
    "print(\"Best: %f using %s\" % (grid_result.best_score_, grid_result.best_params_))\n",
    "means = grid_result.cv_results_['mean_test_score']\n",
    "stds = grid_result.cv_results_['std_test_score']\n",
    "params = grid_result.cv_results_['params']\n",
    "for mean, stdev, param in zip(means, stds, params):\n",
    "    print(\"%f (%f) with: %r\" % (mean, stdev, param))"
   ]
  },
  {
   "cell_type": "code",
   "execution_count": 17,
   "metadata": {},
   "outputs": [],
   "source": [
    "# validator.best_estimator_.model returns the (unwrapped) keras model\n",
    "best_model = validator.best_estimator_.model"
   ]
  },
  {
   "cell_type": "code",
   "execution_count": 18,
   "metadata": {},
   "outputs": [],
   "source": [
    "y_pred = best_model.predict(x_test, batch_size=256)"
   ]
  },
  {
   "cell_type": "code",
   "execution_count": 19,
   "metadata": {},
   "outputs": [
    {
     "name": "stdout",
     "output_type": "stream",
     "text": [
      "\n",
      " roc_auc score: 0.973500 \n",
      "\n"
     ]
    }
   ],
   "source": [
    "score = roc_auc_score(y_test, y_pred)\n",
    "print(\"\\n roc_auc score: %.6f \\n\" % (score))"
   ]
  },
  {
   "cell_type": "code",
   "execution_count": 20,
   "metadata": {},
   "outputs": [
    {
     "name": "stdout",
     "output_type": "stream",
     "text": [
      "_________________________________________________________________\n",
      "Layer (type)                 Output Shape              Param #   \n",
      "=================================================================\n",
      "input_11 (InputLayer)        (None, 200)               0         \n",
      "_________________________________________________________________\n",
      "embedding_11 (Embedding)     (None, 200, 300)          30000000  \n",
      "_________________________________________________________________\n",
      "spatial_dropout1d_11 (Spatia (None, 200, 300)          0         \n",
      "_________________________________________________________________\n",
      "reshape_11 (Reshape)         (None, 200, 300, 1)       0         \n",
      "_________________________________________________________________\n",
      "conv2d_11 (Conv2D)           (None, 194, 1, 32)        67232     \n",
      "_________________________________________________________________\n",
      "max_pooling2d_11 (MaxPooling (None, 1, 1, 32)          0         \n",
      "_________________________________________________________________\n",
      "flatten_11 (Flatten)         (None, 32)                0         \n",
      "_________________________________________________________________\n",
      "dropout_11 (Dropout)         (None, 32)                0         \n",
      "_________________________________________________________________\n",
      "dense_11 (Dense)             (None, 6)                 198       \n",
      "=================================================================\n",
      "Total params: 30,067,430\n",
      "Trainable params: 67,430\n",
      "Non-trainable params: 30,000,000\n",
      "_________________________________________________________________\n"
     ]
    }
   ],
   "source": [
    "best_model.summary()"
   ]
  },
  {
   "cell_type": "code",
   "execution_count": null,
   "metadata": {},
   "outputs": [],
   "source": []
  }
 ],
 "metadata": {
  "kernelspec": {
   "display_name": "Python [conda env:toxic2]",
   "language": "python",
   "name": "conda-env-toxic2-py"
  },
  "language_info": {
   "codemirror_mode": {
    "name": "ipython",
    "version": 3
   },
   "file_extension": ".py",
   "mimetype": "text/x-python",
   "name": "python",
   "nbconvert_exporter": "python",
   "pygments_lexer": "ipython3",
   "version": "3.6.7"
  }
 },
 "nbformat": 4,
 "nbformat_minor": 2
}
