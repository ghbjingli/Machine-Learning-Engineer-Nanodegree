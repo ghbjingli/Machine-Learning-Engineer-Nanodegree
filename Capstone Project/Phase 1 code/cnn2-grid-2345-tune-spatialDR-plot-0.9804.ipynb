{
 "cells": [
  {
   "cell_type": "code",
   "execution_count": 1,
   "metadata": {},
   "outputs": [
    {
     "name": "stderr",
     "output_type": "stream",
     "text": [
      "Using TensorFlow backend.\n"
     ]
    }
   ],
   "source": [
    "# Import required libraries\n",
    "import numpy as np\n",
    "import pandas as pd\n",
    "np.random.seed(8)\n",
    "from sklearn.model_selection import train_test_split\n",
    "from sklearn.metrics import roc_auc_score\n",
    "\n",
    "from keras.models import Model\n",
    "from keras.layers import Input, Embedding, Dense, Conv2D, MaxPool2D, Conv1D, MaxPooling1D, GlobalMaxPooling1D \n",
    "from keras.layers import Reshape, Flatten, Concatenate, Dropout, SpatialDropout1D\n",
    "from keras.preprocessing import text, sequence\n",
    "from keras.callbacks import Callback\n",
    "\n",
    "import re\n",
    "import warnings\n",
    "warnings.filterwarnings('ignore')\n",
    "\n",
    "# Read in train and test datasets from csv files\n",
    "train = pd.read_csv('train.csv')\n",
    "test_cm = pd.read_csv('test.csv')\n",
    "test_lb = pd.read_csv('test_labels.csv')\n",
    "# Merge test comments with test labels\n",
    "test_all = pd.merge(test_cm, test_lb, on='id')\n",
    "# Remove all test entries with labels equal to -1\n",
    "test = test_all[test_all['toxic'] != -1]"
   ]
  },
  {
   "cell_type": "code",
   "execution_count": 2,
   "metadata": {},
   "outputs": [],
   "source": [
    "label_names = [\"toxic\", \"severe_toxic\", \"obscene\", \"threat\", \"insult\", \"identity_hate\"]\n",
    "X_train = train[\"comment_text\"]\n",
    "y_train = train[label_names].values\n",
    "X_test = test[\"comment_text\"]\n",
    "y_test = test[label_names].values"
   ]
  },
  {
   "cell_type": "code",
   "execution_count": 3,
   "metadata": {},
   "outputs": [],
   "source": [
    "# Define vocabulary size\n",
    "vocab = 100000\n",
    "# Define maximum length of a comment\n",
    "maxlen = 200\n",
    "# Define embedding size which should equal the embedding size of the pre-trained word vectors\n",
    "embed_size = 300"
   ]
  },
  {
   "cell_type": "code",
   "execution_count": 4,
   "metadata": {},
   "outputs": [],
   "source": [
    "# Removing ip address\n",
    "X_train = X_train.apply(lambda x: re.sub(\"(?:[0-9]{1,3}\\.){3}[0-9]{1,3}\",\"\",x))\n",
    "X_test = X_test.apply(lambda x: re.sub(\"(?:[0-9]{1,3}\\.){3}[0-9]{1,3}\",\"\",x))\n",
    "# Removing url link\n",
    "X_train = X_train.apply(lambda x: re.sub(\"http://.*com\",\"\",x))\n",
    "X_test = X_test.apply(lambda x: re.sub(\"http://.*com\",\"\",x))\n",
    "# Removing username\n",
    "X_train = X_train.apply(lambda x: re.sub(\"\\[\\[.*\\]\",\"\",x))\n",
    "X_test = X_test.apply(lambda x: re.sub(\"\\[\\[.*\\]\",\"\",x))"
   ]
  },
  {
   "cell_type": "code",
   "execution_count": 5,
   "metadata": {},
   "outputs": [],
   "source": [
    "# Filter out stop words\n",
    "from nltk.corpus import stopwords\n",
    "\n",
    "def filter_stop_words(sentences, stop_words):\n",
    "    filtered = []\n",
    "    for sentence in sentences:\n",
    "        words = sentence.split()\n",
    "        words_filtered = [word for word in words if word not in stop_words]\n",
    "        filtered.append(\" \".join(words_filtered))\n",
    "    return filtered\n",
    " \n",
    "stop_words = set(stopwords.words(\"english\"))\n",
    " \n",
    "# Comments in train\n",
    "X_train_ = filter_stop_words(X_train, stop_words)\n",
    " \n",
    "# Comments in test (excluding labels with -1 values)\n",
    "X_test_ = filter_stop_words(X_test, stop_words)"
   ]
  },
  {
   "cell_type": "code",
   "execution_count": 6,
   "metadata": {},
   "outputs": [],
   "source": [
    "# Tokenize the train dataset\n",
    "t = text.Tokenizer(num_words=vocab)\n",
    "t.fit_on_texts(list(X_train_))"
   ]
  },
  {
   "cell_type": "code",
   "execution_count": 7,
   "metadata": {},
   "outputs": [],
   "source": [
    "# Convert both train and test datasets into sequences\n",
    "X_train = t.texts_to_sequences(X_train_)\n",
    "X_test = t.texts_to_sequences(X_test_)\n",
    "x_train = sequence.pad_sequences(X_train, maxlen=maxlen)\n",
    "x_test = sequence.pad_sequences(X_test, maxlen=maxlen)"
   ]
  },
  {
   "cell_type": "code",
   "execution_count": 8,
   "metadata": {},
   "outputs": [
    {
     "name": "stdout",
     "output_type": "stream",
     "text": [
      "Loaded 2000000 pre-trained words\n"
     ]
    }
   ],
   "source": [
    "# Load pre-trained word vectors\n",
    "EMBEDDING_FILE = 'crawl-300d-2M.vec'\n",
    "embeddings_index = dict()\n",
    "f = open(EMBEDDING_FILE)\n",
    "for line in f:\n",
    "    values = line.split()\n",
    "    word = values[0]\n",
    "    coefs = np.asarray(values[1:], dtype='float32')\n",
    "    embeddings_index[word] = coefs\n",
    "f.close()\n",
    "print('Loaded %s pre-trained words' % len(embeddings_index))"
   ]
  },
  {
   "cell_type": "code",
   "execution_count": 9,
   "metadata": {},
   "outputs": [],
   "source": [
    "# Create a weight matrix for words in training docs\n",
    "embedding_matrix = np.zeros((vocab, embed_size))\n",
    "for word, i in t.word_index.items():\n",
    "    if i >= vocab: \n",
    "        continue\n",
    "    embedding_vector = embeddings_index.get(word)\n",
    "    if embedding_vector is not None:\n",
    "        embedding_matrix[i] = embedding_vector"
   ]
  },
  {
   "cell_type": "code",
   "execution_count": 10,
   "metadata": {
    "scrolled": true
   },
   "outputs": [
    {
     "name": "stdout",
     "output_type": "stream",
     "text": [
      "_________________________________________________________________\n",
      "Layer (type)                 Output Shape              Param #   \n",
      "=================================================================\n",
      "input_1 (InputLayer)         (None, 200)               0         \n",
      "_________________________________________________________________\n",
      "embedding_1 (Embedding)      (None, 200, 300)          30000000  \n",
      "_________________________________________________________________\n",
      "spatial_dropout1d_1 (Spatial (None, 200, 300)          0         \n",
      "_________________________________________________________________\n",
      "reshape_1 (Reshape)          (None, 200, 300, 1)       0         \n",
      "_________________________________________________________________\n",
      "conv2d_1 (Conv2D)            (None, 194, 1, 100)       210100    \n",
      "_________________________________________________________________\n",
      "max_pooling2d_1 (MaxPooling2 (None, 1, 1, 100)         0         \n",
      "_________________________________________________________________\n",
      "flatten_1 (Flatten)          (None, 100)               0         \n",
      "_________________________________________________________________\n",
      "dropout_1 (Dropout)          (None, 100)               0         \n",
      "_________________________________________________________________\n",
      "dense_1 (Dense)              (None, 6)                 606       \n",
      "=================================================================\n",
      "Total params: 30,210,706\n",
      "Trainable params: 210,706\n",
      "Non-trainable params: 30,000,000\n",
      "_________________________________________________________________\n"
     ]
    }
   ],
   "source": [
    "# Define make_model function to create a CNN model\n",
    "def make_model(k=[7], activation='relu', filters=100, Sdroprate=0.5, droprate=0.0):\n",
    "\n",
    "    inp = Input(shape=(maxlen, ))\n",
    "    x = Embedding(vocab, embed_size, weights=[embedding_matrix], input_length=maxlen, trainable=False)(inp)\n",
    "    x = SpatialDropout1D(Sdroprate)(x)\n",
    "    x = Reshape((maxlen, embed_size, 1))(x)\n",
    "    \n",
    "    conv = dict()\n",
    "    maxpool = dict()\n",
    "    for h in k:\n",
    "        conv[h] = Conv2D(filters, kernel_size=(h, embed_size), activation=activation)(x)\n",
    "        maxpool[h] = MaxPool2D(pool_size=(maxlen - h + 1, 1))(conv[h])\n",
    "        \n",
    "    if len(k) == 1:\n",
    "        y = maxpool[h]\n",
    "    else:\n",
    "        y = Concatenate(axis=1)([pool for key,pool in maxpool.items()])\n",
    "    \n",
    "    y = Flatten()(y)\n",
    "    y = Dropout(droprate)(y)\n",
    "\n",
    "    outp = Dense(6, activation=\"sigmoid\")(y)\n",
    "\n",
    "    model = Model(inputs=inp, outputs=outp)\n",
    "    model.compile(loss='binary_crossentropy', optimizer='adam', metrics=['accuracy'])\n",
    "    \n",
    "    return model\n",
    "# Generate the model based on the default parameters\n",
    "model = make_model()\n",
    "# Print out the model summary\n",
    "model.summary()"
   ]
  },
  {
   "cell_type": "code",
   "execution_count": 11,
   "metadata": {},
   "outputs": [],
   "source": [
    "# Define tuning parameters\n",
    "param_grid={'k': [[2,3,4,5]], \n",
    "            'activation': ['tanh'],\n",
    "            'filters': [32],\n",
    "            'Sdroprate':[0.0,0.1,0.2,0.3,0.4,0.5,0.6],\n",
    "            'droprate': [0.1],\n",
    "            'epochs': [5],\n",
    "            'batch_size': [256]}\n",
    "# Define the cross validation split\n",
    "from sklearn.model_selection import ShuffleSplit\n",
    "cv = ShuffleSplit(n_splits = 1, test_size = 0.1)\n",
    "# Define metric for scoring\n",
    "scoring = {'AUC': 'roc_auc'}"
   ]
  },
  {
   "cell_type": "code",
   "execution_count": 12,
   "metadata": {},
   "outputs": [],
   "source": [
    "# Wrap Keras model with KerasClassifier so that it can be used in Sklearn GridSearchCV\n",
    "# Generate a GridSearchCV instance with the parameters to be tuned\n",
    "# This is a starting model and we try to check which activation function performs better\n",
    "\n",
    "from sklearn.model_selection import GridSearchCV\n",
    "from keras.wrappers.scikit_learn import KerasClassifier\n",
    "my_classifier = KerasClassifier(make_model, verbose=1)\n",
    "\n",
    "validator = GridSearchCV(my_classifier, return_train_score=True, param_grid=param_grid,\n",
    "                        cv = cv, scoring = scoring, refit='AUC', verbose=10)"
   ]
  },
  {
   "cell_type": "code",
   "execution_count": 13,
   "metadata": {},
   "outputs": [
    {
     "name": "stdout",
     "output_type": "stream",
     "text": [
      "Fitting 1 folds for each of 7 candidates, totalling 7 fits\n",
      "[CV] Sdroprate=0.0, activation=tanh, batch_size=256, droprate=0.1, epochs=5, filters=32, k=[2, 3, 4, 5] \n"
     ]
    },
    {
     "name": "stderr",
     "output_type": "stream",
     "text": [
      "[Parallel(n_jobs=1)]: Using backend SequentialBackend with 1 concurrent workers.\n"
     ]
    },
    {
     "name": "stdout",
     "output_type": "stream",
     "text": [
      "Epoch 1/5\n",
      "143613/143613 [==============================] - 449s 3ms/step - loss: 0.0786 - acc: 0.9756\n",
      "Epoch 2/5\n",
      "143613/143613 [==============================] - 448s 3ms/step - loss: 0.0452 - acc: 0.9828\n",
      "Epoch 3/5\n",
      "143613/143613 [==============================] - 444s 3ms/step - loss: 0.0409 - acc: 0.9841\n",
      "Epoch 4/5\n",
      "143613/143613 [==============================] - 443s 3ms/step - loss: 0.0375 - acc: 0.9853\n",
      "Epoch 5/5\n",
      "143613/143613 [==============================] - 443s 3ms/step - loss: 0.0348 - acc: 0.9863\n",
      "15958/15958 [==============================] - 14s 900us/step\n",
      "143613/143613 [==============================] - 127s 886us/step\n",
      "[CV]  Sdroprate=0.0, activation=tanh, batch_size=256, droprate=0.1, epochs=5, filters=32, k=[2, 3, 4, 5], AUC=0.9883269583403326, total=37.4min\n",
      "[CV] Sdroprate=0.1, activation=tanh, batch_size=256, droprate=0.1, epochs=5, filters=32, k=[2, 3, 4, 5] \n"
     ]
    },
    {
     "name": "stderr",
     "output_type": "stream",
     "text": [
      "[Parallel(n_jobs=1)]: Done   1 out of   1 | elapsed: 39.5min remaining:    0.0s\n"
     ]
    },
    {
     "name": "stdout",
     "output_type": "stream",
     "text": [
      "Epoch 1/5\n",
      "143613/143613 [==============================] - 493s 3ms/step - loss: 0.0797 - acc: 0.9747\n",
      "Epoch 2/5\n",
      "143613/143613 [==============================] - 491s 3ms/step - loss: 0.0465 - acc: 0.9823\n",
      "Epoch 3/5\n",
      "143613/143613 [==============================] - 490s 3ms/step - loss: 0.0426 - acc: 0.9835\n",
      "Epoch 4/5\n",
      "143613/143613 [==============================] - 490s 3ms/step - loss: 0.0398 - acc: 0.9844\n",
      "Epoch 5/5\n",
      "143613/143613 [==============================] - 495s 3ms/step - loss: 0.0375 - acc: 0.9853\n",
      "15958/15958 [==============================] - 15s 927us/step\n",
      "143613/143613 [==============================] - 131s 914us/step\n",
      "[CV]  Sdroprate=0.1, activation=tanh, batch_size=256, droprate=0.1, epochs=5, filters=32, k=[2, 3, 4, 5], AUC=0.9889986649334404, total=41.3min\n",
      "[CV] Sdroprate=0.2, activation=tanh, batch_size=256, droprate=0.1, epochs=5, filters=32, k=[2, 3, 4, 5] \n"
     ]
    },
    {
     "name": "stderr",
     "output_type": "stream",
     "text": [
      "[Parallel(n_jobs=1)]: Done   2 out of   2 | elapsed: 83.0min remaining:    0.0s\n"
     ]
    },
    {
     "name": "stdout",
     "output_type": "stream",
     "text": [
      "Epoch 1/5\n",
      "143613/143613 [==============================] - 496s 3ms/step - loss: 0.0807 - acc: 0.9743\n",
      "Epoch 2/5\n",
      "143613/143613 [==============================] - 496s 3ms/step - loss: 0.0481 - acc: 0.9819\n",
      "Epoch 3/5\n",
      "143613/143613 [==============================] - 495s 3ms/step - loss: 0.0443 - acc: 0.9830\n",
      "Epoch 4/5\n",
      "143613/143613 [==============================] - 494s 3ms/step - loss: 0.0421 - acc: 0.9836\n",
      "Epoch 5/5\n",
      "143613/143613 [==============================] - 492s 3ms/step - loss: 0.0402 - acc: 0.9843\n",
      "15958/15958 [==============================] - 15s 916us/step\n",
      "143613/143613 [==============================] - 128s 893us/step\n",
      "[CV]  Sdroprate=0.2, activation=tanh, batch_size=256, droprate=0.1, epochs=5, filters=32, k=[2, 3, 4, 5], AUC=0.9887093050219863, total=41.5min\n",
      "[CV] Sdroprate=0.3, activation=tanh, batch_size=256, droprate=0.1, epochs=5, filters=32, k=[2, 3, 4, 5] \n"
     ]
    },
    {
     "name": "stderr",
     "output_type": "stream",
     "text": [
      "[Parallel(n_jobs=1)]: Done   3 out of   3 | elapsed: 126.6min remaining:    0.0s\n"
     ]
    },
    {
     "name": "stdout",
     "output_type": "stream",
     "text": [
      "Epoch 1/5\n",
      "143613/143613 [==============================] - 495s 3ms/step - loss: 0.0823 - acc: 0.9743\n",
      "Epoch 2/5\n",
      "143613/143613 [==============================] - 493s 3ms/step - loss: 0.0495 - acc: 0.9815\n",
      "Epoch 3/5\n",
      "143613/143613 [==============================] - 498s 3ms/step - loss: 0.0457 - acc: 0.9825\n",
      "Epoch 4/5\n",
      "143613/143613 [==============================] - 497s 3ms/step - loss: 0.0437 - acc: 0.9831\n",
      "Epoch 5/5\n",
      "143613/143613 [==============================] - 495s 3ms/step - loss: 0.0420 - acc: 0.9838\n",
      "15958/15958 [==============================] - 16s 986us/step\n",
      "143613/143613 [==============================] - 137s 951us/step\n",
      "[CV]  Sdroprate=0.3, activation=tanh, batch_size=256, droprate=0.1, epochs=5, filters=32, k=[2, 3, 4, 5], AUC=0.9882949189301989, total=41.6min\n",
      "[CV] Sdroprate=0.4, activation=tanh, batch_size=256, droprate=0.1, epochs=5, filters=32, k=[2, 3, 4, 5] \n"
     ]
    },
    {
     "name": "stderr",
     "output_type": "stream",
     "text": [
      "[Parallel(n_jobs=1)]: Done   4 out of   4 | elapsed: 170.5min remaining:    0.0s\n"
     ]
    },
    {
     "name": "stdout",
     "output_type": "stream",
     "text": [
      "Epoch 1/5\n",
      "143613/143613 [==============================] - 497s 3ms/step - loss: 0.0806 - acc: 0.9752\n",
      "Epoch 2/5\n",
      "143613/143613 [==============================] - 495s 3ms/step - loss: 0.0506 - acc: 0.9812\n",
      "Epoch 3/5\n",
      "143613/143613 [==============================] - 493s 3ms/step - loss: 0.0471 - acc: 0.9822\n",
      "Epoch 4/5\n",
      "143613/143613 [==============================] - 492s 3ms/step - loss: 0.0452 - acc: 0.9827\n",
      "Epoch 5/5\n",
      "143613/143613 [==============================] - 491s 3ms/step - loss: 0.0438 - acc: 0.9832\n",
      "15958/15958 [==============================] - 14s 903us/step\n",
      "143613/143613 [==============================] - 127s 885us/step\n",
      "[CV]  Sdroprate=0.4, activation=tanh, batch_size=256, droprate=0.1, epochs=5, filters=32, k=[2, 3, 4, 5], AUC=0.9884332795160112, total=41.4min\n",
      "[CV] Sdroprate=0.5, activation=tanh, batch_size=256, droprate=0.1, epochs=5, filters=32, k=[2, 3, 4, 5] \n"
     ]
    },
    {
     "name": "stderr",
     "output_type": "stream",
     "text": [
      "[Parallel(n_jobs=1)]: Done   5 out of   5 | elapsed: 214.0min remaining:    0.0s\n"
     ]
    },
    {
     "name": "stdout",
     "output_type": "stream",
     "text": [
      "Epoch 1/5\n",
      "143613/143613 [==============================] - 491s 3ms/step - loss: 0.0828 - acc: 0.9747\n",
      "Epoch 2/5\n",
      "143613/143613 [==============================] - 492s 3ms/step - loss: 0.0531 - acc: 0.9805\n",
      "Epoch 3/5\n",
      "143613/143613 [==============================] - 492s 3ms/step - loss: 0.0498 - acc: 0.9812\n",
      "Epoch 4/5\n",
      "143613/143613 [==============================] - 492s 3ms/step - loss: 0.0480 - acc: 0.9818\n",
      "Epoch 5/5\n",
      "143613/143613 [==============================] - 489s 3ms/step - loss: 0.0466 - acc: 0.9824\n",
      "15958/15958 [==============================] - 14s 900us/step\n",
      "143613/143613 [==============================] - 125s 873us/step\n",
      "[CV]  Sdroprate=0.5, activation=tanh, batch_size=256, droprate=0.1, epochs=5, filters=32, k=[2, 3, 4, 5], AUC=0.9877572276781064, total=41.2min\n",
      "[CV] Sdroprate=0.6, activation=tanh, batch_size=256, droprate=0.1, epochs=5, filters=32, k=[2, 3, 4, 5] \n"
     ]
    },
    {
     "name": "stderr",
     "output_type": "stream",
     "text": [
      "[Parallel(n_jobs=1)]: Done   6 out of   6 | elapsed: 257.3min remaining:    0.0s\n"
     ]
    },
    {
     "name": "stdout",
     "output_type": "stream",
     "text": [
      "Epoch 1/5\n",
      "143613/143613 [==============================] - 489s 3ms/step - loss: 0.0863 - acc: 0.9735\n",
      "Epoch 2/5\n",
      "143613/143613 [==============================] - 486s 3ms/step - loss: 0.0559 - acc: 0.9798\n",
      "Epoch 3/5\n",
      "143613/143613 [==============================] - 487s 3ms/step - loss: 0.0524 - acc: 0.9805\n",
      "Epoch 4/5\n",
      "143613/143613 [==============================] - 487s 3ms/step - loss: 0.0508 - acc: 0.9811\n",
      "Epoch 5/5\n",
      "143613/143613 [==============================] - 486s 3ms/step - loss: 0.0499 - acc: 0.9812\n",
      "15958/15958 [==============================] - 15s 915us/step\n",
      "143613/143613 [==============================] - 128s 889us/step\n",
      "[CV]  Sdroprate=0.6, activation=tanh, batch_size=256, droprate=0.1, epochs=5, filters=32, k=[2, 3, 4, 5], AUC=0.9873502917723394, total=40.9min\n"
     ]
    },
    {
     "name": "stderr",
     "output_type": "stream",
     "text": [
      "[Parallel(n_jobs=1)]: Done   7 out of   7 | elapsed: 300.3min remaining:    0.0s\n",
      "[Parallel(n_jobs=1)]: Done   7 out of   7 | elapsed: 300.3min finished\n"
     ]
    },
    {
     "name": "stdout",
     "output_type": "stream",
     "text": [
      "Epoch 1/5\n",
      "159571/159571 [==============================] - 546s 3ms/step - loss: 0.0748 - acc: 0.9764\n",
      "Epoch 2/5\n",
      "159571/159571 [==============================] - 538s 3ms/step - loss: 0.0459 - acc: 0.9825\n",
      "Epoch 3/5\n",
      "159571/159571 [==============================] - 538s 3ms/step - loss: 0.0420 - acc: 0.9837\n",
      "Epoch 4/5\n",
      "159571/159571 [==============================] - 542s 3ms/step - loss: 0.0394 - acc: 0.9846\n",
      "Epoch 5/5\n",
      "159571/159571 [==============================] - 542s 3ms/step - loss: 0.0372 - acc: 0.9854\n"
     ]
    }
   ],
   "source": [
    "# Run the Grid Search\n",
    "grid_result = validator.fit(x_train, y_train)"
   ]
  },
  {
   "cell_type": "code",
   "execution_count": 14,
   "metadata": {},
   "outputs": [
    {
     "name": "stdout",
     "output_type": "stream",
     "text": [
      "Best score: 0.988999 with {'Sdroprate': 0.1, 'activation': 'tanh', 'batch_size': 256, 'droprate': 0.1, 'epochs': 5, 'filters': 32, 'k': [2, 3, 4, 5]}\n",
      "0.988327 (0.000000) with: {'Sdroprate': 0.0, 'activation': 'tanh', 'batch_size': 256, 'droprate': 0.1, 'epochs': 5, 'filters': 32, 'k': [2, 3, 4, 5]}\n",
      "0.988999 (0.000000) with: {'Sdroprate': 0.1, 'activation': 'tanh', 'batch_size': 256, 'droprate': 0.1, 'epochs': 5, 'filters': 32, 'k': [2, 3, 4, 5]}\n",
      "0.988709 (0.000000) with: {'Sdroprate': 0.2, 'activation': 'tanh', 'batch_size': 256, 'droprate': 0.1, 'epochs': 5, 'filters': 32, 'k': [2, 3, 4, 5]}\n",
      "0.988295 (0.000000) with: {'Sdroprate': 0.3, 'activation': 'tanh', 'batch_size': 256, 'droprate': 0.1, 'epochs': 5, 'filters': 32, 'k': [2, 3, 4, 5]}\n",
      "0.988433 (0.000000) with: {'Sdroprate': 0.4, 'activation': 'tanh', 'batch_size': 256, 'droprate': 0.1, 'epochs': 5, 'filters': 32, 'k': [2, 3, 4, 5]}\n",
      "0.987757 (0.000000) with: {'Sdroprate': 0.5, 'activation': 'tanh', 'batch_size': 256, 'droprate': 0.1, 'epochs': 5, 'filters': 32, 'k': [2, 3, 4, 5]}\n",
      "0.987350 (0.000000) with: {'Sdroprate': 0.6, 'activation': 'tanh', 'batch_size': 256, 'droprate': 0.1, 'epochs': 5, 'filters': 32, 'k': [2, 3, 4, 5]}\n"
     ]
    }
   ],
   "source": [
    "print(\"Best score: %f with %s\" % (grid_result.best_score_, grid_result.best_params_))\n",
    "means = grid_result.cv_results_['mean_test_AUC']\n",
    "stds = grid_result.cv_results_['std_test_AUC']\n",
    "params = grid_result.cv_results_['params']\n",
    "for mean, stdev, param in zip(means, stds, params):\n",
    "    print(\"%f (%f) with: %r\" % (mean, stdev, param))\n",
    "# Get the best model\n",
    "best_model = validator.best_estimator_.model"
   ]
  },
  {
   "cell_type": "code",
   "execution_count": 15,
   "metadata": {},
   "outputs": [
    {
     "data": {
      "text/plain": [
       "{'mean_fit_time': array([2228.06328797, 2461.1624229 , 2475.5566678 , 2479.56508398,\n",
       "        2470.45629001, 2457.92417383, 2436.74005413]),\n",
       " 'std_fit_time': array([0., 0., 0., 0., 0., 0., 0.]),\n",
       " 'mean_score_time': array([14.39058304, 14.81417608, 14.63766813, 15.76386595, 14.42956424,\n",
       "        14.39026713, 14.62878275]),\n",
       " 'std_score_time': array([0., 0., 0., 0., 0., 0., 0.]),\n",
       " 'param_Sdroprate': masked_array(data=[0.0, 0.1, 0.2, 0.3, 0.4, 0.5, 0.6],\n",
       "              mask=[False, False, False, False, False, False, False],\n",
       "        fill_value='?',\n",
       "             dtype=object),\n",
       " 'param_activation': masked_array(data=['tanh', 'tanh', 'tanh', 'tanh', 'tanh', 'tanh', 'tanh'],\n",
       "              mask=[False, False, False, False, False, False, False],\n",
       "        fill_value='?',\n",
       "             dtype=object),\n",
       " 'param_batch_size': masked_array(data=[256, 256, 256, 256, 256, 256, 256],\n",
       "              mask=[False, False, False, False, False, False, False],\n",
       "        fill_value='?',\n",
       "             dtype=object),\n",
       " 'param_droprate': masked_array(data=[0.1, 0.1, 0.1, 0.1, 0.1, 0.1, 0.1],\n",
       "              mask=[False, False, False, False, False, False, False],\n",
       "        fill_value='?',\n",
       "             dtype=object),\n",
       " 'param_epochs': masked_array(data=[5, 5, 5, 5, 5, 5, 5],\n",
       "              mask=[False, False, False, False, False, False, False],\n",
       "        fill_value='?',\n",
       "             dtype=object),\n",
       " 'param_filters': masked_array(data=[32, 32, 32, 32, 32, 32, 32],\n",
       "              mask=[False, False, False, False, False, False, False],\n",
       "        fill_value='?',\n",
       "             dtype=object),\n",
       " 'param_k': masked_array(data=[list([2, 3, 4, 5]), list([2, 3, 4, 5]),\n",
       "                    list([2, 3, 4, 5]), list([2, 3, 4, 5]),\n",
       "                    list([2, 3, 4, 5]), list([2, 3, 4, 5]),\n",
       "                    list([2, 3, 4, 5])],\n",
       "              mask=[False, False, False, False, False, False, False],\n",
       "        fill_value='?',\n",
       "             dtype=object),\n",
       " 'params': [{'Sdroprate': 0.0,\n",
       "   'activation': 'tanh',\n",
       "   'batch_size': 256,\n",
       "   'droprate': 0.1,\n",
       "   'epochs': 5,\n",
       "   'filters': 32,\n",
       "   'k': [2, 3, 4, 5]},\n",
       "  {'Sdroprate': 0.1,\n",
       "   'activation': 'tanh',\n",
       "   'batch_size': 256,\n",
       "   'droprate': 0.1,\n",
       "   'epochs': 5,\n",
       "   'filters': 32,\n",
       "   'k': [2, 3, 4, 5]},\n",
       "  {'Sdroprate': 0.2,\n",
       "   'activation': 'tanh',\n",
       "   'batch_size': 256,\n",
       "   'droprate': 0.1,\n",
       "   'epochs': 5,\n",
       "   'filters': 32,\n",
       "   'k': [2, 3, 4, 5]},\n",
       "  {'Sdroprate': 0.3,\n",
       "   'activation': 'tanh',\n",
       "   'batch_size': 256,\n",
       "   'droprate': 0.1,\n",
       "   'epochs': 5,\n",
       "   'filters': 32,\n",
       "   'k': [2, 3, 4, 5]},\n",
       "  {'Sdroprate': 0.4,\n",
       "   'activation': 'tanh',\n",
       "   'batch_size': 256,\n",
       "   'droprate': 0.1,\n",
       "   'epochs': 5,\n",
       "   'filters': 32,\n",
       "   'k': [2, 3, 4, 5]},\n",
       "  {'Sdroprate': 0.5,\n",
       "   'activation': 'tanh',\n",
       "   'batch_size': 256,\n",
       "   'droprate': 0.1,\n",
       "   'epochs': 5,\n",
       "   'filters': 32,\n",
       "   'k': [2, 3, 4, 5]},\n",
       "  {'Sdroprate': 0.6,\n",
       "   'activation': 'tanh',\n",
       "   'batch_size': 256,\n",
       "   'droprate': 0.1,\n",
       "   'epochs': 5,\n",
       "   'filters': 32,\n",
       "   'k': [2, 3, 4, 5]}],\n",
       " 'split0_test_AUC': array([0.98832696, 0.98899866, 0.98870931, 0.98829492, 0.98843328,\n",
       "        0.98775723, 0.98735029]),\n",
       " 'mean_test_AUC': array([0.98832696, 0.98899866, 0.98870931, 0.98829492, 0.98843328,\n",
       "        0.98775723, 0.98735029]),\n",
       " 'std_test_AUC': array([0., 0., 0., 0., 0., 0., 0.]),\n",
       " 'rank_test_AUC': array([4, 1, 2, 5, 3, 6, 7], dtype=int32),\n",
       " 'split0_train_AUC': array([0.99439403, 0.99366313, 0.99286275, 0.99167434, 0.99052871,\n",
       "        0.98925772, 0.98791811]),\n",
       " 'mean_train_AUC': array([0.99439403, 0.99366313, 0.99286275, 0.99167434, 0.99052871,\n",
       "        0.98925772, 0.98791811]),\n",
       " 'std_train_AUC': array([0., 0., 0., 0., 0., 0., 0.])}"
      ]
     },
     "execution_count": 15,
     "metadata": {},
     "output_type": "execute_result"
    }
   ],
   "source": [
    "grid_result.cv_results_"
   ]
  },
  {
   "cell_type": "code",
   "execution_count": 16,
   "metadata": {},
   "outputs": [],
   "source": [
    "# Perform prediction with unseen test dataset with the best model\n",
    "y_pred = best_model.predict(x_test, batch_size=256)"
   ]
  },
  {
   "cell_type": "code",
   "execution_count": 17,
   "metadata": {
    "scrolled": true
   },
   "outputs": [
    {
     "name": "stdout",
     "output_type": "stream",
     "text": [
      "\n",
      " roc_auc score for keras model: 0.980426 \n",
      "\n"
     ]
    }
   ],
   "source": [
    "# Calculate the roc_auc score\n",
    "from sklearn.metrics import roc_auc_score\n",
    "score = roc_auc_score(y_test, y_pred)\n",
    "print(\"\\n roc_auc score for keras model: %.6f \\n\" % (score))"
   ]
  },
  {
   "cell_type": "code",
   "execution_count": 19,
   "metadata": {},
   "outputs": [
    {
     "name": "stdout",
     "output_type": "stream",
     "text": [
      "0.011620144795391751\n",
      "0.0092458195839196\n",
      "0.21951102\n"
     ]
    },
    {
     "data": {
      "text/plain": [
       "<Figure size 720x576 with 0 Axes>"
      ]
     },
     "metadata": {},
     "output_type": "display_data"
    },
    {
     "data": {
      "image/png": "[encoded data removed]",
      "text/plain": [
       "<Figure size 720x576 with 1 Axes>"
      ]
     },
     "metadata": {
      "needs_background": "light"
     },
     "output_type": "display_data"
    }
   ],
   "source": [
    "label_names = [\"toxic\", \"severe_toxic\", \"obscene\", \"threat\", \"insult\", \"identity_hate\"]\n",
    "# Compute ROC curves and AUCs for test\n",
    "from sklearn.metrics import roc_curve, auc\n",
    "from scipy import interp\n",
    "\n",
    "# Compute false positive rate (fpr), true positive rate (tpr) and area under the curves (rocauc)\n",
    "fpr = dict()\n",
    "tpr = dict()\n",
    "thr = dict()\n",
    "rocauc = dict()\n",
    "for i in range(y_test.shape[1]):\n",
    "    fpr[i], tpr[i], thr[i] = roc_curve(y_test[:, i], y_pred[:, i])\n",
    "    rocauc[i] = auc(fpr[i], tpr[i])\n",
    "\n",
    "# Compute micro-average ROC curve and ROC area\n",
    "fpr[\"micro\"], tpr[\"micro\"], thr[\"micro\"] = roc_curve(y_test.ravel(), y_pred.ravel())\n",
    "rocauc[\"micro\"] = auc(fpr[\"micro\"], tpr[\"micro\"])\n",
    "\n",
    "# Compute Macro-average ROC curve and ROC area\n",
    "# First aggregate all false positive rates\n",
    "all_fpr = np.unique(np.concatenate([fpr[i] for i in range(y_test.shape[1])]))\n",
    "\n",
    "# Then interpolate all ROC curves at this points\n",
    "mean_tpr = np.zeros_like(all_fpr)\n",
    "for i in range(y_test.shape[1]):\n",
    "    mean_tpr += interp(all_fpr, fpr[i], tpr[i])\n",
    "\n",
    "# Finally average it and compute AUC\n",
    "mean_tpr /= y_test.shape[1]\n",
    "\n",
    "# Then interpolate all ROC curves at this points\n",
    "mean_thr = np.zeros_like(all_fpr)\n",
    "for i in range(y_test.shape[1]):\n",
    "    mean_thr += interp(all_fpr, fpr[i], thr[i])\n",
    "\n",
    "# Finally average it and compute AUC\n",
    "mean_thr /= y_test.shape[1]\n",
    "\n",
    "fpr[\"macro\"] = all_fpr\n",
    "tpr[\"macro\"] = mean_tpr\n",
    "thr[\"macro\"] = mean_thr\n",
    "rocauc[\"macro\"] = auc(fpr[\"macro\"], tpr[\"macro\"])\n",
    "\n",
    "# to increase tpr, you also increase fpr. It is a trade off between the two.\n",
    "# Business requirement determine which one is more important\n",
    "# We can calculate the cutoff to garantee a minimum tpr or a maximum fpr\n",
    "# We see here that to increase tpr, we need to lower threshold\n",
    "# to decrease fpr, we need to increase threshold\n",
    "\n",
    "# index of the first threshold for which the sensitivity > 0.98\n",
    "idx1 = np.min(np.where(tpr[\"macro\"] > 0.99)) \n",
    "# index of the first threshold for which the fall out < 0.20\n",
    "idx2 = np.max(np.where(fpr[\"macro\"] < 0.20)) \n",
    "# index of the first threshold for which the fall out < 0.10\n",
    "idx3 = np.max(np.where(fpr[0] < 0.10)) \n",
    "\n",
    "print(thr[\"macro\"][idx1])\n",
    "print(thr[\"macro\"][idx2])\n",
    "print(thr[0][idx3])\n",
    "\n",
    "# Plot all ROC curves\n",
    "import matplotlib.pyplot as plt\n",
    "%matplotlib inline\n",
    "from itertools import cycle\n",
    "\n",
    "plt.figure(figsize=(10,8))\n",
    "lw = 2\n",
    "\n",
    "plt.figure(figsize=(10,8))\n",
    "plt.plot(fpr[\"micro\"], tpr[\"micro\"],\n",
    "         label='micro-average ROC curve (area = {0:0.4f})'\n",
    "               ''.format(rocauc[\"micro\"]),\n",
    "         color='deeppink', linestyle=':', linewidth=4)\n",
    "\n",
    "plt.plot(fpr[\"macro\"], tpr[\"macro\"],\n",
    "         label='macro-average ROC curve (area = {0:0.4f})'\n",
    "               ''.format(rocauc[\"macro\"]),\n",
    "         color='navy', linestyle=':', linewidth=4)\n",
    "\n",
    "plt.plot([0,fpr[\"macro\"][idx1]], [tpr[\"macro\"][idx1],tpr[\"macro\"][idx1]], 'k--', color='blue')\n",
    "plt.plot([fpr[\"macro\"][idx1],fpr[\"macro\"][idx1]], [0,tpr[\"macro\"][idx1]], 'k--', color='blue')\n",
    "\n",
    "plt.plot([0,fpr[\"macro\"][idx2]], [tpr[\"macro\"][idx2],tpr[\"macro\"][idx2]], 'k--', color='red')\n",
    "plt.plot([fpr[\"macro\"][idx2],fpr[\"macro\"][idx2]], [0,tpr[\"macro\"][idx2]], 'k--', color='red')\n",
    "\n",
    "plt.plot([0,fpr[0][idx3]], [tpr[0][idx3],tpr[0][idx3]], 'k--', color='green')\n",
    "plt.plot([fpr[0][idx3],fpr[0][idx3]], [0,tpr[0][idx3]], 'k--', color='green')\n",
    "\n",
    "colors = cycle(['aqua', 'darkorange', 'cornflowerblue'])\n",
    "for i, color in zip(range(y_test.shape[1]), colors):\n",
    "    plt.plot(fpr[i], tpr[i], color=color, lw=lw,\n",
    "             label='ROC curve of {0} (area = {1:0.4f})'\n",
    "             ''.format(label_names[i], rocauc[i]))\n",
    "\n",
    "plt.plot([0, 1], [0, 1], 'k--', lw=lw)\n",
    "plt.xlim([0.0, 1.0])\n",
    "plt.ylim([0.0, 1.05])\n",
    "plt.xlabel('False Positive Rate')\n",
    "plt.ylabel('True Positive Rate')\n",
    "plt.title('ROC Curves and Areas under the Curves')\n",
    "plt.legend(loc=\"lower right\")\n",
    "plt.show()"
   ]
  },
  {
   "cell_type": "code",
   "execution_count": 20,
   "metadata": {},
   "outputs": [
    {
     "name": "stdout",
     "output_type": "stream",
     "text": [
      "__________________________________________________________________________________________________\n",
      "Layer (type)                    Output Shape         Param #     Connected to                     \n",
      "==================================================================================================\n",
      "input_9 (InputLayer)            (None, 200)          0                                            \n",
      "__________________________________________________________________________________________________\n",
      "embedding_9 (Embedding)         (None, 200, 300)     30000000    input_9[0][0]                    \n",
      "__________________________________________________________________________________________________\n",
      "spatial_dropout1d_9 (SpatialDro (None, 200, 300)     0           embedding_9[0][0]                \n",
      "__________________________________________________________________________________________________\n",
      "reshape_9 (Reshape)             (None, 200, 300, 1)  0           spatial_dropout1d_9[0][0]        \n",
      "__________________________________________________________________________________________________\n",
      "conv2d_30 (Conv2D)              (None, 199, 1, 32)   19232       reshape_9[0][0]                  \n",
      "__________________________________________________________________________________________________\n",
      "conv2d_31 (Conv2D)              (None, 198, 1, 32)   28832       reshape_9[0][0]                  \n",
      "__________________________________________________________________________________________________\n",
      "conv2d_32 (Conv2D)              (None, 197, 1, 32)   38432       reshape_9[0][0]                  \n",
      "__________________________________________________________________________________________________\n",
      "conv2d_33 (Conv2D)              (None, 196, 1, 32)   48032       reshape_9[0][0]                  \n",
      "__________________________________________________________________________________________________\n",
      "max_pooling2d_30 (MaxPooling2D) (None, 1, 1, 32)     0           conv2d_30[0][0]                  \n",
      "__________________________________________________________________________________________________\n",
      "max_pooling2d_31 (MaxPooling2D) (None, 1, 1, 32)     0           conv2d_31[0][0]                  \n",
      "__________________________________________________________________________________________________\n",
      "max_pooling2d_32 (MaxPooling2D) (None, 1, 1, 32)     0           conv2d_32[0][0]                  \n",
      "__________________________________________________________________________________________________\n",
      "max_pooling2d_33 (MaxPooling2D) (None, 1, 1, 32)     0           conv2d_33[0][0]                  \n",
      "__________________________________________________________________________________________________\n",
      "concatenate_8 (Concatenate)     (None, 4, 1, 32)     0           max_pooling2d_30[0][0]           \n",
      "                                                                 max_pooling2d_31[0][0]           \n",
      "                                                                 max_pooling2d_32[0][0]           \n",
      "                                                                 max_pooling2d_33[0][0]           \n",
      "__________________________________________________________________________________________________\n",
      "flatten_9 (Flatten)             (None, 128)          0           concatenate_8[0][0]              \n",
      "__________________________________________________________________________________________________\n",
      "dropout_9 (Dropout)             (None, 128)          0           flatten_9[0][0]                  \n",
      "__________________________________________________________________________________________________\n",
      "dense_9 (Dense)                 (None, 6)            774         dropout_9[0][0]                  \n",
      "==================================================================================================\n",
      "Total params: 30,135,302\n",
      "Trainable params: 135,302\n",
      "Non-trainable params: 30,000,000\n",
      "__________________________________________________________________________________________________\n"
     ]
    }
   ],
   "source": [
    "# Generate a summary report for the best model architecture\n",
    "best_model.summary()"
   ]
  },
  {
   "cell_type": "code",
   "execution_count": 21,
   "metadata": {},
   "outputs": [
    {
     "name": "stdout",
     "output_type": "stream",
     "text": [
      "====================\n",
      "best params: <keras.wrappers.scikit_learn.KerasClassifier object at 0x1a790bc320>\n",
      "best params: {'Sdroprate': 0.1, 'activation': 'tanh', 'batch_size': 256, 'droprate': 0.1, 'epochs': 5, 'filters': 32, 'k': [2, 3, 4, 5]}\n",
      "best score: 0.9889986649334404\n",
      "====================\n"
     ]
    },
    {
     "data": {
      "image/png": "[encoded data removed]",
      "text/plain": [
       "<Figure size 720x720 with 1 Axes>"
      ]
     },
     "metadata": {
      "needs_background": "light"
     },
     "output_type": "display_data"
    }
   ],
   "source": [
    "# Plot result of the Grid Search\n",
    "%matplotlib inline\n",
    "import matplotlib.pyplot as plt\n",
    "results = grid_result.cv_results_\n",
    "\n",
    "print('='*20)\n",
    "print(\"best params: \" + str(grid_result.best_estimator_))\n",
    "print(\"best params: \" + str(grid_result.best_params_))\n",
    "print('best score:', grid_result.best_score_)\n",
    "print('='*20)\n",
    "\n",
    "plt.figure(figsize=(10, 10))\n",
    "plt.title(\"GridSearchCV Result\",fontsize=16)\n",
    "\n",
    "plt.xlabel(\"Spatial Dropout Rate\")\n",
    "plt.ylabel(\"Score\")\n",
    "plt.grid()\n",
    "\n",
    "ax = plt.axes()\n",
    "ax.set_xlim(0, max(param_grid['Sdroprate']))\n",
    "ax.set_ylim(0.98, 1.00)\n",
    "\n",
    "# Get the regular numpy array from the MaskedArray\n",
    "X_axis = np.array(results['param_Sdroprate'].data, dtype=float)\n",
    "\n",
    "for scorer, color in zip(list(scoring.keys()), ['g', 'k', 'b']): \n",
    "    for sample, style in (('train', '--'), ('test', '-')):\n",
    "        sample_score_mean = results['mean_%s_%s' % (sample, scorer)]\n",
    "        sample_score_std = results['std_%s_%s' % (sample, scorer)]\n",
    "        ax.fill_between(X_axis, sample_score_mean - sample_score_std,\n",
    "                        sample_score_mean + sample_score_std,\n",
    "                        alpha=0.1 if sample == 'test' else 0, color=color)\n",
    "        ax.plot(X_axis, sample_score_mean, style, color=color,\n",
    "                alpha=1 if sample == 'test' else 0.7,\n",
    "                label=\"%s (%s)\" % (scorer, sample))\n",
    "\n",
    "    best_index = np.nonzero(results['rank_test_%s' % scorer] == 1)[0][0]\n",
    "    best_score = results['mean_test_%s' % scorer][best_index]   \n",
    "    # Plot a dotted vertical line at the best score for that scorer marked by x\n",
    "    ax.plot([X_axis[best_index], ] * 2, [0, best_score],\n",
    "            linestyle='-.', color=color, marker='x', markeredgewidth=3, ms=8)\n",
    "\n",
    "    # Annotate the best score for that scorer\n",
    "    ax.annotate(\"%0.2f\" % best_score,\n",
    "                (X_axis[best_index], best_score + 0.005))\n",
    "\n",
    "plt.legend(loc=\"best\")\n",
    "plt.grid('off')\n",
    "plt.show()"
   ]
  },
  {
   "cell_type": "code",
   "execution_count": null,
   "metadata": {},
   "outputs": [],
   "source": []
  }
 ],
 "metadata": {
  "kernelspec": {
   "display_name": "Python [conda env:toxic3]",
   "language": "python",
   "name": "conda-env-toxic3-py"
  },
  "language_info": {
   "codemirror_mode": {
    "name": "ipython",
    "version": 3
   },
   "file_extension": ".py",
   "mimetype": "text/x-python",
   "name": "python",
   "nbconvert_exporter": "python",
   "pygments_lexer": "ipython3",
   "version": "3.6.7"
  }
 },
 "nbformat": 4,
 "nbformat_minor": 2
}
