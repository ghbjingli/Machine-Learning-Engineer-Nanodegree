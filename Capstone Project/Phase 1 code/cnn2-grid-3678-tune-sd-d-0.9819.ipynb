{
 "cells": [
  {
   "cell_type": "code",
   "execution_count": 1,
   "metadata": {},
   "outputs": [
    {
     "name": "stderr",
     "output_type": "stream",
     "text": [
      "Using TensorFlow backend.\n"
     ]
    }
   ],
   "source": [
    "import numpy as np\n",
    "import pandas as pd\n",
    "np.random.seed(8)\n",
    "from sklearn.model_selection import train_test_split\n",
    "from sklearn.metrics import roc_auc_score\n",
    "\n",
    "from keras.models import Model\n",
    "from keras.layers import Input, Embedding, Dense, Conv2D, MaxPool2D, Conv1D, MaxPooling1D, GlobalMaxPooling1D \n",
    "from keras.layers import Reshape, Flatten, Concatenate, Dropout, SpatialDropout1D\n",
    "from keras.preprocessing import text, sequence\n",
    "from keras.callbacks import Callback\n",
    "\n",
    "import warnings\n",
    "warnings.filterwarnings('ignore')\n",
    "\n",
    "train = pd.read_csv('train.csv')\n",
    "test_cm = pd.read_csv('test.csv')\n",
    "test_lb = pd.read_csv('test_labels.csv')\n",
    "test_all = pd.merge(test_cm, test_lb, on='id')\n",
    "test = test_all[test_all['toxic'] != -1]"
   ]
  },
  {
   "cell_type": "code",
   "execution_count": 2,
   "metadata": {},
   "outputs": [
    {
     "data": {
      "text/plain": [
       "(159571, 8)"
      ]
     },
     "execution_count": 2,
     "metadata": {},
     "output_type": "execute_result"
    }
   ],
   "source": [
    "train.shape"
   ]
  },
  {
   "cell_type": "code",
   "execution_count": 3,
   "metadata": {},
   "outputs": [
    {
     "name": "stdout",
     "output_type": "stream",
     "text": [
      "<class 'pandas.core.frame.DataFrame'>\n",
      "RangeIndex: 159571 entries, 0 to 159570\n",
      "Data columns (total 8 columns):\n",
      "id               159571 non-null object\n",
      "comment_text     159571 non-null object\n",
      "toxic            159571 non-null int64\n",
      "severe_toxic     159571 non-null int64\n",
      "obscene          159571 non-null int64\n",
      "threat           159571 non-null int64\n",
      "insult           159571 non-null int64\n",
      "identity_hate    159571 non-null int64\n",
      "dtypes: int64(6), object(2)\n",
      "memory usage: 9.7+ MB\n"
     ]
    }
   ],
   "source": [
    "train.info()"
   ]
  },
  {
   "cell_type": "code",
   "execution_count": 4,
   "metadata": {},
   "outputs": [
    {
     "data": {
      "text/plain": [
       "id               0\n",
       "comment_text     0\n",
       "toxic            0\n",
       "severe_toxic     0\n",
       "obscene          0\n",
       "threat           0\n",
       "insult           0\n",
       "identity_hate    0\n",
       "dtype: int64"
      ]
     },
     "execution_count": 4,
     "metadata": {},
     "output_type": "execute_result"
    }
   ],
   "source": [
    "train.isnull().sum()"
   ]
  },
  {
   "cell_type": "code",
   "execution_count": 5,
   "metadata": {},
   "outputs": [],
   "source": [
    "X_train = train[\"comment_text\"].values\n",
    "y_train = train[[\"toxic\", \"severe_toxic\", \"obscene\", \"threat\", \"insult\", \"identity_hate\"]].values\n",
    "X_test = test[\"comment_text\"].values\n",
    "y_test = test[[\"toxic\", \"severe_toxic\", \"obscene\", \"threat\", \"insult\", \"identity_hate\"]].values"
   ]
  },
  {
   "cell_type": "code",
   "execution_count": 6,
   "metadata": {},
   "outputs": [],
   "source": [
    "vocab = 100000\n",
    "maxlen = 200\n",
    "embed_size = 300"
   ]
  },
  {
   "cell_type": "code",
   "execution_count": 7,
   "metadata": {},
   "outputs": [],
   "source": [
    "t = text.Tokenizer(num_words=vocab)\n",
    "t.fit_on_texts(list(X_train) + list(X_test))"
   ]
  },
  {
   "cell_type": "code",
   "execution_count": 8,
   "metadata": {},
   "outputs": [],
   "source": [
    "X_train = t.texts_to_sequences(X_train)\n",
    "X_test = t.texts_to_sequences(X_test)\n",
    "x_train = sequence.pad_sequences(X_train, maxlen=maxlen)\n",
    "x_test = sequence.pad_sequences(X_test, maxlen=maxlen)"
   ]
  },
  {
   "cell_type": "code",
   "execution_count": 9,
   "metadata": {},
   "outputs": [
    {
     "name": "stdout",
     "output_type": "stream",
     "text": [
      "Loaded 2000000 pre-trained words\n"
     ]
    }
   ],
   "source": [
    "EMBEDDING_FILE = 'crawl-300d-2M.vec'\n",
    "embeddings_index = dict()\n",
    "f = open(EMBEDDING_FILE)\n",
    "for line in f:\n",
    "    values = line.split()\n",
    "    word = values[0]\n",
    "    coefs = np.asarray(values[1:], dtype='float32')\n",
    "    embeddings_index[word] = coefs\n",
    "f.close()\n",
    "print('Loaded %s pre-trained words' % len(embeddings_index))\n"
   ]
  },
  {
   "cell_type": "code",
   "execution_count": 10,
   "metadata": {},
   "outputs": [],
   "source": [
    "# create a weight matrix for words in training docs\n",
    "embedding_matrix = np.zeros((vocab, embed_size))\n",
    "for word, i in t.word_index.items():\n",
    "    if i >= vocab: \n",
    "        continue\n",
    "    embedding_vector = embeddings_index.get(word)\n",
    "    if embedding_vector is not None:\n",
    "        embedding_matrix[i] = embedding_vector"
   ]
  },
  {
   "cell_type": "code",
   "execution_count": 11,
   "metadata": {
    "scrolled": true
   },
   "outputs": [
    {
     "name": "stdout",
     "output_type": "stream",
     "text": [
      "__________________________________________________________________________________________________\n",
      "Layer (type)                    Output Shape         Param #     Connected to                     \n",
      "==================================================================================================\n",
      "input_1 (InputLayer)            (None, 200)          0                                            \n",
      "__________________________________________________________________________________________________\n",
      "embedding_1 (Embedding)         (None, 200, 300)     30000000    input_1[0][0]                    \n",
      "__________________________________________________________________________________________________\n",
      "spatial_dropout1d_1 (SpatialDro (None, 200, 300)     0           embedding_1[0][0]                \n",
      "__________________________________________________________________________________________________\n",
      "reshape_1 (Reshape)             (None, 200, 300, 1)  0           spatial_dropout1d_1[0][0]        \n",
      "__________________________________________________________________________________________________\n",
      "conv2d_1 (Conv2D)               (None, 199, 1, 32)   19232       reshape_1[0][0]                  \n",
      "__________________________________________________________________________________________________\n",
      "conv2d_2 (Conv2D)               (None, 198, 1, 32)   28832       reshape_1[0][0]                  \n",
      "__________________________________________________________________________________________________\n",
      "conv2d_3 (Conv2D)               (None, 197, 1, 32)   38432       reshape_1[0][0]                  \n",
      "__________________________________________________________________________________________________\n",
      "conv2d_4 (Conv2D)               (None, 196, 1, 32)   48032       reshape_1[0][0]                  \n",
      "__________________________________________________________________________________________________\n",
      "max_pooling2d_1 (MaxPooling2D)  (None, 1, 1, 32)     0           conv2d_1[0][0]                   \n",
      "__________________________________________________________________________________________________\n",
      "max_pooling2d_2 (MaxPooling2D)  (None, 1, 1, 32)     0           conv2d_2[0][0]                   \n",
      "__________________________________________________________________________________________________\n",
      "max_pooling2d_3 (MaxPooling2D)  (None, 1, 1, 32)     0           conv2d_3[0][0]                   \n",
      "__________________________________________________________________________________________________\n",
      "max_pooling2d_4 (MaxPooling2D)  (None, 1, 1, 32)     0           conv2d_4[0][0]                   \n",
      "__________________________________________________________________________________________________\n",
      "concatenate_1 (Concatenate)     (None, 4, 1, 32)     0           max_pooling2d_1[0][0]            \n",
      "                                                                 max_pooling2d_2[0][0]            \n",
      "                                                                 max_pooling2d_3[0][0]            \n",
      "                                                                 max_pooling2d_4[0][0]            \n",
      "__________________________________________________________________________________________________\n",
      "flatten_1 (Flatten)             (None, 128)          0           concatenate_1[0][0]              \n",
      "__________________________________________________________________________________________________\n",
      "dropout_1 (Dropout)             (None, 128)          0           flatten_1[0][0]                  \n",
      "__________________________________________________________________________________________________\n",
      "dense_1 (Dense)                 (None, 6)            774         dropout_1[0][0]                  \n",
      "==================================================================================================\n",
      "Total params: 30,135,302\n",
      "Trainable params: 135,302\n",
      "Non-trainable params: 30,000,000\n",
      "__________________________________________________________________________________________________\n"
     ]
    }
   ],
   "source": [
    "def make_model(k=[2,3,4,5], activation='tanh', filters=32, Sdroprate=0.4, droprate=0.1):\n",
    "\n",
    "    inp = Input(shape=(maxlen, ))\n",
    "    x = Embedding(vocab, embed_size, weights=[embedding_matrix], input_length=maxlen, trainable=False)(inp)\n",
    "    x = SpatialDropout1D(Sdroprate)(x)\n",
    "    x = Reshape((maxlen, embed_size, 1))(x)\n",
    "    \n",
    "    conv = dict()\n",
    "    maxpool = dict()\n",
    "    for h in k:\n",
    "        conv[h] = Conv2D(filters, kernel_size=(h, embed_size), activation=activation)(x)\n",
    "        maxpool[h] = MaxPool2D(pool_size=(maxlen - h + 1, 1))(conv[h])\n",
    "        \n",
    "    y = Concatenate(axis=1)([pool for key,pool in maxpool.items()])\n",
    "    \n",
    "    y = Flatten()(y)\n",
    "    y = Dropout(droprate)(y)\n",
    "\n",
    "    outp = Dense(6, activation=\"sigmoid\")(y)\n",
    "\n",
    "    model = Model(inputs=inp, outputs=outp)\n",
    "    model.compile(loss='binary_crossentropy', optimizer='adam', metrics=['accuracy'])\n",
    "    \n",
    "    return model\n",
    "model = make_model()\n",
    "model.summary()"
   ]
  },
  {
   "cell_type": "code",
   "execution_count": 12,
   "metadata": {},
   "outputs": [],
   "source": [
    "from sklearn.model_selection import ShuffleSplit\n",
    "cv = ShuffleSplit(n_splits = 1, test_size = 0.1)"
   ]
  },
  {
   "cell_type": "code",
   "execution_count": 13,
   "metadata": {},
   "outputs": [],
   "source": [
    "from sklearn.model_selection import GridSearchCV\n",
    "from keras.wrappers.scikit_learn import KerasClassifier\n",
    "my_classifier = KerasClassifier(make_model, batch_size=256)\n",
    "\n",
    "validator = GridSearchCV(my_classifier, param_grid={'k': [[3,6,7,8]],\n",
    "                                                    'activation': ['tanh'],\n",
    "                                                   'epochs': [5],\n",
    "                                                   'filters': [32],\n",
    "                                                   'Sdroprate': [0.2,0.3,0.4,0.5],\n",
    "                                                   'droprate': [0.05,0.1,0.2]},\n",
    "                                                    cv = cv, \n",
    "                                                    scoring = 'roc_auc', \n",
    "                                                    n_jobs=1)"
   ]
  },
  {
   "cell_type": "code",
   "execution_count": 14,
   "metadata": {},
   "outputs": [
    {
     "name": "stdout",
     "output_type": "stream",
     "text": [
      "Epoch 1/5\n",
      "143613/143613 [==============================] - 748s 5ms/step - loss: 0.0731 - acc: 0.9768\n",
      "Epoch 2/5\n",
      "143613/143613 [==============================] - 803s 6ms/step - loss: 0.0459 - acc: 0.9827\n",
      "Epoch 3/5\n",
      "143613/143613 [==============================] - 805s 6ms/step - loss: 0.0413 - acc: 0.9841\n",
      "Epoch 4/5\n",
      "143613/143613 [==============================] - 805s 6ms/step - loss: 0.0386 - acc: 0.9849\n",
      "Epoch 5/5\n",
      "143613/143613 [==============================] - 801s 6ms/step - loss: 0.0363 - acc: 0.9856\n",
      "Epoch 1/5\n",
      "143613/143613 [==============================] - 824s 6ms/step - loss: 0.0749 - acc: 0.9759\n",
      "Epoch 2/5\n",
      "143613/143613 [==============================] - 757s 5ms/step - loss: 0.0467 - acc: 0.9824\n",
      "Epoch 3/5\n",
      "143613/143613 [==============================] - 747s 5ms/step - loss: 0.0428 - acc: 0.9834\n",
      "Epoch 4/5\n",
      "143613/143613 [==============================] - 745s 5ms/step - loss: 0.0400 - acc: 0.9844\n",
      "Epoch 5/5\n",
      "143613/143613 [==============================] - 743s 5ms/step - loss: 0.0377 - acc: 0.9851\n",
      "Epoch 1/5\n",
      "143613/143613 [==============================] - 773s 5ms/step - loss: 0.0774 - acc: 0.9751\n",
      "Epoch 2/5\n",
      "143613/143613 [==============================] - 736s 5ms/step - loss: 0.0483 - acc: 0.9819\n",
      "Epoch 3/5\n",
      "143613/143613 [==============================] - 743s 5ms/step - loss: 0.0444 - acc: 0.9830\n",
      "Epoch 4/5\n",
      "143613/143613 [==============================] - 730s 5ms/step - loss: 0.0419 - acc: 0.9839\n",
      "Epoch 5/5\n",
      "143613/143613 [==============================] - 728s 5ms/step - loss: 0.0395 - acc: 0.9846\n",
      "Epoch 1/5\n",
      "143613/143613 [==============================] - 734s 5ms/step - loss: 0.0769 - acc: 0.9758\n",
      "Epoch 2/5\n",
      "143613/143613 [==============================] - 732s 5ms/step - loss: 0.0471 - acc: 0.9823\n",
      "Epoch 3/5\n",
      "143613/143613 [==============================] - 733s 5ms/step - loss: 0.0434 - acc: 0.9833\n",
      "Epoch 4/5\n",
      "143613/143613 [==============================] - 732s 5ms/step - loss: 0.0411 - acc: 0.9842\n",
      "Epoch 5/5\n",
      "143613/143613 [==============================] - 733s 5ms/step - loss: 0.0392 - acc: 0.9848\n",
      "Epoch 1/5\n",
      "143613/143613 [==============================] - 730s 5ms/step - loss: 0.0741 - acc: 0.9766\n",
      "Epoch 2/5\n",
      "143613/143613 [==============================] - 729s 5ms/step - loss: 0.0475 - acc: 0.9821\n",
      "Epoch 3/5\n",
      "143613/143613 [==============================] - 729s 5ms/step - loss: 0.0441 - acc: 0.9831\n",
      "Epoch 4/5\n",
      "143613/143613 [==============================] - 730s 5ms/step - loss: 0.0417 - acc: 0.9838\n",
      "Epoch 5/5\n",
      "143613/143613 [==============================] - 730s 5ms/step - loss: 0.0396 - acc: 0.9846\n",
      "Epoch 1/5\n",
      "143613/143613 [==============================] - 728s 5ms/step - loss: 0.0763 - acc: 0.9758\n",
      "Epoch 2/5\n",
      "143613/143613 [==============================] - 727s 5ms/step - loss: 0.0500 - acc: 0.9815\n",
      "Epoch 3/5\n",
      "143613/143613 [==============================] - 728s 5ms/step - loss: 0.0460 - acc: 0.9827\n",
      "Epoch 4/5\n",
      "143613/143613 [==============================] - 729s 5ms/step - loss: 0.0436 - acc: 0.9833\n",
      "Epoch 5/5\n",
      "143613/143613 [==============================] - 729s 5ms/step - loss: 0.0419 - acc: 0.9839\n",
      "Epoch 1/5\n",
      "143613/143613 [==============================] - 728s 5ms/step - loss: 0.0787 - acc: 0.9752\n",
      "Epoch 2/5\n",
      "143613/143613 [==============================] - 726s 5ms/step - loss: 0.0487 - acc: 0.9818\n",
      "Epoch 3/5\n",
      "143613/143613 [==============================] - 726s 5ms/step - loss: 0.0452 - acc: 0.9827\n",
      "Epoch 4/5\n",
      "143613/143613 [==============================] - 727s 5ms/step - loss: 0.0432 - acc: 0.9833\n",
      "Epoch 5/5\n",
      "143613/143613 [==============================] - 728s 5ms/step - loss: 0.0416 - acc: 0.9840\n",
      "Epoch 1/5\n",
      "143613/143613 [==============================] - 732s 5ms/step - loss: 0.0779 - acc: 0.9754\n",
      "Epoch 2/5\n",
      "143613/143613 [==============================] - 731s 5ms/step - loss: 0.0506 - acc: 0.9813\n",
      "Epoch 3/5\n",
      "143613/143613 [==============================] - 730s 5ms/step - loss: 0.0469 - acc: 0.9822\n",
      "Epoch 4/5\n",
      "143613/143613 [==============================] - 731s 5ms/step - loss: 0.0445 - acc: 0.9830\n",
      "Epoch 5/5\n",
      "143613/143613 [==============================] - 731s 5ms/step - loss: 0.0429 - acc: 0.9835\n",
      "Epoch 1/5\n",
      "143613/143613 [==============================] - 738s 5ms/step - loss: 0.0850 - acc: 0.9736\n",
      "Epoch 2/5\n",
      "143613/143613 [==============================] - 737s 5ms/step - loss: 0.0520 - acc: 0.9809\n",
      "Epoch 3/5\n",
      "143613/143613 [==============================] - 737s 5ms/step - loss: 0.0480 - acc: 0.9818\n",
      "Epoch 4/5\n",
      "143613/143613 [==============================] - 738s 5ms/step - loss: 0.0456 - acc: 0.9827\n",
      "Epoch 5/5\n",
      "143613/143613 [==============================] - 738s 5ms/step - loss: 0.0442 - acc: 0.9831\n",
      "Epoch 1/5\n",
      "143613/143613 [==============================] - 736s 5ms/step - loss: 0.0828 - acc: 0.9736\n",
      "Epoch 2/5\n",
      "143613/143613 [==============================] - 735s 5ms/step - loss: 0.0519 - acc: 0.9809\n",
      "Epoch 3/5\n",
      "143613/143613 [==============================] - 736s 5ms/step - loss: 0.0482 - acc: 0.9819\n",
      "Epoch 4/5\n",
      "143613/143613 [==============================] - 737s 5ms/step - loss: 0.0462 - acc: 0.9823\n",
      "Epoch 5/5\n",
      "143613/143613 [==============================] - 738s 5ms/step - loss: 0.0447 - acc: 0.9828\n",
      "Epoch 1/5\n",
      "143613/143613 [==============================] - 739s 5ms/step - loss: 0.0826 - acc: 0.9739\n",
      "Epoch 2/5\n",
      "143613/143613 [==============================] - 737s 5ms/step - loss: 0.0520 - acc: 0.9808\n",
      "Epoch 3/5\n",
      "143613/143613 [==============================] - 739s 5ms/step - loss: 0.0486 - acc: 0.9818\n",
      "Epoch 4/5\n",
      "143613/143613 [==============================] - 738s 5ms/step - loss: 0.0468 - acc: 0.9822\n",
      "Epoch 5/5\n",
      "143613/143613 [==============================] - 739s 5ms/step - loss: 0.0453 - acc: 0.9826\n",
      "Epoch 1/5\n",
      "143613/143613 [==============================] - 738s 5ms/step - loss: 0.0834 - acc: 0.9740\n",
      "Epoch 2/5\n",
      "143613/143613 [==============================] - 736s 5ms/step - loss: 0.0543 - acc: 0.9802\n",
      "Epoch 3/5\n",
      "143613/143613 [==============================] - 736s 5ms/step - loss: 0.0504 - acc: 0.9813\n",
      "Epoch 4/5\n",
      "143613/143613 [==============================] - 737s 5ms/step - loss: 0.0482 - acc: 0.9818\n",
      "Epoch 5/5\n",
      "143613/143613 [==============================] - 737s 5ms/step - loss: 0.0474 - acc: 0.9821\n",
      "Epoch 1/5\n",
      "159571/159571 [==============================] - 822s 5ms/step - loss: 0.0729 - acc: 0.9764\n",
      "Epoch 2/5\n",
      "159571/159571 [==============================] - 819s 5ms/step - loss: 0.0484 - acc: 0.9818\n",
      "Epoch 3/5\n",
      "159571/159571 [==============================] - 821s 5ms/step - loss: 0.0451 - acc: 0.9827\n",
      "Epoch 4/5\n",
      "159571/159571 [==============================] - 875s 5ms/step - loss: 0.0429 - acc: 0.9834\n",
      "Epoch 5/5\n",
      "159571/159571 [==============================] - 838s 5ms/step - loss: 0.0414 - acc: 0.9840\n"
     ]
    }
   ],
   "source": [
    "grid_result = validator.fit(x_train, y_train)"
   ]
  },
  {
   "cell_type": "code",
   "execution_count": 15,
   "metadata": {},
   "outputs": [
    {
     "name": "stdout",
     "output_type": "stream",
     "text": [
      "Best score: 0.988279 with {'Sdroprate': 0.4, 'activation': 'tanh', 'droprate': 0.05, 'epochs': 5, 'filters': 32, 'k': [3, 6, 7, 8]}\n",
      "0.987695 (0.000000) with: {'Sdroprate': 0.2, 'activation': 'tanh', 'droprate': 0.05, 'epochs': 5, 'filters': 32, 'k': [3, 6, 7, 8]}\n",
      "0.987897 (0.000000) with: {'Sdroprate': 0.2, 'activation': 'tanh', 'droprate': 0.1, 'epochs': 5, 'filters': 32, 'k': [3, 6, 7, 8]}\n",
      "0.987690 (0.000000) with: {'Sdroprate': 0.2, 'activation': 'tanh', 'droprate': 0.2, 'epochs': 5, 'filters': 32, 'k': [3, 6, 7, 8]}\n",
      "0.987725 (0.000000) with: {'Sdroprate': 0.3, 'activation': 'tanh', 'droprate': 0.05, 'epochs': 5, 'filters': 32, 'k': [3, 6, 7, 8]}\n",
      "0.987927 (0.000000) with: {'Sdroprate': 0.3, 'activation': 'tanh', 'droprate': 0.1, 'epochs': 5, 'filters': 32, 'k': [3, 6, 7, 8]}\n",
      "0.988153 (0.000000) with: {'Sdroprate': 0.3, 'activation': 'tanh', 'droprate': 0.2, 'epochs': 5, 'filters': 32, 'k': [3, 6, 7, 8]}\n",
      "0.988279 (0.000000) with: {'Sdroprate': 0.4, 'activation': 'tanh', 'droprate': 0.05, 'epochs': 5, 'filters': 32, 'k': [3, 6, 7, 8]}\n",
      "0.987786 (0.000000) with: {'Sdroprate': 0.4, 'activation': 'tanh', 'droprate': 0.1, 'epochs': 5, 'filters': 32, 'k': [3, 6, 7, 8]}\n",
      "0.987249 (0.000000) with: {'Sdroprate': 0.4, 'activation': 'tanh', 'droprate': 0.2, 'epochs': 5, 'filters': 32, 'k': [3, 6, 7, 8]}\n",
      "0.987369 (0.000000) with: {'Sdroprate': 0.5, 'activation': 'tanh', 'droprate': 0.05, 'epochs': 5, 'filters': 32, 'k': [3, 6, 7, 8]}\n",
      "0.986891 (0.000000) with: {'Sdroprate': 0.5, 'activation': 'tanh', 'droprate': 0.1, 'epochs': 5, 'filters': 32, 'k': [3, 6, 7, 8]}\n",
      "0.986930 (0.000000) with: {'Sdroprate': 0.5, 'activation': 'tanh', 'droprate': 0.2, 'epochs': 5, 'filters': 32, 'k': [3, 6, 7, 8]}\n"
     ]
    }
   ],
   "source": [
    "print(\"Best score: %f with %s\" % (grid_result.best_score_, grid_result.best_params_))\n",
    "means = grid_result.cv_results_['mean_test_score']\n",
    "stds = grid_result.cv_results_['std_test_score']\n",
    "params = grid_result.cv_results_['params']\n",
    "for mean, stdev, param in zip(means, stds, params):\n",
    "    print(\"%f (%f) with: %r\" % (mean, stdev, param))\n",
    "# validator.best_estimator_.model returns the (unwrapped) keras model\n",
    "best_model = validator.best_estimator_.model"
   ]
  },
  {
   "cell_type": "code",
   "execution_count": 16,
   "metadata": {},
   "outputs": [],
   "source": [
    "y_pred = best_model.predict(x_test, batch_size=256)"
   ]
  },
  {
   "cell_type": "code",
   "execution_count": 17,
   "metadata": {
    "scrolled": true
   },
   "outputs": [
    {
     "name": "stdout",
     "output_type": "stream",
     "text": [
      "\n",
      " roc_auc score for keras model: 0.981855 \n",
      "\n"
     ]
    }
   ],
   "source": [
    "from sklearn.metrics import roc_auc_score\n",
    "score = roc_auc_score(y_test, y_pred)\n",
    "print(\"\\n roc_auc score for keras model: %.6f \\n\" % (score))"
   ]
  },
  {
   "cell_type": "code",
   "execution_count": 18,
   "metadata": {},
   "outputs": [
    {
     "name": "stdout",
     "output_type": "stream",
     "text": [
      "__________________________________________________________________________________________________\n",
      "Layer (type)                    Output Shape         Param #     Connected to                     \n",
      "==================================================================================================\n",
      "input_14 (InputLayer)           (None, 200)          0                                            \n",
      "__________________________________________________________________________________________________\n",
      "embedding_14 (Embedding)        (None, 200, 300)     30000000    input_14[0][0]                   \n",
      "__________________________________________________________________________________________________\n",
      "spatial_dropout1d_14 (SpatialDr (None, 200, 300)     0           embedding_14[0][0]               \n",
      "__________________________________________________________________________________________________\n",
      "reshape_14 (Reshape)            (None, 200, 300, 1)  0           spatial_dropout1d_14[0][0]       \n",
      "__________________________________________________________________________________________________\n",
      "conv2d_53 (Conv2D)              (None, 198, 1, 32)   28832       reshape_14[0][0]                 \n",
      "__________________________________________________________________________________________________\n",
      "conv2d_54 (Conv2D)              (None, 195, 1, 32)   57632       reshape_14[0][0]                 \n",
      "__________________________________________________________________________________________________\n",
      "conv2d_55 (Conv2D)              (None, 194, 1, 32)   67232       reshape_14[0][0]                 \n",
      "__________________________________________________________________________________________________\n",
      "conv2d_56 (Conv2D)              (None, 193, 1, 32)   76832       reshape_14[0][0]                 \n",
      "__________________________________________________________________________________________________\n",
      "max_pooling2d_53 (MaxPooling2D) (None, 1, 1, 32)     0           conv2d_53[0][0]                  \n",
      "__________________________________________________________________________________________________\n",
      "max_pooling2d_54 (MaxPooling2D) (None, 1, 1, 32)     0           conv2d_54[0][0]                  \n",
      "__________________________________________________________________________________________________\n",
      "max_pooling2d_55 (MaxPooling2D) (None, 1, 1, 32)     0           conv2d_55[0][0]                  \n",
      "__________________________________________________________________________________________________\n",
      "max_pooling2d_56 (MaxPooling2D) (None, 1, 1, 32)     0           conv2d_56[0][0]                  \n",
      "__________________________________________________________________________________________________\n",
      "concatenate_14 (Concatenate)    (None, 4, 1, 32)     0           max_pooling2d_53[0][0]           \n",
      "                                                                 max_pooling2d_54[0][0]           \n",
      "                                                                 max_pooling2d_55[0][0]           \n",
      "                                                                 max_pooling2d_56[0][0]           \n",
      "__________________________________________________________________________________________________\n",
      "flatten_14 (Flatten)            (None, 128)          0           concatenate_14[0][0]             \n",
      "__________________________________________________________________________________________________\n",
      "dropout_14 (Dropout)            (None, 128)          0           flatten_14[0][0]                 \n",
      "__________________________________________________________________________________________________\n",
      "dense_14 (Dense)                (None, 6)            774         dropout_14[0][0]                 \n",
      "==================================================================================================\n",
      "Total params: 30,231,302\n",
      "Trainable params: 231,302\n",
      "Non-trainable params: 30,000,000\n",
      "__________________________________________________________________________________________________\n"
     ]
    }
   ],
   "source": [
    "best_model.summary()"
   ]
  },
  {
   "cell_type": "code",
   "execution_count": 19,
   "metadata": {},
   "outputs": [
    {
     "name": "stdout",
     "output_type": "stream",
     "text": [
      "<keras.engine.training.Model object at 0x1aa231f4e0>\n"
     ]
    }
   ],
   "source": [
    "print(grid_result.best_estimator_.model)"
   ]
  },
  {
   "cell_type": "code",
   "execution_count": 21,
   "metadata": {},
   "outputs": [
    {
     "name": "stdout",
     "output_type": "stream",
     "text": [
      "make_scorer(roc_auc_score, needs_threshold=True)\n"
     ]
    }
   ],
   "source": [
    "print(grid_result.scorer_)"
   ]
  },
  {
   "cell_type": "code",
   "execution_count": null,
   "metadata": {},
   "outputs": [],
   "source": []
  }
 ],
 "metadata": {
  "kernelspec": {
   "display_name": "Python [conda env:toxic2]",
   "language": "python",
   "name": "conda-env-toxic2-py"
  },
  "language_info": {
   "codemirror_mode": {
    "name": "ipython",
    "version": 3
   },
   "file_extension": ".py",
   "mimetype": "text/x-python",
   "name": "python",
   "nbconvert_exporter": "python",
   "pygments_lexer": "ipython3",
   "version": "3.6.7"
  }
 },
 "nbformat": 4,
 "nbformat_minor": 2
}
