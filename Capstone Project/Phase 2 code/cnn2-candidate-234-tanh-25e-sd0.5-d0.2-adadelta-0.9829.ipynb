{
 "cells": [
  {
   "cell_type": "code",
   "execution_count": 1,
   "metadata": {},
   "outputs": [
    {
     "name": "stderr",
     "output_type": "stream",
     "text": [
      "Using TensorFlow backend.\n"
     ]
    }
   ],
   "source": [
    "import numpy as np\n",
    "import pandas as pd\n",
    "np.random.seed(8)\n",
    "from sklearn.model_selection import train_test_split\n",
    "from sklearn.metrics import roc_auc_score\n",
    "\n",
    "from keras.models import Model\n",
    "from keras.layers import Input, Embedding, Dense, Conv2D, MaxPool2D, Conv1D, MaxPooling1D, GlobalMaxPooling1D \n",
    "from keras.layers import Reshape, Flatten, Concatenate, Dropout, SpatialDropout1D\n",
    "from keras.preprocessing import text, sequence\n",
    "from keras.callbacks import Callback\n",
    "\n",
    "import re\n",
    "import warnings\n",
    "warnings.filterwarnings('ignore')\n",
    "\n",
    "train = pd.read_csv('train.csv')\n",
    "test_cm = pd.read_csv('test.csv')\n",
    "test_lb = pd.read_csv('test_labels.csv')\n",
    "test_all = pd.merge(test_cm, test_lb, on='id')\n",
    "test = test_all[test_all['toxic'] != -1]"
   ]
  },
  {
   "cell_type": "code",
   "execution_count": 2,
   "metadata": {},
   "outputs": [],
   "source": [
    "label_names = [\"toxic\", \"severe_toxic\", \"obscene\", \"threat\", \"insult\", \"identity_hate\"]\n",
    "X_train = train[\"comment_text\"]\n",
    "y_train = train[label_names].values\n",
    "X_test = test[\"comment_text\"]\n",
    "y_test = test[label_names].values"
   ]
  },
  {
   "cell_type": "code",
   "execution_count": 3,
   "metadata": {},
   "outputs": [],
   "source": [
    "# Define vocabulary size\n",
    "vocab = 100000\n",
    "# Define maximum length of a comment\n",
    "maxlen = 200\n",
    "# Define embedding size which should equal the embedding size of the pre-trained word vectors\n",
    "embed_size = 300"
   ]
  },
  {
   "cell_type": "code",
   "execution_count": 4,
   "metadata": {},
   "outputs": [
    {
     "data": {
      "text/plain": [
       "'# Removing ip address\\nX_train = X_train.apply(lambda x: re.sub(\"(?:[0-9]{1,3}\\\\.){3}[0-9]{1,3}\",\"\",x))\\nX_test = X_test.apply(lambda x: re.sub(\"(?:[0-9]{1,3}\\\\.){3}[0-9]{1,3}\",\"\",x))\\n# Removing url link\\nX_train = X_train.apply(lambda x: re.sub(\"http://.*com\",\"\",x))\\nX_test = X_test.apply(lambda x: re.sub(\"http://.*com\",\"\",x))\\n# Removing username\\nX_train = X_train.apply(lambda x: re.sub(\"\\\\[\\\\[.*\\\\]\",\"\",x))\\nX_test = X_test.apply(lambda x: re.sub(\"\\\\[\\\\[.*\\\\]\",\"\",x))'"
      ]
     },
     "execution_count": 4,
     "metadata": {},
     "output_type": "execute_result"
    }
   ],
   "source": [
    "'''# Removing ip address\n",
    "X_train = X_train.apply(lambda x: re.sub(\"(?:[0-9]{1,3}\\.){3}[0-9]{1,3}\",\"\",x))\n",
    "X_test = X_test.apply(lambda x: re.sub(\"(?:[0-9]{1,3}\\.){3}[0-9]{1,3}\",\"\",x))\n",
    "# Removing url link\n",
    "X_train = X_train.apply(lambda x: re.sub(\"http://.*com\",\"\",x))\n",
    "X_test = X_test.apply(lambda x: re.sub(\"http://.*com\",\"\",x))\n",
    "# Removing username\n",
    "X_train = X_train.apply(lambda x: re.sub(\"\\[\\[.*\\]\",\"\",x))\n",
    "X_test = X_test.apply(lambda x: re.sub(\"\\[\\[.*\\]\",\"\",x))'''"
   ]
  },
  {
   "cell_type": "code",
   "execution_count": 5,
   "metadata": {},
   "outputs": [
    {
     "data": {
      "text/plain": [
       "'# Filter out stop words\\nfrom nltk.corpus import stopwords\\n\\ndef filter_stop_words(sentences, stop_words):\\n    filtered = []\\n    for sentence in sentences:\\n        words = sentence.split()\\n        words_filtered = [word for word in words if word not in stop_words]\\n        filtered.append(\" \".join(words_filtered))\\n    return filtered\\n \\nstop_words = set(stopwords.words(\"english\"))\\n \\n# Comments in train\\nX_train_ = filter_stop_words(X_train, stop_words)\\n \\n# Comments in test (excluding labels with -1 values)\\nX_test_ = filter_stop_words(X_test, stop_words)'"
      ]
     },
     "execution_count": 5,
     "metadata": {},
     "output_type": "execute_result"
    }
   ],
   "source": [
    "'''# Filter out stop words\n",
    "from nltk.corpus import stopwords\n",
    "\n",
    "def filter_stop_words(sentences, stop_words):\n",
    "    filtered = []\n",
    "    for sentence in sentences:\n",
    "        words = sentence.split()\n",
    "        words_filtered = [word for word in words if word not in stop_words]\n",
    "        filtered.append(\" \".join(words_filtered))\n",
    "    return filtered\n",
    " \n",
    "stop_words = set(stopwords.words(\"english\"))\n",
    " \n",
    "# Comments in train\n",
    "X_train_ = filter_stop_words(X_train, stop_words)\n",
    " \n",
    "# Comments in test (excluding labels with -1 values)\n",
    "X_test_ = filter_stop_words(X_test, stop_words)'''"
   ]
  },
  {
   "cell_type": "code",
   "execution_count": 6,
   "metadata": {},
   "outputs": [],
   "source": [
    "# Tokenize the train dataset\n",
    "t = text.Tokenizer(num_words=vocab)\n",
    "t.fit_on_texts(list(X_train))"
   ]
  },
  {
   "cell_type": "code",
   "execution_count": 7,
   "metadata": {},
   "outputs": [],
   "source": [
    "# Convert both train and test datasets into sequences\n",
    "X_train = t.texts_to_sequences(X_train)\n",
    "X_test = t.texts_to_sequences(X_test)\n",
    "x_train = sequence.pad_sequences(X_train, maxlen=maxlen)\n",
    "x_test = sequence.pad_sequences(X_test, maxlen=maxlen)"
   ]
  },
  {
   "cell_type": "code",
   "execution_count": 8,
   "metadata": {},
   "outputs": [
    {
     "name": "stdout",
     "output_type": "stream",
     "text": [
      "Loaded 2000000 pre-trained words\n"
     ]
    }
   ],
   "source": [
    "# Load pre-trained word vectors\n",
    "EMBEDDING_FILE = 'crawl-300d-2M.vec'\n",
    "embeddings_index = dict()\n",
    "f = open(EMBEDDING_FILE)\n",
    "for line in f:\n",
    "    values = line.split()\n",
    "    word = values[0]\n",
    "    coefs = np.asarray(values[1:], dtype='float32')\n",
    "    embeddings_index[word] = coefs\n",
    "f.close()\n",
    "print('Loaded %s pre-trained words' % len(embeddings_index))\n"
   ]
  },
  {
   "cell_type": "code",
   "execution_count": 9,
   "metadata": {},
   "outputs": [],
   "source": [
    "# create a weight matrix for words in training docs\n",
    "embedding_matrix = np.zeros((vocab, embed_size))\n",
    "for word, i in t.word_index.items():\n",
    "    if i >= vocab: \n",
    "        continue\n",
    "    embedding_vector = embeddings_index.get(word)\n",
    "    if embedding_vector is not None:\n",
    "        embedding_matrix[i] = embedding_vector"
   ]
  },
  {
   "cell_type": "code",
   "execution_count": 10,
   "metadata": {},
   "outputs": [],
   "source": [
    "import tensorflow as tf\n",
    "import keras.backend as K\n",
    "\n",
    "# FROM https://www.kaggle.com/c/porto-seguro-safe-driver-prediction/discussion/41108\n",
    "def jacek_auc(y_true, y_pred):\n",
    "   score, up_opt = tf.metrics.auc(y_true, y_pred)\n",
    "   #score, up_opt = tf.contrib.metrics.streaming_auc(y_pred, y_true)    \n",
    "   K.get_session().run(tf.local_variables_initializer())\n",
    "   with tf.control_dependencies([up_opt]):\n",
    "       score = tf.identity(score)\n",
    "   return score\n",
    "\n",
    "# FROM https://www.kaggle.com/c/porto-seguro-safe-driver-prediction/discussion/41015\n",
    "# AUC for a binary classifier\n",
    "def tf_binary_auc(y_true, y_pred):\n",
    "    ptas = tf.stack([binary_PTA(y_true,y_pred,k) for k in np.linspace(0, 1, 1000)],axis=0)\n",
    "    pfas = tf.stack([binary_PFA(y_true,y_pred,k) for k in np.linspace(0, 1, 1000)],axis=0)\n",
    "    pfas = tf.concat([tf.ones((1,)) ,pfas],axis=0)\n",
    "    binSizes = -(pfas[1:]-pfas[:-1])\n",
    "    s = ptas*binSizes\n",
    "    return K.sum(s, axis=0)\n",
    "\n",
    "#---------------------\n",
    "# PFA, prob false alert for binary classifier\n",
    "def binary_PFA(y_true, y_pred, threshold=K.variable(value=0.8)):\n",
    "    y_pred = K.cast(y_pred >= threshold, 'float32')\n",
    "    # N = total number of negative labels\n",
    "    N = K.sum(1 - y_true)\n",
    "    # FP = total number of false alerts, alerts from the negative class labels\n",
    "    FP = K.sum(y_pred - y_pred * y_true)\n",
    "    return FP/N\n",
    "\n",
    "#----------------\n",
    "# P_TA prob true alerts for binary classifier\n",
    "def binary_PTA(y_true, y_pred, threshold=K.variable(value=0.8)):\n",
    "    y_pred = K.cast(y_pred >= threshold, 'float32')\n",
    "    # P = total number of positive labels\n",
    "    P = K.sum(y_true)\n",
    "    # TP = total number of correct alerts, alerts from the positive class labels\n",
    "    TP = K.sum(y_pred * y_true)\n",
    "    return TP/P"
   ]
  },
  {
   "cell_type": "code",
   "execution_count": 11,
   "metadata": {},
   "outputs": [],
   "source": [
    "from sklearn.metrics import roc_auc_score\n",
    "import keras\n",
    "class RocAucMetricCallback(Callback):\n",
    "    def __init__(self, train_data, predict_batch_size=1024, include_on_batch=False):\n",
    "        super(RocAucMetricCallback, self).__init__()\n",
    "        self.train_data=train_data\n",
    "        self.predict_batch_size=predict_batch_size\n",
    "        self.include_on_batch=include_on_batch\n",
    "\n",
    "    def on_batch_begin(self, batch, logs={}):\n",
    "        pass\n",
    "\n",
    "    def on_batch_end(self, batch, logs={}):\n",
    "        if(self.include_on_batch):\n",
    "            logs['sklearn_auc']=float('-inf')\n",
    "            logs['val_sklearn_auc']=float('-inf')\n",
    "            if(self.train_data):\n",
    "                logs['sklearn_auc']=roc_auc_score(self.train_data[1], \n",
    "                                                  self.model.predict(self.train_data[0],\n",
    "                                                                     batch_size=self.predict_batch_size))\n",
    "            if(self.validation_data):\n",
    "                logs['val_sklearn_auc']=roc_auc_score(self.validation_data[1], \n",
    "                                                  self.model.predict(self.validation_data[0],\n",
    "                                                                     batch_size=self.predict_batch_size))\n",
    "\n",
    "    def on_train_begin(self, logs={}):\n",
    "        if not ('sklearn_auc' in self.params['metrics']):\n",
    "            self.params['metrics'].append('sklearn_auc')\n",
    "        if not ('val_sklearn_auc' in self.params['metrics']):\n",
    "            self.params['metrics'].append('val_sklearn_auc')\n",
    "\n",
    "    def on_train_end(self, logs={}):\n",
    "        pass\n",
    "\n",
    "    def on_epoch_begin(self, epoch, logs={}):\n",
    "        pass\n",
    "\n",
    "    def on_epoch_end(self, epoch, logs={}):\n",
    "        logs['sklearn_auc']=float('-inf')\n",
    "        logs['val_sklearn_auc']=float('-inf')\n",
    "        if(self.train_data):\n",
    "            logs['sklearn_auc']=roc_auc_score(self.train_data[1], \n",
    "                                              self.model.predict(self.train_data[0],\n",
    "                                                                 batch_size=self.predict_batch_size))\n",
    "            print(\"- sklearn_auc: %.4f\" % (logs['sklearn_auc']))    \n",
    "        if(self.validation_data):\n",
    "            logs['val_sklearn_auc']=roc_auc_score(self.validation_data[1], \n",
    "                                              self.model.predict(self.validation_data[0],\n",
    "                                                                 batch_size=self.predict_batch_size))\n",
    "            print(\"- val_sklearn_auc: %.4f\" % (logs['val_sklearn_auc']))    "
   ]
  },
  {
   "cell_type": "code",
   "execution_count": 12,
   "metadata": {},
   "outputs": [
    {
     "name": "stdout",
     "output_type": "stream",
     "text": [
      "__________________________________________________________________________________________________\n",
      "Layer (type)                    Output Shape         Param #     Connected to                     \n",
      "==================================================================================================\n",
      "input_1 (InputLayer)            (None, 200)          0                                            \n",
      "__________________________________________________________________________________________________\n",
      "embedding_1 (Embedding)         (None, 200, 300)     30000000    input_1[0][0]                    \n",
      "__________________________________________________________________________________________________\n",
      "spatial_dropout1d_1 (SpatialDro (None, 200, 300)     0           embedding_1[0][0]                \n",
      "__________________________________________________________________________________________________\n",
      "reshape_1 (Reshape)             (None, 200, 300, 1)  0           spatial_dropout1d_1[0][0]        \n",
      "__________________________________________________________________________________________________\n",
      "conv2d_1 (Conv2D)               (None, 199, 1, 32)   19232       reshape_1[0][0]                  \n",
      "__________________________________________________________________________________________________\n",
      "conv2d_2 (Conv2D)               (None, 198, 1, 32)   28832       reshape_1[0][0]                  \n",
      "__________________________________________________________________________________________________\n",
      "conv2d_3 (Conv2D)               (None, 197, 1, 32)   38432       reshape_1[0][0]                  \n",
      "__________________________________________________________________________________________________\n",
      "max_pooling2d_1 (MaxPooling2D)  (None, 1, 1, 32)     0           conv2d_1[0][0]                   \n",
      "__________________________________________________________________________________________________\n",
      "max_pooling2d_2 (MaxPooling2D)  (None, 1, 1, 32)     0           conv2d_2[0][0]                   \n",
      "__________________________________________________________________________________________________\n",
      "max_pooling2d_3 (MaxPooling2D)  (None, 1, 1, 32)     0           conv2d_3[0][0]                   \n",
      "__________________________________________________________________________________________________\n",
      "concatenate_1 (Concatenate)     (None, 3, 1, 32)     0           max_pooling2d_1[0][0]            \n",
      "                                                                 max_pooling2d_2[0][0]            \n",
      "                                                                 max_pooling2d_3[0][0]            \n",
      "__________________________________________________________________________________________________\n",
      "flatten_1 (Flatten)             (None, 96)           0           concatenate_1[0][0]              \n",
      "__________________________________________________________________________________________________\n",
      "dropout_1 (Dropout)             (None, 96)           0           flatten_1[0][0]                  \n",
      "__________________________________________________________________________________________________\n",
      "dense_1 (Dense)                 (None, 6)            582         dropout_1[0][0]                  \n",
      "==================================================================================================\n",
      "Total params: 30,087,078\n",
      "Trainable params: 87,078\n",
      "Non-trainable params: 30,000,000\n",
      "__________________________________________________________________________________________________\n"
     ]
    }
   ],
   "source": [
    "# Define make_model function to create a CNN model\n",
    "def make_model(k=[2,3,4], activation='tanh', filters=32, Sdroprate=0.5, droprate=0.2):\n",
    "\n",
    "    inp = Input(shape=(maxlen, ))\n",
    "    x = Embedding(vocab, embed_size, weights=[embedding_matrix], input_length=maxlen, trainable=False)(inp)\n",
    "    x = SpatialDropout1D(Sdroprate)(x)\n",
    "    x = Reshape((maxlen, embed_size, 1))(x)\n",
    "    \n",
    "    conv = dict()\n",
    "    maxpool = dict()\n",
    "    for h in k:\n",
    "        conv[h] = Conv2D(filters, kernel_size=(h, embed_size), activation=activation)(x)\n",
    "        maxpool[h] = MaxPool2D(pool_size=(maxlen - h + 1, 1))(conv[h])\n",
    "    if len(k) == 1:\n",
    "        y = maxpool[h]\n",
    "    else:\n",
    "        y = Concatenate(axis=1)([pool for key,pool in maxpool.items()])\n",
    "    y = Flatten()(y)\n",
    "    y = Dropout(droprate)(y)\n",
    "\n",
    "    outp = Dense(6, activation=\"sigmoid\")(y)\n",
    "\n",
    "    model = Model(inputs=inp, outputs=outp)\n",
    "    model.compile(loss='binary_crossentropy', optimizer='adadelta', metrics=[tf_binary_auc])\n",
    "    \n",
    "    return model\n",
    "model = make_model()\n",
    "model.summary()"
   ]
  },
  {
   "cell_type": "code",
   "execution_count": 13,
   "metadata": {},
   "outputs": [],
   "source": [
    "# Split the train dataset into train and validation datasets\n",
    "x_trainS, x_val, y_trainS, y_val = train_test_split(x_train, y_train, train_size=0.90, random_state=8)"
   ]
  },
  {
   "cell_type": "code",
   "execution_count": 14,
   "metadata": {},
   "outputs": [],
   "source": [
    "# Set batch_size, epochs parameters\n",
    "# Define file_path to store best model\n",
    "# Create instance of check_point, early_stop and roc_auc\n",
    "from keras.callbacks import ModelCheckpoint, EarlyStopping\n",
    "batch_size=256\n",
    "epochs = 25\n",
    "file_path = 'saved_models/weights.best.hdf5'\n",
    "check_point = ModelCheckpoint(filepath=file_path, monitor = 'val_sklearn_auc', mode=\"max\", verbose=1, save_best_only=True)\n",
    "early_stop = EarlyStopping(monitor = 'val_sklearn_auc', mode = \"max\", patience = 2, verbose=2)\n",
    "roc_auc = RocAucMetricCallback(train_data=(x_trainS, y_trainS))\n",
    "#cb = [roc_auc, early_stop, check_point]\n",
    "cb = [roc_auc, check_point]"
   ]
  },
  {
   "cell_type": "code",
   "execution_count": 15,
   "metadata": {},
   "outputs": [
    {
     "name": "stdout",
     "output_type": "stream",
     "text": [
      "Train on 143613 samples, validate on 15958 samples\n",
      "Epoch 1/25\n",
      "143613/143613 [==============================] - 456s 3ms/step - loss: 0.0964 - tf_binary_auc: 0.9063 - val_loss: 0.0534 - val_tf_binary_auc: 0.9814\n",
      "- sklearn_auc: 0.9613\n",
      "- val_sklearn_auc: 0.9668\n",
      "\n",
      "Epoch 00001: val_sklearn_auc improved from -inf to 0.96679, saving model to saved_models/weights.best.hdf5\n",
      "Epoch 2/25\n",
      "143613/143613 [==============================] - 407s 3ms/step - loss: 0.0584 - tf_binary_auc: 0.9757 - val_loss: 0.0484 - val_tf_binary_auc: 0.9860\n",
      "- sklearn_auc: 0.9739\n",
      "- val_sklearn_auc: 0.9769\n",
      "\n",
      "Epoch 00002: val_sklearn_auc improved from 0.96679 to 0.97686, saving model to saved_models/weights.best.hdf5\n",
      "Epoch 3/25\n",
      "143613/143613 [==============================] - 412s 3ms/step - loss: 0.0543 - tf_binary_auc: 0.9808 - val_loss: 0.0458 - val_tf_binary_auc: 0.9878\n",
      "- sklearn_auc: 0.9783\n",
      "- val_sklearn_auc: 0.9804\n",
      "\n",
      "Epoch 00003: val_sklearn_auc improved from 0.97686 to 0.98035, saving model to saved_models/weights.best.hdf5\n",
      "Epoch 4/25\n",
      "143613/143613 [==============================] - 409s 3ms/step - loss: 0.0522 - tf_binary_auc: 0.9826 - val_loss: 0.0446 - val_tf_binary_auc: 0.9884\n",
      "- sklearn_auc: 0.9812\n",
      "- val_sklearn_auc: 0.9825\n",
      "\n",
      "Epoch 00004: val_sklearn_auc improved from 0.98035 to 0.98249, saving model to saved_models/weights.best.hdf5\n",
      "Epoch 5/25\n",
      "143613/143613 [==============================] - 408s 3ms/step - loss: 0.0510 - tf_binary_auc: 0.9831 - val_loss: 0.0440 - val_tf_binary_auc: 0.9889\n",
      "- sklearn_auc: 0.9830\n",
      "- val_sklearn_auc: 0.9838\n",
      "\n",
      "Epoch 00005: val_sklearn_auc improved from 0.98249 to 0.98379, saving model to saved_models/weights.best.hdf5\n",
      "Epoch 6/25\n",
      "143613/143613 [==============================] - 406s 3ms/step - loss: 0.0496 - tf_binary_auc: 0.9848 - val_loss: 0.0434 - val_tf_binary_auc: 0.9892\n",
      "- sklearn_auc: 0.9844\n",
      "- val_sklearn_auc: 0.9846\n",
      "\n",
      "Epoch 00006: val_sklearn_auc improved from 0.98379 to 0.98460, saving model to saved_models/weights.best.hdf5\n",
      "Epoch 7/25\n",
      "143613/143613 [==============================] - 406s 3ms/step - loss: 0.0488 - tf_binary_auc: 0.9855 - val_loss: 0.0428 - val_tf_binary_auc: 0.9894\n",
      "- sklearn_auc: 0.9858\n",
      "- val_sklearn_auc: 0.9855\n",
      "\n",
      "Epoch 00007: val_sklearn_auc improved from 0.98460 to 0.98547, saving model to saved_models/weights.best.hdf5\n",
      "Epoch 8/25\n",
      "143613/143613 [==============================] - 406s 3ms/step - loss: 0.0482 - tf_binary_auc: 0.9860 - val_loss: 0.0427 - val_tf_binary_auc: 0.9893\n",
      "- sklearn_auc: 0.9869\n",
      "- val_sklearn_auc: 0.9862\n",
      "\n",
      "Epoch 00008: val_sklearn_auc improved from 0.98547 to 0.98623, saving model to saved_models/weights.best.hdf5\n",
      "Epoch 9/25\n",
      "143613/143613 [==============================] - 407s 3ms/step - loss: 0.0475 - tf_binary_auc: 0.9862 - val_loss: 0.0424 - val_tf_binary_auc: 0.9895\n",
      "- sklearn_auc: 0.9878\n",
      "- val_sklearn_auc: 0.9867\n",
      "\n",
      "Epoch 00009: val_sklearn_auc improved from 0.98623 to 0.98669, saving model to saved_models/weights.best.hdf5\n",
      "Epoch 10/25\n",
      "143613/143613 [==============================] - 407s 3ms/step - loss: 0.0470 - tf_binary_auc: 0.9866 - val_loss: 0.0422 - val_tf_binary_auc: 0.9897\n",
      "- sklearn_auc: 0.9885\n",
      "- val_sklearn_auc: 0.9870\n",
      "\n",
      "Epoch 00010: val_sklearn_auc improved from 0.98669 to 0.98696, saving model to saved_models/weights.best.hdf5\n",
      "Epoch 11/25\n",
      "143613/143613 [==============================] - 407s 3ms/step - loss: 0.0468 - tf_binary_auc: 0.9868 - val_loss: 0.0418 - val_tf_binary_auc: 0.9899\n",
      "- sklearn_auc: 0.9890\n",
      "- val_sklearn_auc: 0.9872\n",
      "\n",
      "Epoch 00011: val_sklearn_auc improved from 0.98696 to 0.98721, saving model to saved_models/weights.best.hdf5\n",
      "Epoch 12/25\n",
      "143613/143613 [==============================] - 406s 3ms/step - loss: 0.0463 - tf_binary_auc: 0.9874 - val_loss: 0.0420 - val_tf_binary_auc: 0.9896\n",
      "- sklearn_auc: 0.9892\n",
      "- val_sklearn_auc: 0.9871\n",
      "\n",
      "Epoch 00012: val_sklearn_auc did not improve from 0.98721\n",
      "Epoch 13/25\n",
      "143613/143613 [==============================] - 405s 3ms/step - loss: 0.0460 - tf_binary_auc: 0.9876 - val_loss: 0.0420 - val_tf_binary_auc: 0.9898\n",
      "- sklearn_auc: 0.9895\n",
      "- val_sklearn_auc: 0.9874\n",
      "\n",
      "Epoch 00013: val_sklearn_auc improved from 0.98721 to 0.98743, saving model to saved_models/weights.best.hdf5\n",
      "Epoch 14/25\n",
      "143613/143613 [==============================] - 407s 3ms/step - loss: 0.0459 - tf_binary_auc: 0.9875 - val_loss: 0.0422 - val_tf_binary_auc: 0.9898\n",
      "- sklearn_auc: 0.9898\n",
      "- val_sklearn_auc: 0.9875\n",
      "\n",
      "Epoch 00014: val_sklearn_auc improved from 0.98743 to 0.98750, saving model to saved_models/weights.best.hdf5\n",
      "Epoch 15/25\n",
      "143613/143613 [==============================] - 410s 3ms/step - loss: 0.0451 - tf_binary_auc: 0.9876 - val_loss: 0.0419 - val_tf_binary_auc: 0.9899\n",
      "- sklearn_auc: 0.9902\n",
      "- val_sklearn_auc: 0.9877\n",
      "\n",
      "Epoch 00015: val_sklearn_auc improved from 0.98750 to 0.98771, saving model to saved_models/weights.best.hdf5\n",
      "Epoch 16/25\n",
      "143613/143613 [==============================] - 408s 3ms/step - loss: 0.0451 - tf_binary_auc: 0.9879 - val_loss: 0.0418 - val_tf_binary_auc: 0.9899\n",
      "- sklearn_auc: 0.9903\n",
      "- val_sklearn_auc: 0.9879\n",
      "\n",
      "Epoch 00016: val_sklearn_auc improved from 0.98771 to 0.98786, saving model to saved_models/weights.best.hdf5\n",
      "Epoch 17/25\n",
      "143613/143613 [==============================] - 408s 3ms/step - loss: 0.0448 - tf_binary_auc: 0.9880 - val_loss: 0.0417 - val_tf_binary_auc: 0.9898\n",
      "- sklearn_auc: 0.9905\n",
      "- val_sklearn_auc: 0.9880\n",
      "\n",
      "Epoch 00017: val_sklearn_auc improved from 0.98786 to 0.98801, saving model to saved_models/weights.best.hdf5\n",
      "Epoch 18/25\n",
      "143613/143613 [==============================] - 412s 3ms/step - loss: 0.0450 - tf_binary_auc: 0.9880 - val_loss: 0.0417 - val_tf_binary_auc: 0.9901\n",
      "- sklearn_auc: 0.9908\n",
      "- val_sklearn_auc: 0.9882\n",
      "\n",
      "Epoch 00018: val_sklearn_auc improved from 0.98801 to 0.98816, saving model to saved_models/weights.best.hdf5\n",
      "Epoch 19/25\n",
      "143613/143613 [==============================] - 415s 3ms/step - loss: 0.0446 - tf_binary_auc: 0.9883 - val_loss: 0.0419 - val_tf_binary_auc: 0.9902\n",
      "- sklearn_auc: 0.9909\n",
      "- val_sklearn_auc: 0.9881\n",
      "\n",
      "Epoch 00019: val_sklearn_auc did not improve from 0.98816\n",
      "Epoch 20/25\n",
      "143613/143613 [==============================] - 413s 3ms/step - loss: 0.0443 - tf_binary_auc: 0.9884 - val_loss: 0.0417 - val_tf_binary_auc: 0.9903\n",
      "- sklearn_auc: 0.9911\n",
      "- val_sklearn_auc: 0.9882\n",
      "\n",
      "Epoch 00020: val_sklearn_auc improved from 0.98816 to 0.98824, saving model to saved_models/weights.best.hdf5\n",
      "Epoch 21/25\n",
      "143613/143613 [==============================] - 410s 3ms/step - loss: 0.0444 - tf_binary_auc: 0.9882 - val_loss: 0.0416 - val_tf_binary_auc: 0.9902\n",
      "- sklearn_auc: 0.9912\n",
      "- val_sklearn_auc: 0.9882\n",
      "\n",
      "Epoch 00021: val_sklearn_auc improved from 0.98824 to 0.98824, saving model to saved_models/weights.best.hdf5\n",
      "Epoch 22/25\n",
      "143613/143613 [==============================] - 409s 3ms/step - loss: 0.0438 - tf_binary_auc: 0.9887 - val_loss: 0.0427 - val_tf_binary_auc: 0.9902\n",
      "- sklearn_auc: 0.9914\n",
      "- val_sklearn_auc: 0.9883\n",
      "\n",
      "Epoch 00022: val_sklearn_auc improved from 0.98824 to 0.98828, saving model to saved_models/weights.best.hdf5\n",
      "Epoch 23/25\n",
      "143613/143613 [==============================] - 407s 3ms/step - loss: 0.0442 - tf_binary_auc: 0.9885 - val_loss: 0.0415 - val_tf_binary_auc: 0.9902\n",
      "- sklearn_auc: 0.9915\n",
      "- val_sklearn_auc: 0.9884\n",
      "\n",
      "Epoch 00023: val_sklearn_auc improved from 0.98828 to 0.98837, saving model to saved_models/weights.best.hdf5\n",
      "Epoch 24/25\n",
      "143613/143613 [==============================] - 408s 3ms/step - loss: 0.0439 - tf_binary_auc: 0.9884 - val_loss: 0.0430 - val_tf_binary_auc: 0.9905\n",
      "- sklearn_auc: 0.9916\n",
      "- val_sklearn_auc: 0.9884\n",
      "\n",
      "Epoch 00024: val_sklearn_auc improved from 0.98837 to 0.98841, saving model to saved_models/weights.best.hdf5\n",
      "Epoch 25/25\n",
      "143613/143613 [==============================] - 418s 3ms/step - loss: 0.0437 - tf_binary_auc: 0.9889 - val_loss: 0.0417 - val_tf_binary_auc: 0.9905\n",
      "- sklearn_auc: 0.9917\n",
      "- val_sklearn_auc: 0.9885\n",
      "\n",
      "Epoch 00025: val_sklearn_auc improved from 0.98841 to 0.98847, saving model to saved_models/weights.best.hdf5\n"
     ]
    }
   ],
   "source": [
    "# Fit the model with the train and validation datasets\n",
    "from keras.wrappers.scikit_learn import KerasClassifier\n",
    "estimator = KerasClassifier(make_model,epochs=epochs,batch_size=batch_size,verbose=1)\n",
    "h = estimator.fit(x_trainS, y_trainS, validation_data=(x_val, y_val), callbacks=cb)"
   ]
  },
  {
   "cell_type": "code",
   "execution_count": 16,
   "metadata": {},
   "outputs": [
    {
     "name": "stdout",
     "output_type": "stream",
     "text": [
      "__________________________________________________________________________________________________\n",
      "Layer (type)                    Output Shape         Param #     Connected to                     \n",
      "==================================================================================================\n",
      "input_2 (InputLayer)            (None, 200)          0                                            \n",
      "__________________________________________________________________________________________________\n",
      "embedding_2 (Embedding)         (None, 200, 300)     30000000    input_2[0][0]                    \n",
      "__________________________________________________________________________________________________\n",
      "spatial_dropout1d_2 (SpatialDro (None, 200, 300)     0           embedding_2[0][0]                \n",
      "__________________________________________________________________________________________________\n",
      "reshape_2 (Reshape)             (None, 200, 300, 1)  0           spatial_dropout1d_2[0][0]        \n",
      "__________________________________________________________________________________________________\n",
      "conv2d_4 (Conv2D)               (None, 199, 1, 32)   19232       reshape_2[0][0]                  \n",
      "__________________________________________________________________________________________________\n",
      "conv2d_5 (Conv2D)               (None, 198, 1, 32)   28832       reshape_2[0][0]                  \n",
      "__________________________________________________________________________________________________\n",
      "conv2d_6 (Conv2D)               (None, 197, 1, 32)   38432       reshape_2[0][0]                  \n",
      "__________________________________________________________________________________________________\n",
      "max_pooling2d_4 (MaxPooling2D)  (None, 1, 1, 32)     0           conv2d_4[0][0]                   \n",
      "__________________________________________________________________________________________________\n",
      "max_pooling2d_5 (MaxPooling2D)  (None, 1, 1, 32)     0           conv2d_5[0][0]                   \n",
      "__________________________________________________________________________________________________\n",
      "max_pooling2d_6 (MaxPooling2D)  (None, 1, 1, 32)     0           conv2d_6[0][0]                   \n",
      "__________________________________________________________________________________________________\n",
      "concatenate_2 (Concatenate)     (None, 3, 1, 32)     0           max_pooling2d_4[0][0]            \n",
      "                                                                 max_pooling2d_5[0][0]            \n",
      "                                                                 max_pooling2d_6[0][0]            \n",
      "__________________________________________________________________________________________________\n",
      "flatten_2 (Flatten)             (None, 96)           0           concatenate_2[0][0]              \n",
      "__________________________________________________________________________________________________\n",
      "dropout_2 (Dropout)             (None, 96)           0           flatten_2[0][0]                  \n",
      "__________________________________________________________________________________________________\n",
      "dense_2 (Dense)                 (None, 6)            582         dropout_2[0][0]                  \n",
      "==================================================================================================\n",
      "Total params: 30,087,078\n",
      "Trainable params: 87,078\n",
      "Non-trainable params: 30,000,000\n",
      "__________________________________________________________________________________________________\n"
     ]
    }
   ],
   "source": [
    "from keras.models import load_model\n",
    "model_saved = load_model(file_path, custom_objects={'tf_binary_auc': tf_binary_auc})\n",
    "model_saved.summary()"
   ]
  },
  {
   "cell_type": "code",
   "execution_count": 17,
   "metadata": {},
   "outputs": [
    {
     "name": "stdout",
     "output_type": "stream",
     "text": [
      "\n",
      " roc_auc score: 0.982905 \n",
      "\n"
     ]
    }
   ],
   "source": [
    "y_pred = model_saved.predict(x_test, batch_size=batch_size)\n",
    "score = roc_auc_score(y_test, y_pred)\n",
    "print(\"\\n roc_auc score: %.6f \\n\" % (score))"
   ]
  },
  {
   "cell_type": "code",
   "execution_count": 18,
   "metadata": {},
   "outputs": [
    {
     "name": "stdout",
     "output_type": "stream",
     "text": [
      "toxic label tpr > 0.98: 0.0787\n",
      "toxic label fpr < 0.10: 0.2996\n"
     ]
    },
    {
     "data": {
      "text/plain": [
       "<Figure size 720x576 with 0 Axes>"
      ]
     },
     "metadata": {},
     "output_type": "display_data"
    },
    {
     "data": {
      "image/png": "[encoded data removed]",
      "text/plain": [
       "<Figure size 720x576 with 1 Axes>"
      ]
     },
     "metadata": {
      "needs_background": "light"
     },
     "output_type": "display_data"
    }
   ],
   "source": [
    "# Compute ROC curves and AUCs for test\n",
    "from sklearn.metrics import roc_curve, auc\n",
    "from scipy import interp\n",
    "\n",
    "# Compute false positive rate (fpr), true positive rate (tpr) and area under the curves (rocauc)\n",
    "fpr = dict()\n",
    "tpr = dict()\n",
    "thr = dict()\n",
    "rocauc = dict()\n",
    "for i in range(y_test.shape[1]):\n",
    "    fpr[i], tpr[i], thr[i] = roc_curve(y_test[:, i], y_pred[:, i])\n",
    "    rocauc[i] = auc(fpr[i], tpr[i])\n",
    "\n",
    "# Compute micro-average ROC curve and ROC area\n",
    "fpr[\"micro\"], tpr[\"micro\"], thr[\"micro\"] = roc_curve(y_test.ravel(), y_pred.ravel())\n",
    "rocauc[\"micro\"] = auc(fpr[\"micro\"], tpr[\"micro\"])\n",
    "\n",
    "# Compute Macro-average ROC curve and ROC area\n",
    "# First aggregate all false positive rates\n",
    "all_fpr = np.unique(np.concatenate([fpr[i] for i in range(y_test.shape[1])]))\n",
    "\n",
    "# Then interpolate all ROC curves at this points\n",
    "mean_tpr = np.zeros_like(all_fpr)\n",
    "for i in range(y_test.shape[1]):\n",
    "    mean_tpr += interp(all_fpr, fpr[i], tpr[i])\n",
    "\n",
    "# Finally average it and compute AUC\n",
    "mean_tpr /= y_test.shape[1]\n",
    "\n",
    "# Then interpolate all ROC curves at this points\n",
    "mean_thr = np.zeros_like(all_fpr)\n",
    "for i in range(y_test.shape[1]):\n",
    "    mean_thr += interp(all_fpr, fpr[i], thr[i])\n",
    "\n",
    "# Finally average it and compute AUC\n",
    "mean_thr /= y_test.shape[1]\n",
    "\n",
    "fpr[\"macro\"] = all_fpr\n",
    "tpr[\"macro\"] = mean_tpr\n",
    "thr[\"macro\"] = mean_thr\n",
    "rocauc[\"macro\"] = auc(fpr[\"macro\"], tpr[\"macro\"])\n",
    "\n",
    "# to increase tpr, you also increase fpr. It is a trade off between the two.\n",
    "# Business requirement determine which one is more important\n",
    "# We can calculate the threshold to garantee a minimum tpr or a maximum fpr\n",
    "# We see here that to increase tpr, we need to lower threshold\n",
    "# to decrease fpr, we need to increase threshold\n",
    "\n",
    "tpr_cut = 0.98\n",
    "fpr_cut = 0.10\n",
    "\n",
    "# index of the first threshold for which the sensitivity > tpr_cut\n",
    "idx1 = np.min(np.where(tpr[\"micro\"] > tpr_cut)) \n",
    "# index of the first threshold for which the fall out < fpr_cut\n",
    "idx2 = np.max(np.where(fpr[\"micro\"] < fpr_cut)) \n",
    "# index of the first threshold for which the sensitivity > tpr_cut\n",
    "idx3 = np.min(np.where(tpr[\"macro\"] > tpr_cut)) \n",
    "# index of the first threshold for which the fall out < fpr_cut\n",
    "idx4 = np.max(np.where(fpr[\"macro\"] < fpr_cut)) \n",
    "# index of the first threshold for which the sensitivity > tpr_cut\n",
    "idx5 = np.min(np.where(tpr[0] > tpr_cut)) \n",
    "# index of the first threshold for which the fall out < fpr_cut\n",
    "idx6 = np.max(np.where(fpr[0] < fpr_cut)) \n",
    "\n",
    "'''\n",
    "print(\"Micro Average tpr > %.2f: %.4f\" % (tpr_cut,thr[\"micro\"][idx1]))\n",
    "print(\"Micro Average fpr < %.2f: %.4f\" % (fpr_cut,thr[\"micro\"][idx2]))\n",
    "print(\"Macro Average tpr > %.2f: %.4f\" % (tpr_cut,thr[\"macro\"][idx3]))\n",
    "print(\"Macro Average fpr < %.2f: %.4f\" % (fpr_cut,thr[\"macro\"][idx4]))\n",
    "'''\n",
    "print(\"toxic label tpr > %.2f: %.4f\" % (tpr_cut,thr[0][idx5]))\n",
    "print(\"toxic label fpr < %.2f: %.4f\" % (fpr_cut,thr[0][idx6]))\n",
    "\n",
    "# Plot all ROC curves\n",
    "import matplotlib.pyplot as plt\n",
    "%matplotlib inline\n",
    "from itertools import cycle\n",
    "\n",
    "plt.figure(figsize=(10,8))\n",
    "lw = 2\n",
    "\n",
    "plt.figure(figsize=(10,8))\n",
    "plt.plot(fpr[\"micro\"], tpr[\"micro\"],\n",
    "         label='micro-average ROC curve (area = {0:0.4f})'\n",
    "               ''.format(rocauc[\"micro\"]),\n",
    "         color='deeppink', linestyle=':', linewidth=4)\n",
    "\n",
    "plt.plot(fpr[\"macro\"], tpr[\"macro\"],\n",
    "         label='macro-average ROC curve (area = {0:0.4f})'\n",
    "               ''.format(rocauc[\"macro\"]),\n",
    "         color='navy', linestyle=':', linewidth=4)\n",
    "'''\n",
    "plt.plot([0,fpr[\"micro\"][idx1]], [tpr[\"micro\"][idx1],tpr[\"micro\"][idx1]], 'k--', color='blue')\n",
    "plt.plot([fpr[\"micro\"][idx1],fpr[\"micro\"][idx1]], [0,tpr[\"micro\"][idx1]], 'k--', color='blue')\n",
    "\n",
    "plt.plot([0,fpr[\"micro\"][idx2]], [tpr[\"micro\"][idx2],tpr[\"micro\"][idx2]], 'k--', color='red')\n",
    "plt.plot([fpr[\"micro\"][idx2],fpr[\"micro\"][idx2]], [0,tpr[\"micro\"][idx2]], 'k--', color='red')\n",
    "\n",
    "plt.plot([0,fpr[\"macro\"][idx3]], [tpr[\"macro\"][idx3],tpr[\"macro\"][idx3]], 'k--', color='blue')\n",
    "plt.plot([fpr[\"macro\"][idx3],fpr[\"macro\"][idx3]], [0,tpr[\"macro\"][idx3]], 'k--', color='blue')\n",
    "\n",
    "plt.plot([0,fpr[\"macro\"][idx4]], [tpr[\"macro\"][idx4],tpr[\"macro\"][idx4]], 'k--', color='red')\n",
    "plt.plot([fpr[\"macro\"][idx4],fpr[\"macro\"][idx4]], [0,tpr[\"macro\"][idx4]], 'k--', color='red')\n",
    "'''\n",
    "plt.plot([0,fpr[0][idx5]], [tpr[0][idx5],tpr[0][idx5]], 'k--', color='blue')\n",
    "plt.plot([fpr[0][idx5],fpr[0][idx5]], [0,tpr[0][idx5]], 'k--', color='blue')\n",
    "\n",
    "plt.plot([0,fpr[0][idx6]], [tpr[0][idx6],tpr[0][idx6]], 'k--', color='red')\n",
    "plt.plot([fpr[0][idx6],fpr[0][idx6]], [0,tpr[0][idx6]], 'k--', color='red')\n",
    "\n",
    "colors = cycle(['aqua', 'darkorange', 'cornflowerblue'])\n",
    "for i, color in zip(range(y_test.shape[1]), colors):\n",
    "    plt.plot(fpr[i], tpr[i], color=color, lw=lw,\n",
    "             label='ROC curve of {0} (area = {1:0.4f})'\n",
    "             ''.format(label_names[i], rocauc[i]))\n",
    "\n",
    "plt.plot([0, 1], [0, 1], 'k--', lw=lw)\n",
    "plt.xlim([0.0, 1.0])\n",
    "plt.ylim([0.0, 1.05])\n",
    "plt.xlabel('False Positive Rate')\n",
    "plt.ylabel('True Positive Rate')\n",
    "plt.title('ROC Curves and Areas under the Curves')\n",
    "plt.legend(loc=\"lower right\")\n",
    "plt.show()"
   ]
  },
  {
   "cell_type": "code",
   "execution_count": 19,
   "metadata": {},
   "outputs": [
    {
     "name": "stdout",
     "output_type": "stream",
     "text": [
      "dict_keys(['val_loss', 'val_tf_binary_auc', 'loss', 'tf_binary_auc', 'sklearn_auc', 'val_sklearn_auc'])\n"
     ]
    }
   ],
   "source": [
    "# Visualize training history\n",
    "import matplotlib.pyplot as plt\n",
    "import numpy\n",
    "\n",
    "# list all data in history\n",
    "print(h.history.keys())"
   ]
  },
  {
   "cell_type": "code",
   "execution_count": 20,
   "metadata": {},
   "outputs": [
    {
     "data": {
      "image/png": "[encoded data removed]",
      "text/plain": [
       "<Figure size 720x576 with 1 Axes>"
      ]
     },
     "metadata": {
      "needs_background": "light"
     },
     "output_type": "display_data"
    },
    {
     "data": {
      "image/png": "[encoded data removed]",
      "text/plain": [
       "<Figure size 720x576 with 1 Axes>"
      ]
     },
     "metadata": {
      "needs_background": "light"
     },
     "output_type": "display_data"
    }
   ],
   "source": [
    "# summarize history for accuracy\n",
    "plt.figure(figsize=(10,8))\n",
    "#plt.plot(h.history['tf_binary_auc'])\n",
    "#plt.plot(h.history['val_tf_binary_auc'])\n",
    "plt.plot(h.history['sklearn_auc'])\n",
    "plt.plot(h.history['val_sklearn_auc'])\n",
    "plt.title('model area under the curve')\n",
    "plt.ylabel('auc')\n",
    "plt.xlabel('epoch')\n",
    "#plt.legend(['tf binary auc train', 'tf binary auc test', 'sklearn auc train', 'sklearn auc test'], loc='upper left')\n",
    "plt.legend(['sklearn auc train', 'sklearn auc test'], loc='upper left')\n",
    "plt.show()\n",
    "# summarize history for loss\n",
    "plt.figure(figsize=(10,8))\n",
    "plt.plot(h.history['loss'])\n",
    "plt.plot(h.history['val_loss'])\n",
    "plt.title('model loss')\n",
    "plt.ylabel('loss')\n",
    "plt.xlabel('epoch')\n",
    "plt.legend(['train', 'test'], loc='upper left')\n",
    "plt.show()"
   ]
  },
  {
   "cell_type": "code",
   "execution_count": 22,
   "metadata": {},
   "outputs": [
    {
     "name": "stdout",
     "output_type": "stream",
     "text": [
      "\n",
      " roc_auc score: 0.982905 \n",
      "\n"
     ]
    },
    {
     "data": {
      "text/plain": [
       "''"
      ]
     },
     "execution_count": 22,
     "metadata": {},
     "output_type": "execute_result"
    }
   ],
   "source": [
    "save_path = 'pred_candidate-234-tanh-25e-sd0.5-d0.2-adadelta-dot9829.csv'\n",
    "pred_save = test.copy()\n",
    "pred_save[[\"toxic\", \"severe_toxic\", \"obscene\", \"threat\", \"insult\", \"identity_hate\"]] = y_pred\n",
    "pred_save.to_csv(save_path, index=False)\n",
    "pred_test = pd.read_csv(save_path)\n",
    "pred_test = pred_test[label_names]\n",
    "score = roc_auc_score(y_test, pred_test)\n",
    "print(\"\\n roc_auc score: %.6f \\n\" % (score))"
   ]
  },
  {
   "cell_type": "code",
   "execution_count": null,
   "metadata": {},
   "outputs": [],
   "source": []
  }
 ],
 "metadata": {
  "kernelspec": {
   "display_name": "Python [conda env:toxic3]",
   "language": "python",
   "name": "conda-env-toxic3-py"
  },
  "language_info": {
   "codemirror_mode": {
    "name": "ipython",
    "version": 3
   },
   "file_extension": ".py",
   "mimetype": "text/x-python",
   "name": "python",
   "nbconvert_exporter": "python",
   "pygments_lexer": "ipython3",
   "version": "3.6.7"
  }
 },
 "nbformat": 4,
 "nbformat_minor": 2
}
