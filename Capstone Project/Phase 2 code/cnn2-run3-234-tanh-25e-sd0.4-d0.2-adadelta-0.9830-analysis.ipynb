{
 "cells": [
  {
   "cell_type": "code",
   "execution_count": 1,
   "metadata": {},
   "outputs": [
    {
     "name": "stderr",
     "output_type": "stream",
     "text": [
      "Using TensorFlow backend.\n"
     ]
    }
   ],
   "source": [
    "import tensorflow as tf\n",
    "import keras.backend as K\n",
    "import numpy as np\n",
    "import pandas as pd\n",
    "np.random.seed(8)\n",
    "from sklearn.metrics import roc_auc_score\n",
    "from keras.preprocessing import text, sequence\n",
    "\n",
    "# FROM https://www.kaggle.com/c/porto-seguro-safe-driver-prediction/discussion/41015\n",
    "# AUC for a binary classifier\n",
    "def tf_binary_auc(y_true, y_pred):\n",
    "    ptas = tf.stack([binary_PTA(y_true,y_pred,k) for k in np.linspace(0, 1, 1000)],axis=0)\n",
    "    pfas = tf.stack([binary_PFA(y_true,y_pred,k) for k in np.linspace(0, 1, 1000)],axis=0)\n",
    "    pfas = tf.concat([tf.ones((1,)) ,pfas],axis=0)\n",
    "    binSizes = -(pfas[1:]-pfas[:-1])\n",
    "    s = ptas*binSizes\n",
    "    return K.sum(s, axis=0)\n",
    "\n",
    "#---------------------\n",
    "# PFA, prob false alert for binary classifier\n",
    "def binary_PFA(y_true, y_pred, threshold=K.variable(value=0.8)):\n",
    "    y_pred = K.cast(y_pred >= threshold, 'float32')\n",
    "    # N = total number of negative labels\n",
    "    N = K.sum(1 - y_true)\n",
    "    # FP = total number of false alerts, alerts from the negative class labels\n",
    "    FP = K.sum(y_pred - y_pred * y_true)\n",
    "    return FP/N\n",
    "\n",
    "#----------------\n",
    "# P_TA prob true alerts for binary classifier\n",
    "def binary_PTA(y_true, y_pred, threshold=K.variable(value=0.8)):\n",
    "    y_pred = K.cast(y_pred >= threshold, 'float32')\n",
    "    # P = total number of positive labels\n",
    "    P = K.sum(y_true)\n",
    "    # TP = total number of correct alerts, alerts from the positive class labels\n",
    "    TP = K.sum(y_pred * y_true)\n",
    "    return TP/P"
   ]
  },
  {
   "cell_type": "code",
   "execution_count": 2,
   "metadata": {},
   "outputs": [
    {
     "name": "stdout",
     "output_type": "stream",
     "text": [
      "__________________________________________________________________________________________________\n",
      "Layer (type)                    Output Shape         Param #     Connected to                     \n",
      "==================================================================================================\n",
      "input_2 (InputLayer)            (None, 200)          0                                            \n",
      "__________________________________________________________________________________________________\n",
      "embedding_2 (Embedding)         (None, 200, 300)     30000000    input_2[0][0]                    \n",
      "__________________________________________________________________________________________________\n",
      "spatial_dropout1d_2 (SpatialDro (None, 200, 300)     0           embedding_2[0][0]                \n",
      "__________________________________________________________________________________________________\n",
      "reshape_2 (Reshape)             (None, 200, 300, 1)  0           spatial_dropout1d_2[0][0]        \n",
      "__________________________________________________________________________________________________\n",
      "conv2d_4 (Conv2D)               (None, 199, 1, 32)   19232       reshape_2[0][0]                  \n",
      "__________________________________________________________________________________________________\n",
      "conv2d_5 (Conv2D)               (None, 198, 1, 32)   28832       reshape_2[0][0]                  \n",
      "__________________________________________________________________________________________________\n",
      "conv2d_6 (Conv2D)               (None, 197, 1, 32)   38432       reshape_2[0][0]                  \n",
      "__________________________________________________________________________________________________\n",
      "max_pooling2d_4 (MaxPooling2D)  (None, 1, 1, 32)     0           conv2d_4[0][0]                   \n",
      "__________________________________________________________________________________________________\n",
      "max_pooling2d_5 (MaxPooling2D)  (None, 1, 1, 32)     0           conv2d_5[0][0]                   \n",
      "__________________________________________________________________________________________________\n",
      "max_pooling2d_6 (MaxPooling2D)  (None, 1, 1, 32)     0           conv2d_6[0][0]                   \n",
      "__________________________________________________________________________________________________\n",
      "concatenate_2 (Concatenate)     (None, 3, 1, 32)     0           max_pooling2d_4[0][0]            \n",
      "                                                                 max_pooling2d_5[0][0]            \n",
      "                                                                 max_pooling2d_6[0][0]            \n",
      "__________________________________________________________________________________________________\n",
      "flatten_2 (Flatten)             (None, 96)           0           concatenate_2[0][0]              \n",
      "__________________________________________________________________________________________________\n",
      "dropout_2 (Dropout)             (None, 96)           0           flatten_2[0][0]                  \n",
      "__________________________________________________________________________________________________\n",
      "dense_2 (Dense)                 (None, 6)            582         dropout_2[0][0]                  \n",
      "==================================================================================================\n",
      "Total params: 30,087,078\n",
      "Trainable params: 87,078\n",
      "Non-trainable params: 30,000,000\n",
      "__________________________________________________________________________________________________\n"
     ]
    }
   ],
   "source": [
    "# Load saved model\n",
    "batch_size=256\n",
    "file_path = 'saved_models/e25.234.run3.hdf5'\n",
    "\n",
    "from keras.models import load_model\n",
    "model_saved = load_model(file_path, custom_objects={'tf_binary_auc': tf_binary_auc})\n",
    "model_saved.summary()"
   ]
  },
  {
   "cell_type": "code",
   "execution_count": 3,
   "metadata": {},
   "outputs": [],
   "source": [
    "# Read in train and test datasets\n",
    "train = pd.read_csv('train.csv')\n",
    "test_cm = pd.read_csv('test.csv')\n",
    "test_lb = pd.read_csv('test_labels.csv')\n",
    "test_all = pd.merge(test_cm, test_lb, on='id')\n",
    "test = test_all[test_all['toxic'] != -1]\n",
    "\n",
    "# Create train and test datasets. \n",
    "# We need train dataset to recreate tokens to convert test dataset to sequences\n",
    "label_names = [\"toxic\", \"severe_toxic\", \"obscene\", \"threat\", \"insult\", \"identity_hate\"]\n",
    "X_train = train[\"comment_text\"]\n",
    "X_test = test[\"comment_text\"]\n",
    "y_test = test[label_names].values\n",
    "\n",
    "# Define vocabulary size\n",
    "vocab = 100000\n",
    "# Define maximum length of a comment\n",
    "maxlen = 200\n",
    "\n",
    "# Tokenize the train dataset\n",
    "t = text.Tokenizer(num_words=vocab)\n",
    "t.fit_on_texts(list(X_train))\n",
    "\n",
    "# Convert test datasets into sequences\n",
    "X_test = t.texts_to_sequences(X_test)\n",
    "x_test = sequence.pad_sequences(X_test, maxlen=maxlen)"
   ]
  },
  {
   "cell_type": "code",
   "execution_count": 4,
   "metadata": {},
   "outputs": [
    {
     "name": "stdout",
     "output_type": "stream",
     "text": [
      "No data cleaning and not removing stopwords:\n",
      "\n",
      " roc_auc score: 0.982987 \n",
      "\n"
     ]
    }
   ],
   "source": [
    "y_pred = model_saved.predict(x_test, batch_size=batch_size)\n",
    "score = roc_auc_score(y_test, y_pred)\n",
    "print(\"No data cleaning and not removing stopwords:\")\n",
    "print(\"\\n roc_auc score: %.6f \\n\" % (score))"
   ]
  },
  {
   "cell_type": "code",
   "execution_count": 5,
   "metadata": {},
   "outputs": [],
   "source": [
    "# Define function plot_roc to compute ROC curves and AUCs for test\n",
    "def plot_roc(y_test, y_pred):\n",
    "    from sklearn.metrics import roc_curve, auc\n",
    "    from scipy import interp\n",
    "\n",
    "    # Compute false positive rate (fpr), true positive rate (tpr) and area under the curves (rocauc)\n",
    "    fpr = dict()\n",
    "    tpr = dict()\n",
    "    thr = dict()\n",
    "    rocauc = dict()\n",
    "    for i in range(y_test.shape[1]):\n",
    "        fpr[i], tpr[i], thr[i] = roc_curve(y_test[:, i], y_pred[:, i])\n",
    "        rocauc[i] = auc(fpr[i], tpr[i])\n",
    "\n",
    "    # Compute micro-average ROC curve and ROC area\n",
    "    fpr[\"micro\"], tpr[\"micro\"], thr[\"micro\"] = roc_curve(y_test.ravel(), y_pred.ravel())\n",
    "    rocauc[\"micro\"] = auc(fpr[\"micro\"], tpr[\"micro\"])\n",
    "\n",
    "    # Compute Macro-average ROC curve and ROC area\n",
    "    # First aggregate all false positive rates\n",
    "    all_fpr = np.unique(np.concatenate([fpr[i] for i in range(y_test.shape[1])]))\n",
    "\n",
    "    # Then interpolate all ROC curves at this points\n",
    "    mean_tpr = np.zeros_like(all_fpr)\n",
    "    for i in range(y_test.shape[1]):\n",
    "        mean_tpr += interp(all_fpr, fpr[i], tpr[i])\n",
    "\n",
    "    # Finally average it and compute AUC\n",
    "    mean_tpr /= y_test.shape[1]\n",
    "\n",
    "    # Then interpolate all ROC curves at this points\n",
    "    mean_thr = np.zeros_like(all_fpr)\n",
    "    for i in range(y_test.shape[1]):\n",
    "        mean_thr += interp(all_fpr, fpr[i], thr[i])\n",
    "\n",
    "    # Finally average it and compute AUC\n",
    "    mean_thr /= y_test.shape[1]\n",
    "\n",
    "    fpr[\"macro\"] = all_fpr\n",
    "    tpr[\"macro\"] = mean_tpr\n",
    "    thr[\"macro\"] = mean_thr\n",
    "    rocauc[\"macro\"] = auc(fpr[\"macro\"], tpr[\"macro\"])\n",
    "\n",
    "    # to increase tpr, you also increase fpr. It is a trade off between the two.\n",
    "    # Business requirement determine which one is more important\n",
    "    # We can calculate the threshold to garantee a minimum tpr or a maximum fpr\n",
    "    # We see here that to increase tpr, we need to lower threshold\n",
    "    # to decrease fpr, we need to increase threshold\n",
    "\n",
    "    tpr_cut = 0.90\n",
    "    fpr_cut = 0.10\n",
    "    label = 'toxic'\n",
    "    idx = label_names.index(label)\n",
    "    \n",
    "    # index of the first threshold for which the sensitivity > tpr_cut\n",
    "    idx1 = np.min(np.where(tpr[\"micro\"] > tpr_cut)) \n",
    "    # index of the first threshold for which the fall out < fpr_cut\n",
    "    idx2 = np.max(np.where(fpr[\"micro\"] < fpr_cut)) \n",
    "    # index of the first threshold for which the sensitivity > tpr_cut\n",
    "    idx3 = np.min(np.where(tpr[\"macro\"] > tpr_cut)) \n",
    "    # index of the first threshold for which the fall out < fpr_cut\n",
    "    idx4 = np.max(np.where(fpr[\"macro\"] < fpr_cut)) \n",
    "    # index of the first threshold for which the sensitivity > tpr_cut\n",
    "    idx5 = np.min(np.where(tpr[idx] > tpr_cut)) \n",
    "    # index of the first threshold for which the fall out < fpr_cut\n",
    "    idx6 = np.max(np.where(fpr[idx] < fpr_cut)) \n",
    "\n",
    "    '''\n",
    "    print(\"Micro Average tpr > %.2f: %.4f\" % (tpr_cut,thr[\"micro\"][idx1]))\n",
    "    print(\"Micro Average fpr < %.2f: %.4f\" % (fpr_cut,thr[\"micro\"][idx2]))\n",
    "    print(\"Macro Average tpr > %.2f: %.4f\" % (tpr_cut,thr[\"macro\"][idx3]))\n",
    "    print(\"Macro Average fpr < %.2f: %.4f\" % (fpr_cut,thr[\"macro\"][idx4]))\n",
    "    '''\n",
    "    print('threshold for label \"{}\" at tpr > {:.2f} is {:.4f}'.format(label,tpr_cut,thr[idx][idx5]))\n",
    "    print('threshold for label \"{}\" at fpr < {:.2f} is {:.4f}'.format(label,fpr_cut,thr[idx][idx6]))\n",
    "\n",
    "    # Plot all ROC curves\n",
    "    import matplotlib.pyplot as plt\n",
    "    %matplotlib inline\n",
    "    from itertools import cycle\n",
    "\n",
    "    plt.figure(figsize=(10,8))\n",
    "    lw = 2\n",
    "\n",
    "    plt.figure(figsize=(10,8))\n",
    "    plt.plot(fpr[\"micro\"], tpr[\"micro\"],\n",
    "         label='micro-average ROC curve (area = {0:0.4f})'\n",
    "               ''.format(rocauc[\"micro\"]),\n",
    "         color='deeppink', linestyle=':', linewidth=4)\n",
    "\n",
    "    plt.plot(fpr[\"macro\"], tpr[\"macro\"],\n",
    "         label='macro-average ROC curve (area = {0:0.4f})'\n",
    "               ''.format(rocauc[\"macro\"]),\n",
    "         color='navy', linestyle=':', linewidth=4)\n",
    "    '''\n",
    "    plt.plot([0,fpr[\"micro\"][idx1]], [tpr[\"micro\"][idx1],tpr[\"micro\"][idx1]], 'k--', color='blue')\n",
    "    plt.plot([fpr[\"micro\"][idx1],fpr[\"micro\"][idx1]], [0,tpr[\"micro\"][idx1]], 'k--', color='blue')\n",
    "\n",
    "    plt.plot([0,fpr[\"micro\"][idx2]], [tpr[\"micro\"][idx2],tpr[\"micro\"][idx2]], 'k--', color='red')\n",
    "    plt.plot([fpr[\"micro\"][idx2],fpr[\"micro\"][idx2]], [0,tpr[\"micro\"][idx2]], 'k--', color='red')\n",
    "\n",
    "    plt.plot([0,fpr[\"macro\"][idx3]], [tpr[\"macro\"][idx3],tpr[\"macro\"][idx3]], 'k--', color='blue')\n",
    "    plt.plot([fpr[\"macro\"][idx3],fpr[\"macro\"][idx3]], [0,tpr[\"macro\"][idx3]], 'k--', color='blue')\n",
    "\n",
    "    plt.plot([0,fpr[\"macro\"][idx4]], [tpr[\"macro\"][idx4],tpr[\"macro\"][idx4]], 'k--', color='red')\n",
    "    plt.plot([fpr[\"macro\"][idx4],fpr[\"macro\"][idx4]], [0,tpr[\"macro\"][idx4]], 'k--', color='red')\n",
    "    '''\n",
    "    plt.plot([0,fpr[idx][idx5]], [tpr[idx][idx5],tpr[idx][idx5]], 'k--', color='blue')\n",
    "    plt.plot([fpr[idx][idx5],fpr[idx][idx5]], [0,tpr[idx][idx5]], 'k--', color='blue')\n",
    "\n",
    "    plt.plot([0,fpr[idx][idx6]], [tpr[idx][idx6],tpr[idx][idx6]], 'k--', color='red')\n",
    "    plt.plot([fpr[idx][idx6],fpr[idx][idx6]], [0,tpr[idx][idx6]], 'k--', color='red')\n",
    "\n",
    "    colors = cycle(['aqua', 'darkorange', 'cornflowerblue'])\n",
    "    for i, color in zip(range(y_test.shape[1]), colors):\n",
    "        plt.plot(fpr[i], tpr[i], color=color, lw=lw,\n",
    "             label='ROC curve of {0} (area = {1:0.4f})'\n",
    "             ''.format(label_names[i], rocauc[i]))\n",
    "\n",
    "    plt.plot([0, 1], [0, 1], 'k--', lw=lw)\n",
    "    plt.xlim([0.0, 1.0])\n",
    "    plt.ylim([0.0, 1.05])\n",
    "    plt.xlabel('False Positive Rate')\n",
    "    plt.ylabel('True Positive Rate')\n",
    "    plt.title('ROC Curves and Areas under the Curves')\n",
    "    plt.legend(loc=\"lower right\")\n",
    "    plt.show()\n",
    "    return label, idx, thr, idx5, idx6"
   ]
  },
  {
   "cell_type": "code",
   "execution_count": 6,
   "metadata": {},
   "outputs": [
    {
     "name": "stdout",
     "output_type": "stream",
     "text": [
      "threshold for label \"toxic\" at tpr > 0.90 is 0.3788\n",
      "threshold for label \"toxic\" at fpr < 0.10 is 0.2868\n"
     ]
    },
    {
     "data": {
      "text/plain": [
       "<Figure size 720x576 with 0 Axes>"
      ]
     },
     "metadata": {},
     "output_type": "display_data"
    },
    {
     "data": {
      "image/png": "[encoded data removed]",
      "text/plain": [
       "<Figure size 720x576 with 1 Axes>"
      ]
     },
     "metadata": {
      "needs_background": "light"
     },
     "output_type": "display_data"
    }
   ],
   "source": [
    "label, idx, thr, idx5, idx6 = plot_roc(y_test, y_pred)"
   ]
  },
  {
   "cell_type": "code",
   "execution_count": 7,
   "metadata": {},
   "outputs": [],
   "source": [
    "# Calculate both positive (class=1) and negative (class=0) density\n",
    "df = pd.DataFrame(np.column_stack([y_test, y_pred]))\n",
    "pos_d=df[df[df.columns[idx]] ==1.0][df.columns[idx + 6]]\n",
    "neg_d=df[df[df.columns[idx]] ==0.0][df.columns[idx + 6]]"
   ]
  },
  {
   "cell_type": "code",
   "execution_count": 8,
   "metadata": {},
   "outputs": [
    {
     "name": "stderr",
     "output_type": "stream",
     "text": [
      "/anaconda2/envs/toxic3/lib/python3.6/site-packages/scipy/stats/stats.py:1713: FutureWarning: Using a non-tuple sequence for multidimensional indexing is deprecated; use `arr[tuple(seq)]` instead of `arr[seq]`. In the future this will be interpreted as an array index, `arr[np.array(seq)]`, which will result either in an error or a different result.\n",
      "  return np.add.reduce(sorted[indexer] * weights, axis=axis) / sumval\n"
     ]
    },
    {
     "data": {
      "text/plain": [
       "Text(0, 0.5, 'Density')"
      ]
     },
     "execution_count": 8,
     "metadata": {},
     "output_type": "execute_result"
    },
    {
     "data": {
      "image/png": "[encoded data removed]",
      "text/plain": [
       "<Figure size 720x576 with 1 Axes>"
      ]
     },
     "metadata": {
      "needs_background": "light"
     },
     "output_type": "display_data"
    }
   ],
   "source": [
    "# Plot density distribution\n",
    "# Define plot size\n",
    "import matplotlib.pyplot as plt\n",
    "%matplotlib inline\n",
    "import seaborn as sns\n",
    "plt.figure(figsize=(10,8))\n",
    "sns.distplot(pos_d, hist = True, color='green', kde = True, bins=100,\n",
    "                 kde_kws = {'linewidth': 3},\n",
    "                 label = '1')\n",
    "sns.distplot(neg_d, hist = True, color='red', kde = True, bins=100,\n",
    "                 kde_kws = {'linewidth': 3},\n",
    "                 label = '0')\n",
    "\n",
    "# Plot formatting\n",
    "plt.legend(prop={'size': 16}, title = 'class')\n",
    "plt.title('Density with label \"' + label + '\" Prediction Distribution')\n",
    "plt.xlabel('Probability')\n",
    "plt.ylabel('Density')"
   ]
  },
  {
   "cell_type": "code",
   "execution_count": 9,
   "metadata": {},
   "outputs": [
    {
     "name": "stdout",
     "output_type": "stream",
     "text": [
      "Classification Report for label \"toxic\" at threshold 0.3788:\n",
      "              precision    recall  f1-score   support\n",
      "\n",
      "           0       0.99      0.92      0.95     57888\n",
      "           1       0.53      0.90      0.67      6090\n",
      "\n",
      "   micro avg       0.91      0.91      0.91     63978\n",
      "   macro avg       0.76      0.91      0.81     63978\n",
      "weighted avg       0.94      0.91      0.92     63978\n",
      "\n"
     ]
    }
   ],
   "source": [
    "# Generate classification report corresponding to cutoff at threshold value\n",
    "from sklearn.metrics import classification_report\n",
    "threshold = thr[idx][idx5]\n",
    "#threshold = thr[idx][idx6]\n",
    "print('Classification Report for label \"{}\" at threshold {:.4f}:'.format(label, threshold))\n",
    "print(classification_report(y_test[:,idx], (y_pred[:,idx]>threshold).astype(int)))"
   ]
  },
  {
   "cell_type": "code",
   "execution_count": 10,
   "metadata": {},
   "outputs": [
    {
     "name": "stdout",
     "output_type": "stream",
     "text": [
      "True Positive Rate for label \"toxic\" at threshold 0.3788:\n",
      "tpr: 0.9000 \n",
      "\n",
      "False Positive Rate for label \"toxic\" at threshold 0.3788:\n",
      "fpr: 0.0847 \n",
      "\n"
     ]
    }
   ],
   "source": [
    "# Calculate false positive rate corresponding to cutoff at threshold value\n",
    "from sklearn.metrics import confusion_matrix\n",
    "tn, fp, fn, tp = confusion_matrix(y_test[:,idx], (y_pred[:,idx]>threshold).astype(int)).ravel()\n",
    "print('True Positive Rate for label \"{}\" at threshold {:.4f}:'.format(label, threshold))\n",
    "print(\"tpr: %.4f \\n\" % (tp/(fn+tp)))\n",
    "print('False Positive Rate for label \"{}\" at threshold {:.4f}:'.format(label, threshold))\n",
    "print(\"fpr: %.4f \\n\" % (fp/(tn+fp)))"
   ]
  },
  {
   "cell_type": "code",
   "execution_count": 11,
   "metadata": {},
   "outputs": [
    {
     "name": "stdout",
     "output_type": "stream",
     "text": [
      "Label Ranking Average Precision (LRAP): 0.997921\n",
      "Label Ranking Loss (LRL): 0.001539\n"
     ]
    }
   ],
   "source": [
    "# Generate multi label reports\n",
    "from sklearn.metrics import label_ranking_average_precision_score, label_ranking_loss\n",
    "\n",
    "print(\"Label Ranking Average Precision (LRAP): %.6f\" % (label_ranking_average_precision_score(y_test, y_pred)))\n",
    "print(\"Label Ranking Loss (LRL): %.6f\" % (label_ranking_loss(y_test, y_pred)))"
   ]
  },
  {
   "cell_type": "code",
   "execution_count": 12,
   "metadata": {},
   "outputs": [],
   "source": [
    "# Define clean_data function\n",
    "import re\n",
    "def clean_data(test):\n",
    "    # Removing ip address\n",
    "    X_test_clean = test[\"comment_text\"].apply(lambda x: re.sub(\"(?:[0-9]{1,3}\\.){3}[0-9]{1,3}\",\"\",x))\n",
    "    # Removing url link\n",
    "    X_test_clean = X_test_clean.apply(lambda x: re.sub(\"http://.*com\",\"\",x))\n",
    "    # Removing username\n",
    "    X_test_clean = X_test_clean.apply(lambda x: re.sub(\"\\[\\[.*\\]\",\"\",x))\n",
    "    return X_test_clean"
   ]
  },
  {
   "cell_type": "code",
   "execution_count": 13,
   "metadata": {},
   "outputs": [],
   "source": [
    "# Define sequencing function to convert test datasets into sequences\n",
    "def sequencing(sentence):\n",
    "    sentence = t.texts_to_sequences(sentence)\n",
    "    x_sentence = sequence.pad_sequences(sentence, maxlen=maxlen)\n",
    "    return x_sentence"
   ]
  },
  {
   "cell_type": "code",
   "execution_count": 14,
   "metadata": {},
   "outputs": [],
   "source": [
    "# Filter out stop words\n",
    "from nltk.corpus import stopwords\n",
    "stop_words = set(stopwords.words(\"english\"))\n",
    "def filter_stop_words(sentences, stop_words):\n",
    "    filtered = []\n",
    "    for sentence in sentences:\n",
    "        words = sentence.split()\n",
    "        words_filtered = [word for word in words if word not in stop_words]\n",
    "        filtered.append(\" \".join(words_filtered))\n",
    "    return filtered"
   ]
  },
  {
   "cell_type": "code",
   "execution_count": 15,
   "metadata": {},
   "outputs": [
    {
     "name": "stdout",
     "output_type": "stream",
     "text": [
      "With data cleaning and removing stopwords:\n",
      "roc_auc score: 0.981417 \n",
      "\n"
     ]
    }
   ],
   "source": [
    "# Test smal changes in test dataset - with data cleaning and removing stopwords\n",
    "# Clean data\n",
    "X_test_clean = clean_data(test)\n",
    "# Remove stop words\n",
    "X_test_clean_no_stopwords = filter_stop_words(X_test_clean, stop_words)\n",
    "# Convert test datasets into sequences\n",
    "x_test_clean_no_stopwords = sequencing(X_test_clean_no_stopwords)\n",
    "# Predict and calculate score\n",
    "y_pred_clean_no_stopwords = model_saved.predict(x_test_clean_no_stopwords, batch_size=batch_size)\n",
    "score = roc_auc_score(y_test, y_pred_clean_no_stopwords)\n",
    "print(\"With data cleaning and removing stopwords:\")\n",
    "print(\"roc_auc score: %.6f \\n\" % (score))"
   ]
  },
  {
   "cell_type": "code",
   "execution_count": 16,
   "metadata": {},
   "outputs": [
    {
     "name": "stdout",
     "output_type": "stream",
     "text": [
      "Data cleaning only:\n",
      "roc_auc score: 0.982961 \n",
      "\n"
     ]
    }
   ],
   "source": [
    "# Test smal changes in test dataset - data cleaning only\n",
    "# Clean data\n",
    "X_test_clean = clean_data(test)\n",
    "# Remove stop words\n",
    "#X_test_clean_no_stopwords = filter_stop_words(X_test_clean, stop_words)\n",
    "# Convert test datasets into sequences\n",
    "x_test_clean = sequencing(X_test_clean)\n",
    "# Predict and calculate score\n",
    "y_pred_clean = model_saved.predict(x_test_clean, batch_size=batch_size)\n",
    "score = roc_auc_score(y_test, y_pred_clean)\n",
    "print(\"Data cleaning only:\")\n",
    "print(\"roc_auc score: %.6f \\n\" % (score))"
   ]
  },
  {
   "cell_type": "code",
   "execution_count": 17,
   "metadata": {},
   "outputs": [
    {
     "name": "stdout",
     "output_type": "stream",
     "text": [
      "Removing stopwords only:\n",
      "roc_auc score: 0.981453 \n",
      "\n"
     ]
    }
   ],
   "source": [
    "# Test smal changes in test dataset - removing stopwords only\n",
    "# Clean data\n",
    "#X_test_clean = clean_data(test)\n",
    "# Remove stop words\n",
    "X_test_no_stopwords = filter_stop_words(test[\"comment_text\"], stop_words)\n",
    "# Convert test datasets into sequences\n",
    "x_test_no_stopwords = sequencing(X_test_no_stopwords)\n",
    "# Predict and calculate score\n",
    "y_pred_no_stopwords = model_saved.predict(x_test_no_stopwords, batch_size=batch_size)\n",
    "score = roc_auc_score(y_test, y_pred_no_stopwords)\n",
    "print(\"Removing stopwords only:\")\n",
    "print(\"roc_auc score: %.6f \\n\" % (score))"
   ]
  }
 ],
 "metadata": {
  "kernelspec": {
   "display_name": "Python [conda env:toxic3]",
   "language": "python",
   "name": "conda-env-toxic3-py"
  },
  "language_info": {
   "codemirror_mode": {
    "name": "ipython",
    "version": 3
   },
   "file_extension": ".py",
   "mimetype": "text/x-python",
   "name": "python",
   "nbconvert_exporter": "python",
   "pygments_lexer": "ipython3",
   "version": "3.6.7"
  }
 },
 "nbformat": 4,
 "nbformat_minor": 2
}
