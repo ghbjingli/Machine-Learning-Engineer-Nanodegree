{
 "cells": [
  {
   "cell_type": "code",
   "execution_count": 1,
   "metadata": {},
   "outputs": [
    {
     "name": "stderr",
     "output_type": "stream",
     "text": [
      "Using TensorFlow backend.\n"
     ]
    }
   ],
   "source": [
    "# Import required libraries\n",
    "import numpy as np\n",
    "import pandas as pd\n",
    "np.random.seed(8)\n",
    "from sklearn.model_selection import train_test_split\n",
    "from sklearn.metrics import roc_auc_score\n",
    "\n",
    "from keras.models import Model\n",
    "from keras.layers import Input, Embedding, Dense, Conv2D, MaxPool2D, Conv1D, MaxPooling1D, GlobalMaxPooling1D \n",
    "from keras.layers import Reshape, Flatten, Concatenate, Dropout, SpatialDropout1D\n",
    "from keras.preprocessing import text, sequence\n",
    "from keras.callbacks import Callback\n",
    "\n",
    "import re\n",
    "import warnings\n",
    "warnings.filterwarnings('ignore')\n",
    "\n",
    "# Read in train and test datasets from csv files\n",
    "train = pd.read_csv('train.csv')\n",
    "test_cm = pd.read_csv('test.csv')\n",
    "test_lb = pd.read_csv('test_labels.csv')\n",
    "# Merge test comments with test labels\n",
    "test_all = pd.merge(test_cm, test_lb, on='id')\n",
    "# Remove all test entries with labels equal to -1\n",
    "test = test_all[test_all['toxic'] != -1]"
   ]
  },
  {
   "cell_type": "code",
   "execution_count": 2,
   "metadata": {},
   "outputs": [],
   "source": [
    "label_names = [\"toxic\", \"severe_toxic\", \"obscene\", \"threat\", \"insult\", \"identity_hate\"]\n",
    "X_train = train[\"comment_text\"]\n",
    "y_train = train[label_names].values\n",
    "X_test = test[\"comment_text\"]\n",
    "y_test = test[label_names].values"
   ]
  },
  {
   "cell_type": "code",
   "execution_count": 3,
   "metadata": {},
   "outputs": [],
   "source": [
    "# Define vocabulary size\n",
    "vocab = 100000\n",
    "# Define maximum length of a comment\n",
    "maxlen = 200\n",
    "# Define embedding size which should equal the embedding size of the pre-trained word vectors\n",
    "embed_size = 300"
   ]
  },
  {
   "cell_type": "code",
   "execution_count": 4,
   "metadata": {},
   "outputs": [],
   "source": [
    "# Tokenize the train dataset\n",
    "t = text.Tokenizer(num_words=vocab)\n",
    "t.fit_on_texts(list(X_train))"
   ]
  },
  {
   "cell_type": "code",
   "execution_count": 5,
   "metadata": {},
   "outputs": [],
   "source": [
    "# Convert both train and test datasets into sequences\n",
    "X_train = t.texts_to_sequences(X_train)\n",
    "X_test = t.texts_to_sequences(X_test)\n",
    "x_train = sequence.pad_sequences(X_train, maxlen=maxlen)\n",
    "x_test = sequence.pad_sequences(X_test, maxlen=maxlen)"
   ]
  },
  {
   "cell_type": "code",
   "execution_count": 7,
   "metadata": {},
   "outputs": [
    {
     "name": "stdout",
     "output_type": "stream",
     "text": [
      "Loaded 2000000 pre-trained words\n"
     ]
    }
   ],
   "source": [
    "# Load pre-trained word vectors\n",
    "EMBEDDING_FILE = 'crawl-300d-2M.vec'\n",
    "embeddings_index = dict()\n",
    "f = open(EMBEDDING_FILE)\n",
    "for line in f:\n",
    "    values = line.split()\n",
    "    word = values[0]\n",
    "    coefs = np.asarray(values[1:], dtype='float32')\n",
    "    embeddings_index[word] = coefs\n",
    "f.close()\n",
    "print('Loaded %s pre-trained words' % len(embeddings_index))"
   ]
  },
  {
   "cell_type": "code",
   "execution_count": 8,
   "metadata": {},
   "outputs": [],
   "source": [
    "# Create a weight matrix for words in training docs\n",
    "embedding_matrix = np.zeros((vocab, embed_size))\n",
    "for word, i in t.word_index.items():\n",
    "    if i >= vocab: \n",
    "        continue\n",
    "    embedding_vector = embeddings_index.get(word)\n",
    "    if embedding_vector is not None:\n",
    "        embedding_matrix[i] = embedding_vector"
   ]
  },
  {
   "cell_type": "code",
   "execution_count": 9,
   "metadata": {
    "scrolled": true
   },
   "outputs": [
    {
     "name": "stdout",
     "output_type": "stream",
     "text": [
      "_________________________________________________________________\n",
      "Layer (type)                 Output Shape              Param #   \n",
      "=================================================================\n",
      "input_1 (InputLayer)         (None, 200)               0         \n",
      "_________________________________________________________________\n",
      "embedding_1 (Embedding)      (None, 200, 300)          30000000  \n",
      "_________________________________________________________________\n",
      "spatial_dropout1d_1 (Spatial (None, 200, 300)          0         \n",
      "_________________________________________________________________\n",
      "reshape_1 (Reshape)          (None, 200, 300, 1)       0         \n",
      "_________________________________________________________________\n",
      "conv2d_1 (Conv2D)            (None, 194, 1, 100)       210100    \n",
      "_________________________________________________________________\n",
      "max_pooling2d_1 (MaxPooling2 (None, 1, 1, 100)         0         \n",
      "_________________________________________________________________\n",
      "flatten_1 (Flatten)          (None, 100)               0         \n",
      "_________________________________________________________________\n",
      "dropout_1 (Dropout)          (None, 100)               0         \n",
      "_________________________________________________________________\n",
      "dense_1 (Dense)              (None, 6)                 606       \n",
      "=================================================================\n",
      "Total params: 30,210,706\n",
      "Trainable params: 210,706\n",
      "Non-trainable params: 30,000,000\n",
      "_________________________________________________________________\n"
     ]
    }
   ],
   "source": [
    "# Define make_model function to create a CNN model\n",
    "def make_model(k=[7], activation='relu', filters=100, Sdroprate=0.5, droprate=0.0):\n",
    "\n",
    "    inp = Input(shape=(maxlen, ))\n",
    "    x = Embedding(vocab, embed_size, weights=[embedding_matrix], input_length=maxlen, trainable=False)(inp)\n",
    "    x = SpatialDropout1D(Sdroprate)(x)\n",
    "    x = Reshape((maxlen, embed_size, 1))(x)\n",
    "    \n",
    "    conv = dict()\n",
    "    maxpool = dict()\n",
    "    for h in k:\n",
    "        conv[h] = Conv2D(filters, kernel_size=(h, embed_size), activation=activation)(x)\n",
    "        maxpool[h] = MaxPool2D(pool_size=(maxlen - h + 1, 1))(conv[h])\n",
    "        \n",
    "    if len(k) == 1:\n",
    "        y = maxpool[h]\n",
    "    else:\n",
    "        y = Concatenate(axis=1)([pool for key,pool in maxpool.items()])\n",
    "    \n",
    "    y = Flatten()(y)\n",
    "    y = Dropout(droprate)(y)\n",
    "\n",
    "    outp = Dense(6, activation=\"sigmoid\")(y)\n",
    "\n",
    "    model = Model(inputs=inp, outputs=outp)\n",
    "    model.compile(loss='binary_crossentropy', optimizer='adam', metrics=['accuracy'])\n",
    "    \n",
    "    return model\n",
    "# Generate the model based on the default parameters\n",
    "model = make_model()\n",
    "# Print out the model summary\n",
    "model.summary()"
   ]
  },
  {
   "cell_type": "code",
   "execution_count": 10,
   "metadata": {},
   "outputs": [],
   "source": [
    "# Define tuning parameters\n",
    "param_grid={'k': [[2,3,4]], \n",
    "            'activation': ['tanh'],\n",
    "            'filters': [32],\n",
    "            'Sdroprate':[0.4],\n",
    "            'droprate': [0.2],\n",
    "            'epochs': [10],\n",
    "            'batch_size': [256]}\n",
    "# Define the cross validation split\n",
    "from sklearn.model_selection import ShuffleSplit\n",
    "cv = ShuffleSplit(n_splits = 5, test_size = 0.1)\n",
    "# Define metric for scoring\n",
    "scoring = {'AUC': 'roc_auc'}"
   ]
  },
  {
   "cell_type": "code",
   "execution_count": 11,
   "metadata": {},
   "outputs": [],
   "source": [
    "# Wrap Keras model with KerasClassifier so that it can be used in Sklearn GridSearchCV\n",
    "# Generate a GridSearchCV instance with the parameters to be tuned\n",
    "# This is a starting model and we try to check which activation function performs better\n",
    "\n",
    "from sklearn.model_selection import GridSearchCV\n",
    "from keras.wrappers.scikit_learn import KerasClassifier\n",
    "my_classifier = KerasClassifier(make_model, verbose=1)\n",
    "\n",
    "validator = GridSearchCV(my_classifier, return_train_score=True, param_grid=param_grid,\n",
    "                        cv = cv, scoring = scoring, refit='AUC', verbose=10)"
   ]
  },
  {
   "cell_type": "code",
   "execution_count": 12,
   "metadata": {},
   "outputs": [
    {
     "name": "stdout",
     "output_type": "stream",
     "text": [
      "Fitting 5 folds for each of 1 candidates, totalling 5 fits\n",
      "[CV] Sdroprate=0.4, activation=tanh, batch_size=256, droprate=0.2, epochs=10, filters=32, k=[2, 3, 4] \n"
     ]
    },
    {
     "name": "stderr",
     "output_type": "stream",
     "text": [
      "[Parallel(n_jobs=1)]: Using backend SequentialBackend with 1 concurrent workers.\n"
     ]
    },
    {
     "name": "stdout",
     "output_type": "stream",
     "text": [
      "Epoch 1/10\n",
      "143613/143613 [==============================] - 401s 3ms/step - loss: 0.0896 - acc: 0.9732\n",
      "Epoch 2/10\n",
      "143613/143613 [==============================] - 414s 3ms/step - loss: 0.0531 - acc: 0.9805\n",
      "Epoch 3/10\n",
      "143613/143613 [==============================] - 409s 3ms/step - loss: 0.0493 - acc: 0.9814\n",
      "Epoch 4/10\n",
      "143613/143613 [==============================] - 409s 3ms/step - loss: 0.0473 - acc: 0.9819\n",
      "Epoch 5/10\n",
      "143613/143613 [==============================] - 407s 3ms/step - loss: 0.0461 - acc: 0.9824\n",
      "Epoch 6/10\n",
      "143613/143613 [==============================] - 405s 3ms/step - loss: 0.0452 - acc: 0.9828\n",
      "Epoch 7/10\n",
      "143613/143613 [==============================] - 404s 3ms/step - loss: 0.0446 - acc: 0.9829\n",
      "Epoch 8/10\n",
      "143613/143613 [==============================] - 402s 3ms/step - loss: 0.0440 - acc: 0.9831\n",
      "Epoch 9/10\n",
      "143613/143613 [==============================] - 411s 3ms/step - loss: 0.0434 - acc: 0.9833\n",
      "Epoch 10/10\n",
      "143613/143613 [==============================] - 406s 3ms/step - loss: 0.0432 - acc: 0.9834\n",
      "15958/15958 [==============================] - 12s 730us/step\n",
      "143613/143613 [==============================] - 103s 718us/step\n",
      "[CV]  Sdroprate=0.4, activation=tanh, batch_size=256, droprate=0.2, epochs=10, filters=32, k=[2, 3, 4], AUC=0.9897358003751511, total=68.0min\n",
      "[CV] Sdroprate=0.4, activation=tanh, batch_size=256, droprate=0.2, epochs=10, filters=32, k=[2, 3, 4] \n"
     ]
    },
    {
     "name": "stderr",
     "output_type": "stream",
     "text": [
      "[Parallel(n_jobs=1)]: Done   1 out of   1 | elapsed: 69.8min remaining:    0.0s\n"
     ]
    },
    {
     "name": "stdout",
     "output_type": "stream",
     "text": [
      "Epoch 1/10\n",
      "143613/143613 [==============================] - 409s 3ms/step - loss: 0.0950 - acc: 0.9719\n",
      "Epoch 2/10\n",
      "143613/143613 [==============================] - 406s 3ms/step - loss: 0.0538 - acc: 0.9803\n",
      "Epoch 3/10\n",
      "143613/143613 [==============================] - 409s 3ms/step - loss: 0.0496 - acc: 0.9814\n",
      "Epoch 4/10\n",
      "143613/143613 [==============================] - 408s 3ms/step - loss: 0.0473 - acc: 0.9822\n",
      "Epoch 5/10\n",
      "143613/143613 [==============================] - 406s 3ms/step - loss: 0.0460 - acc: 0.9824\n",
      "Epoch 6/10\n",
      "143613/143613 [==============================] - 406s 3ms/step - loss: 0.0452 - acc: 0.9827\n",
      "Epoch 7/10\n",
      "143613/143613 [==============================] - 403s 3ms/step - loss: 0.0447 - acc: 0.9829\n",
      "Epoch 8/10\n",
      "143613/143613 [==============================] - 403s 3ms/step - loss: 0.0439 - acc: 0.9832\n",
      "Epoch 9/10\n",
      "143613/143613 [==============================] - 404s 3ms/step - loss: 0.0434 - acc: 0.9833\n",
      "Epoch 10/10\n",
      "143613/143613 [==============================] - 403s 3ms/step - loss: 0.0429 - acc: 0.9835\n",
      "15958/15958 [==============================] - 11s 706us/step\n",
      "143613/143613 [==============================] - 99s 690us/step\n",
      "[CV]  Sdroprate=0.4, activation=tanh, batch_size=256, droprate=0.2, epochs=10, filters=32, k=[2, 3, 4], AUC=0.9856194594982673, total=67.8min\n",
      "[CV] Sdroprate=0.4, activation=tanh, batch_size=256, droprate=0.2, epochs=10, filters=32, k=[2, 3, 4] \n"
     ]
    },
    {
     "name": "stderr",
     "output_type": "stream",
     "text": [
      "[Parallel(n_jobs=1)]: Done   2 out of   2 | elapsed: 139.2min remaining:    0.0s\n"
     ]
    },
    {
     "name": "stdout",
     "output_type": "stream",
     "text": [
      "Epoch 1/10\n",
      "143613/143613 [==============================] - 405s 3ms/step - loss: 0.0916 - acc: 0.9729\n",
      "Epoch 2/10\n",
      "143613/143613 [==============================] - 404s 3ms/step - loss: 0.0527 - acc: 0.9807\n",
      "Epoch 3/10\n",
      "143613/143613 [==============================] - 404s 3ms/step - loss: 0.0494 - acc: 0.9815\n",
      "Epoch 4/10\n",
      "143613/143613 [==============================] - 404s 3ms/step - loss: 0.0469 - acc: 0.9823\n",
      "Epoch 5/10\n",
      "143613/143613 [==============================] - 404s 3ms/step - loss: 0.0461 - acc: 0.9826\n",
      "Epoch 6/10\n",
      "143613/143613 [==============================] - 404s 3ms/step - loss: 0.0451 - acc: 0.9829\n",
      "Epoch 7/10\n",
      "143613/143613 [==============================] - 404s 3ms/step - loss: 0.0442 - acc: 0.9830\n",
      "Epoch 8/10\n",
      "143613/143613 [==============================] - 404s 3ms/step - loss: 0.0439 - acc: 0.9831\n",
      "Epoch 9/10\n",
      "143613/143613 [==============================] - 404s 3ms/step - loss: 0.0435 - acc: 0.9833\n",
      "Epoch 10/10\n",
      "143613/143613 [==============================] - 403s 3ms/step - loss: 0.0433 - acc: 0.9834\n",
      "15958/15958 [==============================] - 11s 706us/step\n",
      "143613/143613 [==============================] - 100s 694us/step\n",
      "[CV]  Sdroprate=0.4, activation=tanh, batch_size=256, droprate=0.2, epochs=10, filters=32, k=[2, 3, 4], AUC=0.9863070657411543, total=67.5min\n",
      "[CV] Sdroprate=0.4, activation=tanh, batch_size=256, droprate=0.2, epochs=10, filters=32, k=[2, 3, 4] \n"
     ]
    },
    {
     "name": "stderr",
     "output_type": "stream",
     "text": [
      "[Parallel(n_jobs=1)]: Done   3 out of   3 | elapsed: 208.4min remaining:    0.0s\n"
     ]
    },
    {
     "name": "stdout",
     "output_type": "stream",
     "text": [
      "Epoch 1/10\n",
      "143613/143613 [==============================] - 403s 3ms/step - loss: 0.0934 - acc: 0.9725\n",
      "Epoch 2/10\n",
      "143613/143613 [==============================] - 401s 3ms/step - loss: 0.0531 - acc: 0.9807\n",
      "Epoch 3/10\n",
      "143613/143613 [==============================] - 401s 3ms/step - loss: 0.0497 - acc: 0.9814\n",
      "Epoch 4/10\n",
      "143613/143613 [==============================] - 401s 3ms/step - loss: 0.0477 - acc: 0.9820\n",
      "Epoch 5/10\n",
      "143613/143613 [==============================] - 402s 3ms/step - loss: 0.0464 - acc: 0.9824\n",
      "Epoch 6/10\n",
      "143613/143613 [==============================] - 401s 3ms/step - loss: 0.0455 - acc: 0.9825\n",
      "Epoch 7/10\n",
      "143613/143613 [==============================] - 401s 3ms/step - loss: 0.0447 - acc: 0.9828\n",
      "Epoch 8/10\n",
      "143613/143613 [==============================] - 401s 3ms/step - loss: 0.0442 - acc: 0.9831\n",
      "Epoch 9/10\n",
      "143613/143613 [==============================] - 401s 3ms/step - loss: 0.0434 - acc: 0.9833\n",
      "Epoch 10/10\n",
      "143613/143613 [==============================] - 400s 3ms/step - loss: 0.0434 - acc: 0.9833\n",
      "15958/15958 [==============================] - 11s 713us/step\n",
      "143613/143613 [==============================] - 99s 690us/step\n",
      "[CV]  Sdroprate=0.4, activation=tanh, batch_size=256, droprate=0.2, epochs=10, filters=32, k=[2, 3, 4], AUC=0.9879975437571743, total=67.1min\n",
      "[CV] Sdroprate=0.4, activation=tanh, batch_size=256, droprate=0.2, epochs=10, filters=32, k=[2, 3, 4] \n"
     ]
    },
    {
     "name": "stderr",
     "output_type": "stream",
     "text": [
      "[Parallel(n_jobs=1)]: Done   4 out of   4 | elapsed: 277.2min remaining:    0.0s\n"
     ]
    },
    {
     "name": "stdout",
     "output_type": "stream",
     "text": [
      "Epoch 1/10\n",
      "143613/143613 [==============================] - 402s 3ms/step - loss: 0.0906 - acc: 0.9733\n",
      "Epoch 2/10\n",
      "143613/143613 [==============================] - 400s 3ms/step - loss: 0.0534 - acc: 0.9805\n",
      "Epoch 3/10\n",
      "143613/143613 [==============================] - 400s 3ms/step - loss: 0.0490 - acc: 0.9815\n",
      "Epoch 4/10\n",
      "143613/143613 [==============================] - 400s 3ms/step - loss: 0.0472 - acc: 0.9822\n",
      "Epoch 5/10\n",
      "143613/143613 [==============================] - 405s 3ms/step - loss: 0.0460 - acc: 0.9824\n",
      "Epoch 6/10\n",
      "143613/143613 [==============================] - 406s 3ms/step - loss: 0.0453 - acc: 0.9827\n",
      "Epoch 7/10\n",
      "143613/143613 [==============================] - 408s 3ms/step - loss: 0.0442 - acc: 0.9830\n",
      "Epoch 8/10\n",
      "143613/143613 [==============================] - 403s 3ms/step - loss: 0.0438 - acc: 0.9831\n",
      "Epoch 9/10\n",
      "143613/143613 [==============================] - 401s 3ms/step - loss: 0.0434 - acc: 0.9832\n",
      "Epoch 10/10\n",
      "143613/143613 [==============================] - 400s 3ms/step - loss: 0.0430 - acc: 0.9833\n",
      "15958/15958 [==============================] - 12s 723us/step\n",
      "143613/143613 [==============================] - 100s 699us/step\n",
      "[CV]  Sdroprate=0.4, activation=tanh, batch_size=256, droprate=0.2, epochs=10, filters=32, k=[2, 3, 4], AUC=0.9871060935759757, total=67.3min\n"
     ]
    },
    {
     "name": "stderr",
     "output_type": "stream",
     "text": [
      "[Parallel(n_jobs=1)]: Done   5 out of   5 | elapsed: 346.1min remaining:    0.0s\n",
      "[Parallel(n_jobs=1)]: Done   5 out of   5 | elapsed: 346.1min finished\n"
     ]
    },
    {
     "name": "stdout",
     "output_type": "stream",
     "text": [
      "Epoch 1/10\n",
      "159571/159571 [==============================] - 449s 3ms/step - loss: 0.0883 - acc: 0.9737\n",
      "Epoch 2/10\n",
      "159571/159571 [==============================] - 449s 3ms/step - loss: 0.0522 - acc: 0.9807\n",
      "Epoch 3/10\n",
      "159571/159571 [==============================] - 446s 3ms/step - loss: 0.0486 - acc: 0.9817\n",
      "Epoch 4/10\n",
      "159571/159571 [==============================] - 446s 3ms/step - loss: 0.0468 - acc: 0.9822\n",
      "Epoch 5/10\n",
      "159571/159571 [==============================] - 444s 3ms/step - loss: 0.0458 - acc: 0.9826\n",
      "Epoch 6/10\n",
      "159571/159571 [==============================] - 444s 3ms/step - loss: 0.0450 - acc: 0.9828\n",
      "Epoch 7/10\n",
      "159571/159571 [==============================] - 447s 3ms/step - loss: 0.0445 - acc: 0.9829\n",
      "Epoch 8/10\n",
      "159571/159571 [==============================] - 455s 3ms/step - loss: 0.0440 - acc: 0.9831\n",
      "Epoch 9/10\n",
      "159571/159571 [==============================] - 445s 3ms/step - loss: 0.0436 - acc: 0.9833\n",
      "Epoch 10/10\n",
      "159571/159571 [==============================] - 444s 3ms/step - loss: 0.0432 - acc: 0.9835\n"
     ]
    }
   ],
   "source": [
    "# Run the Grid Search\n",
    "grid_result = validator.fit(x_train, y_train)"
   ]
  },
  {
   "cell_type": "code",
   "execution_count": 13,
   "metadata": {},
   "outputs": [
    {
     "name": "stdout",
     "output_type": "stream",
     "text": [
      "Best score: 0.987353 with {'Sdroprate': 0.4, 'activation': 'tanh', 'batch_size': 256, 'droprate': 0.2, 'epochs': 10, 'filters': 32, 'k': [2, 3, 4]}\n",
      "0.987353 (0.001432) with: {'Sdroprate': 0.4, 'activation': 'tanh', 'batch_size': 256, 'droprate': 0.2, 'epochs': 10, 'filters': 32, 'k': [2, 3, 4]}\n"
     ]
    }
   ],
   "source": [
    "print(\"Best score: %f with %s\" % (grid_result.best_score_, grid_result.best_params_))\n",
    "means = grid_result.cv_results_['mean_test_AUC']\n",
    "stds = grid_result.cv_results_['std_test_AUC']\n",
    "params = grid_result.cv_results_['params']\n",
    "for mean, stdev, param in zip(means, stds, params):\n",
    "    print(\"%f (%f) with: %r\" % (mean, stdev, param))\n",
    "# Get the best model\n",
    "best_model = validator.best_estimator_.model"
   ]
  },
  {
   "cell_type": "code",
   "execution_count": 14,
   "metadata": {},
   "outputs": [
    {
     "data": {
      "text/plain": [
       "{'mean_fit_time': array([4041.64613056]),\n",
       " 'std_fit_time': array([20.5056281]),\n",
       " 'mean_score_time': array([11.44283361]),\n",
       " 'std_score_time': array([0.15563352]),\n",
       " 'param_Sdroprate': masked_array(data=[0.4],\n",
       "              mask=[False],\n",
       "        fill_value='?',\n",
       "             dtype=object),\n",
       " 'param_activation': masked_array(data=['tanh'],\n",
       "              mask=[False],\n",
       "        fill_value='?',\n",
       "             dtype=object),\n",
       " 'param_batch_size': masked_array(data=[256],\n",
       "              mask=[False],\n",
       "        fill_value='?',\n",
       "             dtype=object),\n",
       " 'param_droprate': masked_array(data=[0.2],\n",
       "              mask=[False],\n",
       "        fill_value='?',\n",
       "             dtype=object),\n",
       " 'param_epochs': masked_array(data=[10],\n",
       "              mask=[False],\n",
       "        fill_value='?',\n",
       "             dtype=object),\n",
       " 'param_filters': masked_array(data=[32],\n",
       "              mask=[False],\n",
       "        fill_value='?',\n",
       "             dtype=object),\n",
       " 'param_k': masked_array(data=[list([2, 3, 4])],\n",
       "              mask=[False],\n",
       "        fill_value='?',\n",
       "             dtype=object),\n",
       " 'params': [{'Sdroprate': 0.4,\n",
       "   'activation': 'tanh',\n",
       "   'batch_size': 256,\n",
       "   'droprate': 0.2,\n",
       "   'epochs': 10,\n",
       "   'filters': 32,\n",
       "   'k': [2, 3, 4]}],\n",
       " 'split0_test_AUC': array([0.9897358]),\n",
       " 'split1_test_AUC': array([0.98561946]),\n",
       " 'split2_test_AUC': array([0.98630707]),\n",
       " 'split3_test_AUC': array([0.98799754]),\n",
       " 'split4_test_AUC': array([0.98710609]),\n",
       " 'mean_test_AUC': array([0.98735319]),\n",
       " 'std_test_AUC': array([0.00143201]),\n",
       " 'rank_test_AUC': array([1], dtype=int32),\n",
       " 'split0_train_AUC': array([0.99225283]),\n",
       " 'split1_train_AUC': array([0.99224614]),\n",
       " 'split2_train_AUC': array([0.99204323]),\n",
       " 'split3_train_AUC': array([0.99183753]),\n",
       " 'split4_train_AUC': array([0.99214979]),\n",
       " 'mean_train_AUC': array([0.99210591]),\n",
       " 'std_train_AUC': array([0.00015436])}"
      ]
     },
     "execution_count": 14,
     "metadata": {},
     "output_type": "execute_result"
    }
   ],
   "source": [
    "grid_result.cv_results_"
   ]
  },
  {
   "cell_type": "code",
   "execution_count": 15,
   "metadata": {},
   "outputs": [],
   "source": [
    "# Perform prediction with unseen test dataset with the best model\n",
    "y_pred = best_model.predict(x_test, batch_size=256)"
   ]
  },
  {
   "cell_type": "code",
   "execution_count": 16,
   "metadata": {
    "scrolled": true
   },
   "outputs": [
    {
     "name": "stdout",
     "output_type": "stream",
     "text": [
      "\n",
      " roc_auc score for keras model: 0.982572 \n",
      "\n"
     ]
    }
   ],
   "source": [
    "# Calculate the roc_auc score\n",
    "from sklearn.metrics import roc_auc_score\n",
    "score = roc_auc_score(y_test, y_pred)\n",
    "print(\"\\n roc_auc score for keras model: %.6f \\n\" % (score))"
   ]
  },
  {
   "cell_type": "code",
   "execution_count": 17,
   "metadata": {},
   "outputs": [
    {
     "name": "stdout",
     "output_type": "stream",
     "text": [
      "0.01793336671349176\n",
      "0.012097254766620352\n",
      "0.29094234\n"
     ]
    },
    {
     "data": {
      "text/plain": [
       "<Figure size 720x576 with 0 Axes>"
      ]
     },
     "metadata": {},
     "output_type": "display_data"
    },
    {
     "data": {
      "image/png": "[encoded data removed]",
      "text/plain": [
       "<Figure size 720x576 with 1 Axes>"
      ]
     },
     "metadata": {
      "needs_background": "light"
     },
     "output_type": "display_data"
    }
   ],
   "source": [
    "label_names = [\"toxic\", \"severe_toxic\", \"obscene\", \"threat\", \"insult\", \"identity_hate\"]\n",
    "# Compute ROC curves and AUCs for test\n",
    "from sklearn.metrics import roc_curve, auc\n",
    "from scipy import interp\n",
    "\n",
    "# Compute false positive rate (fpr), true positive rate (tpr) and area under the curves (rocauc)\n",
    "fpr = dict()\n",
    "tpr = dict()\n",
    "thr = dict()\n",
    "rocauc = dict()\n",
    "for i in range(y_test.shape[1]):\n",
    "    fpr[i], tpr[i], thr[i] = roc_curve(y_test[:, i], y_pred[:, i])\n",
    "    rocauc[i] = auc(fpr[i], tpr[i])\n",
    "\n",
    "# Compute micro-average ROC curve and ROC area\n",
    "fpr[\"micro\"], tpr[\"micro\"], thr[\"micro\"] = roc_curve(y_test.ravel(), y_pred.ravel())\n",
    "rocauc[\"micro\"] = auc(fpr[\"micro\"], tpr[\"micro\"])\n",
    "\n",
    "# Compute Macro-average ROC curve and ROC area\n",
    "# First aggregate all false positive rates\n",
    "all_fpr = np.unique(np.concatenate([fpr[i] for i in range(y_test.shape[1])]))\n",
    "\n",
    "# Then interpolate all ROC curves at this points\n",
    "mean_tpr = np.zeros_like(all_fpr)\n",
    "for i in range(y_test.shape[1]):\n",
    "    mean_tpr += interp(all_fpr, fpr[i], tpr[i])\n",
    "\n",
    "# Finally average it and compute AUC\n",
    "mean_tpr /= y_test.shape[1]\n",
    "\n",
    "# Then interpolate all ROC curves at this points\n",
    "mean_thr = np.zeros_like(all_fpr)\n",
    "for i in range(y_test.shape[1]):\n",
    "    mean_thr += interp(all_fpr, fpr[i], thr[i])\n",
    "\n",
    "# Finally average it and compute AUC\n",
    "mean_thr /= y_test.shape[1]\n",
    "\n",
    "fpr[\"macro\"] = all_fpr\n",
    "tpr[\"macro\"] = mean_tpr\n",
    "thr[\"macro\"] = mean_thr\n",
    "rocauc[\"macro\"] = auc(fpr[\"macro\"], tpr[\"macro\"])\n",
    "\n",
    "# to increase tpr, you also increase fpr. It is a trade off between the two.\n",
    "# Business requirement determine which one is more important\n",
    "# We can calculate the cutoff to garantee a minimum tpr or a maximum fpr\n",
    "# We see here that to increase tpr, we need to lower threshold\n",
    "# to decrease fpr, we need to increase threshold\n",
    "\n",
    "# index of the first threshold for which the sensitivity > 0.98\n",
    "idx1 = np.min(np.where(tpr[\"macro\"] > 0.99)) \n",
    "# index of the first threshold for which the fall out < 0.20\n",
    "idx2 = np.max(np.where(fpr[\"macro\"] < 0.20)) \n",
    "# index of the first threshold for which the fall out < 0.10\n",
    "idx3 = np.max(np.where(fpr[0] < 0.10)) \n",
    "\n",
    "print(thr[\"macro\"][idx1])\n",
    "print(thr[\"macro\"][idx2])\n",
    "print(thr[0][idx3])\n",
    "\n",
    "# Plot all ROC curves\n",
    "import matplotlib.pyplot as plt\n",
    "%matplotlib inline\n",
    "from itertools import cycle\n",
    "\n",
    "plt.figure(figsize=(10,8))\n",
    "lw = 2\n",
    "\n",
    "plt.figure(figsize=(10,8))\n",
    "plt.plot(fpr[\"micro\"], tpr[\"micro\"],\n",
    "         label='micro-average ROC curve (area = {0:0.4f})'\n",
    "               ''.format(rocauc[\"micro\"]),\n",
    "         color='deeppink', linestyle=':', linewidth=4)\n",
    "\n",
    "plt.plot(fpr[\"macro\"], tpr[\"macro\"],\n",
    "         label='macro-average ROC curve (area = {0:0.4f})'\n",
    "               ''.format(rocauc[\"macro\"]),\n",
    "         color='navy', linestyle=':', linewidth=4)\n",
    "\n",
    "plt.plot([0,fpr[\"macro\"][idx1]], [tpr[\"macro\"][idx1],tpr[\"macro\"][idx1]], 'k--', color='blue')\n",
    "plt.plot([fpr[\"macro\"][idx1],fpr[\"macro\"][idx1]], [0,tpr[\"macro\"][idx1]], 'k--', color='blue')\n",
    "\n",
    "plt.plot([0,fpr[\"macro\"][idx2]], [tpr[\"macro\"][idx2],tpr[\"macro\"][idx2]], 'k--', color='red')\n",
    "plt.plot([fpr[\"macro\"][idx2],fpr[\"macro\"][idx2]], [0,tpr[\"macro\"][idx2]], 'k--', color='red')\n",
    "\n",
    "plt.plot([0,fpr[0][idx3]], [tpr[0][idx3],tpr[0][idx3]], 'k--', color='green')\n",
    "plt.plot([fpr[0][idx3],fpr[0][idx3]], [0,tpr[0][idx3]], 'k--', color='green')\n",
    "\n",
    "colors = cycle(['aqua', 'darkorange', 'cornflowerblue'])\n",
    "for i, color in zip(range(y_test.shape[1]), colors):\n",
    "    plt.plot(fpr[i], tpr[i], color=color, lw=lw,\n",
    "             label='ROC curve of {0} (area = {1:0.4f})'\n",
    "             ''.format(label_names[i], rocauc[i]))\n",
    "\n",
    "plt.plot([0, 1], [0, 1], 'k--', lw=lw)\n",
    "plt.xlim([0.0, 1.0])\n",
    "plt.ylim([0.0, 1.05])\n",
    "plt.xlabel('False Positive Rate')\n",
    "plt.ylabel('True Positive Rate')\n",
    "plt.title('ROC Curves and Areas under the Curves')\n",
    "plt.legend(loc=\"lower right\")\n",
    "plt.show()"
   ]
  },
  {
   "cell_type": "code",
   "execution_count": 18,
   "metadata": {},
   "outputs": [
    {
     "name": "stdout",
     "output_type": "stream",
     "text": [
      "__________________________________________________________________________________________________\n",
      "Layer (type)                    Output Shape         Param #     Connected to                     \n",
      "==================================================================================================\n",
      "input_7 (InputLayer)            (None, 200)          0                                            \n",
      "__________________________________________________________________________________________________\n",
      "embedding_7 (Embedding)         (None, 200, 300)     30000000    input_7[0][0]                    \n",
      "__________________________________________________________________________________________________\n",
      "spatial_dropout1d_7 (SpatialDro (None, 200, 300)     0           embedding_7[0][0]                \n",
      "__________________________________________________________________________________________________\n",
      "reshape_7 (Reshape)             (None, 200, 300, 1)  0           spatial_dropout1d_7[0][0]        \n",
      "__________________________________________________________________________________________________\n",
      "conv2d_17 (Conv2D)              (None, 199, 1, 32)   19232       reshape_7[0][0]                  \n",
      "__________________________________________________________________________________________________\n",
      "conv2d_18 (Conv2D)              (None, 198, 1, 32)   28832       reshape_7[0][0]                  \n",
      "__________________________________________________________________________________________________\n",
      "conv2d_19 (Conv2D)              (None, 197, 1, 32)   38432       reshape_7[0][0]                  \n",
      "__________________________________________________________________________________________________\n",
      "max_pooling2d_17 (MaxPooling2D) (None, 1, 1, 32)     0           conv2d_17[0][0]                  \n",
      "__________________________________________________________________________________________________\n",
      "max_pooling2d_18 (MaxPooling2D) (None, 1, 1, 32)     0           conv2d_18[0][0]                  \n",
      "__________________________________________________________________________________________________\n",
      "max_pooling2d_19 (MaxPooling2D) (None, 1, 1, 32)     0           conv2d_19[0][0]                  \n",
      "__________________________________________________________________________________________________\n",
      "concatenate_6 (Concatenate)     (None, 3, 1, 32)     0           max_pooling2d_17[0][0]           \n",
      "                                                                 max_pooling2d_18[0][0]           \n",
      "                                                                 max_pooling2d_19[0][0]           \n",
      "__________________________________________________________________________________________________\n",
      "flatten_7 (Flatten)             (None, 96)           0           concatenate_6[0][0]              \n",
      "__________________________________________________________________________________________________\n",
      "dropout_7 (Dropout)             (None, 96)           0           flatten_7[0][0]                  \n",
      "__________________________________________________________________________________________________\n",
      "dense_7 (Dense)                 (None, 6)            582         dropout_7[0][0]                  \n",
      "==================================================================================================\n",
      "Total params: 30,087,078\n",
      "Trainable params: 87,078\n",
      "Non-trainable params: 30,000,000\n",
      "__________________________________________________________________________________________________\n"
     ]
    }
   ],
   "source": [
    "# Generate a summary report for the best model architecture\n",
    "best_model.summary()"
   ]
  },
  {
   "cell_type": "code",
   "execution_count": 19,
   "metadata": {},
   "outputs": [
    {
     "name": "stdout",
     "output_type": "stream",
     "text": [
      "====================\n",
      "best params: <keras.wrappers.scikit_learn.KerasClassifier object at 0x1a562bb7f0>\n",
      "best params: {'Sdroprate': 0.4, 'activation': 'tanh', 'batch_size': 256, 'droprate': 0.2, 'epochs': 10, 'filters': 32, 'k': [2, 3, 4]}\n",
      "best score: 0.9873531925895445\n",
      "====================\n"
     ]
    },
    {
     "data": {
      "image/png": "[encoded data removed]",
      "text/plain": [
       "<Figure size 720x720 with 1 Axes>"
      ]
     },
     "metadata": {
      "needs_background": "light"
     },
     "output_type": "display_data"
    }
   ],
   "source": [
    "# Plot result of the Grid Search\n",
    "%matplotlib inline\n",
    "import matplotlib.pyplot as plt\n",
    "results = grid_result.cv_results_\n",
    "\n",
    "print('='*20)\n",
    "print(\"best params: \" + str(grid_result.best_estimator_))\n",
    "print(\"best params: \" + str(grid_result.best_params_))\n",
    "print('best score:', grid_result.best_score_)\n",
    "print('='*20)\n",
    "\n",
    "plt.figure(figsize=(10, 10))\n",
    "plt.title(\"GridSearchCV Result\",fontsize=16)\n",
    "\n",
    "plt.xlabel(\"Spatial Dropout Rate\")\n",
    "plt.ylabel(\"Score\")\n",
    "plt.grid()\n",
    "\n",
    "ax = plt.axes()\n",
    "ax.set_xlim(0, max(param_grid['Sdroprate']))\n",
    "ax.set_ylim(0.98, 1.00)\n",
    "\n",
    "# Get the regular numpy array from the MaskedArray\n",
    "X_axis = np.array(results['param_Sdroprate'].data, dtype=float)\n",
    "\n",
    "for scorer, color in zip(list(scoring.keys()), ['g', 'k', 'b']): \n",
    "    for sample, style in (('train', '--'), ('test', '-')):\n",
    "        sample_score_mean = results['mean_%s_%s' % (sample, scorer)]\n",
    "        sample_score_std = results['std_%s_%s' % (sample, scorer)]\n",
    "        ax.fill_between(X_axis, sample_score_mean - sample_score_std,\n",
    "                        sample_score_mean + sample_score_std,\n",
    "                        alpha=0.1 if sample == 'test' else 0, color=color)\n",
    "        ax.plot(X_axis, sample_score_mean, style, color=color,\n",
    "                alpha=1 if sample == 'test' else 0.7,\n",
    "                label=\"%s (%s)\" % (scorer, sample))\n",
    "\n",
    "    best_index = np.nonzero(results['rank_test_%s' % scorer] == 1)[0][0]\n",
    "    best_score = results['mean_test_%s' % scorer][best_index]   \n",
    "    # Plot a dotted vertical line at the best score for that scorer marked by x\n",
    "    ax.plot([X_axis[best_index], ] * 2, [0, best_score],\n",
    "            linestyle='-.', color=color, marker='x', markeredgewidth=3, ms=8)\n",
    "\n",
    "    # Annotate the best score for that scorer\n",
    "    ax.annotate(\"%0.2f\" % best_score,\n",
    "                (X_axis[best_index], best_score + 0.005))\n",
    "\n",
    "plt.legend(loc=\"best\")\n",
    "plt.grid('off')\n",
    "plt.show()"
   ]
  },
  {
   "cell_type": "code",
   "execution_count": null,
   "metadata": {},
   "outputs": [],
   "source": []
  }
 ],
 "metadata": {
  "kernelspec": {
   "display_name": "Python [conda env:toxic3]",
   "language": "python",
   "name": "conda-env-toxic3-py"
  },
  "language_info": {
   "codemirror_mode": {
    "name": "ipython",
    "version": 3
   },
   "file_extension": ".py",
   "mimetype": "text/x-python",
   "name": "python",
   "nbconvert_exporter": "python",
   "pygments_lexer": "ipython3",
   "version": "3.6.7"
  }
 },
 "nbformat": 4,
 "nbformat_minor": 2
}
