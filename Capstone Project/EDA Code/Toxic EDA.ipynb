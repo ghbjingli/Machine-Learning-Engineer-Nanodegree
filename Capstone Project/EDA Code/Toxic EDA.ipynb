{
 "cells": [
  {
   "cell_type": "markdown",
   "metadata": {
    "deletable": true,
    "editable": true
   },
   "source": [
    "# Machine Learning Engineer Nanodegree\n",
    "## Capstone Project\n",
    "## Project: Toxic Comment Classification with CNN\n",
    "\n",
    "Exploratory Data Analysis\n",
    "\n",
    "In this step, the dataset provided by Kaggle will be analyzed. The analysis will include the type of the data, basic statistics, abnormalities, etc. Where possible, visualization of the features about the data will be provided.\n"
   ]
  },
  {
   "cell_type": "markdown",
   "metadata": {
    "deletable": true,
    "editable": true
   },
   "source": [
    "File descriptions\n",
    "\n",
    "1. train.csv - the training set, contains comments with their binary labels\n",
    "2. test.csv - the test set, you must predict the toxicity probabilities for these comments. To deter hand labeling, the test set contains some comments which are not included in scoring.\n",
    "3. sample_submission.csv - a sample submission file in the correct format (will not be used for capstone project)\n",
    "4. test_labels.csv - labels for the test data; value of -1 indicates it was not used for scoring; (Note: file added after competition close!)"
   ]
  },
  {
   "cell_type": "code",
   "execution_count": 6,
   "metadata": {
    "collapsed": true,
    "deletable": true,
    "editable": true
   },
   "outputs": [],
   "source": [
    "# import required labraries\n",
    "import pandas as pd \n",
    "import numpy as np\n",
    "\n",
    "import matplotlib.pyplot as plt\n",
    "%matplotlib inline\n",
    "\n",
    "# Read in train and test datasets\n",
    "train = pd.read_csv('train.csv')\n",
    "test_cm = pd.read_csv('test.csv')\n",
    "test_lb = pd.read_csv('test_labels.csv')\n",
    "\n",
    "# Merge test comments with test labels\n",
    "test_all = pd.merge(test_cm, test_lb, on='id')\n",
    "#test_all = test_all.reset_index(drop=True)\n",
    "\n",
    "# use only a subset of test data since value of -1 indicates it was not used for scoring\n",
    "test = test_all[test_all['toxic'] != -1]\n",
    "\n",
    "# list label names\n",
    "label_names = ['toxic','severe_toxic','obscene','threat','insult','identity_hate']"
   ]
  },
  {
   "cell_type": "code",
   "execution_count": 7,
   "metadata": {
    "collapsed": false,
    "deletable": true,
    "editable": true
   },
   "outputs": [
    {
     "data": {
      "text/html": [
       "<div>\n",
       "<style scoped>\n",
       "    .dataframe tbody tr th:only-of-type {\n",
       "        vertical-align: middle;\n",
       "    }\n",
       "\n",
       "    .dataframe tbody tr th {\n",
       "        vertical-align: top;\n",
       "    }\n",
       "\n",
       "    .dataframe thead th {\n",
       "        text-align: right;\n",
       "    }\n",
       "</style>\n",
       "<table border=\"1\" class=\"dataframe\">\n",
       "  <thead>\n",
       "    <tr style=\"text-align: right;\">\n",
       "      <th></th>\n",
       "      <th>id</th>\n",
       "      <th>comment_text</th>\n",
       "      <th>toxic</th>\n",
       "      <th>severe_toxic</th>\n",
       "      <th>obscene</th>\n",
       "      <th>threat</th>\n",
       "      <th>insult</th>\n",
       "      <th>identity_hate</th>\n",
       "    </tr>\n",
       "  </thead>\n",
       "  <tbody>\n",
       "    <tr>\n",
       "      <th>6</th>\n",
       "      <td>0002bcb3da6cb337</td>\n",
       "      <td>COCKSUCKER BEFORE YOU PISS AROUND ON MY WORK</td>\n",
       "      <td>1</td>\n",
       "      <td>1</td>\n",
       "      <td>1</td>\n",
       "      <td>0</td>\n",
       "      <td>1</td>\n",
       "      <td>0</td>\n",
       "    </tr>\n",
       "    <tr>\n",
       "      <th>12</th>\n",
       "      <td>0005c987bdfc9d4b</td>\n",
       "      <td>Hey... what is it..\\n@ | talk .\\nWhat is it......</td>\n",
       "      <td>1</td>\n",
       "      <td>0</td>\n",
       "      <td>0</td>\n",
       "      <td>0</td>\n",
       "      <td>0</td>\n",
       "      <td>0</td>\n",
       "    </tr>\n",
       "    <tr>\n",
       "      <th>16</th>\n",
       "      <td>0007e25b2121310b</td>\n",
       "      <td>Bye! \\n\\nDon't look, come or think of comming ...</td>\n",
       "      <td>1</td>\n",
       "      <td>0</td>\n",
       "      <td>0</td>\n",
       "      <td>0</td>\n",
       "      <td>0</td>\n",
       "      <td>0</td>\n",
       "    </tr>\n",
       "    <tr>\n",
       "      <th>42</th>\n",
       "      <td>001810bf8c45bf5f</td>\n",
       "      <td>You are gay or antisemmitian? \\n\\nArchangel WH...</td>\n",
       "      <td>1</td>\n",
       "      <td>0</td>\n",
       "      <td>1</td>\n",
       "      <td>0</td>\n",
       "      <td>1</td>\n",
       "      <td>1</td>\n",
       "    </tr>\n",
       "    <tr>\n",
       "      <th>43</th>\n",
       "      <td>00190820581d90ce</td>\n",
       "      <td>FUCK YOUR FILTHY MOTHER IN THE ASS, DRY!</td>\n",
       "      <td>1</td>\n",
       "      <td>0</td>\n",
       "      <td>1</td>\n",
       "      <td>0</td>\n",
       "      <td>1</td>\n",
       "      <td>0</td>\n",
       "    </tr>\n",
       "  </tbody>\n",
       "</table>\n",
       "</div>"
      ],
      "text/plain": [
       "                  id                                       comment_text  \\\n",
       "6   0002bcb3da6cb337       COCKSUCKER BEFORE YOU PISS AROUND ON MY WORK   \n",
       "12  0005c987bdfc9d4b  Hey... what is it..\\n@ | talk .\\nWhat is it......   \n",
       "16  0007e25b2121310b  Bye! \\n\\nDon't look, come or think of comming ...   \n",
       "42  001810bf8c45bf5f  You are gay or antisemmitian? \\n\\nArchangel WH...   \n",
       "43  00190820581d90ce           FUCK YOUR FILTHY MOTHER IN THE ASS, DRY!   \n",
       "\n",
       "    toxic  severe_toxic  obscene  threat  insult  identity_hate  \n",
       "6       1             1        1       0       1              0  \n",
       "12      1             0        0       0       0              0  \n",
       "16      1             0        0       0       0              0  \n",
       "42      1             0        1       0       1              1  \n",
       "43      1             0        1       0       1              0  "
      ]
     },
     "execution_count": 7,
     "metadata": {},
     "output_type": "execute_result"
    }
   ],
   "source": [
    "# Example data in train\n",
    "train.loc[train[label_names].sum(axis=1) != 0].head()"
   ]
  },
  {
   "cell_type": "code",
   "execution_count": 8,
   "metadata": {
    "collapsed": false,
    "deletable": true,
    "editable": true
   },
   "outputs": [
    {
     "data": {
      "text/html": [
       "<div>\n",
       "<style scoped>\n",
       "    .dataframe tbody tr th:only-of-type {\n",
       "        vertical-align: middle;\n",
       "    }\n",
       "\n",
       "    .dataframe tbody tr th {\n",
       "        vertical-align: top;\n",
       "    }\n",
       "\n",
       "    .dataframe thead th {\n",
       "        text-align: right;\n",
       "    }\n",
       "</style>\n",
       "<table border=\"1\" class=\"dataframe\">\n",
       "  <thead>\n",
       "    <tr style=\"text-align: right;\">\n",
       "      <th></th>\n",
       "      <th>id</th>\n",
       "      <th>comment_text</th>\n",
       "      <th>toxic</th>\n",
       "      <th>severe_toxic</th>\n",
       "      <th>obscene</th>\n",
       "      <th>threat</th>\n",
       "      <th>insult</th>\n",
       "      <th>identity_hate</th>\n",
       "    </tr>\n",
       "  </thead>\n",
       "  <tbody>\n",
       "    <tr>\n",
       "      <th>21</th>\n",
       "      <td>00091c35fa9d0465</td>\n",
       "      <td>== Arabs are committing genocide in Iraq, but ...</td>\n",
       "      <td>1</td>\n",
       "      <td>0</td>\n",
       "      <td>0</td>\n",
       "      <td>0</td>\n",
       "      <td>0</td>\n",
       "      <td>0</td>\n",
       "    </tr>\n",
       "    <tr>\n",
       "      <th>48</th>\n",
       "      <td>0013fed3aeae76b7</td>\n",
       "      <td>DJ Robinson is gay as hell! he sucks his dick ...</td>\n",
       "      <td>1</td>\n",
       "      <td>0</td>\n",
       "      <td>1</td>\n",
       "      <td>0</td>\n",
       "      <td>1</td>\n",
       "      <td>1</td>\n",
       "    </tr>\n",
       "    <tr>\n",
       "      <th>59</th>\n",
       "      <td>0017d4d47894af05</td>\n",
       "      <td>:Fuck off, you anti-semitic cunt.  |</td>\n",
       "      <td>1</td>\n",
       "      <td>0</td>\n",
       "      <td>1</td>\n",
       "      <td>0</td>\n",
       "      <td>1</td>\n",
       "      <td>0</td>\n",
       "    </tr>\n",
       "    <tr>\n",
       "      <th>76</th>\n",
       "      <td>001d739c97bc2ae4</td>\n",
       "      <td>How dare you vandalize that page about the HMS...</td>\n",
       "      <td>1</td>\n",
       "      <td>0</td>\n",
       "      <td>0</td>\n",
       "      <td>0</td>\n",
       "      <td>0</td>\n",
       "      <td>0</td>\n",
       "    </tr>\n",
       "    <tr>\n",
       "      <th>81</th>\n",
       "      <td>001eff4007dbb65b</td>\n",
       "      <td>::No, he is an arrogant, self serving, immatur...</td>\n",
       "      <td>1</td>\n",
       "      <td>0</td>\n",
       "      <td>1</td>\n",
       "      <td>0</td>\n",
       "      <td>1</td>\n",
       "      <td>0</td>\n",
       "    </tr>\n",
       "  </tbody>\n",
       "</table>\n",
       "</div>"
      ],
      "text/plain": [
       "                  id                                       comment_text  \\\n",
       "21  00091c35fa9d0465  == Arabs are committing genocide in Iraq, but ...   \n",
       "48  0013fed3aeae76b7  DJ Robinson is gay as hell! he sucks his dick ...   \n",
       "59  0017d4d47894af05               :Fuck off, you anti-semitic cunt.  |   \n",
       "76  001d739c97bc2ae4  How dare you vandalize that page about the HMS...   \n",
       "81  001eff4007dbb65b  ::No, he is an arrogant, self serving, immatur...   \n",
       "\n",
       "    toxic  severe_toxic  obscene  threat  insult  identity_hate  \n",
       "21      1             0        0       0       0              0  \n",
       "48      1             0        1       0       1              1  \n",
       "59      1             0        1       0       1              0  \n",
       "76      1             0        0       0       0              0  \n",
       "81      1             0        1       0       1              0  "
      ]
     },
     "execution_count": 8,
     "metadata": {},
     "output_type": "execute_result"
    }
   ],
   "source": [
    "# Example data in test\n",
    "test_all.loc[test_all[label_names].sum(axis=1) > 0].head()"
   ]
  },
  {
   "cell_type": "code",
   "execution_count": 9,
   "metadata": {
    "collapsed": false,
    "deletable": true,
    "editable": true
   },
   "outputs": [
    {
     "name": "stdout",
     "output_type": "stream",
     "text": [
      "<class 'pandas.core.frame.DataFrame'>\n",
      "RangeIndex: 159571 entries, 0 to 159570\n",
      "Data columns (total 8 columns):\n",
      "id               159571 non-null object\n",
      "comment_text     159571 non-null object\n",
      "toxic            159571 non-null int64\n",
      "severe_toxic     159571 non-null int64\n",
      "obscene          159571 non-null int64\n",
      "threat           159571 non-null int64\n",
      "insult           159571 non-null int64\n",
      "identity_hate    159571 non-null int64\n",
      "dtypes: int64(6), object(2)\n",
      "memory usage: 9.7+ MB\n"
     ]
    }
   ],
   "source": [
    "# Data information in train\n",
    "train.info()"
   ]
  },
  {
   "cell_type": "code",
   "execution_count": 10,
   "metadata": {
    "collapsed": false,
    "deletable": true,
    "editable": true
   },
   "outputs": [
    {
     "name": "stdout",
     "output_type": "stream",
     "text": [
      "<class 'pandas.core.frame.DataFrame'>\n",
      "Int64Index: 153164 entries, 0 to 153163\n",
      "Data columns (total 8 columns):\n",
      "id               153164 non-null object\n",
      "comment_text     153164 non-null object\n",
      "toxic            153164 non-null int64\n",
      "severe_toxic     153164 non-null int64\n",
      "obscene          153164 non-null int64\n",
      "threat           153164 non-null int64\n",
      "insult           153164 non-null int64\n",
      "identity_hate    153164 non-null int64\n",
      "dtypes: int64(6), object(2)\n",
      "memory usage: 10.5+ MB\n"
     ]
    }
   ],
   "source": [
    "# Data information in all test data\n",
    "test_all.info()"
   ]
  },
  {
   "cell_type": "code",
   "execution_count": 11,
   "metadata": {
    "collapsed": false,
    "deletable": true,
    "editable": true
   },
   "outputs": [
    {
     "name": "stdout",
     "output_type": "stream",
     "text": [
      "<class 'pandas.core.frame.DataFrame'>\n",
      "Int64Index: 63978 entries, 5 to 153156\n",
      "Data columns (total 8 columns):\n",
      "id               63978 non-null object\n",
      "comment_text     63978 non-null object\n",
      "toxic            63978 non-null int64\n",
      "severe_toxic     63978 non-null int64\n",
      "obscene          63978 non-null int64\n",
      "threat           63978 non-null int64\n",
      "insult           63978 non-null int64\n",
      "identity_hate    63978 non-null int64\n",
      "dtypes: int64(6), object(2)\n",
      "memory usage: 4.4+ MB\n"
     ]
    }
   ],
   "source": [
    "# Data information in test data excluding labels with -1 value\n",
    "test.info()"
   ]
  },
  {
   "cell_type": "code",
   "execution_count": 12,
   "metadata": {
    "collapsed": false,
    "deletable": true,
    "editable": true
   },
   "outputs": [
    {
     "data": {
      "text/plain": [
       "toxic            2\n",
       "severe_toxic     2\n",
       "obscene          2\n",
       "threat           2\n",
       "insult           2\n",
       "identity_hate    2\n",
       "dtype: int64"
      ]
     },
     "execution_count": 12,
     "metadata": {},
     "output_type": "execute_result"
    }
   ],
   "source": [
    "# Number of unique values in integer columns in train\n",
    "train.select_dtypes(np.int64).nunique()"
   ]
  },
  {
   "cell_type": "code",
   "execution_count": 13,
   "metadata": {
    "collapsed": false,
    "deletable": true,
    "editable": true
   },
   "outputs": [
    {
     "data": {
      "text/plain": [
       "toxic            2\n",
       "severe_toxic     2\n",
       "obscene          2\n",
       "threat           2\n",
       "insult           2\n",
       "identity_hate    2\n",
       "dtype: int64"
      ]
     },
     "execution_count": 13,
     "metadata": {},
     "output_type": "execute_result"
    }
   ],
   "source": [
    "# Number of unique values in integer columns in test\n",
    "test.select_dtypes(np.int64).nunique()"
   ]
  },
  {
   "cell_type": "markdown",
   "metadata": {
    "deletable": true,
    "editable": true
   },
   "source": [
    "In summary, dataset train has 159571 comments. dataset test_all has 153164 comments. However, only 63978 comments in dataset test are used for scoring. Dataset train has 8 columns. These are id, comment_text, toxic, severe_toxic, obscene, threat, insult, identity_hate. Id column is just a unique identifier for each entry. comment_text will be classified. Each of the 6 categories is labeled either 0 or 1. dataset from test.csv has 2 columns. These are id and comment_text. The test_lb has 7 columns. These are id, toxic, severe_toxic, obscene, threat, insult, identity_hate. The test_labels was published after competition ended. So, we will use train dataset to train our model and use test dataset (excluding labels with -1 values) to test and score our trained model."
   ]
  },
  {
   "cell_type": "code",
   "execution_count": 14,
   "metadata": {
    "collapsed": false,
    "deletable": true,
    "editable": true
   },
   "outputs": [
    {
     "name": "stdout",
     "output_type": "stream",
     "text": [
      "id               0\n",
      "comment_text     0\n",
      "toxic            0\n",
      "severe_toxic     0\n",
      "obscene          0\n",
      "threat           0\n",
      "insult           0\n",
      "identity_hate    0\n",
      "dtype: int64\n"
     ]
    }
   ],
   "source": [
    "# Check for missing values in train\n",
    "print(train.isnull().sum())"
   ]
  },
  {
   "cell_type": "code",
   "execution_count": 15,
   "metadata": {
    "collapsed": false,
    "deletable": true,
    "editable": true
   },
   "outputs": [
    {
     "name": "stdout",
     "output_type": "stream",
     "text": [
      "id               0\n",
      "comment_text     0\n",
      "toxic            0\n",
      "severe_toxic     0\n",
      "obscene          0\n",
      "threat           0\n",
      "insult           0\n",
      "identity_hate    0\n",
      "dtype: int64\n"
     ]
    }
   ],
   "source": [
    "# Check for missing values in test\n",
    "print(test.isnull().sum())"
   ]
  },
  {
   "cell_type": "markdown",
   "metadata": {
    "deletable": true,
    "editable": true
   },
   "source": [
    "So, there are no missing values."
   ]
  },
  {
   "cell_type": "code",
   "execution_count": 16,
   "metadata": {
    "collapsed": false,
    "deletable": true,
    "editable": true
   },
   "outputs": [
    {
     "data": {
      "text/plain": [
       "toxic            0.095844\n",
       "severe_toxic     0.009996\n",
       "obscene          0.052948\n",
       "threat           0.002996\n",
       "insult           0.049364\n",
       "identity_hate    0.008805\n",
       "dtype: float64"
      ]
     },
     "execution_count": 16,
     "metadata": {},
     "output_type": "execute_result"
    }
   ],
   "source": [
    "# Mean values for each label\n",
    "train[label_names].mean(axis=0)"
   ]
  },
  {
   "cell_type": "code",
   "execution_count": 17,
   "metadata": {
    "collapsed": false,
    "deletable": true,
    "editable": true
   },
   "outputs": [
    {
     "name": "stdout",
     "output_type": "stream",
     "text": [
      "toxic            0.095844\n",
      "obscene          0.052948\n",
      "insult           0.049364\n",
      "severe_toxic     0.009996\n",
      "identity_hate    0.008805\n",
      "threat           0.002996\n",
      "dtype: float64\n"
     ]
    }
   ],
   "source": [
    "# Occurrences of each label relative to the number of samples\n",
    "train_lb = train[label_names]\n",
    "train_lb_counts = (train_lb.sum()/len(train_lb)).sort_values(ascending=False)\n",
    "print(train_lb_counts)"
   ]
  },
  {
   "cell_type": "markdown",
   "metadata": {
    "deletable": true,
    "editable": true
   },
   "source": [
    "Here we see about 9.6% comments in train are 'tpxic'; about 5% ar 'obscene' or 'insult'; about 1% are 'severe_toxic' or 'identity_hate'; about 0.3% is 'threat'."
   ]
  },
  {
   "cell_type": "code",
   "execution_count": 22,
   "metadata": {
    "collapsed": false,
    "deletable": true,
    "editable": true
   },
   "outputs": [
    {
     "data": {
      "image/png": "[encoded data removed]",
      "text/plain": [
       "<Figure size 576x432 with 1 Axes>"
      ]
     },
     "metadata": {
      "needs_background": "light"
     },
     "output_type": "display_data"
    }
   ],
   "source": [
    "# Plot relative count for each toxicity category\n",
    "\n",
    "from collections import OrderedDict\n",
    "colors = OrderedDict({1: 'red', 2: 'orange', 3: 'blue', 4: 'brown', 5: 'black', 6: 'grey'})\n",
    "toxicity_mapping = OrderedDict({1: 'toxic', 4: 'severe_toxic', 2: 'obscene', 6: 'threat', 3: 'insult', 5: 'identity_hate'})\n",
    "train_lb_counts.plot.bar(figsize = (8, 6), color = colors.values(), edgecolor = 'k', linewidth = 2)\n",
    "\n",
    "# Formatting\n",
    "plt.xlabel('Toxicity Level'); \n",
    "plt.ylabel('Count Percentage'); \n",
    "plt.xticks([x - 1 for x in toxicity_mapping.keys()], list(toxicity_mapping.values()), rotation = 60)\n",
    "plt.title('Fig. 1 Toxicity Level Breakdown');"
   ]
  },
  {
   "cell_type": "code",
   "execution_count": 23,
   "metadata": {
    "collapsed": false,
    "deletable": true,
    "editable": true
   },
   "outputs": [
    {
     "data": {
      "image/png": "[encoded data removed]",
      "text/plain": [
       "<Figure size 576x432 with 1 Axes>"
      ]
     },
     "metadata": {
      "needs_background": "light"
     },
     "output_type": "display_data"
    }
   ],
   "source": [
    "# Plot count for multi-label coments\n",
    "import matplotlib.patches as mpatches\n",
    "import seaborn as sns\n",
    "#sns.set(style='darkgrid')\n",
    "plt.figure(figsize=(8,6))\n",
    "x = train[label_names].sum(axis=1).value_counts()\n",
    "ax = sns.barplot(x.index, x.values, color='blue')\n",
    "\n",
    "plt.xlabel('# of positive labels')\n",
    "plt.ylabel('count')\n",
    "plt.title(\"Fig. 2 Multi-label Comment Distrubution\")\n",
    "\n",
    "patch = mpatches.Patch(color='red', label='Count Percentage on Top of Bar')\n",
    "plt.legend(handles=[patch])\n",
    "\n",
    "# Add count on the bar\n",
    "rects = ax.patches\n",
    "labels = x.values / len(train.index)\n",
    "for rect, label in zip(rects, labels):\n",
    "    height = rect.get_height()\n",
    "    label = format(label, '.4f')\n",
    "    ax.text(rect.get_x() + rect.get_width()/2, height, label, ha='center', va='bottom', color='red')\n",
    "\n",
    "plt.show()"
   ]
  },
  {
   "cell_type": "markdown",
   "metadata": {
    "collapsed": true,
    "deletable": true,
    "editable": true
   },
   "source": [
    "Here we see most comments do not have any positive label. These are clean comments. About 4% comments have 1 positive toxicity label and about 6% have 2 or more positive toxicity labels."
   ]
  },
  {
   "cell_type": "code",
   "execution_count": 24,
   "metadata": {
    "collapsed": false,
    "deletable": true,
    "editable": true
   },
   "outputs": [
    {
     "data": {
      "text/html": [
       "<div>\n",
       "<style scoped>\n",
       "    .dataframe tbody tr th:only-of-type {\n",
       "        vertical-align: middle;\n",
       "    }\n",
       "\n",
       "    .dataframe tbody tr th {\n",
       "        vertical-align: top;\n",
       "    }\n",
       "\n",
       "    .dataframe thead th {\n",
       "        text-align: right;\n",
       "    }\n",
       "</style>\n",
       "<table border=\"1\" class=\"dataframe\">\n",
       "  <thead>\n",
       "    <tr style=\"text-align: right;\">\n",
       "      <th></th>\n",
       "      <th>toxic</th>\n",
       "      <th>severe_toxic</th>\n",
       "      <th>obscene</th>\n",
       "      <th>threat</th>\n",
       "      <th>insult</th>\n",
       "      <th>identity_hate</th>\n",
       "    </tr>\n",
       "  </thead>\n",
       "  <tbody>\n",
       "  </tbody>\n",
       "</table>\n",
       "</div>"
      ],
      "text/plain": [
       "Empty DataFrame\n",
       "Columns: [toxic, severe_toxic, obscene, threat, insult, identity_hate]\n",
       "Index: []"
      ]
     },
     "execution_count": 24,
     "metadata": {},
     "output_type": "execute_result"
    }
   ],
   "source": [
    "# Does severe_toxic always mean toxic?\n",
    "train.loc[(train['severe_toxic'] == 1) & (train['toxic'] != 1), label_names]"
   ]
  },
  {
   "cell_type": "code",
   "execution_count": 25,
   "metadata": {
    "collapsed": false,
    "deletable": true,
    "editable": true
   },
   "outputs": [
    {
     "data": {
      "text/html": [
       "<div>\n",
       "<style scoped>\n",
       "    .dataframe tbody tr th:only-of-type {\n",
       "        vertical-align: middle;\n",
       "    }\n",
       "\n",
       "    .dataframe tbody tr th {\n",
       "        vertical-align: top;\n",
       "    }\n",
       "\n",
       "    .dataframe thead th {\n",
       "        text-align: right;\n",
       "    }\n",
       "</style>\n",
       "<table border=\"1\" class=\"dataframe\">\n",
       "  <thead>\n",
       "    <tr style=\"text-align: right;\">\n",
       "      <th></th>\n",
       "      <th>id</th>\n",
       "      <th>comment_text</th>\n",
       "      <th>toxic</th>\n",
       "      <th>severe_toxic</th>\n",
       "      <th>obscene</th>\n",
       "      <th>threat</th>\n",
       "      <th>insult</th>\n",
       "      <th>identity_hate</th>\n",
       "    </tr>\n",
       "  </thead>\n",
       "  <tbody>\n",
       "    <tr>\n",
       "      <th>6</th>\n",
       "      <td>0002bcb3da6cb337</td>\n",
       "      <td>COCKSUCKER BEFORE YOU PISS AROUND ON MY WORK</td>\n",
       "      <td>1</td>\n",
       "      <td>1</td>\n",
       "      <td>1</td>\n",
       "      <td>0</td>\n",
       "      <td>1</td>\n",
       "      <td>0</td>\n",
       "    </tr>\n",
       "    <tr>\n",
       "      <th>55</th>\n",
       "      <td>0020e7119b96eeeb</td>\n",
       "      <td>Stupid peace of shit stop deleting my stuff as...</td>\n",
       "      <td>1</td>\n",
       "      <td>1</td>\n",
       "      <td>1</td>\n",
       "      <td>0</td>\n",
       "      <td>1</td>\n",
       "      <td>0</td>\n",
       "    </tr>\n",
       "    <tr>\n",
       "      <th>181</th>\n",
       "      <td>006e87872c8b370c</td>\n",
       "      <td>you are a stupid fuck \\n\\nand your mother's cu...</td>\n",
       "      <td>1</td>\n",
       "      <td>1</td>\n",
       "      <td>1</td>\n",
       "      <td>0</td>\n",
       "      <td>1</td>\n",
       "      <td>0</td>\n",
       "    </tr>\n",
       "    <tr>\n",
       "      <th>442</th>\n",
       "      <td>01208d2b76624130</td>\n",
       "      <td>Hi \\n\\nIm a fucking bitch.\\n\\n50.180.208.181</td>\n",
       "      <td>1</td>\n",
       "      <td>1</td>\n",
       "      <td>1</td>\n",
       "      <td>0</td>\n",
       "      <td>1</td>\n",
       "      <td>0</td>\n",
       "    </tr>\n",
       "    <tr>\n",
       "      <th>579</th>\n",
       "      <td>018663f910e0bfe6</td>\n",
       "      <td>What a motherfucking piece of crap those fuckh...</td>\n",
       "      <td>1</td>\n",
       "      <td>1</td>\n",
       "      <td>1</td>\n",
       "      <td>0</td>\n",
       "      <td>1</td>\n",
       "      <td>0</td>\n",
       "    </tr>\n",
       "    <tr>\n",
       "      <th>746</th>\n",
       "      <td>020316a0de9e0406</td>\n",
       "      <td>\"You know, I was thinking...\\n\\nNobody really ...</td>\n",
       "      <td>1</td>\n",
       "      <td>1</td>\n",
       "      <td>1</td>\n",
       "      <td>0</td>\n",
       "      <td>0</td>\n",
       "      <td>0</td>\n",
       "    </tr>\n",
       "    <tr>\n",
       "      <th>756</th>\n",
       "      <td>0207005a6576eafc</td>\n",
       "      <td>Here's an idea \\n\\nGo fuck yourself, cumshitter.</td>\n",
       "      <td>1</td>\n",
       "      <td>1</td>\n",
       "      <td>1</td>\n",
       "      <td>0</td>\n",
       "      <td>1</td>\n",
       "      <td>0</td>\n",
       "    </tr>\n",
       "    <tr>\n",
       "      <th>761</th>\n",
       "      <td>0209cdf3131130ed</td>\n",
       "      <td>\"  WILL MY MOTHERFUCKING SAFETY BE GUARANTEED?...</td>\n",
       "      <td>1</td>\n",
       "      <td>1</td>\n",
       "      <td>1</td>\n",
       "      <td>0</td>\n",
       "      <td>1</td>\n",
       "      <td>0</td>\n",
       "    </tr>\n",
       "    <tr>\n",
       "      <th>887</th>\n",
       "      <td>026bd33490542b2e</td>\n",
       "      <td>you gay motherfucker i know where you live,i a...</td>\n",
       "      <td>1</td>\n",
       "      <td>1</td>\n",
       "      <td>1</td>\n",
       "      <td>0</td>\n",
       "      <td>1</td>\n",
       "      <td>1</td>\n",
       "    </tr>\n",
       "    <tr>\n",
       "      <th>1017</th>\n",
       "      <td>02c6e41e4b317ac3</td>\n",
       "      <td>WOULDN'T BE THE FIRST TIME BITCH. FUCK YOU I'L...</td>\n",
       "      <td>1</td>\n",
       "      <td>1</td>\n",
       "      <td>1</td>\n",
       "      <td>1</td>\n",
       "      <td>1</td>\n",
       "      <td>1</td>\n",
       "    </tr>\n",
       "    <tr>\n",
       "      <th>1116</th>\n",
       "      <td>03088aacc4600323</td>\n",
       "      <td>Fuck you faggot, I don't care if i get blocked...</td>\n",
       "      <td>1</td>\n",
       "      <td>1</td>\n",
       "      <td>1</td>\n",
       "      <td>0</td>\n",
       "      <td>1</td>\n",
       "      <td>1</td>\n",
       "    </tr>\n",
       "    <tr>\n",
       "      <th>1129</th>\n",
       "      <td>030ed098f411f8c7</td>\n",
       "      <td>Cavorting with Heretics \\n\\nFuck Heretics!!!</td>\n",
       "      <td>1</td>\n",
       "      <td>1</td>\n",
       "      <td>1</td>\n",
       "      <td>0</td>\n",
       "      <td>1</td>\n",
       "      <td>0</td>\n",
       "    </tr>\n",
       "    <tr>\n",
       "      <th>1226</th>\n",
       "      <td>034beefa865b5381</td>\n",
       "      <td>i have a dick, its bigger than yours! hahaha</td>\n",
       "      <td>1</td>\n",
       "      <td>1</td>\n",
       "      <td>1</td>\n",
       "      <td>0</td>\n",
       "      <td>0</td>\n",
       "      <td>0</td>\n",
       "    </tr>\n",
       "    <tr>\n",
       "      <th>1264</th>\n",
       "      <td>03687823a14a8454</td>\n",
       "      <td>Fuck you people. The information of that can b...</td>\n",
       "      <td>1</td>\n",
       "      <td>1</td>\n",
       "      <td>1</td>\n",
       "      <td>0</td>\n",
       "      <td>1</td>\n",
       "      <td>0</td>\n",
       "    </tr>\n",
       "    <tr>\n",
       "      <th>1312</th>\n",
       "      <td>039296aa294ee10b</td>\n",
       "      <td>SHUT UP, YOU FAT POOP, OR I WILL KICK YOUR ASS!!!</td>\n",
       "      <td>1</td>\n",
       "      <td>1</td>\n",
       "      <td>1</td>\n",
       "      <td>1</td>\n",
       "      <td>1</td>\n",
       "      <td>1</td>\n",
       "    </tr>\n",
       "    <tr>\n",
       "      <th>1465</th>\n",
       "      <td>03ebb03deb920216</td>\n",
       "      <td>To Blanchardb \\n\\nYou dumb motherfucker I am g...</td>\n",
       "      <td>1</td>\n",
       "      <td>1</td>\n",
       "      <td>1</td>\n",
       "      <td>0</td>\n",
       "      <td>1</td>\n",
       "      <td>0</td>\n",
       "    </tr>\n",
       "    <tr>\n",
       "      <th>1568</th>\n",
       "      <td>04371246307ecbd1</td>\n",
       "      <td>fuck you and your small penis</td>\n",
       "      <td>1</td>\n",
       "      <td>1</td>\n",
       "      <td>1</td>\n",
       "      <td>0</td>\n",
       "      <td>1</td>\n",
       "      <td>0</td>\n",
       "    </tr>\n",
       "    <tr>\n",
       "      <th>1645</th>\n",
       "      <td>0470a205e8ecf59b</td>\n",
       "      <td>closedmouth is a DICK-FUCK \\n\\nthis guy is a j...</td>\n",
       "      <td>1</td>\n",
       "      <td>1</td>\n",
       "      <td>1</td>\n",
       "      <td>0</td>\n",
       "      <td>1</td>\n",
       "      <td>0</td>\n",
       "    </tr>\n",
       "    <tr>\n",
       "      <th>1675</th>\n",
       "      <td>048e2bdc78a2dff1</td>\n",
       "      <td>\"\\n\\nhey fuck you, who the fuck checks \"\"Phnom...</td>\n",
       "      <td>1</td>\n",
       "      <td>1</td>\n",
       "      <td>1</td>\n",
       "      <td>0</td>\n",
       "      <td>1</td>\n",
       "      <td>0</td>\n",
       "    </tr>\n",
       "    <tr>\n",
       "      <th>1684</th>\n",
       "      <td>0492cfd8278238d4</td>\n",
       "      <td>72.94.188.92 \\n\\nYo what the fuck is your prob...</td>\n",
       "      <td>1</td>\n",
       "      <td>1</td>\n",
       "      <td>1</td>\n",
       "      <td>0</td>\n",
       "      <td>1</td>\n",
       "      <td>0</td>\n",
       "    </tr>\n",
       "    <tr>\n",
       "      <th>2055</th>\n",
       "      <td>0593a8a738fedf41</td>\n",
       "      <td>Igho Otegheri Deletion\\nWho the hell are you t...</td>\n",
       "      <td>1</td>\n",
       "      <td>1</td>\n",
       "      <td>1</td>\n",
       "      <td>0</td>\n",
       "      <td>1</td>\n",
       "      <td>0</td>\n",
       "    </tr>\n",
       "    <tr>\n",
       "      <th>2094</th>\n",
       "      <td>05a928e4d2101d4e</td>\n",
       "      <td>@: nobody cares about the Fucking Shit like yo...</td>\n",
       "      <td>1</td>\n",
       "      <td>1</td>\n",
       "      <td>1</td>\n",
       "      <td>0</td>\n",
       "      <td>1</td>\n",
       "      <td>0</td>\n",
       "    </tr>\n",
       "    <tr>\n",
       "      <th>2217</th>\n",
       "      <td>06087e2338f9b86c</td>\n",
       "      <td>\"\\n\\n Some baklava for you! \\n\\n  Fuck . =)   \"</td>\n",
       "      <td>1</td>\n",
       "      <td>1</td>\n",
       "      <td>1</td>\n",
       "      <td>0</td>\n",
       "      <td>0</td>\n",
       "      <td>0</td>\n",
       "    </tr>\n",
       "    <tr>\n",
       "      <th>2227</th>\n",
       "      <td>060d90bb83941f2a</td>\n",
       "      <td>THIS IS MY PAGE FUCKERS SO I CAN SAY WHAT I WA...</td>\n",
       "      <td>1</td>\n",
       "      <td>1</td>\n",
       "      <td>1</td>\n",
       "      <td>0</td>\n",
       "      <td>1</td>\n",
       "      <td>0</td>\n",
       "    </tr>\n",
       "    <tr>\n",
       "      <th>2243</th>\n",
       "      <td>0612f0cf5318c790</td>\n",
       "      <td>hey wiki nerd  \\n\\nu suck man i dont like your...</td>\n",
       "      <td>1</td>\n",
       "      <td>1</td>\n",
       "      <td>1</td>\n",
       "      <td>0</td>\n",
       "      <td>1</td>\n",
       "      <td>0</td>\n",
       "    </tr>\n",
       "    <tr>\n",
       "      <th>2249</th>\n",
       "      <td>06168775082a96d2</td>\n",
       "      <td>YOU ARE A MOTHJER FUCKER COCKSUCKER! YOU ARE A...</td>\n",
       "      <td>1</td>\n",
       "      <td>1</td>\n",
       "      <td>1</td>\n",
       "      <td>0</td>\n",
       "      <td>1</td>\n",
       "      <td>0</td>\n",
       "    </tr>\n",
       "    <tr>\n",
       "      <th>2264</th>\n",
       "      <td>06205250808cc1f3</td>\n",
       "      <td>MOTHERFUCKER, DONT BE CHANGING THE FUCKING GTA...</td>\n",
       "      <td>1</td>\n",
       "      <td>1</td>\n",
       "      <td>1</td>\n",
       "      <td>0</td>\n",
       "      <td>1</td>\n",
       "      <td>0</td>\n",
       "    </tr>\n",
       "    <tr>\n",
       "      <th>2296</th>\n",
       "      <td>063044c2f0a7bd60</td>\n",
       "      <td>FUCK YOU, YOU PARANOID BITCH!!! \\n\\nYOU ARE a ...</td>\n",
       "      <td>1</td>\n",
       "      <td>1</td>\n",
       "      <td>1</td>\n",
       "      <td>0</td>\n",
       "      <td>1</td>\n",
       "      <td>0</td>\n",
       "    </tr>\n",
       "    <tr>\n",
       "      <th>2359</th>\n",
       "      <td>065675c12e22e3e1</td>\n",
       "      <td>You fascit Nazi! You socialist bastard! You fi...</td>\n",
       "      <td>1</td>\n",
       "      <td>1</td>\n",
       "      <td>1</td>\n",
       "      <td>0</td>\n",
       "      <td>1</td>\n",
       "      <td>1</td>\n",
       "    </tr>\n",
       "    <tr>\n",
       "      <th>2374</th>\n",
       "      <td>0661f992b32b3351</td>\n",
       "      <td>FUCK OF NAZI PROPAGANDA\\nodpierdalcie sie jeba...</td>\n",
       "      <td>1</td>\n",
       "      <td>1</td>\n",
       "      <td>1</td>\n",
       "      <td>0</td>\n",
       "      <td>0</td>\n",
       "      <td>1</td>\n",
       "    </tr>\n",
       "    <tr>\n",
       "      <th>...</th>\n",
       "      <td>...</td>\n",
       "      <td>...</td>\n",
       "      <td>...</td>\n",
       "      <td>...</td>\n",
       "      <td>...</td>\n",
       "      <td>...</td>\n",
       "      <td>...</td>\n",
       "      <td>...</td>\n",
       "    </tr>\n",
       "    <tr>\n",
       "      <th>156630</th>\n",
       "      <td>d15a76f2b4440b94</td>\n",
       "      <td>You are a cocksucking faggot D</td>\n",
       "      <td>1</td>\n",
       "      <td>1</td>\n",
       "      <td>1</td>\n",
       "      <td>0</td>\n",
       "      <td>1</td>\n",
       "      <td>0</td>\n",
       "    </tr>\n",
       "    <tr>\n",
       "      <th>156726</th>\n",
       "      <td>d2b6ebce0790c683</td>\n",
       "      <td>HEY YOU MOTHER FUCKER I PUT HARD WORK INTO MY ...</td>\n",
       "      <td>1</td>\n",
       "      <td>1</td>\n",
       "      <td>1</td>\n",
       "      <td>0</td>\n",
       "      <td>1</td>\n",
       "      <td>0</td>\n",
       "    </tr>\n",
       "    <tr>\n",
       "      <th>156792</th>\n",
       "      <td>d3a0f800f19044bb</td>\n",
       "      <td>Hanibal911You're a bastard Pro-Assad.Hanibal91...</td>\n",
       "      <td>1</td>\n",
       "      <td>1</td>\n",
       "      <td>1</td>\n",
       "      <td>0</td>\n",
       "      <td>1</td>\n",
       "      <td>0</td>\n",
       "    </tr>\n",
       "    <tr>\n",
       "      <th>156989</th>\n",
       "      <td>d6ac49f49637886a</td>\n",
       "      <td>YOU CAN ALL SUCK MY HAIRY BEANBAG  YOU STUPID ...</td>\n",
       "      <td>1</td>\n",
       "      <td>1</td>\n",
       "      <td>1</td>\n",
       "      <td>0</td>\n",
       "      <td>1</td>\n",
       "      <td>0</td>\n",
       "    </tr>\n",
       "    <tr>\n",
       "      <th>157020</th>\n",
       "      <td>d71b58cf2fed1bd5</td>\n",
       "      <td>SUCK MY COCK WIKIPEDIA EDITORS...FUCKING ASSHO...</td>\n",
       "      <td>1</td>\n",
       "      <td>1</td>\n",
       "      <td>1</td>\n",
       "      <td>0</td>\n",
       "      <td>1</td>\n",
       "      <td>0</td>\n",
       "    </tr>\n",
       "    <tr>\n",
       "      <th>157179</th>\n",
       "      <td>da0b1337eb74f190</td>\n",
       "      <td>Fuck off this is none of your concern its betw...</td>\n",
       "      <td>1</td>\n",
       "      <td>1</td>\n",
       "      <td>1</td>\n",
       "      <td>0</td>\n",
       "      <td>1</td>\n",
       "      <td>0</td>\n",
       "    </tr>\n",
       "    <tr>\n",
       "      <th>157243</th>\n",
       "      <td>daf5329d788f31c3</td>\n",
       "      <td>You stupid nigger \\n\\nYou stupid nigger You st...</td>\n",
       "      <td>1</td>\n",
       "      <td>1</td>\n",
       "      <td>1</td>\n",
       "      <td>0</td>\n",
       "      <td>1</td>\n",
       "      <td>1</td>\n",
       "    </tr>\n",
       "    <tr>\n",
       "      <th>157382</th>\n",
       "      <td>dd2a391d1b302475</td>\n",
       "      <td>Sorry bitch but the miz is a dumb faggot ass p...</td>\n",
       "      <td>1</td>\n",
       "      <td>1</td>\n",
       "      <td>1</td>\n",
       "      <td>0</td>\n",
       "      <td>1</td>\n",
       "      <td>0</td>\n",
       "    </tr>\n",
       "    <tr>\n",
       "      <th>157428</th>\n",
       "      <td>ddf6dc5cf6931f48</td>\n",
       "      <td>Ok.... \\n\\nBitch i swear to God i will fuckin ...</td>\n",
       "      <td>1</td>\n",
       "      <td>1</td>\n",
       "      <td>1</td>\n",
       "      <td>1</td>\n",
       "      <td>1</td>\n",
       "      <td>1</td>\n",
       "    </tr>\n",
       "    <tr>\n",
       "      <th>157572</th>\n",
       "      <td>e056cd98c14ad940</td>\n",
       "      <td>Why the fuck do you assholes keep deleting the...</td>\n",
       "      <td>1</td>\n",
       "      <td>1</td>\n",
       "      <td>1</td>\n",
       "      <td>0</td>\n",
       "      <td>1</td>\n",
       "      <td>0</td>\n",
       "    </tr>\n",
       "    <tr>\n",
       "      <th>157631</th>\n",
       "      <td>e1416bf0b4bbfd24</td>\n",
       "      <td>I Want You \\n\\nI wanna rape you good. I want y...</td>\n",
       "      <td>1</td>\n",
       "      <td>1</td>\n",
       "      <td>1</td>\n",
       "      <td>1</td>\n",
       "      <td>1</td>\n",
       "      <td>0</td>\n",
       "    </tr>\n",
       "    <tr>\n",
       "      <th>157672</th>\n",
       "      <td>e1df7586023c62b2</td>\n",
       "      <td>You're a fucking retard.149.254.186.158</td>\n",
       "      <td>1</td>\n",
       "      <td>1</td>\n",
       "      <td>1</td>\n",
       "      <td>0</td>\n",
       "      <td>1</td>\n",
       "      <td>0</td>\n",
       "    </tr>\n",
       "    <tr>\n",
       "      <th>157679</th>\n",
       "      <td>e1f1ed7b99a0e631</td>\n",
       "      <td>fuck you! \\n\\nfuck you! YOU ARE UNCIVIL TO CON...</td>\n",
       "      <td>1</td>\n",
       "      <td>1</td>\n",
       "      <td>1</td>\n",
       "      <td>0</td>\n",
       "      <td>1</td>\n",
       "      <td>0</td>\n",
       "    </tr>\n",
       "    <tr>\n",
       "      <th>157710</th>\n",
       "      <td>e257b97f1c0d11e0</td>\n",
       "      <td>Awww how come you took off all of your discuss...</td>\n",
       "      <td>1</td>\n",
       "      <td>1</td>\n",
       "      <td>1</td>\n",
       "      <td>0</td>\n",
       "      <td>1</td>\n",
       "      <td>0</td>\n",
       "    </tr>\n",
       "    <tr>\n",
       "      <th>157929</th>\n",
       "      <td>e6051913321df290</td>\n",
       "      <td>To faithlessfaggotboy:  Suck my dick you godda...</td>\n",
       "      <td>1</td>\n",
       "      <td>1</td>\n",
       "      <td>1</td>\n",
       "      <td>0</td>\n",
       "      <td>1</td>\n",
       "      <td>0</td>\n",
       "    </tr>\n",
       "    <tr>\n",
       "      <th>157936</th>\n",
       "      <td>e6315da10c275d79</td>\n",
       "      <td>FUCK OFF YOU CRYBABY SHIT OF A MAN</td>\n",
       "      <td>1</td>\n",
       "      <td>1</td>\n",
       "      <td>1</td>\n",
       "      <td>0</td>\n",
       "      <td>1</td>\n",
       "      <td>0</td>\n",
       "    </tr>\n",
       "    <tr>\n",
       "      <th>158023</th>\n",
       "      <td>e778d4f09a32b559</td>\n",
       "      <td>Fuck You \\n\\nNigga, fuck you.\\n\\nFlocka aint a...</td>\n",
       "      <td>1</td>\n",
       "      <td>1</td>\n",
       "      <td>1</td>\n",
       "      <td>0</td>\n",
       "      <td>1</td>\n",
       "      <td>1</td>\n",
       "    </tr>\n",
       "    <tr>\n",
       "      <th>158078</th>\n",
       "      <td>e88321c89a619419</td>\n",
       "      <td>Stupid fucking bitch rot in hell piece of shit</td>\n",
       "      <td>1</td>\n",
       "      <td>1</td>\n",
       "      <td>1</td>\n",
       "      <td>0</td>\n",
       "      <td>1</td>\n",
       "      <td>0</td>\n",
       "    </tr>\n",
       "    <tr>\n",
       "      <th>158155</th>\n",
       "      <td>e980dad0b074bde0</td>\n",
       "      <td>fuck u\\nrape my penis plz!</td>\n",
       "      <td>1</td>\n",
       "      <td>1</td>\n",
       "      <td>1</td>\n",
       "      <td>0</td>\n",
       "      <td>1</td>\n",
       "      <td>0</td>\n",
       "    </tr>\n",
       "    <tr>\n",
       "      <th>158273</th>\n",
       "      <td>eb51cc5d921bca7f</td>\n",
       "      <td>SHUT UP AND LEAVE ME ALONE  \\n\\nFAGGOT! SHUT U...</td>\n",
       "      <td>1</td>\n",
       "      <td>1</td>\n",
       "      <td>0</td>\n",
       "      <td>0</td>\n",
       "      <td>0</td>\n",
       "      <td>0</td>\n",
       "    </tr>\n",
       "    <tr>\n",
       "      <th>158498</th>\n",
       "      <td>eee236660953137a</td>\n",
       "      <td>n ig ger nig ger \\n\\nHi n i g g e r</td>\n",
       "      <td>1</td>\n",
       "      <td>1</td>\n",
       "      <td>1</td>\n",
       "      <td>0</td>\n",
       "      <td>0</td>\n",
       "      <td>1</td>\n",
       "    </tr>\n",
       "    <tr>\n",
       "      <th>158501</th>\n",
       "      <td>eee84f301cbcd9a3</td>\n",
       "      <td>What the fuck happened to my article bitches?!</td>\n",
       "      <td>1</td>\n",
       "      <td>1</td>\n",
       "      <td>1</td>\n",
       "      <td>0</td>\n",
       "      <td>0</td>\n",
       "      <td>0</td>\n",
       "    </tr>\n",
       "    <tr>\n",
       "      <th>158634</th>\n",
       "      <td>f0f96bcda3afb8f3</td>\n",
       "      <td>suck my dick \\n\\nfuck you dirty whore bitch</td>\n",
       "      <td>1</td>\n",
       "      <td>1</td>\n",
       "      <td>1</td>\n",
       "      <td>0</td>\n",
       "      <td>1</td>\n",
       "      <td>0</td>\n",
       "    </tr>\n",
       "    <tr>\n",
       "      <th>158856</th>\n",
       "      <td>f4dca9e513e0366f</td>\n",
       "      <td>Hey \\n\\nhey faggot, are you dead yet? or are y...</td>\n",
       "      <td>1</td>\n",
       "      <td>1</td>\n",
       "      <td>1</td>\n",
       "      <td>1</td>\n",
       "      <td>1</td>\n",
       "      <td>0</td>\n",
       "    </tr>\n",
       "    <tr>\n",
       "      <th>158911</th>\n",
       "      <td>f5bd637baaa1a0ed</td>\n",
       "      <td>asshole. \\n\\nFuck off.</td>\n",
       "      <td>1</td>\n",
       "      <td>1</td>\n",
       "      <td>1</td>\n",
       "      <td>0</td>\n",
       "      <td>1</td>\n",
       "      <td>0</td>\n",
       "    </tr>\n",
       "    <tr>\n",
       "      <th>159096</th>\n",
       "      <td>f871b05d4caa6f20</td>\n",
       "      <td>You filthy, stinking crow! \\n\\nI am back! Dirt...</td>\n",
       "      <td>1</td>\n",
       "      <td>1</td>\n",
       "      <td>1</td>\n",
       "      <td>0</td>\n",
       "      <td>1</td>\n",
       "      <td>0</td>\n",
       "    </tr>\n",
       "    <tr>\n",
       "      <th>159099</th>\n",
       "      <td>f885a3e2d779342e</td>\n",
       "      <td>now\\n\\nyou fucking pathetic moron. \\n\\ncc:  Ji...</td>\n",
       "      <td>1</td>\n",
       "      <td>1</td>\n",
       "      <td>1</td>\n",
       "      <td>0</td>\n",
       "      <td>1</td>\n",
       "      <td>0</td>\n",
       "    </tr>\n",
       "    <tr>\n",
       "      <th>159281</th>\n",
       "      <td>fb726deec64157bd</td>\n",
       "      <td>LoL!! \\n\\nyou're GAY!! you will never know how...</td>\n",
       "      <td>1</td>\n",
       "      <td>1</td>\n",
       "      <td>1</td>\n",
       "      <td>0</td>\n",
       "      <td>1</td>\n",
       "      <td>1</td>\n",
       "    </tr>\n",
       "    <tr>\n",
       "      <th>159312</th>\n",
       "      <td>fbf20e312cd4a78d</td>\n",
       "      <td>Walter Mercado \\n\\nAntonio, quite frankly, you...</td>\n",
       "      <td>1</td>\n",
       "      <td>1</td>\n",
       "      <td>1</td>\n",
       "      <td>0</td>\n",
       "      <td>1</td>\n",
       "      <td>0</td>\n",
       "    </tr>\n",
       "    <tr>\n",
       "      <th>159400</th>\n",
       "      <td>fd052883fa6a8697</td>\n",
       "      <td>Shalom \\n\\nSemite, get the fuck out of here. I...</td>\n",
       "      <td>1</td>\n",
       "      <td>1</td>\n",
       "      <td>1</td>\n",
       "      <td>1</td>\n",
       "      <td>1</td>\n",
       "      <td>1</td>\n",
       "    </tr>\n",
       "  </tbody>\n",
       "</table>\n",
       "<p>1595 rows × 8 columns</p>\n",
       "</div>"
      ],
      "text/plain": [
       "                      id                                       comment_text  \\\n",
       "6       0002bcb3da6cb337       COCKSUCKER BEFORE YOU PISS AROUND ON MY WORK   \n",
       "55      0020e7119b96eeeb  Stupid peace of shit stop deleting my stuff as...   \n",
       "181     006e87872c8b370c  you are a stupid fuck \\n\\nand your mother's cu...   \n",
       "442     01208d2b76624130       Hi \\n\\nIm a fucking bitch.\\n\\n50.180.208.181   \n",
       "579     018663f910e0bfe6  What a motherfucking piece of crap those fuckh...   \n",
       "746     020316a0de9e0406  \"You know, I was thinking...\\n\\nNobody really ...   \n",
       "756     0207005a6576eafc   Here's an idea \\n\\nGo fuck yourself, cumshitter.   \n",
       "761     0209cdf3131130ed  \"  WILL MY MOTHERFUCKING SAFETY BE GUARANTEED?...   \n",
       "887     026bd33490542b2e  you gay motherfucker i know where you live,i a...   \n",
       "1017    02c6e41e4b317ac3  WOULDN'T BE THE FIRST TIME BITCH. FUCK YOU I'L...   \n",
       "1116    03088aacc4600323  Fuck you faggot, I don't care if i get blocked...   \n",
       "1129    030ed098f411f8c7       Cavorting with Heretics \\n\\nFuck Heretics!!!   \n",
       "1226    034beefa865b5381       i have a dick, its bigger than yours! hahaha   \n",
       "1264    03687823a14a8454  Fuck you people. The information of that can b...   \n",
       "1312    039296aa294ee10b  SHUT UP, YOU FAT POOP, OR I WILL KICK YOUR ASS!!!   \n",
       "1465    03ebb03deb920216  To Blanchardb \\n\\nYou dumb motherfucker I am g...   \n",
       "1568    04371246307ecbd1                      fuck you and your small penis   \n",
       "1645    0470a205e8ecf59b  closedmouth is a DICK-FUCK \\n\\nthis guy is a j...   \n",
       "1675    048e2bdc78a2dff1  \"\\n\\nhey fuck you, who the fuck checks \"\"Phnom...   \n",
       "1684    0492cfd8278238d4  72.94.188.92 \\n\\nYo what the fuck is your prob...   \n",
       "2055    0593a8a738fedf41  Igho Otegheri Deletion\\nWho the hell are you t...   \n",
       "2094    05a928e4d2101d4e  @: nobody cares about the Fucking Shit like yo...   \n",
       "2217    06087e2338f9b86c    \"\\n\\n Some baklava for you! \\n\\n  Fuck . =)   \"   \n",
       "2227    060d90bb83941f2a  THIS IS MY PAGE FUCKERS SO I CAN SAY WHAT I WA...   \n",
       "2243    0612f0cf5318c790  hey wiki nerd  \\n\\nu suck man i dont like your...   \n",
       "2249    06168775082a96d2  YOU ARE A MOTHJER FUCKER COCKSUCKER! YOU ARE A...   \n",
       "2264    06205250808cc1f3  MOTHERFUCKER, DONT BE CHANGING THE FUCKING GTA...   \n",
       "2296    063044c2f0a7bd60  FUCK YOU, YOU PARANOID BITCH!!! \\n\\nYOU ARE a ...   \n",
       "2359    065675c12e22e3e1  You fascit Nazi! You socialist bastard! You fi...   \n",
       "2374    0661f992b32b3351  FUCK OF NAZI PROPAGANDA\\nodpierdalcie sie jeba...   \n",
       "...                  ...                                                ...   \n",
       "156630  d15a76f2b4440b94                     You are a cocksucking faggot D   \n",
       "156726  d2b6ebce0790c683  HEY YOU MOTHER FUCKER I PUT HARD WORK INTO MY ...   \n",
       "156792  d3a0f800f19044bb  Hanibal911You're a bastard Pro-Assad.Hanibal91...   \n",
       "156989  d6ac49f49637886a  YOU CAN ALL SUCK MY HAIRY BEANBAG  YOU STUPID ...   \n",
       "157020  d71b58cf2fed1bd5  SUCK MY COCK WIKIPEDIA EDITORS...FUCKING ASSHO...   \n",
       "157179  da0b1337eb74f190  Fuck off this is none of your concern its betw...   \n",
       "157243  daf5329d788f31c3  You stupid nigger \\n\\nYou stupid nigger You st...   \n",
       "157382  dd2a391d1b302475  Sorry bitch but the miz is a dumb faggot ass p...   \n",
       "157428  ddf6dc5cf6931f48  Ok.... \\n\\nBitch i swear to God i will fuckin ...   \n",
       "157572  e056cd98c14ad940  Why the fuck do you assholes keep deleting the...   \n",
       "157631  e1416bf0b4bbfd24  I Want You \\n\\nI wanna rape you good. I want y...   \n",
       "157672  e1df7586023c62b2            You're a fucking retard.149.254.186.158   \n",
       "157679  e1f1ed7b99a0e631  fuck you! \\n\\nfuck you! YOU ARE UNCIVIL TO CON...   \n",
       "157710  e257b97f1c0d11e0  Awww how come you took off all of your discuss...   \n",
       "157929  e6051913321df290  To faithlessfaggotboy:  Suck my dick you godda...   \n",
       "157936  e6315da10c275d79                 FUCK OFF YOU CRYBABY SHIT OF A MAN   \n",
       "158023  e778d4f09a32b559  Fuck You \\n\\nNigga, fuck you.\\n\\nFlocka aint a...   \n",
       "158078  e88321c89a619419     Stupid fucking bitch rot in hell piece of shit   \n",
       "158155  e980dad0b074bde0                         fuck u\\nrape my penis plz!   \n",
       "158273  eb51cc5d921bca7f  SHUT UP AND LEAVE ME ALONE  \\n\\nFAGGOT! SHUT U...   \n",
       "158498  eee236660953137a                n ig ger nig ger \\n\\nHi n i g g e r   \n",
       "158501  eee84f301cbcd9a3     What the fuck happened to my article bitches?!   \n",
       "158634  f0f96bcda3afb8f3        suck my dick \\n\\nfuck you dirty whore bitch   \n",
       "158856  f4dca9e513e0366f  Hey \\n\\nhey faggot, are you dead yet? or are y...   \n",
       "158911  f5bd637baaa1a0ed                             asshole. \\n\\nFuck off.   \n",
       "159096  f871b05d4caa6f20  You filthy, stinking crow! \\n\\nI am back! Dirt...   \n",
       "159099  f885a3e2d779342e  now\\n\\nyou fucking pathetic moron. \\n\\ncc:  Ji...   \n",
       "159281  fb726deec64157bd  LoL!! \\n\\nyou're GAY!! you will never know how...   \n",
       "159312  fbf20e312cd4a78d  Walter Mercado \\n\\nAntonio, quite frankly, you...   \n",
       "159400  fd052883fa6a8697  Shalom \\n\\nSemite, get the fuck out of here. I...   \n",
       "\n",
       "        toxic  severe_toxic  obscene  threat  insult  identity_hate  \n",
       "6           1             1        1       0       1              0  \n",
       "55          1             1        1       0       1              0  \n",
       "181         1             1        1       0       1              0  \n",
       "442         1             1        1       0       1              0  \n",
       "579         1             1        1       0       1              0  \n",
       "746         1             1        1       0       0              0  \n",
       "756         1             1        1       0       1              0  \n",
       "761         1             1        1       0       1              0  \n",
       "887         1             1        1       0       1              1  \n",
       "1017        1             1        1       1       1              1  \n",
       "1116        1             1        1       0       1              1  \n",
       "1129        1             1        1       0       1              0  \n",
       "1226        1             1        1       0       0              0  \n",
       "1264        1             1        1       0       1              0  \n",
       "1312        1             1        1       1       1              1  \n",
       "1465        1             1        1       0       1              0  \n",
       "1568        1             1        1       0       1              0  \n",
       "1645        1             1        1       0       1              0  \n",
       "1675        1             1        1       0       1              0  \n",
       "1684        1             1        1       0       1              0  \n",
       "2055        1             1        1       0       1              0  \n",
       "2094        1             1        1       0       1              0  \n",
       "2217        1             1        1       0       0              0  \n",
       "2227        1             1        1       0       1              0  \n",
       "2243        1             1        1       0       1              0  \n",
       "2249        1             1        1       0       1              0  \n",
       "2264        1             1        1       0       1              0  \n",
       "2296        1             1        1       0       1              0  \n",
       "2359        1             1        1       0       1              1  \n",
       "2374        1             1        1       0       0              1  \n",
       "...       ...           ...      ...     ...     ...            ...  \n",
       "156630      1             1        1       0       1              0  \n",
       "156726      1             1        1       0       1              0  \n",
       "156792      1             1        1       0       1              0  \n",
       "156989      1             1        1       0       1              0  \n",
       "157020      1             1        1       0       1              0  \n",
       "157179      1             1        1       0       1              0  \n",
       "157243      1             1        1       0       1              1  \n",
       "157382      1             1        1       0       1              0  \n",
       "157428      1             1        1       1       1              1  \n",
       "157572      1             1        1       0       1              0  \n",
       "157631      1             1        1       1       1              0  \n",
       "157672      1             1        1       0       1              0  \n",
       "157679      1             1        1       0       1              0  \n",
       "157710      1             1        1       0       1              0  \n",
       "157929      1             1        1       0       1              0  \n",
       "157936      1             1        1       0       1              0  \n",
       "158023      1             1        1       0       1              1  \n",
       "158078      1             1        1       0       1              0  \n",
       "158155      1             1        1       0       1              0  \n",
       "158273      1             1        0       0       0              0  \n",
       "158498      1             1        1       0       0              1  \n",
       "158501      1             1        1       0       0              0  \n",
       "158634      1             1        1       0       1              0  \n",
       "158856      1             1        1       1       1              0  \n",
       "158911      1             1        1       0       1              0  \n",
       "159096      1             1        1       0       1              0  \n",
       "159099      1             1        1       0       1              0  \n",
       "159281      1             1        1       0       1              1  \n",
       "159312      1             1        1       0       1              0  \n",
       "159400      1             1        1       1       1              1  \n",
       "\n",
       "[1595 rows x 8 columns]"
      ]
     },
     "execution_count": 25,
     "metadata": {},
     "output_type": "execute_result"
    }
   ],
   "source": [
    "# What are category value looks like when severe_toxic is True?\n",
    "train[train['severe_toxic'] == 1]"
   ]
  },
  {
   "cell_type": "markdown",
   "metadata": {
    "deletable": true,
    "editable": true
   },
   "source": [
    "Looks like this is a multi-label classification problem. Based on the value of mean in train data description, most of the categories are labeled 0. We can also see this from count percentage for each label. The count percentages for severe_toxic, identity_hate and threat are below 5%. So, roc_auc might not be a good metric in this case since we are more interested in capturing toxic comments and not so care about clean comments. However, we'll stick to roc_auc since it is a required scoring for this challenge. In practice, we want to consider classification imbalance and other metric such as precision-recall curve might be more appropreate. Also, the severe_toxic is a sub-category of toxic and we see example comments with multiple positive labels."
   ]
  },
  {
   "cell_type": "code",
   "execution_count": 26,
   "metadata": {
    "collapsed": true,
    "deletable": true,
    "editable": true
   },
   "outputs": [],
   "source": [
    "# import stopwords\n",
    "from nltk.corpus import stopwords\n",
    "#from nltk.tokenize import RegexpTokenizer\n",
    "\n",
    "# function for filter out stopwords\n",
    "def filter_stop_words(sentences, stop_words):\n",
    "    filtered = []\n",
    "    for sentence in sentences:\n",
    "        words = sentence.split()\n",
    "        words_filtered = [word for word in words if word not in stop_words]\n",
    "        filtered.append(\" \".join(words_filtered))\n",
    "    return filtered\n",
    "\n",
    "stop_words = set(stopwords.words(\"english\"))\n",
    "\n",
    "# Comments in train\n",
    "train_cm = train['comment_text']\n",
    "train_cm_filtered = filter_stop_words(train_cm, stop_words)\n",
    "\n",
    "# Comments in test_all\n",
    "test_all_cm = test_all['comment_text']\n",
    "test_all_cm_filtered = filter_stop_words(test_all_cm, stop_words)\n",
    "\n",
    "# Comments in test (excluding labels with -1 values)\n",
    "test_cm = test['comment_text']\n",
    "test_cm_filtered = filter_stop_words(test_cm, stop_words)\n"
   ]
  },
  {
   "cell_type": "code",
   "execution_count": 27,
   "metadata": {
    "collapsed": false,
    "deletable": true,
    "editable": true
   },
   "outputs": [
    {
     "data": {
      "text/plain": [
       "\"Explanation\\nWhy the edits made under my username Hardcore Metallica Fan were reverted? They weren't vandalisms, just closure on some GAs after I voted at New York Dolls FAC. And please don't remove the template from the talk page since I'm retired now.89.205.38.27\""
      ]
     },
     "execution_count": 27,
     "metadata": {},
     "output_type": "execute_result"
    }
   ],
   "source": [
    "# before filter out stop words\n",
    "train_cm[0]"
   ]
  },
  {
   "cell_type": "code",
   "execution_count": 28,
   "metadata": {
    "collapsed": true,
    "deletable": true,
    "editable": true
   },
   "outputs": [],
   "source": [
    "# convert to series\n",
    "train_cm_filtered = pd.Series(train_cm_filtered)"
   ]
  },
  {
   "cell_type": "code",
   "execution_count": 30,
   "metadata": {
    "collapsed": false,
    "deletable": true,
    "editable": true
   },
   "outputs": [
    {
     "data": {
      "text/plain": [
       "\"Explanation Why edits made username Hardcore Metallica Fan reverted? They vandalisms, closure GAs I voted New York Dolls FAC. And please remove template talk page since I'm retired now.89.205.38.27\""
      ]
     },
     "execution_count": 30,
     "metadata": {},
     "output_type": "execute_result"
    }
   ],
   "source": [
    "# after filter out stop words\n",
    "train_cm_filtered[0]"
   ]
  },
  {
   "cell_type": "code",
   "execution_count": 32,
   "metadata": {
    "collapsed": true,
    "deletable": true,
    "editable": true
   },
   "outputs": [],
   "source": [
    "# Make a copy of the train datasets\n",
    "c_train = train.copy(deep=True)"
   ]
  },
  {
   "cell_type": "code",
   "execution_count": 33,
   "metadata": {
    "collapsed": true,
    "deletable": true,
    "editable": true
   },
   "outputs": [],
   "source": [
    "# Add a 'clean' column to the dataframe\n",
    "c_train['clean'] = c_train[label_names].sum(axis=1) == 0"
   ]
  },
  {
   "cell_type": "code",
   "execution_count": 34,
   "metadata": {
    "collapsed": true,
    "deletable": true,
    "editable": true
   },
   "outputs": [],
   "source": [
    "# Number of sentence in a comment\n",
    "import re\n",
    "sentence_count = train_cm.apply(lambda x: len(re.findall(\"\\n\",str(x)))+1)"
   ]
  },
  {
   "cell_type": "code",
   "execution_count": 69,
   "metadata": {
    "collapsed": true,
    "deletable": true,
    "editable": true
   },
   "outputs": [],
   "source": [
    "# Add 'stopwords_count' column in a comment to dataframe\n",
    "c_train['stopwords_count'] = c_train['comment_text'].apply(lambda x: len([w for w in str(x).lower().split() if w in stop_words]))"
   ]
  },
  {
   "cell_type": "code",
   "execution_count": 70,
   "metadata": {
    "collapsed": false,
    "deletable": true,
    "editable": true
   },
   "outputs": [
    {
     "data": {
      "text/html": [
       "<div>\n",
       "<style scoped>\n",
       "    .dataframe tbody tr th:only-of-type {\n",
       "        vertical-align: middle;\n",
       "    }\n",
       "\n",
       "    .dataframe tbody tr th {\n",
       "        vertical-align: top;\n",
       "    }\n",
       "\n",
       "    .dataframe thead th {\n",
       "        text-align: right;\n",
       "    }\n",
       "</style>\n",
       "<table border=\"1\" class=\"dataframe\">\n",
       "  <thead>\n",
       "    <tr style=\"text-align: right;\">\n",
       "      <th></th>\n",
       "      <th>id</th>\n",
       "      <th>comment_text</th>\n",
       "      <th>toxic</th>\n",
       "      <th>severe_toxic</th>\n",
       "      <th>obscene</th>\n",
       "      <th>threat</th>\n",
       "      <th>insult</th>\n",
       "      <th>identity_hate</th>\n",
       "      <th>clean</th>\n",
       "      <th>stopwords_count</th>\n",
       "      <th>ip</th>\n",
       "      <th>ip_count</th>\n",
       "    </tr>\n",
       "  </thead>\n",
       "  <tbody>\n",
       "    <tr>\n",
       "      <th>0</th>\n",
       "      <td>0000997932d777bf</td>\n",
       "      <td>Explanation\\nWhy the edits made under my usern...</td>\n",
       "      <td>0</td>\n",
       "      <td>0</td>\n",
       "      <td>0</td>\n",
       "      <td>0</td>\n",
       "      <td>0</td>\n",
       "      <td>0</td>\n",
       "      <td>True</td>\n",
       "      <td>18</td>\n",
       "      <td>[89.205.38.27]</td>\n",
       "      <td>1</td>\n",
       "    </tr>\n",
       "    <tr>\n",
       "      <th>1</th>\n",
       "      <td>000103f0d9cfb60f</td>\n",
       "      <td>D'aww! He matches this background colour I'm s...</td>\n",
       "      <td>0</td>\n",
       "      <td>0</td>\n",
       "      <td>0</td>\n",
       "      <td>0</td>\n",
       "      <td>0</td>\n",
       "      <td>0</td>\n",
       "      <td>True</td>\n",
       "      <td>2</td>\n",
       "      <td>[]</td>\n",
       "      <td>0</td>\n",
       "    </tr>\n",
       "    <tr>\n",
       "      <th>2</th>\n",
       "      <td>000113f07ec002fd</td>\n",
       "      <td>Hey man, I'm really not trying to edit war. It...</td>\n",
       "      <td>0</td>\n",
       "      <td>0</td>\n",
       "      <td>0</td>\n",
       "      <td>0</td>\n",
       "      <td>0</td>\n",
       "      <td>0</td>\n",
       "      <td>True</td>\n",
       "      <td>20</td>\n",
       "      <td>[]</td>\n",
       "      <td>0</td>\n",
       "    </tr>\n",
       "    <tr>\n",
       "      <th>3</th>\n",
       "      <td>0001b41b1c6bb37e</td>\n",
       "      <td>\"\\nMore\\nI can't make any real suggestions on ...</td>\n",
       "      <td>0</td>\n",
       "      <td>0</td>\n",
       "      <td>0</td>\n",
       "      <td>0</td>\n",
       "      <td>0</td>\n",
       "      <td>0</td>\n",
       "      <td>True</td>\n",
       "      <td>56</td>\n",
       "      <td>[]</td>\n",
       "      <td>0</td>\n",
       "    </tr>\n",
       "    <tr>\n",
       "      <th>4</th>\n",
       "      <td>0001d958c54c6e35</td>\n",
       "      <td>You, sir, are my hero. Any chance you remember...</td>\n",
       "      <td>0</td>\n",
       "      <td>0</td>\n",
       "      <td>0</td>\n",
       "      <td>0</td>\n",
       "      <td>0</td>\n",
       "      <td>0</td>\n",
       "      <td>True</td>\n",
       "      <td>5</td>\n",
       "      <td>[]</td>\n",
       "      <td>0</td>\n",
       "    </tr>\n",
       "  </tbody>\n",
       "</table>\n",
       "</div>"
      ],
      "text/plain": [
       "                 id                                       comment_text  toxic  \\\n",
       "0  0000997932d777bf  Explanation\\nWhy the edits made under my usern...      0   \n",
       "1  000103f0d9cfb60f  D'aww! He matches this background colour I'm s...      0   \n",
       "2  000113f07ec002fd  Hey man, I'm really not trying to edit war. It...      0   \n",
       "3  0001b41b1c6bb37e  \"\\nMore\\nI can't make any real suggestions on ...      0   \n",
       "4  0001d958c54c6e35  You, sir, are my hero. Any chance you remember...      0   \n",
       "\n",
       "   severe_toxic  obscene  threat  insult  identity_hate  clean  \\\n",
       "0             0        0       0       0              0   True   \n",
       "1             0        0       0       0              0   True   \n",
       "2             0        0       0       0              0   True   \n",
       "3             0        0       0       0              0   True   \n",
       "4             0        0       0       0              0   True   \n",
       "\n",
       "   stopwords_count              ip  ip_count  \n",
       "0               18  [89.205.38.27]         1  \n",
       "1                2              []         0  \n",
       "2               20              []         0  \n",
       "3               56              []         0  \n",
       "4                5              []         0  "
      ]
     },
     "execution_count": 70,
     "metadata": {},
     "output_type": "execute_result"
    }
   ],
   "source": [
    "c_train.head()"
   ]
  },
  {
   "cell_type": "code",
   "execution_count": 52,
   "metadata": {
    "collapsed": false,
    "deletable": true,
    "editable": true
   },
   "outputs": [
    {
     "name": "stderr",
     "output_type": "stream",
     "text": [
      "/anaconda2/envs/toxic3/lib/python3.6/site-packages/scipy/stats/stats.py:1713: FutureWarning: Using a non-tuple sequence for multidimensional indexing is deprecated; use `arr[tuple(seq)]` instead of `arr[seq]`. In the future this will be interpreted as an array index, `arr[np.array(seq)]`, which will result either in an error or a different result.\n",
      "  return np.add.reduce(sorted[indexer] * weights, axis=axis) / sumval\n"
     ]
    },
    {
     "data": {
      "image/png": "[encoded data removed]",
      "text/plain": [
       "<Figure size 864x576 with 1 Axes>"
      ]
     },
     "metadata": {
      "needs_background": "light"
     },
     "output_type": "display_data"
    }
   ],
   "source": [
    "# Plot number of stopwords in each comment by toxicity or not\n",
    "plt.figure(figsize=(12,8))\n",
    "\n",
    "sns.violinplot(y='stopwords_count',x='clean', data=c_train, split = True)\n",
    "plt.xlabel('Clean?', fontsize=12)\n",
    "plt.ylabel('# of stop words', fontsize=12)\n",
    "plt.title(\"Number of stop words in each comment by toxicity or not\", fontsize=15)\n",
    "\n",
    "plt.show()"
   ]
  },
  {
   "cell_type": "code",
   "execution_count": 71,
   "metadata": {
    "collapsed": true,
    "deletable": true,
    "editable": true
   },
   "outputs": [],
   "source": [
    "# Add 'ip' column in a comment to dataframe\n",
    "c_train['ip'] = c_train['comment_text'].apply(lambda x: re.findall(\"(?:[0-9]{1,3}\\.){3}[0-9]{1,3}\",str(x)))\n"
   ]
  },
  {
   "cell_type": "code",
   "execution_count": 72,
   "metadata": {
    "collapsed": false,
    "deletable": true,
    "editable": true
   },
   "outputs": [
    {
     "data": {
      "text/plain": [
       "0        [89.205.38.27]\n",
       "8      [93.161.107.169]\n",
       "37     [70.100.229.154]\n",
       "44       [76.122.79.82]\n",
       "65    [201.215.187.159]\n",
       "Name: ip, dtype: object"
      ]
     },
     "execution_count": 72,
     "metadata": {},
     "output_type": "execute_result"
    }
   ],
   "source": [
    "# Sample IPs\n",
    "c_train['ip'][c_train['ip'].str.len() != 0].head(5)"
   ]
  },
  {
   "cell_type": "code",
   "execution_count": 56,
   "metadata": {
    "collapsed": true,
    "deletable": true,
    "editable": true
   },
   "outputs": [],
   "source": [
    "# Add 'ip_count' column in a comment to dataframe\n",
    "c_train['ip_count'] = c_train['ip'].apply(lambda x: len(x))"
   ]
  },
  {
   "cell_type": "code",
   "execution_count": 62,
   "metadata": {
    "collapsed": false,
    "deletable": true,
    "editable": true
   },
   "outputs": [
    {
     "data": {
      "text/plain": [
       "0     134718\n",
       "1       8063\n",
       "2        394\n",
       "3         86\n",
       "4         40\n",
       "5         16\n",
       "6         15\n",
       "8          4\n",
       "7          3\n",
       "13         2\n",
       "9          2\n",
       "17         1\n",
       "16         1\n",
       "12         1\n",
       "Name: ip_count, dtype: int64"
      ]
     },
     "execution_count": 62,
     "metadata": {},
     "output_type": "execute_result"
    }
   ],
   "source": [
    "# Distribution of ip numbers in a clean comment\n",
    "c_train[c_train['clean']]['ip_count'].value_counts()"
   ]
  },
  {
   "cell_type": "code",
   "execution_count": 63,
   "metadata": {
    "collapsed": false,
    "deletable": true,
    "editable": true
   },
   "outputs": [
    {
     "data": {
      "text/plain": [
       "0     14772\n",
       "1      1383\n",
       "2        47\n",
       "3         7\n",
       "4         5\n",
       "6         3\n",
       "5         3\n",
       "17        2\n",
       "42        1\n",
       "9         1\n",
       "40        1\n",
       "Name: ip_count, dtype: int64"
      ]
     },
     "execution_count": 63,
     "metadata": {},
     "output_type": "execute_result"
    }
   ],
   "source": [
    "# Distribution of ip numbers in a non-clean comment\n",
    "c_train[c_train['clean'] == False]['ip_count'].value_counts()"
   ]
  },
  {
   "cell_type": "code",
   "execution_count": 66,
   "metadata": {
    "collapsed": false,
    "deletable": true,
    "editable": true
   },
   "outputs": [
    {
     "data": {
      "image/png": "[encoded data removed]",
      "text/plain": [
       "<Figure size 864x576 with 1 Axes>"
      ]
     },
     "metadata": {
      "needs_background": "light"
     },
     "output_type": "display_data"
    }
   ],
   "source": [
    "# Plot and compare number of IPs in clean and non-clean comments\n",
    "plt.figure(figsize=(12,8))\n",
    "\n",
    "sns.violinplot(y='ip_count',x='clean', data=c_train, split = True)\n",
    "plt.xlabel('Clean comments?', fontsize=10)\n",
    "plt.ylabel('# of IPs', fontsize=10)\n",
    "plt.title(\"Compare number of IPs in each comment\", fontsize=15)\n",
    "\n",
    "plt.show()"
   ]
  },
  {
   "cell_type": "markdown",
   "metadata": {
    "deletable": true,
    "editable": true
   },
   "source": [
    "There is no significant indication that a toxic comment contain more IPs. So, we can remove IPs from comments"
   ]
  },
  {
   "cell_type": "code",
   "execution_count": 67,
   "metadata": {
    "collapsed": true,
    "deletable": true,
    "editable": true
   },
   "outputs": [],
   "source": [
    "# Extract link from comments\n",
    "link = c_train['comment_text'].apply(lambda x: re.findall(\"http://.*com\",str(x)))"
   ]
  },
  {
   "cell_type": "code",
   "execution_count": 68,
   "metadata": {
    "collapsed": false,
    "deletable": true,
    "editable": true
   },
   "outputs": [
    {
     "data": {
      "text/plain": [
       "33                                     [http://digg.com]\n",
       "73     [http://www.constitution.ie/reports/Constituti...\n",
       "101    [http://www.iranchamber.com, http://www.superb...\n",
       "117                            [http://books.google.com]\n",
       "188          [http://upload.wikimedia.org/wikipedia/com]\n",
       "Name: comment_text, dtype: object"
      ]
     },
     "execution_count": 68,
     "metadata": {},
     "output_type": "execute_result"
    }
   ],
   "source": [
    "# Sample links in documents\n",
    "link[link.str.len() != 0].head(5)"
   ]
  },
  {
   "cell_type": "code",
   "execution_count": 73,
   "metadata": {
    "collapsed": true,
    "deletable": true,
    "editable": true
   },
   "outputs": [],
   "source": [
    "# Add 'link_count' column in a comment to dataframe\n",
    "c_train['link_count'] = link.apply(lambda x: len(x))"
   ]
  },
  {
   "cell_type": "code",
   "execution_count": 74,
   "metadata": {
    "collapsed": false,
    "deletable": true,
    "editable": true
   },
   "outputs": [
    {
     "data": {
      "text/plain": [
       "0     157315\n",
       "1       1873\n",
       "2        219\n",
       "3         68\n",
       "4         31\n",
       "5         18\n",
       "6         15\n",
       "8          8\n",
       "11         7\n",
       "7          5\n",
       "12         3\n",
       "10         3\n",
       "9          3\n",
       "16         2\n",
       "13         1\n",
       "Name: link_count, dtype: int64"
      ]
     },
     "execution_count": 74,
     "metadata": {},
     "output_type": "execute_result"
    }
   ],
   "source": [
    "# Distribution of link counts\n",
    "c_train['link_count'].value_counts()"
   ]
  },
  {
   "cell_type": "code",
   "execution_count": 79,
   "metadata": {
    "collapsed": false,
    "deletable": true,
    "editable": true
   },
   "outputs": [
    {
     "data": {
      "image/png": "[encoded data removed]",
      "text/plain": [
       "<Figure size 864x576 with 1 Axes>"
      ]
     },
     "metadata": {
      "needs_background": "light"
     },
     "output_type": "display_data"
    }
   ],
   "source": [
    "# Plot and compare number of links in each comment\n",
    "plt.figure(figsize=(12,8))\n",
    "\n",
    "sns.violinplot(y='link_count',x='clean', data=c_train, split = True)\n",
    "plt.xlabel('Clean comments?', fontsize=10)\n",
    "plt.ylabel('# of links', fontsize=10)\n",
    "plt.title(\"Compare number of links in each comment\", fontsize=15)\n",
    "\n",
    "plt.show()"
   ]
  },
  {
   "cell_type": "code",
   "execution_count": 81,
   "metadata": {
    "collapsed": true,
    "deletable": true,
    "editable": true
   },
   "outputs": [],
   "source": [
    "# Extract username from comments\n",
    "username = train_cm.apply(lambda x: re.findall(\"\\[\\[.*\\]\",str(x)))"
   ]
  },
  {
   "cell_type": "code",
   "execution_count": 84,
   "metadata": {
    "collapsed": true,
    "deletable": true,
    "editable": true
   },
   "outputs": [],
   "source": [
    "# Add 'username_count' column in a comment to dataframe\n",
    "c_train['username_count'] = username.apply(lambda x: len(x))"
   ]
  },
  {
   "cell_type": "code",
   "execution_count": 85,
   "metadata": {
    "collapsed": false,
    "deletable": true,
    "editable": true
   },
   "outputs": [
    {
     "data": {
      "text/plain": [
       "0     159139\n",
       "1        395\n",
       "2         25\n",
       "3          3\n",
       "12         2\n",
       "4          2\n",
       "43         1\n",
       "9          1\n",
       "8          1\n",
       "7          1\n",
       "6          1\n",
       "Name: username_count, dtype: int64"
      ]
     },
     "execution_count": 85,
     "metadata": {},
     "output_type": "execute_result"
    }
   ],
   "source": [
    "# Distribution of username counts\n",
    "c_train['username_count'].value_counts()"
   ]
  },
  {
   "cell_type": "code",
   "execution_count": 86,
   "metadata": {
    "collapsed": false,
    "deletable": true,
    "editable": true
   },
   "outputs": [
    {
     "data": {
      "text/plain": [
       "140     [[[Reformist Party (Serbia)|Reformist Party]]\n",
       "324                           [[[Media:Example.ogg]]]\n",
       "706               [[[User talk:Spinningspark|Spark]]]\n",
       "2247                 [[[User_Talk:King Lopez|Lopez]]]\n",
       "2594                     [[[:File:BSVRR EMD FP9.jpg]]\n",
       "Name: comment_text, dtype: object"
      ]
     },
     "execution_count": 86,
     "metadata": {},
     "output_type": "execute_result"
    }
   ],
   "source": [
    "# Sample of usernames\n",
    "username[username.str.len() != 0].head(5)"
   ]
  },
  {
   "cell_type": "code",
   "execution_count": 87,
   "metadata": {
    "collapsed": false,
    "deletable": true,
    "editable": true
   },
   "outputs": [
    {
     "data": {
      "text/plain": [
       "\"06, 29 December 2007 (UTC)\\nYep. LOL, the [[Reformist Party (Serbia)|Reformist Party] is having another go (the 20th very last on the parliamentary election, winning less votes than notable to actually be mentioned). ) \\nBy the way, here's something very little people have figured out - the new Constitution of Serbia has been brought to enable Kosovo' secession. The 1990 Constitution barred that as a possibility, and after the Kumanovo Military-Technical Agreement was signed between NATO and FRY the SRS broke its coalition with SPS and the government collapsed, causing new elections - because that was unconstitutional, as an act of highest treason, enough to be tried from maximum sentence (which the Radicals demanded from then to his death, to have a trial in Serbia, and to be tried for treason among other reasons). This constitution releases the authorities from that weight, and they won't have to go to prison if they recognize any form of further loss of sovereignty in Kosovo. ;)   15\""
      ]
     },
     "execution_count": 87,
     "metadata": {},
     "output_type": "execute_result"
    }
   ],
   "source": [
    "# Example comment containing a username\n",
    "c_train['comment_text'][140]"
   ]
  },
  {
   "cell_type": "code",
   "execution_count": 88,
   "metadata": {
    "collapsed": false,
    "deletable": true,
    "editable": true
   },
   "outputs": [
    {
     "data": {
      "image/png": "[encoded data removed]",
      "text/plain": [
       "<Figure size 864x576 with 1 Axes>"
      ]
     },
     "metadata": {
      "needs_background": "light"
     },
     "output_type": "display_data"
    }
   ],
   "source": [
    "# Plot and compare number of usernames in each comment\n",
    "plt.figure(figsize=(12,8))\n",
    "\n",
    "sns.violinplot(y='username_count',x='clean', data=c_train, split = True)\n",
    "plt.xlabel('Clean comments?', fontsize=10)\n",
    "plt.ylabel('# of username', fontsize=10)\n",
    "plt.title(\"Compare number of usernames in each comment\", fontsize=15)\n",
    "\n",
    "plt.show()"
   ]
  },
  {
   "cell_type": "markdown",
   "metadata": {
    "deletable": true,
    "editable": true
   },
   "source": [
    "We use tf-idf to generate features from comments\n",
    "Let's look at top features in a comment as an example"
   ]
  },
  {
   "cell_type": "code",
   "execution_count": 89,
   "metadata": {
    "collapsed": true,
    "deletable": true,
    "editable": true
   },
   "outputs": [],
   "source": [
    "all_cm = pd.concat([train_cm, test_all_cm])"
   ]
  },
  {
   "cell_type": "code",
   "execution_count": 90,
   "metadata": {
    "collapsed": false,
    "deletable": true,
    "editable": true
   },
   "outputs": [
    {
     "data": {
      "text/plain": [
       "TfidfVectorizer(analyzer='word', binary=False, decode_error='strict',\n",
       "        dtype=<class 'numpy.float64'>, encoding='utf-8', input='content',\n",
       "        lowercase=True, max_df=1.0, max_features=100000, min_df=1,\n",
       "        ngram_range=(1, 1), norm='l2', preprocessor=None, smooth_idf=True,\n",
       "        stop_words='english', strip_accents='unicode', sublinear_tf=True,\n",
       "        token_pattern='(?u)\\\\b\\\\w\\\\w+\\\\b', tokenizer=None, use_idf=True,\n",
       "        vocabulary=None)"
      ]
     },
     "execution_count": 90,
     "metadata": {},
     "output_type": "execute_result"
    }
   ],
   "source": [
    "# We want to generate features using sklearn tfidfVectorizer from all the comments\n",
    "# We limit maximum features to 100000 due to memory constraint\n",
    "from sklearn.feature_extraction.text import TfidfVectorizer\n",
    "word_vectorizer = TfidfVectorizer(\n",
    "    sublinear_tf=True,\n",
    "    strip_accents='unicode',\n",
    "    analyzer='word',\n",
    "    stop_words='english',\n",
    "    ngram_range=(1, 1),\n",
    "    max_features=100000)\n",
    "word_vectorizer.fit(train_cm)"
   ]
  },
  {
   "cell_type": "code",
   "execution_count": 91,
   "metadata": {
    "collapsed": true,
    "deletable": true,
    "editable": true
   },
   "outputs": [],
   "source": [
    "# Get the feature names\n",
    "features = np.array(word_vectorizer.get_feature_names())"
   ]
  },
  {
   "cell_type": "code",
   "execution_count": 94,
   "metadata": {
    "collapsed": true,
    "deletable": true,
    "editable": true
   },
   "outputs": [],
   "source": [
    "# Generate both train set and test set\n",
    "train_word_features = word_vectorizer.transform(train_cm)\n",
    "test_all_word_features = word_vectorizer.transform(test_all_cm)\n",
    "test_word_features = word_vectorizer.transform(test_cm)"
   ]
  },
  {
   "cell_type": "code",
   "execution_count": 95,
   "metadata": {
    "collapsed": false,
    "deletable": true,
    "editable": true
   },
   "outputs": [
    {
     "data": {
      "text/plain": [
       "<159571x100000 sparse matrix of type '<class 'numpy.float64'>'\n",
       "\twith 3980541 stored elements in Compressed Sparse Row format>"
      ]
     },
     "execution_count": 95,
     "metadata": {},
     "output_type": "execute_result"
    }
   ],
   "source": [
    "train_word_features"
   ]
  },
  {
   "cell_type": "code",
   "execution_count": 96,
   "metadata": {
    "collapsed": false,
    "deletable": true,
    "editable": true
   },
   "outputs": [
    {
     "data": {
      "text/plain": [
       "<153164x100000 sparse matrix of type '<class 'numpy.float64'>'\n",
       "\twith 3290455 stored elements in Compressed Sparse Row format>"
      ]
     },
     "execution_count": 96,
     "metadata": {},
     "output_type": "execute_result"
    }
   ],
   "source": [
    "test_all_word_features"
   ]
  },
  {
   "cell_type": "code",
   "execution_count": 97,
   "metadata": {
    "collapsed": false,
    "deletable": true,
    "editable": true
   },
   "outputs": [
    {
     "data": {
      "text/plain": [
       "<63978x100000 sparse matrix of type '<class 'numpy.float64'>'\n",
       "\twith 1446206 stored elements in Compressed Sparse Row format>"
      ]
     },
     "execution_count": 97,
     "metadata": {},
     "output_type": "execute_result"
    }
   ],
   "source": [
    "test_word_features"
   ]
  },
  {
   "cell_type": "code",
   "execution_count": 98,
   "metadata": {
    "collapsed": true,
    "deletable": true,
    "editable": true
   },
   "outputs": [],
   "source": [
    "# https://buhrmann.github.io/tfidf-analysis.html\n",
    "# take a single row of the tf-idf matrix (corresponding to a particular document), \n",
    "# and return the n highest scoring words (or more generally tokens or features)\n",
    "def top_tfidf_feats(row, features, top_n=25):\n",
    "    ''' Get top n tfidf values in row and return them with their corresponding feature names.'''\n",
    "    topn_ids = np.argsort(row)[::-1][:top_n]\n",
    "    top_feats = [(features[i], row[i]) for i in topn_ids]\n",
    "    df = pd.DataFrame(top_feats)\n",
    "    df.columns = ['feature', 'tfidf']\n",
    "    return df\n",
    "\n",
    "# https://buhrmann.github.io/tfidf-analysis.html\n",
    "# convert a single row (row_id) from a sparse matrix (Xtr) into dense format\n",
    "def top_feats_in_doc(Xtr, features, row_id, top_n=25):\n",
    "    ''' Top tfidf features in specific document (matrix row) '''\n",
    "    row = np.squeeze(Xtr[row_id].toarray())\n",
    "    return top_tfidf_feats(row, features, top_n)"
   ]
  },
  {
   "cell_type": "markdown",
   "metadata": {
    "deletable": true,
    "editable": true
   },
   "source": [
    "Sample top 10 features on index 1 in train_cm"
   ]
  },
  {
   "cell_type": "code",
   "execution_count": 99,
   "metadata": {
    "collapsed": false,
    "deletable": true,
    "editable": true
   },
   "outputs": [
    {
     "data": {
      "text/plain": [
       "\"D'aww! He matches this background colour I'm seemingly stuck with. Thanks.  (talk) 21:51, January 11, 2016 (UTC)\""
      ]
     },
     "execution_count": 99,
     "metadata": {},
     "output_type": "execute_result"
    }
   ],
   "source": [
    "train_cm[1]"
   ]
  },
  {
   "cell_type": "code",
   "execution_count": 100,
   "metadata": {
    "collapsed": true,
    "deletable": true,
    "editable": true
   },
   "outputs": [],
   "source": [
    "x = top_feats_in_doc(train_word_features, features, 1, 10)"
   ]
  },
  {
   "cell_type": "code",
   "execution_count": 101,
   "metadata": {
    "collapsed": false,
    "deletable": true,
    "editable": true
   },
   "outputs": [
    {
     "name": "stdout",
     "output_type": "stream",
     "text": [
      "      feature     tfidf\n",
      "0         aww  0.391810\n",
      "1        2016  0.352725\n",
      "2      colour  0.316021\n",
      "3   seemingly  0.312463\n",
      "4     matches  0.287123\n",
      "5          51  0.286867\n",
      "6       stuck  0.284879\n",
      "7  background  0.243002\n",
      "8     january  0.240711\n",
      "9          21  0.230197\n"
     ]
    }
   ],
   "source": [
    "print(x)"
   ]
  },
  {
   "cell_type": "code",
   "execution_count": 105,
   "metadata": {
    "collapsed": false,
    "deletable": true,
    "editable": true
   },
   "outputs": [
    {
     "name": "stdout",
     "output_type": "stream",
     "text": [
      "Vocabulary for train comments is 210338\n",
      "Vocabulary for all comments is 394788\n",
      "Vocabulary for all comments after filtering out stopwords is 393637\n",
      "Vocabulary for all comments excluding non-scoring ones is 300258\n",
      "Vocabulary for all comments after filtering out stopwords and excluding non-scoring ones is 299317\n"
     ]
    }
   ],
   "source": [
    "# What is the vacabulary for the comments\n",
    "\n",
    "from keras.preprocessing.text import Tokenizer, text_to_word_sequence\n",
    "from keras.preprocessing.sequence import pad_sequences\n",
    "\n",
    "# for train data\n",
    "T = Tokenizer()\n",
    "T.fit_on_texts(list(train_cm))\n",
    "vocab = len(T.word_index) + 1\n",
    "print('Vocabulary for train comments is {}'.format(vocab))\n",
    "\n",
    "# for all data\n",
    "T = Tokenizer()\n",
    "T.fit_on_texts(list(train_cm) + list(test_all_cm))\n",
    "vocab = len(T.word_index) + 1\n",
    "print('Vocabulary for all comments is {}'.format(vocab))\n",
    "\n",
    "# after filter out stopwords\n",
    "T = Tokenizer()\n",
    "T.fit_on_texts(list(train_cm_filtered) + list(test_all_cm_filtered))\n",
    "vocab = len(T.word_index) + 1\n",
    "print('Vocabulary for all comments after filtering out stopwords is {}'.format(vocab))\n",
    "\n",
    "# for all data exclude labels with -1 values\n",
    "T = Tokenizer()\n",
    "T.fit_on_texts(list(train_cm) + list(test_cm))\n",
    "vocab = len(T.word_index) + 1\n",
    "print('Vocabulary for all comments excluding non-scoring ones is {}'.format(vocab))\n",
    "\n",
    "# Excluding labels with -1 values and filtered out stopwords\n",
    "T = Tokenizer()\n",
    "T.fit_on_texts(list(train_cm_filtered) + list(test_cm_filtered))\n",
    "vocab = len(T.word_index) + 1\n",
    "print('Vocabulary for all comments after filtering out stopwords and excluding non-scoring ones is {}'.format(vocab))"
   ]
  },
  {
   "cell_type": "code",
   "execution_count": 106,
   "metadata": {
    "collapsed": false,
    "deletable": true,
    "editable": true
   },
   "outputs": [
    {
     "name": "stdout",
     "output_type": "stream",
     "text": [
      "159571\n",
      "63978\n"
     ]
    }
   ],
   "source": [
    "# Check number of comments in train and test dataset\n",
    "t_train = T.texts_to_sequences(train_cm_filtered)\n",
    "t_test = T.texts_to_sequences(test_cm_filtered)\n",
    "print(len(t_train))\n",
    "print(len(t_test))"
   ]
  },
  {
   "cell_type": "raw",
   "metadata": {
    "deletable": true,
    "editable": true
   },
   "source": [
    "Let's look at an example of a text converted to a sequence. Here we see a total of 33 words after removing punctuations and stopwords. word 'I' translated to 2 for example and there are 2 of them."
   ]
  },
  {
   "cell_type": "code",
   "execution_count": 107,
   "metadata": {
    "collapsed": false,
    "deletable": true,
    "editable": true
   },
   "outputs": [
    {
     "data": {
      "text/plain": [
       "\"Explanation\\nWhy the edits made under my username Hardcore Metallica Fan were reverted? They weren't vandalisms, just closure on some GAs after I voted at New York Dolls FAC. And please don't remove the template from the talk page since I'm retired now.89.205.38.27\""
      ]
     },
     "execution_count": 107,
     "metadata": {},
     "output_type": "execute_result"
    }
   ],
   "source": [
    "# A sample comment\n",
    "train_cm[0]"
   ]
  },
  {
   "cell_type": "code",
   "execution_count": 108,
   "metadata": {
    "collapsed": false,
    "deletable": true,
    "editable": true
   },
   "outputs": [
    {
     "name": "stdout",
     "output_type": "stream",
     "text": [
      "33\n",
      "['explanation', 'why', 'edits', 'made', 'username', 'hardcore', 'metallica', 'fan', 'reverted', 'they', 'vandalisms', 'closure', 'gas', 'i', 'voted', 'new', 'york', 'dolls', 'fac', 'and', 'please', 'remove', 'template', 'talk', 'page', 'since', \"i'm\", 'retired', 'now', '89', '205', '38', '27']\n"
     ]
    }
   ],
   "source": [
    "# Words after removing punctuations and stopwords\n",
    "word_t = text_to_word_sequence(train_cm_filtered[0])\n",
    "print(len(word_t))\n",
    "print(word_t)"
   ]
  },
  {
   "cell_type": "code",
   "execution_count": 111,
   "metadata": {
    "collapsed": false,
    "deletable": true,
    "editable": true
   },
   "outputs": [
    {
     "name": "stdout",
     "output_type": "stream",
     "text": [
      "33\n"
     ]
    },
    {
     "data": {
      "text/plain": [
       "[638,\n",
       " 147,\n",
       " 68,\n",
       " 65,\n",
       " 629,\n",
       " 4582,\n",
       " 11936,\n",
       " 1149,\n",
       " 280,\n",
       " 224,\n",
       " 13013,\n",
       " 6653,\n",
       " 2628,\n",
       " 1,\n",
       " 2869,\n",
       " 52,\n",
       " 1190,\n",
       " 16459,\n",
       " 2510,\n",
       " 22,\n",
       " 10,\n",
       " 182,\n",
       " 292,\n",
       " 8,\n",
       " 5,\n",
       " 76,\n",
       " 19,\n",
       " 3594,\n",
       " 110,\n",
       " 3643,\n",
       " 5445,\n",
       " 2429,\n",
       " 1051]"
      ]
     },
     "execution_count": 111,
     "metadata": {},
     "output_type": "execute_result"
    }
   ],
   "source": [
    "# Word sequenced\n",
    "print(len(t_train[0]))\n",
    "t_train[0]"
   ]
  },
  {
   "cell_type": "code",
   "execution_count": 112,
   "metadata": {
    "collapsed": false,
    "deletable": true,
    "editable": true
   },
   "outputs": [
    {
     "name": "stdout",
     "output_type": "stream",
     "text": [
      "2142\n"
     ]
    }
   ],
   "source": [
    "# Let's find max number of words in a sentence\n",
    "n_words_in_a_sentence = [len(x) for x in t_train + t_test]\n",
    "print(max(n_words_in_a_sentence))"
   ]
  },
  {
   "cell_type": "code",
   "execution_count": 113,
   "metadata": {
    "collapsed": false,
    "deletable": true,
    "editable": true
   },
   "outputs": [
    {
     "data": {
      "text/plain": [
       "<function matplotlib.pyplot.show(*args, **kw)>"
      ]
     },
     "execution_count": 113,
     "metadata": {},
     "output_type": "execute_result"
    },
    {
     "data": {
      "image/png": "[encoded data removed]",
      "text/plain": [
       "<Figure size 576x432 with 1 Axes>"
      ]
     },
     "metadata": {
      "needs_background": "light"
     },
     "output_type": "display_data"
    }
   ],
   "source": [
    "# Plot number of words in a sentence histgram\n",
    "plt.figure(figsize = (8, 6))\n",
    "plt.hist(n_words_in_a_sentence,bins = np.arange(0,250,8))\n",
    "# Formatting\n",
    "plt.xlabel('Number of Words in a Comment Text'); plt.ylabel('Count'); \n",
    "plt.title('Fig. 3 Distribution of Number of Words in a Comment Text');\n",
    "\n",
    "plt.show"
   ]
  },
  {
   "cell_type": "code",
   "execution_count": 117,
   "metadata": {
    "collapsed": false,
    "deletable": true,
    "editable": true
   },
   "outputs": [
    {
     "name": "stdout",
     "output_type": "stream",
     "text": [
      "200\n"
     ]
    }
   ],
   "source": [
    "# Estimate maximum word length to use in word embbedding to cover 97% of the sentences\n",
    "n_words_in_a_sentence.sort()\n",
    "percent_sentences = 97.3/100.0\n",
    "a = n_words_in_a_sentence[:round(len(n_words_in_a_sentence)*percent_sentences)]\n",
    "print(a[-1])"
   ]
  },
  {
   "cell_type": "markdown",
   "metadata": {
    "deletable": true,
    "editable": true
   },
   "source": [
    "So, with maximum number of words in a sentence set at 200, we cover over 97 percent of the comments without cut off"
   ]
  }
 ],
 "metadata": {
  "anaconda-cloud": {},
  "kernelspec": {
   "display_name": "Python [conda env:aind-dl]",
   "language": "python",
   "name": "conda-env-aind-dl-py"
  },
  "language_info": {
   "codemirror_mode": {
    "name": "ipython",
    "version": 3
   },
   "file_extension": ".py",
   "mimetype": "text/x-python",
   "name": "python",
   "nbconvert_exporter": "python",
   "pygments_lexer": "ipython3",
   "version": "3.5.3"
  }
 },
 "nbformat": 4,
 "nbformat_minor": 2
}
